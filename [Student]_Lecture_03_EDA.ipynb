{
  "nbformat": 4,
  "nbformat_minor": 0,
  "metadata": {
    "colab": {
      "name": "[Student] Lecture 03 EDA.ipynb",
      "provenance": [],
      "collapsed_sections": [],
      "toc_visible": true,
      "include_colab_link": true
    },
    "kernelspec": {
      "name": "python3",
      "display_name": "Python 3"
    }
  },
  "cells": [
    {
      "cell_type": "markdown",
      "metadata": {
        "id": "view-in-github",
        "colab_type": "text"
      },
      "source": [
        "<a href=\"https://colab.research.google.com/github/Mai-Binh-Nam/Hand-on_DataAnalysisVEF/blob/master/%5BStudent%5D_Lecture_03_EDA.ipynb\" target=\"_parent\"><img src=\"https://colab.research.google.com/assets/colab-badge.svg\" alt=\"Open In Colab\"/></a>"
      ]
    },
    {
      "cell_type": "markdown",
      "metadata": {
        "id": "YttEN2-8gU0K",
        "colab_type": "text"
      },
      "source": [
        "# Library"
      ]
    },
    {
      "cell_type": "code",
      "metadata": {
        "id": "pvIStQAtbyzF",
        "colab_type": "code",
        "colab": {
          "base_uri": "https://localhost:8080/",
          "height": 71
        },
        "outputId": "be8ef505-51f9-4bc0-e9c8-d328cc7228a7"
      },
      "source": [
        "import numpy as np\n",
        "import pandas as pd\n",
        "import geoplot as gplt\n",
        "import matplotlib.pyplot as plt\n",
        "import matplotlib as mpl\n",
        "import seaborn as sns\n",
        "mpl.rcParams['figure.dpi'] = 100\n",
        "import folium"
      ],
      "execution_count": null,
      "outputs": [
        {
          "output_type": "stream",
          "text": [
            "/usr/local/lib/python3.6/dist-packages/statsmodels/tools/_testing.py:19: FutureWarning: pandas.util.testing is deprecated. Use the functions in the public API at pandas.testing instead.\n",
            "  import pandas.util.testing as tm\n"
          ],
          "name": "stderr"
        }
      ]
    },
    {
      "cell_type": "code",
      "metadata": {
        "id": "jMPAXQF8gcQg",
        "colab_type": "code",
        "colab": {}
      },
      "source": [
        "customer = pd.read_csv(\"https://github.com/pnhuy/datasets/blob/master/brazilian_ecommerce/data/olist_customers_dataset.csv.zip?raw=true\", compression=\"zip\")\n",
        "geolocation = pd.read_csv(\"https://github.com/pnhuy/datasets/blob/master/brazilian_ecommerce/data/olist_geolocation_dataset.csv.zip?raw=true\", compression=\"zip\")\n",
        "order_items = pd.read_csv(\"https://github.com/pnhuy/datasets/blob/master/brazilian_ecommerce/data/olist_order_items_dataset.csv.zip?raw=true\", compression=\"zip\")\n",
        "order_payments = pd.read_csv(\"https://github.com/pnhuy/datasets/blob/master/brazilian_ecommerce/data/olist_order_payments_dataset.csv.zip?raw=true\", compression=\"zip\")\n",
        "order_reviews = pd.read_csv(\"https://github.com/pnhuy/datasets/blob/master/brazilian_ecommerce/data/olist_order_reviews_dataset.csv.zip?raw=true\", compression=\"zip\")\n",
        "orders = pd.read_csv(\"https://github.com/pnhuy/datasets/blob/master/brazilian_ecommerce/data/olist_orders_dataset.csv.zip?raw=true\", compression=\"zip\")\n",
        "products = pd.read_csv(\"https://github.com/pnhuy/datasets/blob/master/brazilian_ecommerce/data/olist_products_dataset.csv.zip?raw=true\", compression=\"zip\")\n",
        "sellers = pd.read_csv(\"https://github.com/pnhuy/datasets/blob/master/brazilian_ecommerce/data/olist_sellers_dataset.csv.zip?raw=true\", compression=\"zip\")"
      ],
      "execution_count": null,
      "outputs": []
    },
    {
      "cell_type": "markdown",
      "metadata": {
        "id": "vjyj08_yN1Cy",
        "colab_type": "text"
      },
      "source": [
        "# Explore order payments with missing values"
      ]
    },
    {
      "cell_type": "code",
      "metadata": {
        "id": "IuhhSd_WwNaC",
        "colab_type": "code",
        "colab": {}
      },
      "source": [
        "df = pd.read_csv('https://github.com/pnhuy/datasets/blob/master/brazilian_ecommerce/data/order_payments_missing.csv?raw=true')"
      ],
      "execution_count": null,
      "outputs": []
    },
    {
      "cell_type": "code",
      "metadata": {
        "id": "7M9howuw16AY",
        "colab_type": "code",
        "colab": {
          "base_uri": "https://localhost:8080/",
          "height": 204
        },
        "outputId": "c551bf28-6e18-4b85-bce9-620725fdb7f3"
      },
      "source": [
        "df.head()"
      ],
      "execution_count": null,
      "outputs": [
        {
          "output_type": "execute_result",
          "data": {
            "text/html": [
              "<div>\n",
              "<style scoped>\n",
              "    .dataframe tbody tr th:only-of-type {\n",
              "        vertical-align: middle;\n",
              "    }\n",
              "\n",
              "    .dataframe tbody tr th {\n",
              "        vertical-align: top;\n",
              "    }\n",
              "\n",
              "    .dataframe thead th {\n",
              "        text-align: right;\n",
              "    }\n",
              "</style>\n",
              "<table border=\"1\" class=\"dataframe\">\n",
              "  <thead>\n",
              "    <tr style=\"text-align: right;\">\n",
              "      <th></th>\n",
              "      <th>order_id</th>\n",
              "      <th>payment_sequential</th>\n",
              "      <th>payment_type</th>\n",
              "      <th>payment_installments</th>\n",
              "      <th>payment_value</th>\n",
              "    </tr>\n",
              "  </thead>\n",
              "  <tbody>\n",
              "    <tr>\n",
              "      <th>0</th>\n",
              "      <td>fcb37577370584bc94c2b97a2e61433c</td>\n",
              "      <td>1</td>\n",
              "      <td>credit_card</td>\n",
              "      <td>3</td>\n",
              "      <td>133.63</td>\n",
              "    </tr>\n",
              "    <tr>\n",
              "      <th>1</th>\n",
              "      <td>db59e4d919b738f6f1b8b9b56345b567</td>\n",
              "      <td>1</td>\n",
              "      <td>boleto</td>\n",
              "      <td>1</td>\n",
              "      <td>116.94</td>\n",
              "    </tr>\n",
              "    <tr>\n",
              "      <th>2</th>\n",
              "      <td>b62f088b105938198ca85cfd28e93efb</td>\n",
              "      <td>1</td>\n",
              "      <td>credit_card</td>\n",
              "      <td>2</td>\n",
              "      <td>138.60</td>\n",
              "    </tr>\n",
              "    <tr>\n",
              "      <th>3</th>\n",
              "      <td>0c7ccdb239bd524a31dc66094fa59626</td>\n",
              "      <td>1</td>\n",
              "      <td>boleto</td>\n",
              "      <td>1</td>\n",
              "      <td>55.10</td>\n",
              "    </tr>\n",
              "    <tr>\n",
              "      <th>4</th>\n",
              "      <td>726050586b99cf152bd2d7ea5065b7dc</td>\n",
              "      <td>1</td>\n",
              "      <td>credit_card</td>\n",
              "      <td>4</td>\n",
              "      <td>50.96</td>\n",
              "    </tr>\n",
              "  </tbody>\n",
              "</table>\n",
              "</div>"
            ],
            "text/plain": [
              "                           order_id  ...  payment_value\n",
              "0  fcb37577370584bc94c2b97a2e61433c  ...         133.63\n",
              "1  db59e4d919b738f6f1b8b9b56345b567  ...         116.94\n",
              "2  b62f088b105938198ca85cfd28e93efb  ...         138.60\n",
              "3  0c7ccdb239bd524a31dc66094fa59626  ...          55.10\n",
              "4  726050586b99cf152bd2d7ea5065b7dc  ...          50.96\n",
              "\n",
              "[5 rows x 5 columns]"
            ]
          },
          "metadata": {
            "tags": []
          },
          "execution_count": 17
        }
      ]
    },
    {
      "cell_type": "code",
      "metadata": {
        "id": "mLzVgrND2P66",
        "colab_type": "code",
        "colab": {
          "base_uri": "https://localhost:8080/",
          "height": 102
        },
        "outputId": "a244901f-c97a-4370-d3c3-d5dbd75f66e3"
      },
      "source": [
        "# Count NA\n",
        "df = df.drop(columns=['order_id'])\n",
        "pd.isnull(df).sum(axis=0)"
      ],
      "execution_count": null,
      "outputs": [
        {
          "output_type": "execute_result",
          "data": {
            "text/plain": [
              "payment_sequential         0\n",
              "payment_type            1060\n",
              "payment_installments       0\n",
              "payment_value           2890\n",
              "dtype: int64"
            ]
          },
          "metadata": {
            "tags": []
          },
          "execution_count": 18
        }
      ]
    },
    {
      "cell_type": "markdown",
      "metadata": {
        "id": "G9XJXyo35tTI",
        "colab_type": "text"
      },
      "source": [
        "## Fill NA by Mean/Mode"
      ]
    },
    {
      "cell_type": "code",
      "metadata": {
        "id": "zw8ggJOR2ebf",
        "colab_type": "code",
        "colab": {}
      },
      "source": [
        "# Fill NA by mean/mode\n",
        "df['payment_type'] = df['payment_type'].fillna('mode')\n",
        "df['payment_value'] = df['payment_value'].fillna('mean')"
      ],
      "execution_count": null,
      "outputs": []
    },
    {
      "cell_type": "code",
      "metadata": {
        "id": "sAOieKx42zTc",
        "colab_type": "code",
        "colab": {}
      },
      "source": [
        "df = pd.read_csv('https://github.com/pnhuy/datasets/blob/master/brazilian_ecommerce/data/order_payments_missing.csv?raw=true')\n",
        "df = df.drop(columns=['order_id'])\n",
        "df = pd.get_dummies(df)"
      ],
      "execution_count": null,
      "outputs": []
    },
    {
      "cell_type": "markdown",
      "metadata": {
        "id": "_a8PYfZE50OZ",
        "colab_type": "text"
      },
      "source": [
        "## Fill NA by using model"
      ]
    },
    {
      "cell_type": "code",
      "metadata": {
        "id": "SRtE4cdT42hT",
        "colab_type": "code",
        "colab": {}
      },
      "source": [
        "from sklearn.impute import KNNImputer\n",
        "imputer = KNNImputer(n_neighbors=50)\n",
        "df_nona = imputer.fit_transform(df)"
      ],
      "execution_count": null,
      "outputs": []
    },
    {
      "cell_type": "code",
      "metadata": {
        "id": "N_k0i_6x12sl",
        "colab_type": "code",
        "colab": {}
      },
      "source": [
        "df2 = pd.DataFrame(df_nona, columns=df.columns)"
      ],
      "execution_count": null,
      "outputs": []
    },
    {
      "cell_type": "code",
      "metadata": {
        "id": "8JN2XAfr5Av2",
        "colab_type": "code",
        "colab": {
          "base_uri": "https://localhost:8080/",
          "height": 170
        },
        "outputId": "c776d3d5-b683-4647-9ffc-40540892aede"
      },
      "source": [
        "pd.isnull(df2).sum(axis=0)"
      ],
      "execution_count": null,
      "outputs": [
        {
          "output_type": "execute_result",
          "data": {
            "text/plain": [
              "payment_sequential          0\n",
              "payment_installments        0\n",
              "payment_value               0\n",
              "payment_type_boleto         0\n",
              "payment_type_credit_card    0\n",
              "payment_type_debit_card     0\n",
              "payment_type_not_defined    0\n",
              "payment_type_voucher        0\n",
              "dtype: int64"
            ]
          },
          "metadata": {
            "tags": []
          },
          "execution_count": 28
        }
      ]
    },
    {
      "cell_type": "markdown",
      "metadata": {
        "id": "UllLv8Oyjtjo",
        "colab_type": "text"
      },
      "source": [
        "# Customer table"
      ]
    },
    {
      "cell_type": "code",
      "metadata": {
        "id": "NtJiPOAhhaX5",
        "colab_type": "code",
        "colab": {
          "base_uri": "https://localhost:8080/",
          "height": 204
        },
        "outputId": "81e2fc3b-f7c0-4629-a80d-0c70b9701cc3"
      },
      "source": [
        "customer.head()"
      ],
      "execution_count": null,
      "outputs": [
        {
          "output_type": "execute_result",
          "data": {
            "text/html": [
              "<div>\n",
              "<style scoped>\n",
              "    .dataframe tbody tr th:only-of-type {\n",
              "        vertical-align: middle;\n",
              "    }\n",
              "\n",
              "    .dataframe tbody tr th {\n",
              "        vertical-align: top;\n",
              "    }\n",
              "\n",
              "    .dataframe thead th {\n",
              "        text-align: right;\n",
              "    }\n",
              "</style>\n",
              "<table border=\"1\" class=\"dataframe\">\n",
              "  <thead>\n",
              "    <tr style=\"text-align: right;\">\n",
              "      <th></th>\n",
              "      <th>customer_id</th>\n",
              "      <th>customer_unique_id</th>\n",
              "      <th>customer_zip_code_prefix</th>\n",
              "      <th>customer_city</th>\n",
              "      <th>customer_state</th>\n",
              "    </tr>\n",
              "  </thead>\n",
              "  <tbody>\n",
              "    <tr>\n",
              "      <th>0</th>\n",
              "      <td>06b8999e2fba1a1fbc88172c00ba8bc7</td>\n",
              "      <td>861eff4711a542e4b93843c6dd7febb0</td>\n",
              "      <td>14409</td>\n",
              "      <td>franca</td>\n",
              "      <td>SP</td>\n",
              "    </tr>\n",
              "    <tr>\n",
              "      <th>1</th>\n",
              "      <td>18955e83d337fd6b2def6b18a428ac77</td>\n",
              "      <td>290c77bc529b7ac935b93aa66c333dc3</td>\n",
              "      <td>9790</td>\n",
              "      <td>sao bernardo do campo</td>\n",
              "      <td>SP</td>\n",
              "    </tr>\n",
              "    <tr>\n",
              "      <th>2</th>\n",
              "      <td>4e7b3e00288586ebd08712fdd0374a03</td>\n",
              "      <td>060e732b5b29e8181a18229c7b0b2b5e</td>\n",
              "      <td>1151</td>\n",
              "      <td>sao paulo</td>\n",
              "      <td>SP</td>\n",
              "    </tr>\n",
              "    <tr>\n",
              "      <th>3</th>\n",
              "      <td>b2b6027bc5c5109e529d4dc6358b12c3</td>\n",
              "      <td>259dac757896d24d7702b9acbbff3f3c</td>\n",
              "      <td>8775</td>\n",
              "      <td>mogi das cruzes</td>\n",
              "      <td>SP</td>\n",
              "    </tr>\n",
              "    <tr>\n",
              "      <th>4</th>\n",
              "      <td>4f2d8ab171c80ec8364f7c12e35b23ad</td>\n",
              "      <td>345ecd01c38d18a9036ed96c73b8d066</td>\n",
              "      <td>13056</td>\n",
              "      <td>campinas</td>\n",
              "      <td>SP</td>\n",
              "    </tr>\n",
              "  </tbody>\n",
              "</table>\n",
              "</div>"
            ],
            "text/plain": [
              "                        customer_id  ... customer_state\n",
              "0  06b8999e2fba1a1fbc88172c00ba8bc7  ...             SP\n",
              "1  18955e83d337fd6b2def6b18a428ac77  ...             SP\n",
              "2  4e7b3e00288586ebd08712fdd0374a03  ...             SP\n",
              "3  b2b6027bc5c5109e529d4dc6358b12c3  ...             SP\n",
              "4  4f2d8ab171c80ec8364f7c12e35b23ad  ...             SP\n",
              "\n",
              "[5 rows x 5 columns]"
            ]
          },
          "metadata": {
            "tags": []
          },
          "execution_count": 156
        }
      ]
    },
    {
      "cell_type": "code",
      "metadata": {
        "id": "YujAjnpxjJYZ",
        "colab_type": "code",
        "colab": {
          "base_uri": "https://localhost:8080/",
          "height": 204
        },
        "outputId": "c13ed48b-f972-4e5b-9b61-db37b5b96f61"
      },
      "source": [
        "customer.customer_city.value_counts()[0:10]"
      ],
      "execution_count": null,
      "outputs": [
        {
          "output_type": "execute_result",
          "data": {
            "text/plain": [
              "sao paulo                15540\n",
              "rio de janeiro            6882\n",
              "belo horizonte            2773\n",
              "brasilia                  2131\n",
              "curitiba                  1521\n",
              "campinas                  1444\n",
              "porto alegre              1379\n",
              "salvador                  1245\n",
              "guarulhos                 1189\n",
              "sao bernardo do campo      938\n",
              "Name: customer_city, dtype: int64"
            ]
          },
          "metadata": {
            "tags": []
          },
          "execution_count": 157
        }
      ]
    },
    {
      "cell_type": "code",
      "metadata": {
        "id": "F1rUjI41j40c",
        "colab_type": "code",
        "colab": {}
      },
      "source": [
        "def top_k_customer_city(customer, k=10):\n",
        "    sr = customer.customer_city\n",
        "    top_k = sr.value_counts()[0:k]\n",
        "    other_count = len(sr) - top_k.sum()\n",
        "    sr_count = sr.value_counts()[0:k].append(pd.Series([other_count], index=['Other']))\n",
        "    return sr_count"
      ],
      "execution_count": null,
      "outputs": []
    },
    {
      "cell_type": "code",
      "metadata": {
        "id": "Fb47vMsTj7uA",
        "colab_type": "code",
        "colab": {
          "base_uri": "https://localhost:8080/",
          "height": 465
        },
        "outputId": "31076d49-d002-4028-9764-d944d127a483"
      },
      "source": [
        "top_k_customer_city(customer, 10)[0:-2].plot.bar()"
      ],
      "execution_count": null,
      "outputs": [
        {
          "output_type": "execute_result",
          "data": {
            "text/plain": [
              "<matplotlib.axes._subplots.AxesSubplot at 0x7fcecda38e10>"
            ]
          },
          "metadata": {
            "tags": []
          },
          "execution_count": 159
        },
        {
          "output_type": "display_data",
          "data": {
            "image/png": "[encoded data removed]",
            "text/plain": [
              "<Figure size 600x400 with 1 Axes>"
            ]
          },
          "metadata": {
            "tags": [],
            "needs_background": "light"
          }
        }
      ]
    },
    {
      "cell_type": "markdown",
      "metadata": {
        "id": "hvppxH2wELP1",
        "colab_type": "text"
      },
      "source": [
        "# Order Items"
      ]
    },
    {
      "cell_type": "code",
      "metadata": {
        "id": "svgPh79UTnMD",
        "colab_type": "code",
        "colab": {
          "base_uri": "https://localhost:8080/",
          "height": 224
        },
        "outputId": "119083f9-d291-44fd-bf4d-f341b067d982"
      },
      "source": [
        "orders.head()"
      ],
      "execution_count": null,
      "outputs": [
        {
          "output_type": "execute_result",
          "data": {
            "text/html": [
              "<div>\n",
              "<style scoped>\n",
              "    .dataframe tbody tr th:only-of-type {\n",
              "        vertical-align: middle;\n",
              "    }\n",
              "\n",
              "    .dataframe tbody tr th {\n",
              "        vertical-align: top;\n",
              "    }\n",
              "\n",
              "    .dataframe thead th {\n",
              "        text-align: right;\n",
              "    }\n",
              "</style>\n",
              "<table border=\"1\" class=\"dataframe\">\n",
              "  <thead>\n",
              "    <tr style=\"text-align: right;\">\n",
              "      <th></th>\n",
              "      <th>order_id</th>\n",
              "      <th>customer_id</th>\n",
              "      <th>order_status</th>\n",
              "      <th>order_purchase_timestamp</th>\n",
              "      <th>order_approved_at</th>\n",
              "      <th>order_delivered_carrier_date</th>\n",
              "      <th>order_delivered_customer_date</th>\n",
              "      <th>order_estimated_delivery_date</th>\n",
              "    </tr>\n",
              "  </thead>\n",
              "  <tbody>\n",
              "    <tr>\n",
              "      <th>0</th>\n",
              "      <td>e481f51cbdc54678b7cc49136f2d6af7</td>\n",
              "      <td>9ef432eb6251297304e76186b10a928d</td>\n",
              "      <td>delivered</td>\n",
              "      <td>2017-10-02 10:56:33</td>\n",
              "      <td>2017-10-02 11:07:15</td>\n",
              "      <td>2017-10-04 19:55:00</td>\n",
              "      <td>2017-10-10 21:25:13</td>\n",
              "      <td>2017-10-18 00:00:00</td>\n",
              "    </tr>\n",
              "    <tr>\n",
              "      <th>1</th>\n",
              "      <td>53cdb2fc8bc7dce0b6741e2150273451</td>\n",
              "      <td>b0830fb4747a6c6d20dea0b8c802d7ef</td>\n",
              "      <td>delivered</td>\n",
              "      <td>2018-07-24 20:41:37</td>\n",
              "      <td>2018-07-26 03:24:27</td>\n",
              "      <td>2018-07-26 14:31:00</td>\n",
              "      <td>2018-08-07 15:27:45</td>\n",
              "      <td>2018-08-13 00:00:00</td>\n",
              "    </tr>\n",
              "    <tr>\n",
              "      <th>2</th>\n",
              "      <td>47770eb9100c2d0c44946d9cf07ec65d</td>\n",
              "      <td>41ce2a54c0b03bf3443c3d931a367089</td>\n",
              "      <td>delivered</td>\n",
              "      <td>2018-08-08 08:38:49</td>\n",
              "      <td>2018-08-08 08:55:23</td>\n",
              "      <td>2018-08-08 13:50:00</td>\n",
              "      <td>2018-08-17 18:06:29</td>\n",
              "      <td>2018-09-04 00:00:00</td>\n",
              "    </tr>\n",
              "    <tr>\n",
              "      <th>3</th>\n",
              "      <td>949d5b44dbf5de918fe9c16f97b45f8a</td>\n",
              "      <td>f88197465ea7920adcdbec7375364d82</td>\n",
              "      <td>delivered</td>\n",
              "      <td>2017-11-18 19:28:06</td>\n",
              "      <td>2017-11-18 19:45:59</td>\n",
              "      <td>2017-11-22 13:39:59</td>\n",
              "      <td>2017-12-02 00:28:42</td>\n",
              "      <td>2017-12-15 00:00:00</td>\n",
              "    </tr>\n",
              "    <tr>\n",
              "      <th>4</th>\n",
              "      <td>ad21c59c0840e6cb83a9ceb5573f8159</td>\n",
              "      <td>8ab97904e6daea8866dbdbc4fb7aad2c</td>\n",
              "      <td>delivered</td>\n",
              "      <td>2018-02-13 21:18:39</td>\n",
              "      <td>2018-02-13 22:20:29</td>\n",
              "      <td>2018-02-14 19:46:34</td>\n",
              "      <td>2018-02-16 18:17:02</td>\n",
              "      <td>2018-02-26 00:00:00</td>\n",
              "    </tr>\n",
              "  </tbody>\n",
              "</table>\n",
              "</div>"
            ],
            "text/plain": [
              "                           order_id  ... order_estimated_delivery_date\n",
              "0  e481f51cbdc54678b7cc49136f2d6af7  ...           2017-10-18 00:00:00\n",
              "1  53cdb2fc8bc7dce0b6741e2150273451  ...           2018-08-13 00:00:00\n",
              "2  47770eb9100c2d0c44946d9cf07ec65d  ...           2018-09-04 00:00:00\n",
              "3  949d5b44dbf5de918fe9c16f97b45f8a  ...           2017-12-15 00:00:00\n",
              "4  ad21c59c0840e6cb83a9ceb5573f8159  ...           2018-02-26 00:00:00\n",
              "\n",
              "[5 rows x 8 columns]"
            ]
          },
          "metadata": {
            "tags": []
          },
          "execution_count": 72
        }
      ]
    },
    {
      "cell_type": "code",
      "metadata": {
        "id": "XLpHsV3zWytD",
        "colab_type": "code",
        "colab": {}
      },
      "source": [
        "orders['order_purchase_timestamp'] = pd.to_datetime(orders['order_purchase_timestamp'])\n",
        "orders['order_approved_at'] = pd.to_datetime(orders['order_approved_at'])\n",
        "orders['order_delivered_carrier_date'] = pd.to_datetime(orders['order_delivered_carrier_date'])\n",
        "orders['order_delivered_customer_date'] = pd.to_datetime(orders['order_delivered_customer_date'])\n",
        "orders['order_estimated_delivery_date'] = pd.to_datetime(orders['order_estimated_delivery_date'])"
      ],
      "execution_count": null,
      "outputs": []
    },
    {
      "cell_type": "markdown",
      "metadata": {
        "id": "iN_EUzgwQI8_",
        "colab_type": "text"
      },
      "source": [
        "## How many orders we have for each status?"
      ]
    },
    {
      "cell_type": "code",
      "metadata": {
        "id": "VfopgIzzENW0",
        "colab_type": "code",
        "colab": {}
      },
      "source": [
        "order_status_count = orders.order_status.value_counts()"
      ],
      "execution_count": null,
      "outputs": []
    },
    {
      "cell_type": "code",
      "metadata": {
        "id": "Bo9trXX1QnfL",
        "colab_type": "code",
        "colab": {
          "base_uri": "https://localhost:8080/",
          "height": 413
        },
        "outputId": "6288b18d-8379-4554-f7da-b53043840d50"
      },
      "source": [
        "fig, ax = plt.subplots()\n",
        "\n",
        "# calculate percents\n",
        "percents = [100*x/sum(order_status_count) for x in order_status_count]\n",
        "\n",
        "x_ax = order_status_count.index\n",
        "x_tick = np.arange(len(y_ax))\n",
        "\n",
        "ax.bar(range(len(percents)), percents, align = \"center\", color = \"tab:blue\")\n",
        "ax.set_xticks(x_tick)\n",
        "ax.set_xticklabels(x_ax, size = 8, rotation='vertical')\n",
        "\n",
        "plt.show()"
      ],
      "execution_count": null,
      "outputs": [
        {
          "output_type": "display_data",
          "data": {
            "image/png": "[encoded data removed]",
            "text/plain": [
              "<Figure size 600x400 with 1 Axes>"
            ]
          },
          "metadata": {
            "tags": [],
            "needs_background": "light"
          }
        }
      ]
    },
    {
      "cell_type": "markdown",
      "metadata": {
        "id": "zZx2HiOmTial",
        "colab_type": "text"
      },
      "source": [
        " ## Is there any growing trend on brazilian e-commerce?"
      ]
    },
    {
      "cell_type": "code",
      "metadata": {
        "id": "a7QlhafcPFci",
        "colab_type": "code",
        "colab": {}
      },
      "source": [
        "orders['orders_month'] = orders.order_purchase_timestamp.dt.month\n",
        "orders['orders_year'] = orders.order_purchase_timestamp.dt.year\n",
        "orders['orders_year_month'] = orders['orders_year']*100 + orders['orders_month']"
      ],
      "execution_count": null,
      "outputs": []
    },
    {
      "cell_type": "code",
      "metadata": {
        "id": "ksVAeTemX3ox",
        "colab_type": "code",
        "colab": {}
      },
      "source": [
        "orders_by_month = orders.groupby('orders_year_month')['order_id'].count()"
      ],
      "execution_count": null,
      "outputs": []
    },
    {
      "cell_type": "code",
      "metadata": {
        "id": "vZU6clWZX6-6",
        "colab_type": "code",
        "colab": {
          "base_uri": "https://localhost:8080/",
          "height": 438
        },
        "outputId": "d4a97fb3-6ea9-41c2-a73f-95ca3e52d847"
      },
      "source": [
        "orders_by_month.plot.bar()"
      ],
      "execution_count": null,
      "outputs": [
        {
          "output_type": "execute_result",
          "data": {
            "text/plain": [
              "<matplotlib.axes._subplots.AxesSubplot at 0x7fced0639ba8>"
            ]
          },
          "metadata": {
            "tags": []
          },
          "execution_count": 125
        },
        {
          "output_type": "display_data",
          "data": {
            "image/png": "[encoded data removed]",
            "text/plain": [
              "<Figure size 600x400 with 1 Axes>"
            ]
          },
          "metadata": {
            "tags": [],
            "needs_background": "light"
          }
        }
      ]
    },
    {
      "cell_type": "markdown",
      "metadata": {
        "id": "W3qaRUF1aUv-",
        "colab_type": "text"
      },
      "source": [
        "## On what day of week brazilians customers tend to do online purchasing?"
      ]
    },
    {
      "cell_type": "code",
      "metadata": {
        "id": "dlPLFxcJZzvf",
        "colab_type": "code",
        "colab": {}
      },
      "source": [
        "orders['order_weekday'] = orders.order_purchase_timestamp.dt.weekday\n",
        "orders_by_weekday = orders.groupby('order_weekday')['order_id'].count()\n",
        "orders_by_weekday.index = ['Monday', 'Tuesday', 'Wednesday', 'Thursday', 'Friday', 'Saturday', 'Sunday']"
      ],
      "execution_count": null,
      "outputs": []
    },
    {
      "cell_type": "code",
      "metadata": {
        "id": "_6CUYsbuba1z",
        "colab_type": "code",
        "colab": {
          "base_uri": "https://localhost:8080/",
          "height": 153
        },
        "outputId": "e457807c-499a-4b2e-a914-524e941808c4"
      },
      "source": [
        "orders_by_weekday"
      ],
      "execution_count": null,
      "outputs": [
        {
          "output_type": "execute_result",
          "data": {
            "text/plain": [
              "Monday       16196\n",
              "Tuesday      15963\n",
              "Wednesday    15552\n",
              "Thursday     14761\n",
              "Friday       14122\n",
              "Saturday     10887\n",
              "Sunday       11960\n",
              "Name: order_id, dtype: int64"
            ]
          },
          "metadata": {
            "tags": []
          },
          "execution_count": 97
        }
      ]
    },
    {
      "cell_type": "code",
      "metadata": {
        "id": "4BB3C0g7azP6",
        "colab_type": "code",
        "colab": {
          "base_uri": "https://localhost:8080/",
          "height": 446
        },
        "outputId": "d390a85d-a295-4541-939a-4aba6e97ebde"
      },
      "source": [
        "orders_by_weekday.plot.bar()"
      ],
      "execution_count": null,
      "outputs": [
        {
          "output_type": "execute_result",
          "data": {
            "text/plain": [
              "<matplotlib.axes._subplots.AxesSubplot at 0x7fced0aa0c50>"
            ]
          },
          "metadata": {
            "tags": []
          },
          "execution_count": 96
        },
        {
          "output_type": "display_data",
          "data": {
            "image/png": "[encoded data removed]",
            "text/plain": [
              "<Figure size 600x400 with 1 Axes>"
            ]
          },
          "metadata": {
            "tags": [],
            "needs_background": "light"
          }
        }
      ]
    },
    {
      "cell_type": "markdown",
      "metadata": {
        "id": "jBCSlDeuboxc",
        "colab_type": "text"
      },
      "source": [
        "## What time brazilians customers tend do buy (Dawn, Morning, Afternoon or Night)?"
      ]
    },
    {
      "cell_type": "code",
      "metadata": {
        "id": "_CSNecxXcdTd",
        "colab_type": "code",
        "colab": {}
      },
      "source": [
        "def get_part_of_day(hour):\n",
        "    return (\n",
        "        1 if 5 <= hour <= 11\n",
        "        else\n",
        "        2 if 12 <= hour <= 17\n",
        "        else\n",
        "        3 if 18 <= hour <= 22\n",
        "        else\n",
        "        4\n",
        "    )\n",
        "\n",
        "part_order = ['Morning', 'Afternoon', 'Evening', 'Night']"
      ],
      "execution_count": null,
      "outputs": []
    },
    {
      "cell_type": "code",
      "metadata": {
        "id": "MU2MJHBFa1E5",
        "colab_type": "code",
        "colab": {}
      },
      "source": [
        "orders['order_hour'] = orders.order_purchase_timestamp.dt.hour\n",
        "orders['day_part']= orders['order_hour'].apply(get_part_of_day)"
      ],
      "execution_count": null,
      "outputs": []
    },
    {
      "cell_type": "code",
      "metadata": {
        "id": "o0h5EMSzcPho",
        "colab_type": "code",
        "colab": {
          "base_uri": "https://localhost:8080/",
          "height": 436
        },
        "outputId": "21ff9fc9-98f8-4870-90c2-2386ba137a4c"
      },
      "source": [
        "part_count = orders['day_part'].value_counts().sort_index()\n",
        "part_count.index = part_order\n",
        "part_count.plot.bar()"
      ],
      "execution_count": null,
      "outputs": [
        {
          "output_type": "execute_result",
          "data": {
            "text/plain": [
              "<matplotlib.axes._subplots.AxesSubplot at 0x7fced069b7f0>"
            ]
          },
          "metadata": {
            "tags": []
          },
          "execution_count": 122
        },
        {
          "output_type": "display_data",
          "data": {
            "image/png": "[encoded data removed]",
            "text/plain": [
              "<Figure size 600x400 with 1 Axes>"
            ]
          },
          "metadata": {
            "tags": [],
            "needs_background": "light"
          }
        }
      ]
    },
    {
      "cell_type": "markdown",
      "metadata": {
        "id": "plSOvvDjd1jR",
        "colab_type": "text"
      },
      "source": [
        "## Comparison between 2017 and 2018"
      ]
    },
    {
      "cell_type": "code",
      "metadata": {
        "id": "HviXkxLxgggG",
        "colab_type": "code",
        "colab": {
          "base_uri": "https://localhost:8080/",
          "height": 224
        },
        "outputId": "d2c0ee25-84ec-4836-b7e7-5497c302c4de"
      },
      "source": [
        "orders.head()"
      ],
      "execution_count": null,
      "outputs": [
        {
          "output_type": "execute_result",
          "data": {
            "text/html": [
              "<div>\n",
              "<style scoped>\n",
              "    .dataframe tbody tr th:only-of-type {\n",
              "        vertical-align: middle;\n",
              "    }\n",
              "\n",
              "    .dataframe tbody tr th {\n",
              "        vertical-align: top;\n",
              "    }\n",
              "\n",
              "    .dataframe thead th {\n",
              "        text-align: right;\n",
              "    }\n",
              "</style>\n",
              "<table border=\"1\" class=\"dataframe\">\n",
              "  <thead>\n",
              "    <tr style=\"text-align: right;\">\n",
              "      <th></th>\n",
              "      <th>order_id</th>\n",
              "      <th>customer_id</th>\n",
              "      <th>order_status</th>\n",
              "      <th>order_purchase_timestamp</th>\n",
              "      <th>order_approved_at</th>\n",
              "      <th>order_delivered_carrier_date</th>\n",
              "      <th>order_delivered_customer_date</th>\n",
              "      <th>order_estimated_delivery_date</th>\n",
              "      <th>purchase_date</th>\n",
              "      <th>orders_year_month</th>\n",
              "      <th>order_weekday</th>\n",
              "      <th>order_time</th>\n",
              "      <th>order_hour</th>\n",
              "      <th>day_part</th>\n",
              "      <th>orders_month</th>\n",
              "      <th>orders_year</th>\n",
              "    </tr>\n",
              "  </thead>\n",
              "  <tbody>\n",
              "    <tr>\n",
              "      <th>0</th>\n",
              "      <td>e481f51cbdc54678b7cc49136f2d6af7</td>\n",
              "      <td>9ef432eb6251297304e76186b10a928d</td>\n",
              "      <td>delivered</td>\n",
              "      <td>2017-10-02 10:56:33</td>\n",
              "      <td>2017-10-02 11:07:15</td>\n",
              "      <td>2017-10-04 19:55:00</td>\n",
              "      <td>2017-10-10 21:25:13</td>\n",
              "      <td>2017-10-18</td>\n",
              "      <td>10</td>\n",
              "      <td>201710</td>\n",
              "      <td>0</td>\n",
              "      <td>10</td>\n",
              "      <td>10</td>\n",
              "      <td>1</td>\n",
              "      <td>10</td>\n",
              "      <td>2017</td>\n",
              "    </tr>\n",
              "    <tr>\n",
              "      <th>1</th>\n",
              "      <td>53cdb2fc8bc7dce0b6741e2150273451</td>\n",
              "      <td>b0830fb4747a6c6d20dea0b8c802d7ef</td>\n",
              "      <td>delivered</td>\n",
              "      <td>2018-07-24 20:41:37</td>\n",
              "      <td>2018-07-26 03:24:27</td>\n",
              "      <td>2018-07-26 14:31:00</td>\n",
              "      <td>2018-08-07 15:27:45</td>\n",
              "      <td>2018-08-13</td>\n",
              "      <td>7</td>\n",
              "      <td>201807</td>\n",
              "      <td>1</td>\n",
              "      <td>20</td>\n",
              "      <td>20</td>\n",
              "      <td>3</td>\n",
              "      <td>7</td>\n",
              "      <td>2018</td>\n",
              "    </tr>\n",
              "    <tr>\n",
              "      <th>2</th>\n",
              "      <td>47770eb9100c2d0c44946d9cf07ec65d</td>\n",
              "      <td>41ce2a54c0b03bf3443c3d931a367089</td>\n",
              "      <td>delivered</td>\n",
              "      <td>2018-08-08 08:38:49</td>\n",
              "      <td>2018-08-08 08:55:23</td>\n",
              "      <td>2018-08-08 13:50:00</td>\n",
              "      <td>2018-08-17 18:06:29</td>\n",
              "      <td>2018-09-04</td>\n",
              "      <td>8</td>\n",
              "      <td>201808</td>\n",
              "      <td>2</td>\n",
              "      <td>8</td>\n",
              "      <td>8</td>\n",
              "      <td>1</td>\n",
              "      <td>8</td>\n",
              "      <td>2018</td>\n",
              "    </tr>\n",
              "    <tr>\n",
              "      <th>3</th>\n",
              "      <td>949d5b44dbf5de918fe9c16f97b45f8a</td>\n",
              "      <td>f88197465ea7920adcdbec7375364d82</td>\n",
              "      <td>delivered</td>\n",
              "      <td>2017-11-18 19:28:06</td>\n",
              "      <td>2017-11-18 19:45:59</td>\n",
              "      <td>2017-11-22 13:39:59</td>\n",
              "      <td>2017-12-02 00:28:42</td>\n",
              "      <td>2017-12-15</td>\n",
              "      <td>11</td>\n",
              "      <td>201711</td>\n",
              "      <td>5</td>\n",
              "      <td>19</td>\n",
              "      <td>19</td>\n",
              "      <td>3</td>\n",
              "      <td>11</td>\n",
              "      <td>2017</td>\n",
              "    </tr>\n",
              "    <tr>\n",
              "      <th>4</th>\n",
              "      <td>ad21c59c0840e6cb83a9ceb5573f8159</td>\n",
              "      <td>8ab97904e6daea8866dbdbc4fb7aad2c</td>\n",
              "      <td>delivered</td>\n",
              "      <td>2018-02-13 21:18:39</td>\n",
              "      <td>2018-02-13 22:20:29</td>\n",
              "      <td>2018-02-14 19:46:34</td>\n",
              "      <td>2018-02-16 18:17:02</td>\n",
              "      <td>2018-02-26</td>\n",
              "      <td>2</td>\n",
              "      <td>201802</td>\n",
              "      <td>1</td>\n",
              "      <td>21</td>\n",
              "      <td>21</td>\n",
              "      <td>3</td>\n",
              "      <td>2</td>\n",
              "      <td>2018</td>\n",
              "    </tr>\n",
              "  </tbody>\n",
              "</table>\n",
              "</div>"
            ],
            "text/plain": [
              "                           order_id  ... orders_year\n",
              "0  e481f51cbdc54678b7cc49136f2d6af7  ...        2017\n",
              "1  53cdb2fc8bc7dce0b6741e2150273451  ...        2018\n",
              "2  47770eb9100c2d0c44946d9cf07ec65d  ...        2018\n",
              "3  949d5b44dbf5de918fe9c16f97b45f8a  ...        2017\n",
              "4  ad21c59c0840e6cb83a9ceb5573f8159  ...        2018\n",
              "\n",
              "[5 rows x 16 columns]"
            ]
          },
          "metadata": {
            "tags": []
          },
          "execution_count": 143
        }
      ]
    },
    {
      "cell_type": "code",
      "metadata": {
        "id": "KOTDODgsgRCr",
        "colab_type": "code",
        "colab": {}
      },
      "source": [
        "orders_by_year_month = orders.groupby(['orders_month', 'orders_year'])['order_id'].count().reset_index()"
      ],
      "execution_count": null,
      "outputs": []
    },
    {
      "cell_type": "code",
      "metadata": {
        "id": "xeEuhBFPd0uT",
        "colab_type": "code",
        "colab": {}
      },
      "source": [
        "df = orders_by_year_month[orders_by_year_month['orders_month'] < 8]"
      ],
      "execution_count": null,
      "outputs": []
    },
    {
      "cell_type": "code",
      "metadata": {
        "id": "KgjZi-5rcQ4e",
        "colab_type": "code",
        "colab": {
          "base_uri": "https://localhost:8080/",
          "height": 506
        },
        "outputId": "cdb44dbe-fe5e-49a2-c62c-653bd89edaa7"
      },
      "source": [
        "g = sns.catplot(\n",
        "    data = df, \n",
        "    kind='bar',\n",
        "    x='orders_month',\n",
        "    y='order_id',\n",
        "    hue='orders_year'\n",
        ")"
      ],
      "execution_count": null,
      "outputs": [
        {
          "output_type": "display_data",
          "data": {
            "image/png": "[encoded data removed]",
            "text/plain": [
              "<Figure size 593.486x500 with 1 Axes>"
            ]
          },
          "metadata": {
            "tags": [],
            "needs_background": "light"
          }
        }
      ]
    },
    {
      "cell_type": "code",
      "metadata": {
        "id": "lcUG77SjeatD",
        "colab_type": "code",
        "colab": {}
      },
      "source": [
        ""
      ],
      "execution_count": null,
      "outputs": []
    }
  ]
}