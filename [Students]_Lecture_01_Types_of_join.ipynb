{
  "nbformat": 4,
  "nbformat_minor": 0,
  "metadata": {
    "colab": {
      "name": "[Students] Lecture 01 - Types of join.ipynb",
      "provenance": [],
      "collapsed_sections": [],
      "include_colab_link": true
    },
    "kernelspec": {
      "name": "python3",
      "display_name": "Python 3"
    }
  },
  "cells": [
    {
      "cell_type": "markdown",
      "metadata": {
        "id": "view-in-github",
        "colab_type": "text"
      },
      "source": [
        "<a href=\"https://colab.research.google.com/github/Mai-Binh-Nam/Hand-on_DataAnalysisVEF/blob/master/%5BStudents%5D_Lecture_01_Types_of_join.ipynb\" target=\"_parent\"><img src=\"https://colab.research.google.com/assets/colab-badge.svg\" alt=\"Open In Colab\"/></a>"
      ]
    },
    {
      "cell_type": "markdown",
      "metadata": {
        "id": "klOe34t04TdO",
        "colab_type": "text"
      },
      "source": [
        "# Data Analysis Course - VEF Academy \n",
        "## Introduction to Data Analysis"
      ]
    },
    {
      "cell_type": "markdown",
      "metadata": {
        "id": "A8wg0kaDJ2aH",
        "colab_type": "text"
      },
      "source": [
        "### Popular libraries in Python\n",
        "1. Numpy for numerical calculation. You can read more [here](https://towardsdatascience.com/the-ultimate-beginners-guide-to-numpy-f5a2f99aef54).\n",
        "1. Pandas used very often for data analysis. It provides data structures and operations suitable for analyzing tabular data and time series data.\n",
        "1. Matplotlib for visualizing data. An (higher level) alternative is Plotly."
      ]
    },
    {
      "cell_type": "markdown",
      "metadata": {
        "id": "QLXjCKkO4PEb",
        "colab_type": "text"
      },
      "source": [
        "## Import necessary libraries"
      ]
    },
    {
      "cell_type": "code",
      "metadata": {
        "id": "Lxi940HB4A_8",
        "colab_type": "code",
        "colab": {}
      },
      "source": [
        "import numpy as np\n",
        "import pandas as pd\n",
        "import datetime as dt"
      ],
      "execution_count": null,
      "outputs": []
    },
    {
      "cell_type": "markdown",
      "metadata": {
        "id": "11Y3smfCJxDd",
        "colab_type": "text"
      },
      "source": [
        "## A worked example of joining tables in Python"
      ]
    },
    {
      "cell_type": "code",
      "metadata": {
        "id": "e5pMcTyYNl8U",
        "colab_type": "code",
        "colab": {}
      },
      "source": [
        "candidates = pd.DataFrame(data = {\"candidate_name\": [\"Mr A\", \"Ms B\", \"Ms C\", \"Mr D\"], \n",
        "                               \"age\": [31, 22, 27, 45],\n",
        "                               \"position\": [\"Accountant\", \"Marketing\", \"Trainer\", \"Sales\"]}\n",
        "                       )\n",
        "\n",
        "jobs = pd.DataFrame(data = {\"company\": [\"ACB\", \"VinID\", \"California\", \"VJC\", \"LG\"],\n",
        "                               \"position\": [\"Accountant\", \"Sales\", \"Trainer\", \"Operation\", \"Engineer\"]})"
      ],
      "execution_count": null,
      "outputs": []
    },
    {
      "cell_type": "code",
      "metadata": {
        "id": "zteV8y8XOz-c",
        "colab_type": "code",
        "colab": {
          "base_uri": "https://localhost:8080/",
          "height": 175
        },
        "outputId": "5cbe9952-8847-46e7-ec23-e1e4e75f9174"
      },
      "source": [
        "candidates"
      ],
      "execution_count": null,
      "outputs": [
        {
          "output_type": "execute_result",
          "data": {
            "text/html": [
              "<div>\n",
              "<style scoped>\n",
              "    .dataframe tbody tr th:only-of-type {\n",
              "        vertical-align: middle;\n",
              "    }\n",
              "\n",
              "    .dataframe tbody tr th {\n",
              "        vertical-align: top;\n",
              "    }\n",
              "\n",
              "    .dataframe thead th {\n",
              "        text-align: right;\n",
              "    }\n",
              "</style>\n",
              "<table border=\"1\" class=\"dataframe\">\n",
              "  <thead>\n",
              "    <tr style=\"text-align: right;\">\n",
              "      <th></th>\n",
              "      <th>candidate_name</th>\n",
              "      <th>age</th>\n",
              "      <th>position</th>\n",
              "    </tr>\n",
              "  </thead>\n",
              "  <tbody>\n",
              "    <tr>\n",
              "      <th>0</th>\n",
              "      <td>Mr A</td>\n",
              "      <td>31</td>\n",
              "      <td>Accountant</td>\n",
              "    </tr>\n",
              "    <tr>\n",
              "      <th>1</th>\n",
              "      <td>Ms B</td>\n",
              "      <td>22</td>\n",
              "      <td>Marketing</td>\n",
              "    </tr>\n",
              "    <tr>\n",
              "      <th>2</th>\n",
              "      <td>Ms C</td>\n",
              "      <td>27</td>\n",
              "      <td>Trainer</td>\n",
              "    </tr>\n",
              "    <tr>\n",
              "      <th>3</th>\n",
              "      <td>Mr D</td>\n",
              "      <td>45</td>\n",
              "      <td>Sales</td>\n",
              "    </tr>\n",
              "  </tbody>\n",
              "</table>\n",
              "</div>"
            ],
            "text/plain": [
              "  candidate_name  age    position\n",
              "0           Mr A   31  Accountant\n",
              "1           Ms B   22   Marketing\n",
              "2           Ms C   27     Trainer\n",
              "3           Mr D   45       Sales"
            ]
          },
          "metadata": {
            "tags": []
          },
          "execution_count": 4
        }
      ]
    },
    {
      "cell_type": "code",
      "metadata": {
        "id": "JaiK-RlCQLGG",
        "colab_type": "code",
        "colab": {
          "base_uri": "https://localhost:8080/",
          "height": 206
        },
        "outputId": "6305c3a4-ec16-479f-b7b5-eb6dd4743294"
      },
      "source": [
        "jobs"
      ],
      "execution_count": null,
      "outputs": [
        {
          "output_type": "execute_result",
          "data": {
            "text/html": [
              "<div>\n",
              "<style scoped>\n",
              "    .dataframe tbody tr th:only-of-type {\n",
              "        vertical-align: middle;\n",
              "    }\n",
              "\n",
              "    .dataframe tbody tr th {\n",
              "        vertical-align: top;\n",
              "    }\n",
              "\n",
              "    .dataframe thead th {\n",
              "        text-align: right;\n",
              "    }\n",
              "</style>\n",
              "<table border=\"1\" class=\"dataframe\">\n",
              "  <thead>\n",
              "    <tr style=\"text-align: right;\">\n",
              "      <th></th>\n",
              "      <th>company</th>\n",
              "      <th>position</th>\n",
              "    </tr>\n",
              "  </thead>\n",
              "  <tbody>\n",
              "    <tr>\n",
              "      <th>0</th>\n",
              "      <td>ACB</td>\n",
              "      <td>Accountant</td>\n",
              "    </tr>\n",
              "    <tr>\n",
              "      <th>1</th>\n",
              "      <td>VinID</td>\n",
              "      <td>Sales</td>\n",
              "    </tr>\n",
              "    <tr>\n",
              "      <th>2</th>\n",
              "      <td>California</td>\n",
              "      <td>Trainer</td>\n",
              "    </tr>\n",
              "    <tr>\n",
              "      <th>3</th>\n",
              "      <td>VJC</td>\n",
              "      <td>Operation</td>\n",
              "    </tr>\n",
              "    <tr>\n",
              "      <th>4</th>\n",
              "      <td>LG</td>\n",
              "      <td>Engineer</td>\n",
              "    </tr>\n",
              "  </tbody>\n",
              "</table>\n",
              "</div>"
            ],
            "text/plain": [
              "      company    position\n",
              "0         ACB  Accountant\n",
              "1       VinID       Sales\n",
              "2  California     Trainer\n",
              "3         VJC   Operation\n",
              "4          LG    Engineer"
            ]
          },
          "metadata": {
            "tags": []
          },
          "execution_count": 5
        }
      ]
    },
    {
      "cell_type": "markdown",
      "metadata": {
        "id": "OkQ7MuBJz3-8",
        "colab_type": "text"
      },
      "source": [
        "Assume you're the admin of the recruitment agency and you need to arrange meetings when there are matches between candidates and job openings. You will be likely interested in knowing only the matches."
      ]
    },
    {
      "cell_type": "code",
      "metadata": {
        "id": "ia6sbJIHRph7",
        "colab_type": "code",
        "colab": {
          "base_uri": "https://localhost:8080/",
          "height": 143
        },
        "outputId": "d6cfb51c-956c-4549-b62e-d8e301594c4d"
      },
      "source": [
        "# Admin\n",
        "# Inner join\n",
        "pd.merge(candidates, jobs, on=\"position\", how=\"inner\")"
      ],
      "execution_count": null,
      "outputs": [
        {
          "output_type": "execute_result",
          "data": {
            "text/html": [
              "<div>\n",
              "<style scoped>\n",
              "    .dataframe tbody tr th:only-of-type {\n",
              "        vertical-align: middle;\n",
              "    }\n",
              "\n",
              "    .dataframe tbody tr th {\n",
              "        vertical-align: top;\n",
              "    }\n",
              "\n",
              "    .dataframe thead th {\n",
              "        text-align: right;\n",
              "    }\n",
              "</style>\n",
              "<table border=\"1\" class=\"dataframe\">\n",
              "  <thead>\n",
              "    <tr style=\"text-align: right;\">\n",
              "      <th></th>\n",
              "      <th>candidate_name</th>\n",
              "      <th>age</th>\n",
              "      <th>position</th>\n",
              "      <th>company</th>\n",
              "    </tr>\n",
              "  </thead>\n",
              "  <tbody>\n",
              "    <tr>\n",
              "      <th>0</th>\n",
              "      <td>Mr A</td>\n",
              "      <td>31</td>\n",
              "      <td>Accountant</td>\n",
              "      <td>ACB</td>\n",
              "    </tr>\n",
              "    <tr>\n",
              "      <th>1</th>\n",
              "      <td>Ms C</td>\n",
              "      <td>27</td>\n",
              "      <td>Trainer</td>\n",
              "      <td>California</td>\n",
              "    </tr>\n",
              "    <tr>\n",
              "      <th>2</th>\n",
              "      <td>Mr D</td>\n",
              "      <td>45</td>\n",
              "      <td>Sales</td>\n",
              "      <td>VinID</td>\n",
              "    </tr>\n",
              "  </tbody>\n",
              "</table>\n",
              "</div>"
            ],
            "text/plain": [
              "  candidate_name  age    position     company\n",
              "0           Mr A   31  Accountant         ACB\n",
              "1           Ms C   27     Trainer  California\n",
              "2           Mr D   45       Sales       VinID"
            ]
          },
          "metadata": {
            "tags": []
          },
          "execution_count": 6
        }
      ]
    },
    {
      "cell_type": "code",
      "metadata": {
        "id": "odGvq_OzSDkR",
        "colab_type": "code",
        "colab": {
          "base_uri": "https://localhost:8080/",
          "height": 175
        },
        "outputId": "39f979bf-42b1-481d-fb92-6bd28d0783ec"
      },
      "source": [
        "\n",
        "# Left join\n",
        "pd.merge(candidates, jobs, on=\"position\", how=\"left\")"
      ],
      "execution_count": null,
      "outputs": [
        {
          "output_type": "execute_result",
          "data": {
            "text/html": [
              "<div>\n",
              "<style scoped>\n",
              "    .dataframe tbody tr th:only-of-type {\n",
              "        vertical-align: middle;\n",
              "    }\n",
              "\n",
              "    .dataframe tbody tr th {\n",
              "        vertical-align: top;\n",
              "    }\n",
              "\n",
              "    .dataframe thead th {\n",
              "        text-align: right;\n",
              "    }\n",
              "</style>\n",
              "<table border=\"1\" class=\"dataframe\">\n",
              "  <thead>\n",
              "    <tr style=\"text-align: right;\">\n",
              "      <th></th>\n",
              "      <th>candidate_name</th>\n",
              "      <th>age</th>\n",
              "      <th>position</th>\n",
              "      <th>company</th>\n",
              "    </tr>\n",
              "  </thead>\n",
              "  <tbody>\n",
              "    <tr>\n",
              "      <th>0</th>\n",
              "      <td>Mr A</td>\n",
              "      <td>31</td>\n",
              "      <td>Accountant</td>\n",
              "      <td>ACB</td>\n",
              "    </tr>\n",
              "    <tr>\n",
              "      <th>1</th>\n",
              "      <td>Ms B</td>\n",
              "      <td>22</td>\n",
              "      <td>Marketing</td>\n",
              "      <td>NaN</td>\n",
              "    </tr>\n",
              "    <tr>\n",
              "      <th>2</th>\n",
              "      <td>Ms C</td>\n",
              "      <td>27</td>\n",
              "      <td>Trainer</td>\n",
              "      <td>California</td>\n",
              "    </tr>\n",
              "    <tr>\n",
              "      <th>3</th>\n",
              "      <td>Mr D</td>\n",
              "      <td>45</td>\n",
              "      <td>Sales</td>\n",
              "      <td>VinID</td>\n",
              "    </tr>\n",
              "  </tbody>\n",
              "</table>\n",
              "</div>"
            ],
            "text/plain": [
              "  candidate_name  age    position     company\n",
              "0           Mr A   31  Accountant         ACB\n",
              "1           Ms B   22   Marketing         NaN\n",
              "2           Ms C   27     Trainer  California\n",
              "3           Mr D   45       Sales       VinID"
            ]
          },
          "metadata": {
            "tags": []
          },
          "execution_count": 68
        }
      ]
    },
    {
      "cell_type": "code",
      "metadata": {
        "id": "ujv-rV0JSGNL",
        "colab_type": "code",
        "colab": {
          "base_uri": "https://localhost:8080/",
          "height": 206
        },
        "outputId": "8e31323e-6059-4234-c9e2-a3cbb397d58d"
      },
      "source": [
        "\n",
        "# Right join\n",
        "pd.merge(candidates, jobs, on=\"position\", how=\"right\")"
      ],
      "execution_count": null,
      "outputs": [
        {
          "output_type": "execute_result",
          "data": {
            "text/html": [
              "<div>\n",
              "<style scoped>\n",
              "    .dataframe tbody tr th:only-of-type {\n",
              "        vertical-align: middle;\n",
              "    }\n",
              "\n",
              "    .dataframe tbody tr th {\n",
              "        vertical-align: top;\n",
              "    }\n",
              "\n",
              "    .dataframe thead th {\n",
              "        text-align: right;\n",
              "    }\n",
              "</style>\n",
              "<table border=\"1\" class=\"dataframe\">\n",
              "  <thead>\n",
              "    <tr style=\"text-align: right;\">\n",
              "      <th></th>\n",
              "      <th>candidate_name</th>\n",
              "      <th>age</th>\n",
              "      <th>position</th>\n",
              "      <th>company</th>\n",
              "    </tr>\n",
              "  </thead>\n",
              "  <tbody>\n",
              "    <tr>\n",
              "      <th>0</th>\n",
              "      <td>Mr A</td>\n",
              "      <td>31.0</td>\n",
              "      <td>Accountant</td>\n",
              "      <td>ACB</td>\n",
              "    </tr>\n",
              "    <tr>\n",
              "      <th>1</th>\n",
              "      <td>Ms C</td>\n",
              "      <td>27.0</td>\n",
              "      <td>Trainer</td>\n",
              "      <td>California</td>\n",
              "    </tr>\n",
              "    <tr>\n",
              "      <th>2</th>\n",
              "      <td>Mr D</td>\n",
              "      <td>45.0</td>\n",
              "      <td>Sales</td>\n",
              "      <td>VinID</td>\n",
              "    </tr>\n",
              "    <tr>\n",
              "      <th>3</th>\n",
              "      <td>NaN</td>\n",
              "      <td>NaN</td>\n",
              "      <td>Operation</td>\n",
              "      <td>VJC</td>\n",
              "    </tr>\n",
              "    <tr>\n",
              "      <th>4</th>\n",
              "      <td>NaN</td>\n",
              "      <td>NaN</td>\n",
              "      <td>Engineer</td>\n",
              "      <td>LG</td>\n",
              "    </tr>\n",
              "  </tbody>\n",
              "</table>\n",
              "</div>"
            ],
            "text/plain": [
              "  candidate_name   age    position     company\n",
              "0           Mr A  31.0  Accountant         ACB\n",
              "1           Ms C  27.0     Trainer  California\n",
              "2           Mr D  45.0       Sales       VinID\n",
              "3            NaN   NaN   Operation         VJC\n",
              "4            NaN   NaN    Engineer          LG"
            ]
          },
          "metadata": {
            "tags": []
          },
          "execution_count": 69
        }
      ]
    },
    {
      "cell_type": "markdown",
      "metadata": {
        "id": "qXyWGgpiRNUf",
        "colab_type": "text"
      },
      "source": [
        "### One-to-many join"
      ]
    },
    {
      "cell_type": "code",
      "metadata": {
        "id": "ejHTC8xWQ-ET",
        "colab_type": "code",
        "colab": {}
      },
      "source": [
        "candidates = pd.DataFrame(data = {\"candidate_name\": [\"Mr A\", \"Ms B\", \"Ms C\", \"Mr D\"], \n",
        "                               \"age\": [31, 22, 27, 45],\n",
        "                               \"position\": [\"Accountant\", \"Marketing\", \"Trainer\", \"Sales\"]}\n",
        "                       )\n",
        "\n",
        "jobs = pd.DataFrame(data = {\"company\": [\"ACB\", \"ACB\", \"VinID\", \"Masan\", \"Masan\", \"California\", \"VJC\", \"LG\", \"LG\"],\n",
        "                               \"position\": [\"Accountant\", \"Marketing\", \"Sales\", \"Data Analyst\", \"Marketing\", \"Trainer\", \"Operation\", \"Engineer\", \"Sales\"]})"
      ],
      "execution_count": null,
      "outputs": []
    },
    {
      "cell_type": "code",
      "metadata": {
        "id": "DBWfX6GQSL9k",
        "colab_type": "code",
        "colab": {
          "base_uri": "https://localhost:8080/",
          "height": 327
        },
        "outputId": "4e03966a-06b3-4528-d058-371583260207"
      },
      "source": [
        "# Full join\n",
        "pd.merge(candidates, jobs, on=\"position\", how=\"outer\", indicator=True)"
      ],
      "execution_count": null,
      "outputs": [
        {
          "output_type": "execute_result",
          "data": {
            "text/html": [
              "<div>\n",
              "<style scoped>\n",
              "    .dataframe tbody tr th:only-of-type {\n",
              "        vertical-align: middle;\n",
              "    }\n",
              "\n",
              "    .dataframe tbody tr th {\n",
              "        vertical-align: top;\n",
              "    }\n",
              "\n",
              "    .dataframe thead th {\n",
              "        text-align: right;\n",
              "    }\n",
              "</style>\n",
              "<table border=\"1\" class=\"dataframe\">\n",
              "  <thead>\n",
              "    <tr style=\"text-align: right;\">\n",
              "      <th></th>\n",
              "      <th>candidate_name</th>\n",
              "      <th>age</th>\n",
              "      <th>position</th>\n",
              "      <th>company</th>\n",
              "      <th>_merge</th>\n",
              "    </tr>\n",
              "  </thead>\n",
              "  <tbody>\n",
              "    <tr>\n",
              "      <th>0</th>\n",
              "      <td>Mr A</td>\n",
              "      <td>31.0</td>\n",
              "      <td>Accountant</td>\n",
              "      <td>ACB</td>\n",
              "      <td>both</td>\n",
              "    </tr>\n",
              "    <tr>\n",
              "      <th>1</th>\n",
              "      <td>Ms B</td>\n",
              "      <td>22.0</td>\n",
              "      <td>Marketing</td>\n",
              "      <td>ACB</td>\n",
              "      <td>both</td>\n",
              "    </tr>\n",
              "    <tr>\n",
              "      <th>2</th>\n",
              "      <td>Ms B</td>\n",
              "      <td>22.0</td>\n",
              "      <td>Marketing</td>\n",
              "      <td>Masan</td>\n",
              "      <td>both</td>\n",
              "    </tr>\n",
              "    <tr>\n",
              "      <th>3</th>\n",
              "      <td>Ms C</td>\n",
              "      <td>27.0</td>\n",
              "      <td>Trainer</td>\n",
              "      <td>California</td>\n",
              "      <td>both</td>\n",
              "    </tr>\n",
              "    <tr>\n",
              "      <th>4</th>\n",
              "      <td>Mr D</td>\n",
              "      <td>45.0</td>\n",
              "      <td>Sales</td>\n",
              "      <td>VinID</td>\n",
              "      <td>both</td>\n",
              "    </tr>\n",
              "    <tr>\n",
              "      <th>5</th>\n",
              "      <td>Mr D</td>\n",
              "      <td>45.0</td>\n",
              "      <td>Sales</td>\n",
              "      <td>LG</td>\n",
              "      <td>both</td>\n",
              "    </tr>\n",
              "    <tr>\n",
              "      <th>6</th>\n",
              "      <td>NaN</td>\n",
              "      <td>NaN</td>\n",
              "      <td>Data Analyst</td>\n",
              "      <td>Masan</td>\n",
              "      <td>right_only</td>\n",
              "    </tr>\n",
              "    <tr>\n",
              "      <th>7</th>\n",
              "      <td>NaN</td>\n",
              "      <td>NaN</td>\n",
              "      <td>Operation</td>\n",
              "      <td>VJC</td>\n",
              "      <td>right_only</td>\n",
              "    </tr>\n",
              "    <tr>\n",
              "      <th>8</th>\n",
              "      <td>NaN</td>\n",
              "      <td>NaN</td>\n",
              "      <td>Engineer</td>\n",
              "      <td>LG</td>\n",
              "      <td>right_only</td>\n",
              "    </tr>\n",
              "  </tbody>\n",
              "</table>\n",
              "</div>"
            ],
            "text/plain": [
              "  candidate_name   age      position     company      _merge\n",
              "0           Mr A  31.0    Accountant         ACB        both\n",
              "1           Ms B  22.0     Marketing         ACB        both\n",
              "2           Ms B  22.0     Marketing       Masan        both\n",
              "3           Ms C  27.0       Trainer  California        both\n",
              "4           Mr D  45.0         Sales       VinID        both\n",
              "5           Mr D  45.0         Sales          LG        both\n",
              "6            NaN   NaN  Data Analyst       Masan  right_only\n",
              "7            NaN   NaN     Operation         VJC  right_only\n",
              "8            NaN   NaN      Engineer          LG  right_only"
            ]
          },
          "metadata": {
            "tags": []
          },
          "execution_count": 9
        }
      ]
    },
    {
      "cell_type": "markdown",
      "metadata": {
        "id": "wTvEbZ_yRQnF",
        "colab_type": "text"
      },
      "source": [
        "### Many-to-many join"
      ]
    },
    {
      "cell_type": "code",
      "metadata": {
        "id": "aFkTxKXJRTjt",
        "colab_type": "code",
        "colab": {}
      },
      "source": [
        "candidates = pd.DataFrame(data = {\"candidate_name\": [\"Mr A\", \"Ms B\", \"Ms C\", \"Mr D\", \"Mr A\", \"Ms E\", \"Dr G\"], \n",
        "                               \"age\": [31, 22, 27, 45, 31, 21, 35],\n",
        "                               \"position\": [\"Accountant\", \"Marketing\", \"Trainer\", \"Sales\", \"Data Analyst\", \"Marketing\", \"Sales\"]}\n",
        "                       )\n",
        "\n",
        "jobs = pd.DataFrame(data = {\"company\": [\"ACB\", \"ACB\", \"VinID\", \"Masan\", \"Masan\", \"California\", \"VJC\", \"LG\", \"LG\"],\n",
        "                               \"position\": [\"Accountant\", \"Marketing\", \"Sales\", \"Data Analyst\", \"Marketing\", \"Trainer\", \"Operation\", \"Engineer\", \"Sales\"]})"
      ],
      "execution_count": null,
      "outputs": []
    },
    {
      "cell_type": "code",
      "metadata": {
        "id": "BKP_WHzuR2l2",
        "colab_type": "code",
        "colab": {
          "base_uri": "https://localhost:8080/",
          "height": 234
        },
        "outputId": "64206268-0241-499b-c6ae-f19f2015bf34"
      },
      "source": [
        "# Full join\n",
        "pd.merge(candidates, jobs, on=\"position\", how=\"outer\")"
      ],
      "execution_count": null,
      "outputs": [
        {
          "output_type": "execute_result",
          "data": {
            "text/html": [
              "<div>\n",
              "<style scoped>\n",
              "    .dataframe tbody tr th:only-of-type {\n",
              "        vertical-align: middle;\n",
              "    }\n",
              "\n",
              "    .dataframe tbody tr th {\n",
              "        vertical-align: top;\n",
              "    }\n",
              "\n",
              "    .dataframe thead th {\n",
              "        text-align: right;\n",
              "    }\n",
              "</style>\n",
              "<table border=\"1\" class=\"dataframe\">\n",
              "  <thead>\n",
              "    <tr style=\"text-align: right;\">\n",
              "      <th></th>\n",
              "      <th>candidate_name</th>\n",
              "      <th>age</th>\n",
              "      <th>position</th>\n",
              "      <th>company</th>\n",
              "    </tr>\n",
              "  </thead>\n",
              "  <tbody>\n",
              "    <tr>\n",
              "      <th>0</th>\n",
              "      <td>Mr A</td>\n",
              "      <td>31.0</td>\n",
              "      <td>Accountant</td>\n",
              "      <td>ACB</td>\n",
              "    </tr>\n",
              "    <tr>\n",
              "      <th>1</th>\n",
              "      <td>Ms B</td>\n",
              "      <td>22.0</td>\n",
              "      <td>Marketing</td>\n",
              "      <td>NaN</td>\n",
              "    </tr>\n",
              "    <tr>\n",
              "      <th>2</th>\n",
              "      <td>Ms C</td>\n",
              "      <td>27.0</td>\n",
              "      <td>Trainer</td>\n",
              "      <td>California</td>\n",
              "    </tr>\n",
              "    <tr>\n",
              "      <th>3</th>\n",
              "      <td>Mr D</td>\n",
              "      <td>45.0</td>\n",
              "      <td>Sales</td>\n",
              "      <td>VinID</td>\n",
              "    </tr>\n",
              "    <tr>\n",
              "      <th>4</th>\n",
              "      <td>NaN</td>\n",
              "      <td>NaN</td>\n",
              "      <td>Operation</td>\n",
              "      <td>VJC</td>\n",
              "    </tr>\n",
              "    <tr>\n",
              "      <th>5</th>\n",
              "      <td>NaN</td>\n",
              "      <td>NaN</td>\n",
              "      <td>Engineer</td>\n",
              "      <td>LG</td>\n",
              "    </tr>\n",
              "  </tbody>\n",
              "</table>\n",
              "</div>"
            ],
            "text/plain": [
              "  candidate_name   age    position     company\n",
              "0           Mr A  31.0  Accountant         ACB\n",
              "1           Ms B  22.0   Marketing         NaN\n",
              "2           Ms C  27.0     Trainer  California\n",
              "3           Mr D  45.0       Sales       VinID\n",
              "4            NaN   NaN   Operation         VJC\n",
              "5            NaN   NaN    Engineer          LG"
            ]
          },
          "metadata": {
            "tags": []
          },
          "execution_count": 7
        }
      ]
    },
    {
      "cell_type": "code",
      "metadata": {
        "id": "GyKOtxORQM5y",
        "colab_type": "code",
        "colab": {
          "base_uri": "https://localhost:8080/",
          "height": 450
        },
        "outputId": "f10f73e6-505e-4b1a-8d2b-0cb7c7b5882f"
      },
      "source": [
        "# Full join\n",
        "pd.merge(candidates, jobs, on=\"position\", how=\"outer\", indicator=True).sort_values(\"company\")"
      ],
      "execution_count": null,
      "outputs": [
        {
          "output_type": "execute_result",
          "data": {
            "text/html": [
              "<div>\n",
              "<style scoped>\n",
              "    .dataframe tbody tr th:only-of-type {\n",
              "        vertical-align: middle;\n",
              "    }\n",
              "\n",
              "    .dataframe tbody tr th {\n",
              "        vertical-align: top;\n",
              "    }\n",
              "\n",
              "    .dataframe thead th {\n",
              "        text-align: right;\n",
              "    }\n",
              "</style>\n",
              "<table border=\"1\" class=\"dataframe\">\n",
              "  <thead>\n",
              "    <tr style=\"text-align: right;\">\n",
              "      <th></th>\n",
              "      <th>candidate_name</th>\n",
              "      <th>age</th>\n",
              "      <th>position</th>\n",
              "      <th>company</th>\n",
              "      <th>_merge</th>\n",
              "    </tr>\n",
              "  </thead>\n",
              "  <tbody>\n",
              "    <tr>\n",
              "      <th>0</th>\n",
              "      <td>Mr A</td>\n",
              "      <td>31.0</td>\n",
              "      <td>Accountant</td>\n",
              "      <td>ACB</td>\n",
              "      <td>both</td>\n",
              "    </tr>\n",
              "    <tr>\n",
              "      <th>1</th>\n",
              "      <td>Ms B</td>\n",
              "      <td>22.0</td>\n",
              "      <td>Marketing</td>\n",
              "      <td>ACB</td>\n",
              "      <td>both</td>\n",
              "    </tr>\n",
              "    <tr>\n",
              "      <th>3</th>\n",
              "      <td>Ms E</td>\n",
              "      <td>21.0</td>\n",
              "      <td>Marketing</td>\n",
              "      <td>ACB</td>\n",
              "      <td>both</td>\n",
              "    </tr>\n",
              "    <tr>\n",
              "      <th>5</th>\n",
              "      <td>Ms C</td>\n",
              "      <td>27.0</td>\n",
              "      <td>Trainer</td>\n",
              "      <td>California</td>\n",
              "      <td>both</td>\n",
              "    </tr>\n",
              "    <tr>\n",
              "      <th>7</th>\n",
              "      <td>Mr D</td>\n",
              "      <td>45.0</td>\n",
              "      <td>Sales</td>\n",
              "      <td>LG</td>\n",
              "      <td>both</td>\n",
              "    </tr>\n",
              "    <tr>\n",
              "      <th>9</th>\n",
              "      <td>Dr G</td>\n",
              "      <td>35.0</td>\n",
              "      <td>Sales</td>\n",
              "      <td>LG</td>\n",
              "      <td>both</td>\n",
              "    </tr>\n",
              "    <tr>\n",
              "      <th>12</th>\n",
              "      <td>NaN</td>\n",
              "      <td>NaN</td>\n",
              "      <td>Engineer</td>\n",
              "      <td>LG</td>\n",
              "      <td>right_only</td>\n",
              "    </tr>\n",
              "    <tr>\n",
              "      <th>2</th>\n",
              "      <td>Ms B</td>\n",
              "      <td>22.0</td>\n",
              "      <td>Marketing</td>\n",
              "      <td>Masan</td>\n",
              "      <td>both</td>\n",
              "    </tr>\n",
              "    <tr>\n",
              "      <th>4</th>\n",
              "      <td>Ms E</td>\n",
              "      <td>21.0</td>\n",
              "      <td>Marketing</td>\n",
              "      <td>Masan</td>\n",
              "      <td>both</td>\n",
              "    </tr>\n",
              "    <tr>\n",
              "      <th>10</th>\n",
              "      <td>Mr A</td>\n",
              "      <td>31.0</td>\n",
              "      <td>Data Analyst</td>\n",
              "      <td>Masan</td>\n",
              "      <td>both</td>\n",
              "    </tr>\n",
              "    <tr>\n",
              "      <th>11</th>\n",
              "      <td>NaN</td>\n",
              "      <td>NaN</td>\n",
              "      <td>Operation</td>\n",
              "      <td>VJC</td>\n",
              "      <td>right_only</td>\n",
              "    </tr>\n",
              "    <tr>\n",
              "      <th>6</th>\n",
              "      <td>Mr D</td>\n",
              "      <td>45.0</td>\n",
              "      <td>Sales</td>\n",
              "      <td>VinID</td>\n",
              "      <td>both</td>\n",
              "    </tr>\n",
              "    <tr>\n",
              "      <th>8</th>\n",
              "      <td>Dr G</td>\n",
              "      <td>35.0</td>\n",
              "      <td>Sales</td>\n",
              "      <td>VinID</td>\n",
              "      <td>both</td>\n",
              "    </tr>\n",
              "  </tbody>\n",
              "</table>\n",
              "</div>"
            ],
            "text/plain": [
              "   candidate_name   age      position     company      _merge\n",
              "0            Mr A  31.0    Accountant         ACB        both\n",
              "1            Ms B  22.0     Marketing         ACB        both\n",
              "3            Ms E  21.0     Marketing         ACB        both\n",
              "5            Ms C  27.0       Trainer  California        both\n",
              "7            Mr D  45.0         Sales          LG        both\n",
              "9            Dr G  35.0         Sales          LG        both\n",
              "12            NaN   NaN      Engineer          LG  right_only\n",
              "2            Ms B  22.0     Marketing       Masan        both\n",
              "4            Ms E  21.0     Marketing       Masan        both\n",
              "10           Mr A  31.0  Data Analyst       Masan        both\n",
              "11            NaN   NaN     Operation         VJC  right_only\n",
              "6            Mr D  45.0         Sales       VinID        both\n",
              "8            Dr G  35.0         Sales       VinID        both"
            ]
          },
          "metadata": {
            "tags": []
          },
          "execution_count": 11
        }
      ]
    },
    {
      "cell_type": "markdown",
      "metadata": {
        "id": "UtZNXd9CI6Va",
        "colab_type": "text"
      },
      "source": [
        "## Try joining the orders and the order_items datasets together using 4 different types of join we have covered. How many rows do we have in the result table for each type of join?"
      ]
    },
    {
      "cell_type": "markdown",
      "metadata": {
        "id": "P5Ya6N8C12PK",
        "colab_type": "text"
      },
      "source": [
        "### Joining using merge function of pandas library"
      ]
    },
    {
      "cell_type": "code",
      "metadata": {
        "id": "KqsCapblLHE-",
        "colab_type": "code",
        "colab": {
          "base_uri": "https://localhost:8080/",
          "height": 34
        },
        "outputId": "48e79621-99e1-41d9-c076-9311ce19e8ab"
      },
      "source": [
        "full_join = pd.merge(orders, order_items, on=\"order_id\", how=\"outer\")\n",
        "print(full_join.shape)"
      ],
      "execution_count": null,
      "outputs": [
        {
          "output_type": "stream",
          "text": [
            "(113425, 14)\n"
          ],
          "name": "stdout"
        }
      ]
    },
    {
      "cell_type": "code",
      "metadata": {
        "id": "gZL8GPkX2Z_5",
        "colab_type": "code",
        "colab": {
          "base_uri": "https://localhost:8080/",
          "height": 34
        },
        "outputId": "f1ccd5a6-9d06-4c0d-f89e-692e7ccee093"
      },
      "source": [
        "left_join = pd.merge(orders, order_items, on=\"order_id\", how=\"left\")\n",
        "print(left_join.shape)"
      ],
      "execution_count": null,
      "outputs": [
        {
          "output_type": "stream",
          "text": [
            "(113425, 14)\n"
          ],
          "name": "stdout"
        }
      ]
    },
    {
      "cell_type": "code",
      "metadata": {
        "id": "0lFtyLFL2hZr",
        "colab_type": "code",
        "colab": {
          "base_uri": "https://localhost:8080/",
          "height": 34
        },
        "outputId": "f85ebeeb-4b5a-4bd2-93fe-0e48dc021950"
      },
      "source": [
        "right_join = pd.merge(orders, order_items, on=\"order_id\", how=\"right\")\n",
        "print(right_join.shape)"
      ],
      "execution_count": null,
      "outputs": [
        {
          "output_type": "stream",
          "text": [
            "(112650, 14)\n"
          ],
          "name": "stdout"
        }
      ]
    },
    {
      "cell_type": "code",
      "metadata": {
        "id": "U_Jo6diR2u2x",
        "colab_type": "code",
        "colab": {
          "base_uri": "https://localhost:8080/",
          "height": 34
        },
        "outputId": "38d6c86f-ed58-488e-bfff-432d172ccf44"
      },
      "source": [
        "inner_join = pd.merge(orders, order_items, left_on=\"order_id\", right_on=\"order_id\", how=\"inner\")\n",
        "print(inner_join.shape)"
      ],
      "execution_count": null,
      "outputs": [
        {
          "output_type": "stream",
          "text": [
            "(112650, 14)\n"
          ],
          "name": "stdout"
        }
      ]
    },
    {
      "cell_type": "markdown",
      "metadata": {
        "id": "OOP8tREP1yNK",
        "colab_type": "text"
      },
      "source": [
        "### Joining using join function of pandas"
      ]
    },
    {
      "cell_type": "code",
      "metadata": {
        "id": "cOio_Gih0Dib",
        "colab_type": "code",
        "colab": {
          "base_uri": "https://localhost:8080/",
          "height": 34
        },
        "outputId": "cbafcb47-28bb-4677-aa00-fee73457bfd4"
      },
      "source": [
        "# Full join\n",
        "\n",
        "full_join = orders.join(order_items.set_index(\"order_id\"), on=\"order_id\", how=\"outer\")\n",
        "print(full_join.shape)"
      ],
      "execution_count": null,
      "outputs": [
        {
          "output_type": "stream",
          "text": [
            "(113425, 14)\n"
          ],
          "name": "stdout"
        }
      ]
    },
    {
      "cell_type": "code",
      "metadata": {
        "id": "12BBbwzAJAzT",
        "colab_type": "code",
        "colab": {
          "base_uri": "https://localhost:8080/",
          "height": 34
        },
        "outputId": "9edfb725-9cbe-4dfb-fe9c-475619eba2a7"
      },
      "source": [
        "# Left join\n",
        "\n",
        "left_join = orders.join(order_items.set_index(\"order_id\"), on=\"order_id\", how=\"left\")\n",
        "print(left_join.shape)"
      ],
      "execution_count": null,
      "outputs": [
        {
          "output_type": "stream",
          "text": [
            "(113425, 14)\n"
          ],
          "name": "stdout"
        }
      ]
    },
    {
      "cell_type": "code",
      "metadata": {
        "id": "maS1aWVZ0mXV",
        "colab_type": "code",
        "colab": {
          "base_uri": "https://localhost:8080/",
          "height": 34
        },
        "outputId": "a737ee81-b3c9-4ca0-9bba-8b9d6e63253d"
      },
      "source": [
        "# Right join\n",
        "\n",
        "right_join = orders.join(order_items.set_index(\"order_id\"), on=\"order_id\", how=\"right\")\n",
        "print(right_join.shape)"
      ],
      "execution_count": null,
      "outputs": [
        {
          "output_type": "stream",
          "text": [
            "(112650, 14)\n"
          ],
          "name": "stdout"
        }
      ]
    },
    {
      "cell_type": "code",
      "metadata": {
        "id": "bcmTj8fM0eQa",
        "colab_type": "code",
        "colab": {
          "base_uri": "https://localhost:8080/",
          "height": 34
        },
        "outputId": "25611d09-ff3b-4651-837f-a8e03108123d"
      },
      "source": [
        "# Inner join\n",
        "\n",
        "inner_join = orders.join(order_items.set_index(\"order_id\"), on=\"order_id\", how=\"inner\")\n",
        "print(inner_join.shape)"
      ],
      "execution_count": null,
      "outputs": [
        {
          "output_type": "stream",
          "text": [
            "(112650, 14)\n"
          ],
          "name": "stdout"
        }
      ]
    },
    {
      "cell_type": "markdown",
      "metadata": {
        "id": "9fRL6oJI3lND",
        "colab_type": "text"
      },
      "source": [
        "### References:\n",
        "1. Comparison between join and merge: https://pandas.pydata.org/docs/user_guide/merging.html\n",
        "1. Examples of using merge with additional parameters: https://www.analyticsvidhya.com/blog/2020/02/joins-in-pandas-master-the-different-types-of-joins-in-python/\n"
      ]
    }
  ]
}