{
  "nbformat": 4,
  "nbformat_minor": 0,
  "metadata": {
    "colab": {
      "name": "[Students] Lecture 4 - Data Visualization.ipynb",
      "provenance": [],
      "collapsed_sections": [],
      "toc_visible": true,
      "include_colab_link": true
    },
    "kernelspec": {
      "name": "python3",
      "display_name": "Python 3"
    }
  },
  "cells": [
    {
      "cell_type": "markdown",
      "metadata": {
        "id": "view-in-github",
        "colab_type": "text"
      },
      "source": [
        "<a href=\"https://colab.research.google.com/github/Mai-Binh-Nam/Hand-on_DataAnalysisVEF/blob/master/%5BStudents%5D_Lecture_4_Data_Visualization.ipynb\" target=\"_parent\"><img src=\"https://colab.research.google.com/assets/colab-badge.svg\" alt=\"Open In Colab\"/></a>"
      ]
    },
    {
      "cell_type": "markdown",
      "metadata": {
        "id": "DStPKNo1JFrE",
        "colab_type": "text"
      },
      "source": [
        "# Visualization and Preliminary analysis of Seller onboarding process"
      ]
    },
    {
      "cell_type": "code",
      "metadata": {
        "id": "UXC4nDV7I3xh",
        "colab_type": "code",
        "colab": {
          "base_uri": "https://localhost:8080/",
          "height": 72
        },
        "outputId": "47375011-5d91-4d06-92af-45007f96db5f"
      },
      "source": [
        "import numpy as np\n",
        "import pandas as pd\n",
        "import datetime as dt\n",
        "\n",
        "import matplotlib.pyplot as plt\n",
        "import seaborn as sns\n",
        "# Option to specify the default size of plots by seaborn\n",
        "sns.set(rc={'figure.figsize':(11.7,8.27)})"
      ],
      "execution_count": null,
      "outputs": [
        {
          "output_type": "stream",
          "text": [
            "/usr/local/lib/python3.6/dist-packages/statsmodels/tools/_testing.py:19: FutureWarning: pandas.util.testing is deprecated. Use the functions in the public API at pandas.testing instead.\n",
            "  import pandas.util.testing as tm\n"
          ],
          "name": "stderr"
        }
      ]
    },
    {
      "cell_type": "code",
      "metadata": {
        "id": "h6VxXUBXJEtG",
        "colab_type": "code",
        "colab": {}
      },
      "source": [
        "# Orders\n",
        "orders = pd.read_csv('https://raw.githubusercontent.com/thuynh386/olist_ecommerce_dataset/master/olist_orders_dataset.csv')\n",
        "order_items = pd.read_csv('https://raw.githubusercontent.com/thuynh386/olist_ecommerce_dataset/master/olist_order_items_dataset.csv')\n",
        "order_reviews = pd.read_csv('https://raw.githubusercontent.com/thuynh386/olist_ecommerce_dataset/master/olist_order_reviews_dataset.csv')\n",
        "order_payments = pd.read_csv('https://raw.githubusercontent.com/thuynh386/olist_ecommerce_dataset/master/olist_order_payments_dataset.csv')\n",
        "\n",
        "# Customers and Sellers\n",
        "customers = pd.read_csv('https://raw.githubusercontent.com/thuynh386/olist_ecommerce_dataset/master/olist_customers_dataset.csv')\n",
        "sellers = pd.read_csv('https://raw.githubusercontent.com/thuynh386/olist_ecommerce_dataset/master/olist_sellers_dataset.csv')\n",
        "\n",
        "# Products and Categories\n",
        "products = pd.read_csv('https://raw.githubusercontent.com/thuynh386/olist_ecommerce_dataset/master/olist_products_dataset.csv')\n",
        "product_translation = pd.read_csv('https://raw.githubusercontent.com/thuynh386/olist_ecommerce_dataset/master/product_category_name_translation.csv')"
      ],
      "execution_count": null,
      "outputs": []
    },
    {
      "cell_type": "code",
      "metadata": {
        "id": "n3abfLueTF56",
        "colab_type": "code",
        "colab": {
          "base_uri": "https://localhost:8080/",
          "height": 739
        },
        "outputId": "5129bba1-1d53-4656-89c0-ca5ed954f686"
      },
      "source": [
        "order_items.groupby(\"order_item_id\").agg(min=(\"price\",\"min\"),\n",
        "                                         mean=(\"price\",\"mean\"),\n",
        "                                         max=(\"price\",\"max\"),\n",
        "                                         mod=(\"price\",\n",
        "                                        lambda x: x.value_counts().index[0]))"
      ],
      "execution_count": null,
      "outputs": [
        {
          "output_type": "execute_result",
          "data": {
            "text/html": [
              "<div>\n",
              "<style scoped>\n",
              "    .dataframe tbody tr th:only-of-type {\n",
              "        vertical-align: middle;\n",
              "    }\n",
              "\n",
              "    .dataframe tbody tr th {\n",
              "        vertical-align: top;\n",
              "    }\n",
              "\n",
              "    .dataframe thead th {\n",
              "        text-align: right;\n",
              "    }\n",
              "</style>\n",
              "<table border=\"1\" class=\"dataframe\">\n",
              "  <thead>\n",
              "    <tr style=\"text-align: right;\">\n",
              "      <th></th>\n",
              "      <th>min</th>\n",
              "      <th>mean</th>\n",
              "      <th>max</th>\n",
              "      <th>mod</th>\n",
              "    </tr>\n",
              "    <tr>\n",
              "      <th>order_item_id</th>\n",
              "      <th></th>\n",
              "      <th></th>\n",
              "      <th></th>\n",
              "      <th></th>\n",
              "    </tr>\n",
              "  </thead>\n",
              "  <tbody>\n",
              "    <tr>\n",
              "      <th>1</th>\n",
              "      <td>0.85</td>\n",
              "      <td>125.964327</td>\n",
              "      <td>6735.00</td>\n",
              "      <td>59.90</td>\n",
              "    </tr>\n",
              "    <tr>\n",
              "      <th>2</th>\n",
              "      <td>0.85</td>\n",
              "      <td>85.456052</td>\n",
              "      <td>2299.95</td>\n",
              "      <td>59.90</td>\n",
              "    </tr>\n",
              "    <tr>\n",
              "      <th>3</th>\n",
              "      <td>1.20</td>\n",
              "      <td>78.004534</td>\n",
              "      <td>1790.00</td>\n",
              "      <td>59.90</td>\n",
              "    </tr>\n",
              "    <tr>\n",
              "      <th>4</th>\n",
              "      <td>1.20</td>\n",
              "      <td>77.243161</td>\n",
              "      <td>1790.00</td>\n",
              "      <td>59.90</td>\n",
              "    </tr>\n",
              "    <tr>\n",
              "      <th>5</th>\n",
              "      <td>1.20</td>\n",
              "      <td>75.561978</td>\n",
              "      <td>1680.00</td>\n",
              "      <td>59.90</td>\n",
              "    </tr>\n",
              "    <tr>\n",
              "      <th>6</th>\n",
              "      <td>1.20</td>\n",
              "      <td>76.165508</td>\n",
              "      <td>1680.00</td>\n",
              "      <td>59.90</td>\n",
              "    </tr>\n",
              "    <tr>\n",
              "      <th>7</th>\n",
              "      <td>1.20</td>\n",
              "      <td>100.711897</td>\n",
              "      <td>1680.00</td>\n",
              "      <td>59.90</td>\n",
              "    </tr>\n",
              "    <tr>\n",
              "      <th>8</th>\n",
              "      <td>1.20</td>\n",
              "      <td>120.766944</td>\n",
              "      <td>1680.00</td>\n",
              "      <td>29.99</td>\n",
              "    </tr>\n",
              "    <tr>\n",
              "      <th>9</th>\n",
              "      <td>1.20</td>\n",
              "      <td>80.356071</td>\n",
              "      <td>284.99</td>\n",
              "      <td>29.99</td>\n",
              "    </tr>\n",
              "    <tr>\n",
              "      <th>10</th>\n",
              "      <td>1.20</td>\n",
              "      <td>81.569200</td>\n",
              "      <td>284.99</td>\n",
              "      <td>29.99</td>\n",
              "    </tr>\n",
              "    <tr>\n",
              "      <th>11</th>\n",
              "      <td>1.20</td>\n",
              "      <td>60.147059</td>\n",
              "      <td>179.99</td>\n",
              "      <td>29.99</td>\n",
              "    </tr>\n",
              "    <tr>\n",
              "      <th>12</th>\n",
              "      <td>1.20</td>\n",
              "      <td>51.059231</td>\n",
              "      <td>108.00</td>\n",
              "      <td>29.99</td>\n",
              "    </tr>\n",
              "    <tr>\n",
              "      <th>13</th>\n",
              "      <td>1.20</td>\n",
              "      <td>54.421250</td>\n",
              "      <td>100.00</td>\n",
              "      <td>29.99</td>\n",
              "    </tr>\n",
              "    <tr>\n",
              "      <th>14</th>\n",
              "      <td>1.20</td>\n",
              "      <td>57.911429</td>\n",
              "      <td>100.00</td>\n",
              "      <td>98.70</td>\n",
              "    </tr>\n",
              "    <tr>\n",
              "      <th>15</th>\n",
              "      <td>1.20</td>\n",
              "      <td>63.278000</td>\n",
              "      <td>100.00</td>\n",
              "      <td>98.70</td>\n",
              "    </tr>\n",
              "    <tr>\n",
              "      <th>16</th>\n",
              "      <td>1.20</td>\n",
              "      <td>66.633333</td>\n",
              "      <td>100.00</td>\n",
              "      <td>98.70</td>\n",
              "    </tr>\n",
              "    <tr>\n",
              "      <th>17</th>\n",
              "      <td>1.20</td>\n",
              "      <td>66.633333</td>\n",
              "      <td>100.00</td>\n",
              "      <td>98.70</td>\n",
              "    </tr>\n",
              "    <tr>\n",
              "      <th>18</th>\n",
              "      <td>1.20</td>\n",
              "      <td>66.633333</td>\n",
              "      <td>100.00</td>\n",
              "      <td>98.70</td>\n",
              "    </tr>\n",
              "    <tr>\n",
              "      <th>19</th>\n",
              "      <td>1.20</td>\n",
              "      <td>66.633333</td>\n",
              "      <td>100.00</td>\n",
              "      <td>98.70</td>\n",
              "    </tr>\n",
              "    <tr>\n",
              "      <th>20</th>\n",
              "      <td>1.20</td>\n",
              "      <td>66.633333</td>\n",
              "      <td>100.00</td>\n",
              "      <td>98.70</td>\n",
              "    </tr>\n",
              "    <tr>\n",
              "      <th>21</th>\n",
              "      <td>7.80</td>\n",
              "      <td>7.800000</td>\n",
              "      <td>7.80</td>\n",
              "      <td>7.80</td>\n",
              "    </tr>\n",
              "  </tbody>\n",
              "</table>\n",
              "</div>"
            ],
            "text/plain": [
              "                min        mean      max    mod\n",
              "order_item_id                                  \n",
              "1              0.85  125.964327  6735.00  59.90\n",
              "2              0.85   85.456052  2299.95  59.90\n",
              "3              1.20   78.004534  1790.00  59.90\n",
              "4              1.20   77.243161  1790.00  59.90\n",
              "5              1.20   75.561978  1680.00  59.90\n",
              "6              1.20   76.165508  1680.00  59.90\n",
              "7              1.20  100.711897  1680.00  59.90\n",
              "8              1.20  120.766944  1680.00  29.99\n",
              "9              1.20   80.356071   284.99  29.99\n",
              "10             1.20   81.569200   284.99  29.99\n",
              "11             1.20   60.147059   179.99  29.99\n",
              "12             1.20   51.059231   108.00  29.99\n",
              "13             1.20   54.421250   100.00  29.99\n",
              "14             1.20   57.911429   100.00  98.70\n",
              "15             1.20   63.278000   100.00  98.70\n",
              "16             1.20   66.633333   100.00  98.70\n",
              "17             1.20   66.633333   100.00  98.70\n",
              "18             1.20   66.633333   100.00  98.70\n",
              "19             1.20   66.633333   100.00  98.70\n",
              "20             1.20   66.633333   100.00  98.70\n",
              "21             7.80    7.800000     7.80   7.80"
            ]
          },
          "metadata": {
            "tags": []
          },
          "execution_count": 3
        }
      ]
    },
    {
      "cell_type": "markdown",
      "metadata": {
        "id": "Deki5TdhWMqr",
        "colab_type": "text"
      },
      "source": [
        "## Evaluate the deal closing process"
      ]
    },
    {
      "cell_type": "code",
      "metadata": {
        "id": "tGxkvxO7WBJ_",
        "colab_type": "code",
        "colab": {}
      },
      "source": [
        "# Marketing Funnel dataset\n",
        "qualified_leads = pd.read_csv('https://raw.githubusercontent.com/thuynh386/olist_ecommerce_dataset/master/olist_marketing_qualified_leads_dataset.csv')\n",
        "closed_deals = pd.read_csv('https://raw.githubusercontent.com/thuynh386/olist_ecommerce_dataset/master/olist_closed_deals_dataset.csv')"
      ],
      "execution_count": null,
      "outputs": []
    },
    {
      "cell_type": "code",
      "metadata": {
        "id": "iyMfvbtqWQKc",
        "colab_type": "code",
        "colab": {}
      },
      "source": [
        "onboard_sellers = pd.merge(qualified_leads, closed_deals, on=\"mql_id\", how=\"left\")"
      ],
      "execution_count": null,
      "outputs": []
    },
    {
      "cell_type": "code",
      "metadata": {
        "id": "V5jRCyLLWZnT",
        "colab_type": "code",
        "colab": {
          "base_uri": "https://localhost:8080/",
          "height": 244
        },
        "outputId": "422374f5-fcc0-4b17-9c6c-b6fcd7672521"
      },
      "source": [
        "onboard_sellers.head()"
      ],
      "execution_count": null,
      "outputs": [
        {
          "output_type": "execute_result",
          "data": {
            "text/html": [
              "<div>\n",
              "<style scoped>\n",
              "    .dataframe tbody tr th:only-of-type {\n",
              "        vertical-align: middle;\n",
              "    }\n",
              "\n",
              "    .dataframe tbody tr th {\n",
              "        vertical-align: top;\n",
              "    }\n",
              "\n",
              "    .dataframe thead th {\n",
              "        text-align: right;\n",
              "    }\n",
              "</style>\n",
              "<table border=\"1\" class=\"dataframe\">\n",
              "  <thead>\n",
              "    <tr style=\"text-align: right;\">\n",
              "      <th></th>\n",
              "      <th>mql_id</th>\n",
              "      <th>first_contact_date</th>\n",
              "      <th>landing_page_id</th>\n",
              "      <th>origin</th>\n",
              "      <th>seller_id</th>\n",
              "      <th>sdr_id</th>\n",
              "      <th>sr_id</th>\n",
              "      <th>won_date</th>\n",
              "      <th>business_segment</th>\n",
              "      <th>lead_type</th>\n",
              "      <th>lead_behaviour_profile</th>\n",
              "      <th>has_company</th>\n",
              "      <th>has_gtin</th>\n",
              "      <th>average_stock</th>\n",
              "      <th>business_type</th>\n",
              "      <th>declared_product_catalog_size</th>\n",
              "      <th>declared_monthly_revenue</th>\n",
              "    </tr>\n",
              "  </thead>\n",
              "  <tbody>\n",
              "    <tr>\n",
              "      <th>0</th>\n",
              "      <td>dac32acd4db4c29c230538b72f8dd87d</td>\n",
              "      <td>2018-02-01</td>\n",
              "      <td>88740e65d5d6b056e0cda098e1ea6313</td>\n",
              "      <td>social</td>\n",
              "      <td>NaN</td>\n",
              "      <td>NaN</td>\n",
              "      <td>NaN</td>\n",
              "      <td>NaN</td>\n",
              "      <td>NaN</td>\n",
              "      <td>NaN</td>\n",
              "      <td>NaN</td>\n",
              "      <td>NaN</td>\n",
              "      <td>NaN</td>\n",
              "      <td>NaN</td>\n",
              "      <td>NaN</td>\n",
              "      <td>NaN</td>\n",
              "      <td>NaN</td>\n",
              "    </tr>\n",
              "    <tr>\n",
              "      <th>1</th>\n",
              "      <td>8c18d1de7f67e60dbd64e3c07d7e9d5d</td>\n",
              "      <td>2017-10-20</td>\n",
              "      <td>007f9098284a86ee80ddeb25d53e0af8</td>\n",
              "      <td>paid_search</td>\n",
              "      <td>NaN</td>\n",
              "      <td>NaN</td>\n",
              "      <td>NaN</td>\n",
              "      <td>NaN</td>\n",
              "      <td>NaN</td>\n",
              "      <td>NaN</td>\n",
              "      <td>NaN</td>\n",
              "      <td>NaN</td>\n",
              "      <td>NaN</td>\n",
              "      <td>NaN</td>\n",
              "      <td>NaN</td>\n",
              "      <td>NaN</td>\n",
              "      <td>NaN</td>\n",
              "    </tr>\n",
              "    <tr>\n",
              "      <th>2</th>\n",
              "      <td>b4bc852d233dfefc5131f593b538befa</td>\n",
              "      <td>2018-03-22</td>\n",
              "      <td>a7982125ff7aa3b2054c6e44f9d28522</td>\n",
              "      <td>organic_search</td>\n",
              "      <td>NaN</td>\n",
              "      <td>NaN</td>\n",
              "      <td>NaN</td>\n",
              "      <td>NaN</td>\n",
              "      <td>NaN</td>\n",
              "      <td>NaN</td>\n",
              "      <td>NaN</td>\n",
              "      <td>NaN</td>\n",
              "      <td>NaN</td>\n",
              "      <td>NaN</td>\n",
              "      <td>NaN</td>\n",
              "      <td>NaN</td>\n",
              "      <td>NaN</td>\n",
              "    </tr>\n",
              "    <tr>\n",
              "      <th>3</th>\n",
              "      <td>6be030b81c75970747525b843c1ef4f8</td>\n",
              "      <td>2018-01-22</td>\n",
              "      <td>d45d558f0daeecf3cccdffe3c59684aa</td>\n",
              "      <td>email</td>\n",
              "      <td>NaN</td>\n",
              "      <td>NaN</td>\n",
              "      <td>NaN</td>\n",
              "      <td>NaN</td>\n",
              "      <td>NaN</td>\n",
              "      <td>NaN</td>\n",
              "      <td>NaN</td>\n",
              "      <td>NaN</td>\n",
              "      <td>NaN</td>\n",
              "      <td>NaN</td>\n",
              "      <td>NaN</td>\n",
              "      <td>NaN</td>\n",
              "      <td>NaN</td>\n",
              "    </tr>\n",
              "    <tr>\n",
              "      <th>4</th>\n",
              "      <td>5420aad7fec3549a85876ba1c529bd84</td>\n",
              "      <td>2018-02-21</td>\n",
              "      <td>b48ec5f3b04e9068441002a19df93c6c</td>\n",
              "      <td>organic_search</td>\n",
              "      <td>2c43fb513632d29b3b58df74816f1b06</td>\n",
              "      <td>a8387c01a09e99ce014107505b92388c</td>\n",
              "      <td>4ef15afb4b2723d8f3d81e51ec7afefe</td>\n",
              "      <td>2018-02-26 19:58:54</td>\n",
              "      <td>pet</td>\n",
              "      <td>online_medium</td>\n",
              "      <td>cat</td>\n",
              "      <td>NaN</td>\n",
              "      <td>NaN</td>\n",
              "      <td>NaN</td>\n",
              "      <td>reseller</td>\n",
              "      <td>NaN</td>\n",
              "      <td>0.0</td>\n",
              "    </tr>\n",
              "  </tbody>\n",
              "</table>\n",
              "</div>"
            ],
            "text/plain": [
              "                             mql_id  ... declared_monthly_revenue\n",
              "0  dac32acd4db4c29c230538b72f8dd87d  ...                      NaN\n",
              "1  8c18d1de7f67e60dbd64e3c07d7e9d5d  ...                      NaN\n",
              "2  b4bc852d233dfefc5131f593b538befa  ...                      NaN\n",
              "3  6be030b81c75970747525b843c1ef4f8  ...                      NaN\n",
              "4  5420aad7fec3549a85876ba1c529bd84  ...                      0.0\n",
              "\n",
              "[5 rows x 17 columns]"
            ]
          },
          "metadata": {
            "tags": []
          },
          "execution_count": 6
        }
      ]
    },
    {
      "cell_type": "code",
      "metadata": {
        "id": "wOdsU1t8X2_R",
        "colab_type": "code",
        "colab": {}
      },
      "source": [
        "# Create the month of first contact with potential sellers\n",
        "onboard_sellers[\"first_contact_date\"] = pd.to_datetime(onboard_sellers[\"first_contact_date\"])\n",
        "onboard_sellers[\"first_contact_month\"] = onboard_sellers[\"first_contact_date\"].astype('datetime64[M]')"
      ],
      "execution_count": null,
      "outputs": []
    },
    {
      "cell_type": "code",
      "metadata": {
        "id": "bhJFiVehYlI7",
        "colab_type": "code",
        "colab": {}
      },
      "source": [
        "# Calculate the time to convert a lead to a new sellers\n",
        "onboard_sellers[\"won_date\"] = pd.to_datetime(onboard_sellers[\"won_date\"])\n",
        "onboard_sellers[\"won_date\"] = onboard_sellers[\"won_date\"].dt.normalize()\n",
        "onboard_sellers[\"convert_time\"] = (onboard_sellers[\"won_date\"] - onboard_sellers[\"first_contact_date\"]).dt.days"
      ],
      "execution_count": null,
      "outputs": []
    },
    {
      "cell_type": "markdown",
      "metadata": {
        "id": "vOg4DXVaXEzg",
        "colab_type": "text"
      },
      "source": [
        "### Visualize the conversion rate"
      ]
    },
    {
      "cell_type": "code",
      "metadata": {
        "id": "1h-KOyQ4W3-w",
        "colab_type": "code",
        "colab": {}
      },
      "source": [
        "onboard_sellers.loc[pd.isnull(onboard_sellers[\"seller_id\"])==True, \"converted\"] = 0\n",
        "onboard_sellers.loc[pd.isnull(onboard_sellers[\"seller_id\"])==False, \"converted\"] = 1"
      ],
      "execution_count": null,
      "outputs": []
    },
    {
      "cell_type": "code",
      "metadata": {
        "id": "Z16G26a4XJuP",
        "colab_type": "code",
        "colab": {}
      },
      "source": [
        "lead_cr = onboard_sellers.groupby([\"origin\",\"first_contact_month\"]).agg({\"mql_id\":\"nunique\",\n",
        "                                       \"converted\":\"sum\",\n",
        "                                       \"convert_time\":\"mean\"\n",
        "                                       })"
      ],
      "execution_count": null,
      "outputs": []
    },
    {
      "cell_type": "code",
      "metadata": {
        "id": "PGkvQO4uXOgE",
        "colab_type": "code",
        "colab": {}
      },
      "source": [
        "# Calculate conversion rate\n",
        "lead_cr[\"CR\"] = lead_cr[\"converted\"] * 100.0 / lead_cr[\"mql_id\"]"
      ],
      "execution_count": null,
      "outputs": []
    },
    {
      "cell_type": "code",
      "metadata": {
        "id": "Ua0YP-fXXM-i",
        "colab_type": "code",
        "colab": {}
      },
      "source": [
        "# With groupby above, the lead_cr dataframe are indexed by 2 columns: origin & first_contact_month. \n",
        "# Therefore, we use reset_index() to turn these 2 indices into columns\n",
        "\n",
        "lead_cr.reset_index(inplace=True)"
      ],
      "execution_count": null,
      "outputs": []
    },
    {
      "cell_type": "code",
      "metadata": {
        "id": "ycp--dOGhw6H",
        "colab_type": "code",
        "colab": {
          "base_uri": "https://localhost:8080/",
          "height": 204
        },
        "outputId": "15b049f0-ab93-4800-a6bd-b5a5f4afde0d"
      },
      "source": [
        "lead_cr.tail()"
      ],
      "execution_count": null,
      "outputs": [
        {
          "output_type": "execute_result",
          "data": {
            "text/html": [
              "<div>\n",
              "<style scoped>\n",
              "    .dataframe tbody tr th:only-of-type {\n",
              "        vertical-align: middle;\n",
              "    }\n",
              "\n",
              "    .dataframe tbody tr th {\n",
              "        vertical-align: top;\n",
              "    }\n",
              "\n",
              "    .dataframe thead th {\n",
              "        text-align: right;\n",
              "    }\n",
              "</style>\n",
              "<table border=\"1\" class=\"dataframe\">\n",
              "  <thead>\n",
              "    <tr style=\"text-align: right;\">\n",
              "      <th></th>\n",
              "      <th>origin</th>\n",
              "      <th>first_contact_month</th>\n",
              "      <th>mql_id</th>\n",
              "      <th>converted</th>\n",
              "      <th>convert_time</th>\n",
              "      <th>CR</th>\n",
              "    </tr>\n",
              "  </thead>\n",
              "  <tbody>\n",
              "    <tr>\n",
              "      <th>108</th>\n",
              "      <td>unknown</td>\n",
              "      <td>2018-01-01</td>\n",
              "      <td>151</td>\n",
              "      <td>33.0</td>\n",
              "      <td>41.363636</td>\n",
              "      <td>21.854305</td>\n",
              "    </tr>\n",
              "    <tr>\n",
              "      <th>109</th>\n",
              "      <td>unknown</td>\n",
              "      <td>2018-02-01</td>\n",
              "      <td>156</td>\n",
              "      <td>34.0</td>\n",
              "      <td>31.823529</td>\n",
              "      <td>21.794872</td>\n",
              "    </tr>\n",
              "    <tr>\n",
              "      <th>110</th>\n",
              "      <td>unknown</td>\n",
              "      <td>2018-03-01</td>\n",
              "      <td>186</td>\n",
              "      <td>40.0</td>\n",
              "      <td>29.250000</td>\n",
              "      <td>21.505376</td>\n",
              "    </tr>\n",
              "    <tr>\n",
              "      <th>111</th>\n",
              "      <td>unknown</td>\n",
              "      <td>2018-04-01</td>\n",
              "      <td>166</td>\n",
              "      <td>35.0</td>\n",
              "      <td>15.342857</td>\n",
              "      <td>21.084337</td>\n",
              "    </tr>\n",
              "    <tr>\n",
              "      <th>112</th>\n",
              "      <td>unknown</td>\n",
              "      <td>2018-05-01</td>\n",
              "      <td>154</td>\n",
              "      <td>26.0</td>\n",
              "      <td>9.192308</td>\n",
              "      <td>16.883117</td>\n",
              "    </tr>\n",
              "  </tbody>\n",
              "</table>\n",
              "</div>"
            ],
            "text/plain": [
              "      origin first_contact_month  mql_id  converted  convert_time         CR\n",
              "108  unknown          2018-01-01     151       33.0     41.363636  21.854305\n",
              "109  unknown          2018-02-01     156       34.0     31.823529  21.794872\n",
              "110  unknown          2018-03-01     186       40.0     29.250000  21.505376\n",
              "111  unknown          2018-04-01     166       35.0     15.342857  21.084337\n",
              "112  unknown          2018-05-01     154       26.0      9.192308  16.883117"
            ]
          },
          "metadata": {
            "tags": []
          },
          "execution_count": 13
        }
      ]
    },
    {
      "cell_type": "code",
      "metadata": {
        "id": "ZMKBz9BVheLN",
        "colab_type": "code",
        "colab": {
          "base_uri": "https://localhost:8080/",
          "height": 305
        },
        "outputId": "dfd96f11-c45c-4fcb-eefb-7ef2c0a1d2c1"
      },
      "source": [
        "# Visualize the number of qualified leads\n",
        "sns.barplot(data=lead_cr, x=\"first_contact_month\", y=\"mql_id\", ci=None)"
      ],
      "execution_count": null,
      "outputs": [
        {
          "output_type": "execute_result",
          "data": {
            "text/plain": [
              "<matplotlib.axes._subplots.AxesSubplot at 0x7f0cc295bcc0>"
            ]
          },
          "metadata": {
            "tags": []
          },
          "execution_count": 14
        },
        {
          "output_type": "display_data",
          "data": {
            "image/png": "[encoded data removed]",
            "text/plain": [
              "<Figure size 432x288 with 1 Axes>"
            ]
          },
          "metadata": {
            "tags": [],
            "needs_background": "light"
          }
        }
      ]
    },
    {
      "cell_type": "code",
      "metadata": {
        "id": "8E9G90WYiQmf",
        "colab_type": "code",
        "colab": {}
      },
      "source": [
        "# Change the format of first contact month for a more beautiful chart\n",
        "# New format: YYYY-mm\n",
        "lead_cr[\"first_contact_month_YM\"] = [x.strftime(\"%Y-%m\") for x in lead_cr[\"first_contact_month\"]]\n",
        "lead_cr.sort_values(\"first_contact_month_YM\", inplace=True)"
      ],
      "execution_count": null,
      "outputs": []
    },
    {
      "cell_type": "code",
      "metadata": {
        "id": "sU1yLLJOiRje",
        "colab_type": "code",
        "colab": {
          "base_uri": "https://localhost:8080/",
          "height": 305
        },
        "outputId": "2272b795-8676-4470-8f02-84252e4f804a"
      },
      "source": [
        "# Visualize the number of qualified leads\n",
        "sns.barplot(data=lead_cr, x=\"first_contact_month_YM\", y=\"mql_id\", hue=None, ci=None)"
      ],
      "execution_count": null,
      "outputs": [
        {
          "output_type": "execute_result",
          "data": {
            "text/plain": [
              "<matplotlib.axes._subplots.AxesSubplot at 0x7f0cc1607eb8>"
            ]
          },
          "metadata": {
            "tags": []
          },
          "execution_count": 16
        },
        {
          "output_type": "display_data",
          "data": {
            "image/png": "[encoded data removed]",
            "text/plain": [
              "<Figure size 432x288 with 1 Axes>"
            ]
          },
          "metadata": {
            "tags": [],
            "needs_background": "light"
          }
        }
      ]
    },
    {
      "cell_type": "code",
      "metadata": {
        "id": "KNanwm4Hb4KO",
        "colab_type": "code",
        "colab": {
          "base_uri": "https://localhost:8080/",
          "height": 302
        },
        "outputId": "e8651969-b858-4c0d-9a0c-6e8b77e3bf2e"
      },
      "source": [
        "# Overall conversion rate by month of first contact\n",
        "sns.lineplot(data=lead_cr, x=\"first_contact_month_YM\", y=\"CR\")"
      ],
      "execution_count": null,
      "outputs": [
        {
          "output_type": "execute_result",
          "data": {
            "text/plain": [
              "<matplotlib.axes._subplots.AxesSubplot at 0x7f0cc1132f98>"
            ]
          },
          "metadata": {
            "tags": []
          },
          "execution_count": 17
        },
        {
          "output_type": "display_data",
          "data": {
            "image/png": "[encoded data removed]",
            "text/plain": [
              "<Figure size 432x288 with 1 Axes>"
            ]
          },
          "metadata": {
            "tags": [],
            "needs_background": "light"
          }
        }
      ]
    },
    {
      "cell_type": "code",
      "metadata": {
        "id": "qlWI2pN8kwBS",
        "colab_type": "code",
        "colab": {
          "base_uri": "https://localhost:8080/",
          "height": 445
        },
        "outputId": "05e54083-6160-4996-c97d-6eb7ea3b4fed"
      },
      "source": [
        "# Combine bar chart and line chart together\n",
        "fig, ax1 = plt.subplots(figsize=(10,6))\n",
        "ax1 = sns.barplot(data=lead_cr, x=\"first_contact_month_YM\", y=\"mql_id\", palette=None, ci=None)\n",
        "ax1.set_title(\"Qualified Leads & Conversion Rate\")\n",
        "ax1.set_xlabel(\"First Contact Month\")\n",
        "ax1.set_ylabel(\"Qualified Leads\")\n",
        "\n",
        "# Adjust the labels on x-axis\n",
        "plt.xticks(rotation=90)\n",
        "\n",
        "ax2 = ax1.twinx()\n",
        "ax2 = sns.lineplot(data=lead_cr, x=\"first_contact_month_YM\", y=\"CR\", err_style=None)\n",
        "ax2.set_ylabel(\"Average Conversion Rate (%)\")\n",
        "\n",
        "plt.show()"
      ],
      "execution_count": null,
      "outputs": [
        {
          "output_type": "display_data",
          "data": {
            "image/png": "[encoded data removed]",
            "text/plain": [
              "<Figure size 720x432 with 2 Axes>"
            ]
          },
          "metadata": {
            "tags": [],
            "needs_background": "light"
          }
        }
      ]
    },
    {
      "cell_type": "code",
      "metadata": {
        "id": "tNwfYY0FoH55",
        "colab_type": "code",
        "colab": {
          "base_uri": "https://localhost:8080/",
          "height": 445
        },
        "outputId": "5169b553-fa03-48c0-bd24-82439f79e3fc"
      },
      "source": [
        "# Combine bar chart and line chart together\n",
        "fig, ax1 = plt.subplots(figsize=(10,6))\n",
        "ax1 = sns.barplot(data=lead_cr[lead_cr[\"converted\"]!=0], x=\"first_contact_month_YM\", y=\"converted\", palette=None, ci=None)\n",
        "ax1.set_title(\"Converted Leads & Time to Convert\")\n",
        "ax1.set_xlabel(\"First Contact Month\")\n",
        "ax1.set_ylabel(\"Converted Leads\")\n",
        "\n",
        "# Adjust the labels on x-axis\n",
        "plt.xticks(rotation=90)\n",
        "\n",
        "ax2 = ax1.twinx()\n",
        "ax2 = sns.lineplot(data=lead_cr[lead_cr[\"converted\"]!=0], x=\"first_contact_month_YM\", y=\"convert_time\", err_style=None)\n",
        "ax2.set_ylabel(\"Average Time to convert (days)\")\n",
        "\n",
        "plt.show()"
      ],
      "execution_count": null,
      "outputs": [
        {
          "output_type": "display_data",
          "data": {
            "image/png": "[encoded data removed]",
            "text/plain": [
              "<Figure size 720x432 with 2 Axes>"
            ]
          },
          "metadata": {
            "tags": [],
            "needs_background": "light"
          }
        }
      ]
    },
    {
      "cell_type": "code",
      "metadata": {
        "id": "TvCWvoQgpUIY",
        "colab_type": "code",
        "colab": {
          "base_uri": "https://localhost:8080/",
          "height": 302
        },
        "outputId": "96072355-4c76-4939-cc14-db63856f3824"
      },
      "source": [
        "# Visualize the number of qualified leads by source\n",
        "fig, ax1 = plt.subplots()\n",
        "\n",
        "ax1 = sns.barplot(data=lead_cr, x=\"first_contact_month_YM\", y=\"mql_id\", hue=\"origin\")\n",
        "\n",
        "plt.legend(loc='upper left')\n",
        "ax1.set_ylabel(\"Qualified Leads\")"
      ],
      "execution_count": null,
      "outputs": [
        {
          "output_type": "execute_result",
          "data": {
            "text/plain": [
              "Text(0, 0.5, 'Qualified Leads')"
            ]
          },
          "metadata": {
            "tags": []
          },
          "execution_count": 20
        },
        {
          "output_type": "display_data",
          "data": {
            "image/png": "[encoded data removed]",
            "text/plain": [
              "<Figure size 432x288 with 1 Axes>"
            ]
          },
          "metadata": {
            "tags": [],
            "needs_background": "light"
          }
        }
      ]
    },
    {
      "cell_type": "code",
      "metadata": {
        "id": "6RluOKNkpjJY",
        "colab_type": "code",
        "colab": {
          "base_uri": "https://localhost:8080/",
          "height": 302
        },
        "outputId": "2062ba5e-c7c5-4f2c-aa20-33fd7afb9c19"
      },
      "source": [
        "# Visualize the number of qualified leads by source\n",
        "fig, ax1 = plt.subplots()\n",
        "\n",
        "ax1 = sns.lineplot(data=lead_cr, x=\"first_contact_month_YM\", y=\"mql_id\", hue=\"origin\", ci=None)\n",
        "\n",
        "plt.legend(loc='upper left')\n",
        "ax1.set_ylabel(\"Qualified Leads\")"
      ],
      "execution_count": null,
      "outputs": [
        {
          "output_type": "execute_result",
          "data": {
            "text/plain": [
              "Text(0, 0.5, 'Qualified Leads')"
            ]
          },
          "metadata": {
            "tags": []
          },
          "execution_count": 21
        },
        {
          "output_type": "display_data",
          "data": {
            "image/png": "[encoded data removed]",
            "text/plain": [
              "<Figure size 432x288 with 1 Axes>"
            ]
          },
          "metadata": {
            "tags": [],
            "needs_background": "light"
          }
        }
      ]
    },
    {
      "cell_type": "code",
      "metadata": {
        "id": "-pVCOCEpejak",
        "colab_type": "code",
        "colab": {
          "base_uri": "https://localhost:8080/",
          "height": 306
        },
        "outputId": "b0bfc0af-31be-4e71-8282-fb56c92b443a"
      },
      "source": [
        "# Conversion rate by Lead source\n",
        "sns.lineplot(data=lead_cr, x=\"first_contact_month_YM\", y=\"CR\", hue=\"origin\")"
      ],
      "execution_count": null,
      "outputs": [
        {
          "output_type": "execute_result",
          "data": {
            "text/plain": [
              "<matplotlib.axes._subplots.AxesSubplot at 0x7f0cc0b5e080>"
            ]
          },
          "metadata": {
            "tags": []
          },
          "execution_count": 22
        },
        {
          "output_type": "display_data",
          "data": {
            "image/png": "[encoded data removed]",
            "text/plain": [
              "<Figure size 432x288 with 1 Axes>"
            ]
          },
          "metadata": {
            "tags": [],
            "needs_background": "light"
          }
        }
      ]
    },
    {
      "cell_type": "code",
      "metadata": {
        "id": "jQDHH6c3gN8S",
        "colab_type": "code",
        "colab": {
          "base_uri": "https://localhost:8080/",
          "height": 302
        },
        "outputId": "e75f9893-7110-4869-de7d-ab2d4c358b03"
      },
      "source": [
        "sns.lineplot(data=lead_cr[lead_cr[\"origin\"].isin([\"email\",\"social\",\"paid_search\",\"organic_search\",\"referral\"])], \n",
        "            x=\"first_contact_month_YM\", \n",
        "            y=\"CR\", \n",
        "            hue=\"origin\")"
      ],
      "execution_count": null,
      "outputs": [
        {
          "output_type": "execute_result",
          "data": {
            "text/plain": [
              "<matplotlib.axes._subplots.AxesSubplot at 0x7f0cc0a0b630>"
            ]
          },
          "metadata": {
            "tags": []
          },
          "execution_count": 23
        },
        {
          "output_type": "display_data",
          "data": {
            "image/png": "[encoded data removed]",
            "text/plain": [
              "<Figure size 432x288 with 1 Axes>"
            ]
          },
          "metadata": {
            "tags": [],
            "needs_background": "light"
          }
        }
      ]
    },
    {
      "cell_type": "markdown",
      "metadata": {
        "id": "ia_IAk4yWmDh",
        "colab_type": "text"
      },
      "source": [
        "## Exercises: Selling sellers\n",
        "As noted, we are interested not only in onboarding sellers but also helping them to actually sell products. In other words, sellers' ability to sell can be an important KPI for onboarding team.\n",
        "\n",
        "First, let's see if data about these sellers' sales are available."
      ]
    },
    {
      "cell_type": "code",
      "metadata": {
        "id": "iI5ixujYWbfd",
        "colab_type": "code",
        "colab": {
          "base_uri": "https://localhost:8080/",
          "height": 69
        },
        "outputId": "628dd212-7361-4bdc-d143-5f57335570da"
      },
      "source": [
        "# Data on orders are available for which period?\n",
        "orders[\"order_purchase_timestamp\"].agg([\"min\",\"max\"])"
      ],
      "execution_count": null,
      "outputs": [
        {
          "output_type": "execute_result",
          "data": {
            "text/plain": [
              "min    2016-09-04 21:15:19\n",
              "max    2018-10-17 17:30:18\n",
              "Name: order_purchase_timestamp, dtype: object"
            ]
          },
          "metadata": {
            "tags": []
          },
          "execution_count": 9
        }
      ]
    },
    {
      "cell_type": "code",
      "metadata": {
        "id": "uG5fbgNYWkif",
        "colab_type": "code",
        "colab": {
          "base_uri": "https://localhost:8080/",
          "height": 69
        },
        "outputId": "8a197aba-55b7-4913-abf7-5f7c98fc6880"
      },
      "source": [
        "# Data on new sellers are available for which period?\n",
        "closed_deals.won_date.agg([\"min\",\"max\"])"
      ],
      "execution_count": null,
      "outputs": [
        {
          "output_type": "execute_result",
          "data": {
            "text/plain": [
              "min    2017-12-05 02:00:00\n",
              "max    2018-11-14 18:04:19\n",
              "Name: won_date, dtype: object"
            ]
          },
          "metadata": {
            "tags": []
          },
          "execution_count": 10
        }
      ]
    },
    {
      "cell_type": "markdown",
      "metadata": {
        "id": "yzoOfDmhs6MJ",
        "colab_type": "text"
      },
      "source": [
        "As you can see, we have sales data up to 2018-10-17 while the last seller was onboarded on 2018-11-14. \n",
        "\n",
        "**Let's assume that we are at 2018-10-17 and we need to analyze the performance of sellers who were onboarded from 2018-01-01 to 2018-08-31.**\n",
        "\n",
        "Use your knowledge of Python (dataframe subsetting, joining) to answer the following questions."
      ]
    },
    {
      "cell_type": "markdown",
      "metadata": {
        "id": "HY43doi1vlBZ",
        "colab_type": "text"
      },
      "source": [
        "### Question 1: How many among onboarded sellers have at least 1 order before 2018-08-31, in total?"
      ]
    },
    {
      "cell_type": "code",
      "metadata": {
        "id": "Hh5aMSC_4dp3",
        "colab_type": "code",
        "colab": {
          "base_uri": "https://localhost:8080/",
          "height": 226
        },
        "outputId": "74f82e91-6208-4e86-88ee-7b65854fa647"
      },
      "source": [
        "onboard_sellers['won_date'] = pd.to_datetime(onboard_sellers['won_date'])\n",
        "\n",
        "## Apply conditions on onboarded date to extract the list of new sellers we are interested in\n",
        "onboard_sellers_filter = onboard_sellers[(onboard_sellers['won_date']<= pd.Timestamp(2018,8,31)) &\n",
        "                                         (onboard_sellers['won_date']>= pd.Timestamp(2018,1,1))]\n",
        "\n",
        "onboard_sellers_filter.head()"
      ],
      "execution_count": null,
      "outputs": [
        {
          "output_type": "execute_result",
          "data": {
            "text/html": [
              "<div>\n",
              "<style scoped>\n",
              "    .dataframe tbody tr th:only-of-type {\n",
              "        vertical-align: middle;\n",
              "    }\n",
              "\n",
              "    .dataframe tbody tr th {\n",
              "        vertical-align: top;\n",
              "    }\n",
              "\n",
              "    .dataframe thead th {\n",
              "        text-align: right;\n",
              "    }\n",
              "</style>\n",
              "<table border=\"1\" class=\"dataframe\">\n",
              "  <thead>\n",
              "    <tr style=\"text-align: right;\">\n",
              "      <th></th>\n",
              "      <th>mql_id</th>\n",
              "      <th>first_contact_date</th>\n",
              "      <th>landing_page_id</th>\n",
              "      <th>origin</th>\n",
              "      <th>seller_id</th>\n",
              "      <th>sdr_id</th>\n",
              "      <th>sr_id</th>\n",
              "      <th>won_date</th>\n",
              "      <th>business_segment</th>\n",
              "      <th>lead_type</th>\n",
              "      <th>lead_behaviour_profile</th>\n",
              "      <th>has_company</th>\n",
              "      <th>has_gtin</th>\n",
              "      <th>average_stock</th>\n",
              "      <th>business_type</th>\n",
              "      <th>declared_product_catalog_size</th>\n",
              "      <th>declared_monthly_revenue</th>\n",
              "      <th>first_contact_month</th>\n",
              "      <th>convert_time</th>\n",
              "    </tr>\n",
              "  </thead>\n",
              "  <tbody>\n",
              "    <tr>\n",
              "      <th>4</th>\n",
              "      <td>5420aad7fec3549a85876ba1c529bd84</td>\n",
              "      <td>2018-02-21</td>\n",
              "      <td>b48ec5f3b04e9068441002a19df93c6c</td>\n",
              "      <td>organic_search</td>\n",
              "      <td>2c43fb513632d29b3b58df74816f1b06</td>\n",
              "      <td>a8387c01a09e99ce014107505b92388c</td>\n",
              "      <td>4ef15afb4b2723d8f3d81e51ec7afefe</td>\n",
              "      <td>2018-02-26</td>\n",
              "      <td>pet</td>\n",
              "      <td>online_medium</td>\n",
              "      <td>cat</td>\n",
              "      <td>NaN</td>\n",
              "      <td>NaN</td>\n",
              "      <td>NaN</td>\n",
              "      <td>reseller</td>\n",
              "      <td>NaN</td>\n",
              "      <td>0.0</td>\n",
              "      <td>2018-02-01</td>\n",
              "      <td>5.0</td>\n",
              "    </tr>\n",
              "    <tr>\n",
              "      <th>12</th>\n",
              "      <td>a555fb36b9368110ede0f043dfc3b9a0</td>\n",
              "      <td>2018-04-04</td>\n",
              "      <td>2f08471dfb83baef522f952438a36f6e</td>\n",
              "      <td>referral</td>\n",
              "      <td>bbb7d7893a450660432ea6652310ebb7</td>\n",
              "      <td>09285259593c61296eef10c734121d5b</td>\n",
              "      <td>d3d1e91a157ea7f90548eef82f1955e3</td>\n",
              "      <td>2018-05-08</td>\n",
              "      <td>car_accessories</td>\n",
              "      <td>industry</td>\n",
              "      <td>eagle</td>\n",
              "      <td>NaN</td>\n",
              "      <td>NaN</td>\n",
              "      <td>NaN</td>\n",
              "      <td>reseller</td>\n",
              "      <td>NaN</td>\n",
              "      <td>0.0</td>\n",
              "      <td>2018-04-01</td>\n",
              "      <td>34.0</td>\n",
              "    </tr>\n",
              "    <tr>\n",
              "      <th>14</th>\n",
              "      <td>327174d3648a2d047e8940d7d15204ca</td>\n",
              "      <td>2018-04-03</td>\n",
              "      <td>1ceb590cd1e00c7ee95220971f82693d</td>\n",
              "      <td>organic_search</td>\n",
              "      <td>612170e34b97004b3ba37eae81836b4c</td>\n",
              "      <td>b90f87164b5f8c2cfa5c8572834dbe3f</td>\n",
              "      <td>6565aa9ce3178a5caf6171827af3a9ba</td>\n",
              "      <td>2018-06-05</td>\n",
              "      <td>home_appliances</td>\n",
              "      <td>online_big</td>\n",
              "      <td>cat</td>\n",
              "      <td>NaN</td>\n",
              "      <td>NaN</td>\n",
              "      <td>NaN</td>\n",
              "      <td>reseller</td>\n",
              "      <td>NaN</td>\n",
              "      <td>0.0</td>\n",
              "      <td>2018-04-01</td>\n",
              "      <td>63.0</td>\n",
              "    </tr>\n",
              "    <tr>\n",
              "      <th>39</th>\n",
              "      <td>f5fee8f7da74f4887f5bcae2bafb6dd6</td>\n",
              "      <td>2018-01-14</td>\n",
              "      <td>22c29808c4f815213303f8933030604c</td>\n",
              "      <td>paid_search</td>\n",
              "      <td>21e1781e36faf92725dde4730a88ca0f</td>\n",
              "      <td>56bf83c4bb35763a51c2baab501b4c67</td>\n",
              "      <td>d3d1e91a157ea7f90548eef82f1955e3</td>\n",
              "      <td>2018-01-17</td>\n",
              "      <td>food_drink</td>\n",
              "      <td>online_small</td>\n",
              "      <td>NaN</td>\n",
              "      <td>NaN</td>\n",
              "      <td>NaN</td>\n",
              "      <td>NaN</td>\n",
              "      <td>reseller</td>\n",
              "      <td>NaN</td>\n",
              "      <td>0.0</td>\n",
              "      <td>2018-01-01</td>\n",
              "      <td>3.0</td>\n",
              "    </tr>\n",
              "    <tr>\n",
              "      <th>67</th>\n",
              "      <td>ffe640179b554e295c167a2f6be528e0</td>\n",
              "      <td>2017-10-09</td>\n",
              "      <td>a0fbc0263cb98bdb0d72b9f9f283a172</td>\n",
              "      <td>unknown</td>\n",
              "      <td>ed8cb7b190ceb6067227478e48cf8dde</td>\n",
              "      <td>4b339f9567d060bcea4f5136b9f5949e</td>\n",
              "      <td>d3d1e91a157ea7f90548eef82f1955e3</td>\n",
              "      <td>2018-07-03</td>\n",
              "      <td>home_appliances</td>\n",
              "      <td>industry</td>\n",
              "      <td>wolf</td>\n",
              "      <td>NaN</td>\n",
              "      <td>NaN</td>\n",
              "      <td>NaN</td>\n",
              "      <td>manufacturer</td>\n",
              "      <td>NaN</td>\n",
              "      <td>0.0</td>\n",
              "      <td>2017-10-01</td>\n",
              "      <td>267.0</td>\n",
              "    </tr>\n",
              "  </tbody>\n",
              "</table>\n",
              "</div>"
            ],
            "text/plain": [
              "                              mql_id  ... convert_time\n",
              "4   5420aad7fec3549a85876ba1c529bd84  ...          5.0\n",
              "12  a555fb36b9368110ede0f043dfc3b9a0  ...         34.0\n",
              "14  327174d3648a2d047e8940d7d15204ca  ...         63.0\n",
              "39  f5fee8f7da74f4887f5bcae2bafb6dd6  ...          3.0\n",
              "67  ffe640179b554e295c167a2f6be528e0  ...        267.0\n",
              "\n",
              "[5 rows x 19 columns]"
            ]
          },
          "metadata": {
            "tags": []
          },
          "execution_count": 60
        }
      ]
    },
    {
      "cell_type": "code",
      "metadata": {
        "id": "AoWhoXNbm_tx",
        "colab_type": "code",
        "colab": {
          "base_uri": "https://localhost:8080/",
          "height": 112
        },
        "outputId": "7a06cde1-7568-415c-b28b-aba6a4fdb9e3"
      },
      "source": [
        "onboard_sellers_filter.agg({\"won_date\":[\"min\",\"max\"]})"
      ],
      "execution_count": null,
      "outputs": [
        {
          "output_type": "execute_result",
          "data": {
            "text/html": [
              "<div>\n",
              "<style scoped>\n",
              "    .dataframe tbody tr th:only-of-type {\n",
              "        vertical-align: middle;\n",
              "    }\n",
              "\n",
              "    .dataframe tbody tr th {\n",
              "        vertical-align: top;\n",
              "    }\n",
              "\n",
              "    .dataframe thead th {\n",
              "        text-align: right;\n",
              "    }\n",
              "</style>\n",
              "<table border=\"1\" class=\"dataframe\">\n",
              "  <thead>\n",
              "    <tr style=\"text-align: right;\">\n",
              "      <th></th>\n",
              "      <th>won_date</th>\n",
              "    </tr>\n",
              "  </thead>\n",
              "  <tbody>\n",
              "    <tr>\n",
              "      <th>min</th>\n",
              "      <td>2018-01-08</td>\n",
              "    </tr>\n",
              "    <tr>\n",
              "      <th>max</th>\n",
              "      <td>2018-08-30</td>\n",
              "    </tr>\n",
              "  </tbody>\n",
              "</table>\n",
              "</div>"
            ],
            "text/plain": [
              "      won_date\n",
              "min 2018-01-08\n",
              "max 2018-08-30"
            ]
          },
          "metadata": {
            "tags": []
          },
          "execution_count": 61
        }
      ]
    },
    {
      "cell_type": "code",
      "metadata": {
        "id": "-FBvEgWXsJ6u",
        "colab_type": "code",
        "colab": {}
      },
      "source": [
        "\n",
        "# In order to spot out only sellers with at least 1 order, we can use inner join.\n",
        "# If using (left or) right join, you will have to count unique the number of orders and set a condition on that: nb_unique_order >= 1.\n",
        "# But we will have information on non-selling sellers too, which can be used for other purposes.\n",
        "sellers_order = pd.merge(order_items[['order_id', 'seller_id','product_id']], \n",
        "                         onboard_sellers_filter, on='seller_id', how='right')\n",
        "\n",
        "# Reset index to turn the groupby into a column\n",
        "sellers_agg = sellers_order.groupby([\"seller_id\"]).agg({\"order_id\": \"nunique\"}).reset_index()"
      ],
      "execution_count": null,
      "outputs": []
    },
    {
      "cell_type": "code",
      "metadata": {
        "id": "2OV9hw8Fsia_",
        "colab_type": "code",
        "colab": {
          "base_uri": "https://localhost:8080/",
          "height": 226
        },
        "outputId": "f60fc9cd-1f00-4684-b80a-9f5da5f2333c"
      },
      "source": [
        "sellers_order.head()"
      ],
      "execution_count": null,
      "outputs": [
        {
          "output_type": "execute_result",
          "data": {
            "text/html": [
              "<div>\n",
              "<style scoped>\n",
              "    .dataframe tbody tr th:only-of-type {\n",
              "        vertical-align: middle;\n",
              "    }\n",
              "\n",
              "    .dataframe tbody tr th {\n",
              "        vertical-align: top;\n",
              "    }\n",
              "\n",
              "    .dataframe thead th {\n",
              "        text-align: right;\n",
              "    }\n",
              "</style>\n",
              "<table border=\"1\" class=\"dataframe\">\n",
              "  <thead>\n",
              "    <tr style=\"text-align: right;\">\n",
              "      <th></th>\n",
              "      <th>order_id</th>\n",
              "      <th>seller_id</th>\n",
              "      <th>product_id</th>\n",
              "      <th>mql_id</th>\n",
              "      <th>first_contact_date</th>\n",
              "      <th>landing_page_id</th>\n",
              "      <th>origin</th>\n",
              "      <th>sdr_id</th>\n",
              "      <th>sr_id</th>\n",
              "      <th>won_date</th>\n",
              "      <th>business_segment</th>\n",
              "      <th>lead_type</th>\n",
              "      <th>lead_behaviour_profile</th>\n",
              "      <th>has_company</th>\n",
              "      <th>has_gtin</th>\n",
              "      <th>average_stock</th>\n",
              "      <th>business_type</th>\n",
              "      <th>declared_product_catalog_size</th>\n",
              "      <th>declared_monthly_revenue</th>\n",
              "      <th>first_contact_month</th>\n",
              "      <th>convert_time</th>\n",
              "    </tr>\n",
              "  </thead>\n",
              "  <tbody>\n",
              "    <tr>\n",
              "      <th>0</th>\n",
              "      <td>0005f50442cb953dcd1d21e1fb923495</td>\n",
              "      <td>ba143b05f0110f0dc71ad71b4466ce92</td>\n",
              "      <td>4535b0e1091c278dfd193e5a1d63b39f</td>\n",
              "      <td>cfccca319397a5ea2bb11bd90b0d925d</td>\n",
              "      <td>2018-04-17</td>\n",
              "      <td>5dc848e7dd9418dffe183215b8ff0bc1</td>\n",
              "      <td>paid_search</td>\n",
              "      <td>370c9f455f93a9a96cbe9bea48e70033</td>\n",
              "      <td>9e4d1098a3b0f5da39b0bc48f9876645</td>\n",
              "      <td>2018-04-17</td>\n",
              "      <td>books</td>\n",
              "      <td>online_big</td>\n",
              "      <td>cat</td>\n",
              "      <td>NaN</td>\n",
              "      <td>NaN</td>\n",
              "      <td>NaN</td>\n",
              "      <td>reseller</td>\n",
              "      <td>NaN</td>\n",
              "      <td>0.0</td>\n",
              "      <td>2018-04-01</td>\n",
              "      <td>0.0</td>\n",
              "    </tr>\n",
              "    <tr>\n",
              "      <th>1</th>\n",
              "      <td>01c1644529b18608f086d2ff0f3b8181</td>\n",
              "      <td>ba143b05f0110f0dc71ad71b4466ce92</td>\n",
              "      <td>8b41f2becf919f6177cca1ff15dfd311</td>\n",
              "      <td>cfccca319397a5ea2bb11bd90b0d925d</td>\n",
              "      <td>2018-04-17</td>\n",
              "      <td>5dc848e7dd9418dffe183215b8ff0bc1</td>\n",
              "      <td>paid_search</td>\n",
              "      <td>370c9f455f93a9a96cbe9bea48e70033</td>\n",
              "      <td>9e4d1098a3b0f5da39b0bc48f9876645</td>\n",
              "      <td>2018-04-17</td>\n",
              "      <td>books</td>\n",
              "      <td>online_big</td>\n",
              "      <td>cat</td>\n",
              "      <td>NaN</td>\n",
              "      <td>NaN</td>\n",
              "      <td>NaN</td>\n",
              "      <td>reseller</td>\n",
              "      <td>NaN</td>\n",
              "      <td>0.0</td>\n",
              "      <td>2018-04-01</td>\n",
              "      <td>0.0</td>\n",
              "    </tr>\n",
              "    <tr>\n",
              "      <th>2</th>\n",
              "      <td>034fe9142b806fe19c1cbc1c752ab08d</td>\n",
              "      <td>ba143b05f0110f0dc71ad71b4466ce92</td>\n",
              "      <td>20fb650ad1615624d7e202031400f695</td>\n",
              "      <td>cfccca319397a5ea2bb11bd90b0d925d</td>\n",
              "      <td>2018-04-17</td>\n",
              "      <td>5dc848e7dd9418dffe183215b8ff0bc1</td>\n",
              "      <td>paid_search</td>\n",
              "      <td>370c9f455f93a9a96cbe9bea48e70033</td>\n",
              "      <td>9e4d1098a3b0f5da39b0bc48f9876645</td>\n",
              "      <td>2018-04-17</td>\n",
              "      <td>books</td>\n",
              "      <td>online_big</td>\n",
              "      <td>cat</td>\n",
              "      <td>NaN</td>\n",
              "      <td>NaN</td>\n",
              "      <td>NaN</td>\n",
              "      <td>reseller</td>\n",
              "      <td>NaN</td>\n",
              "      <td>0.0</td>\n",
              "      <td>2018-04-01</td>\n",
              "      <td>0.0</td>\n",
              "    </tr>\n",
              "    <tr>\n",
              "      <th>3</th>\n",
              "      <td>03d6e874e44c091359a3ad62f2bec233</td>\n",
              "      <td>ba143b05f0110f0dc71ad71b4466ce92</td>\n",
              "      <td>173e9fe34bfe97f3a5e6dc57fe897b74</td>\n",
              "      <td>cfccca319397a5ea2bb11bd90b0d925d</td>\n",
              "      <td>2018-04-17</td>\n",
              "      <td>5dc848e7dd9418dffe183215b8ff0bc1</td>\n",
              "      <td>paid_search</td>\n",
              "      <td>370c9f455f93a9a96cbe9bea48e70033</td>\n",
              "      <td>9e4d1098a3b0f5da39b0bc48f9876645</td>\n",
              "      <td>2018-04-17</td>\n",
              "      <td>books</td>\n",
              "      <td>online_big</td>\n",
              "      <td>cat</td>\n",
              "      <td>NaN</td>\n",
              "      <td>NaN</td>\n",
              "      <td>NaN</td>\n",
              "      <td>reseller</td>\n",
              "      <td>NaN</td>\n",
              "      <td>0.0</td>\n",
              "      <td>2018-04-01</td>\n",
              "      <td>0.0</td>\n",
              "    </tr>\n",
              "    <tr>\n",
              "      <th>4</th>\n",
              "      <td>07c33a9470d0df2a30cc8a8ebd0288d1</td>\n",
              "      <td>ba143b05f0110f0dc71ad71b4466ce92</td>\n",
              "      <td>8ac47b3ab13c68f49f10dde899674149</td>\n",
              "      <td>cfccca319397a5ea2bb11bd90b0d925d</td>\n",
              "      <td>2018-04-17</td>\n",
              "      <td>5dc848e7dd9418dffe183215b8ff0bc1</td>\n",
              "      <td>paid_search</td>\n",
              "      <td>370c9f455f93a9a96cbe9bea48e70033</td>\n",
              "      <td>9e4d1098a3b0f5da39b0bc48f9876645</td>\n",
              "      <td>2018-04-17</td>\n",
              "      <td>books</td>\n",
              "      <td>online_big</td>\n",
              "      <td>cat</td>\n",
              "      <td>NaN</td>\n",
              "      <td>NaN</td>\n",
              "      <td>NaN</td>\n",
              "      <td>reseller</td>\n",
              "      <td>NaN</td>\n",
              "      <td>0.0</td>\n",
              "      <td>2018-04-01</td>\n",
              "      <td>0.0</td>\n",
              "    </tr>\n",
              "  </tbody>\n",
              "</table>\n",
              "</div>"
            ],
            "text/plain": [
              "                           order_id  ... convert_time\n",
              "0  0005f50442cb953dcd1d21e1fb923495  ...          0.0\n",
              "1  01c1644529b18608f086d2ff0f3b8181  ...          0.0\n",
              "2  034fe9142b806fe19c1cbc1c752ab08d  ...          0.0\n",
              "3  03d6e874e44c091359a3ad62f2bec233  ...          0.0\n",
              "4  07c33a9470d0df2a30cc8a8ebd0288d1  ...          0.0\n",
              "\n",
              "[5 rows x 21 columns]"
            ]
          },
          "metadata": {
            "tags": []
          },
          "execution_count": 63
        }
      ]
    },
    {
      "cell_type": "code",
      "metadata": {
        "id": "VeujA85mvjOz",
        "colab_type": "code",
        "colab": {
          "base_uri": "https://localhost:8080/",
          "height": 206
        },
        "outputId": "bc255b3b-2382-4fc2-d88f-2c58c8ccf363"
      },
      "source": [
        "sellers_agg.head()"
      ],
      "execution_count": null,
      "outputs": [
        {
          "output_type": "execute_result",
          "data": {
            "text/html": [
              "<div>\n",
              "<style scoped>\n",
              "    .dataframe tbody tr th:only-of-type {\n",
              "        vertical-align: middle;\n",
              "    }\n",
              "\n",
              "    .dataframe tbody tr th {\n",
              "        vertical-align: top;\n",
              "    }\n",
              "\n",
              "    .dataframe thead th {\n",
              "        text-align: right;\n",
              "    }\n",
              "</style>\n",
              "<table border=\"1\" class=\"dataframe\">\n",
              "  <thead>\n",
              "    <tr style=\"text-align: right;\">\n",
              "      <th></th>\n",
              "      <th>seller_id</th>\n",
              "      <th>order_id</th>\n",
              "    </tr>\n",
              "  </thead>\n",
              "  <tbody>\n",
              "    <tr>\n",
              "      <th>0</th>\n",
              "      <td>00065220becb8785e2cf78355eb9bf68</td>\n",
              "      <td>0</td>\n",
              "    </tr>\n",
              "    <tr>\n",
              "      <th>1</th>\n",
              "      <td>01266d4c46afa519678d16a8b683d325</td>\n",
              "      <td>3</td>\n",
              "    </tr>\n",
              "    <tr>\n",
              "      <th>2</th>\n",
              "      <td>013d100f608a64ec8275c038aedeb064</td>\n",
              "      <td>0</td>\n",
              "    </tr>\n",
              "    <tr>\n",
              "      <th>3</th>\n",
              "      <td>01fd077212124329bac32490e8ef80d9</td>\n",
              "      <td>31</td>\n",
              "    </tr>\n",
              "    <tr>\n",
              "      <th>4</th>\n",
              "      <td>0255dc67cb6bad298606136951ab1877</td>\n",
              "      <td>0</td>\n",
              "    </tr>\n",
              "  </tbody>\n",
              "</table>\n",
              "</div>"
            ],
            "text/plain": [
              "                          seller_id  order_id\n",
              "0  00065220becb8785e2cf78355eb9bf68         0\n",
              "1  01266d4c46afa519678d16a8b683d325         3\n",
              "2  013d100f608a64ec8275c038aedeb064         0\n",
              "3  01fd077212124329bac32490e8ef80d9        31\n",
              "4  0255dc67cb6bad298606136951ab1877         0"
            ]
          },
          "metadata": {
            "tags": []
          },
          "execution_count": 65
        }
      ]
    },
    {
      "cell_type": "code",
      "metadata": {
        "id": "CDv5h5yzpdfn",
        "colab_type": "code",
        "colab": {
          "base_uri": "https://localhost:8080/",
          "height": 69
        },
        "outputId": "a6c13a69-3568-48aa-ae35-bc154d911a86"
      },
      "source": [
        "# Group by seller_id, we will have the same count and count unique \n",
        "sellers_agg.loc[sellers_agg[\"order_id\"] > 0]['seller_id'].agg([\"nunique\",\"count\"])"
      ],
      "execution_count": null,
      "outputs": [
        {
          "output_type": "execute_result",
          "data": {
            "text/plain": [
              "nunique    379\n",
              "count      379\n",
              "Name: seller_id, dtype: int64"
            ]
          },
          "metadata": {
            "tags": []
          },
          "execution_count": 66
        }
      ]
    },
    {
      "cell_type": "markdown",
      "metadata": {
        "id": "MWOSLkuvwkHc",
        "colab_type": "text"
      },
      "source": [
        "### Question 2: How many among onboarded sellers have at least 1 order before 2018-08-31, grouped by month of their onboarding (win month)?\n",
        "\n",
        "Visualize the results."
      ]
    },
    {
      "cell_type": "code",
      "metadata": {
        "id": "EijCTw4j5-2-",
        "colab_type": "code",
        "colab": {}
      },
      "source": [
        "## Create variable \"won_month\"\n",
        "sellers_order[\"won_month\"] = sellers_order[\"won_date\"].astype('datetime64[M]')"
      ],
      "execution_count": null,
      "outputs": []
    },
    {
      "cell_type": "code",
      "metadata": {
        "id": "dgTZ7SVKsN_y",
        "colab_type": "code",
        "colab": {
          "base_uri": "https://localhost:8080/",
          "height": 226
        },
        "outputId": "66c90c8e-95ba-469e-975b-5661e2970597"
      },
      "source": [
        "sellers_order.head()"
      ],
      "execution_count": null,
      "outputs": [
        {
          "output_type": "execute_result",
          "data": {
            "text/html": [
              "<div>\n",
              "<style scoped>\n",
              "    .dataframe tbody tr th:only-of-type {\n",
              "        vertical-align: middle;\n",
              "    }\n",
              "\n",
              "    .dataframe tbody tr th {\n",
              "        vertical-align: top;\n",
              "    }\n",
              "\n",
              "    .dataframe thead th {\n",
              "        text-align: right;\n",
              "    }\n",
              "</style>\n",
              "<table border=\"1\" class=\"dataframe\">\n",
              "  <thead>\n",
              "    <tr style=\"text-align: right;\">\n",
              "      <th></th>\n",
              "      <th>order_id</th>\n",
              "      <th>seller_id</th>\n",
              "      <th>product_id</th>\n",
              "      <th>mql_id</th>\n",
              "      <th>first_contact_date</th>\n",
              "      <th>landing_page_id</th>\n",
              "      <th>origin</th>\n",
              "      <th>sdr_id</th>\n",
              "      <th>sr_id</th>\n",
              "      <th>won_date</th>\n",
              "      <th>business_segment</th>\n",
              "      <th>lead_type</th>\n",
              "      <th>lead_behaviour_profile</th>\n",
              "      <th>has_company</th>\n",
              "      <th>has_gtin</th>\n",
              "      <th>average_stock</th>\n",
              "      <th>business_type</th>\n",
              "      <th>declared_product_catalog_size</th>\n",
              "      <th>declared_monthly_revenue</th>\n",
              "      <th>first_contact_month</th>\n",
              "      <th>convert_time</th>\n",
              "      <th>won_month</th>\n",
              "    </tr>\n",
              "  </thead>\n",
              "  <tbody>\n",
              "    <tr>\n",
              "      <th>0</th>\n",
              "      <td>0005f50442cb953dcd1d21e1fb923495</td>\n",
              "      <td>ba143b05f0110f0dc71ad71b4466ce92</td>\n",
              "      <td>4535b0e1091c278dfd193e5a1d63b39f</td>\n",
              "      <td>cfccca319397a5ea2bb11bd90b0d925d</td>\n",
              "      <td>2018-04-17</td>\n",
              "      <td>5dc848e7dd9418dffe183215b8ff0bc1</td>\n",
              "      <td>paid_search</td>\n",
              "      <td>370c9f455f93a9a96cbe9bea48e70033</td>\n",
              "      <td>9e4d1098a3b0f5da39b0bc48f9876645</td>\n",
              "      <td>2018-04-17</td>\n",
              "      <td>books</td>\n",
              "      <td>online_big</td>\n",
              "      <td>cat</td>\n",
              "      <td>NaN</td>\n",
              "      <td>NaN</td>\n",
              "      <td>NaN</td>\n",
              "      <td>reseller</td>\n",
              "      <td>NaN</td>\n",
              "      <td>0.0</td>\n",
              "      <td>2018-04-01</td>\n",
              "      <td>0.0</td>\n",
              "      <td>2018-04-01</td>\n",
              "    </tr>\n",
              "    <tr>\n",
              "      <th>1</th>\n",
              "      <td>01c1644529b18608f086d2ff0f3b8181</td>\n",
              "      <td>ba143b05f0110f0dc71ad71b4466ce92</td>\n",
              "      <td>8b41f2becf919f6177cca1ff15dfd311</td>\n",
              "      <td>cfccca319397a5ea2bb11bd90b0d925d</td>\n",
              "      <td>2018-04-17</td>\n",
              "      <td>5dc848e7dd9418dffe183215b8ff0bc1</td>\n",
              "      <td>paid_search</td>\n",
              "      <td>370c9f455f93a9a96cbe9bea48e70033</td>\n",
              "      <td>9e4d1098a3b0f5da39b0bc48f9876645</td>\n",
              "      <td>2018-04-17</td>\n",
              "      <td>books</td>\n",
              "      <td>online_big</td>\n",
              "      <td>cat</td>\n",
              "      <td>NaN</td>\n",
              "      <td>NaN</td>\n",
              "      <td>NaN</td>\n",
              "      <td>reseller</td>\n",
              "      <td>NaN</td>\n",
              "      <td>0.0</td>\n",
              "      <td>2018-04-01</td>\n",
              "      <td>0.0</td>\n",
              "      <td>2018-04-01</td>\n",
              "    </tr>\n",
              "    <tr>\n",
              "      <th>2</th>\n",
              "      <td>034fe9142b806fe19c1cbc1c752ab08d</td>\n",
              "      <td>ba143b05f0110f0dc71ad71b4466ce92</td>\n",
              "      <td>20fb650ad1615624d7e202031400f695</td>\n",
              "      <td>cfccca319397a5ea2bb11bd90b0d925d</td>\n",
              "      <td>2018-04-17</td>\n",
              "      <td>5dc848e7dd9418dffe183215b8ff0bc1</td>\n",
              "      <td>paid_search</td>\n",
              "      <td>370c9f455f93a9a96cbe9bea48e70033</td>\n",
              "      <td>9e4d1098a3b0f5da39b0bc48f9876645</td>\n",
              "      <td>2018-04-17</td>\n",
              "      <td>books</td>\n",
              "      <td>online_big</td>\n",
              "      <td>cat</td>\n",
              "      <td>NaN</td>\n",
              "      <td>NaN</td>\n",
              "      <td>NaN</td>\n",
              "      <td>reseller</td>\n",
              "      <td>NaN</td>\n",
              "      <td>0.0</td>\n",
              "      <td>2018-04-01</td>\n",
              "      <td>0.0</td>\n",
              "      <td>2018-04-01</td>\n",
              "    </tr>\n",
              "    <tr>\n",
              "      <th>3</th>\n",
              "      <td>03d6e874e44c091359a3ad62f2bec233</td>\n",
              "      <td>ba143b05f0110f0dc71ad71b4466ce92</td>\n",
              "      <td>173e9fe34bfe97f3a5e6dc57fe897b74</td>\n",
              "      <td>cfccca319397a5ea2bb11bd90b0d925d</td>\n",
              "      <td>2018-04-17</td>\n",
              "      <td>5dc848e7dd9418dffe183215b8ff0bc1</td>\n",
              "      <td>paid_search</td>\n",
              "      <td>370c9f455f93a9a96cbe9bea48e70033</td>\n",
              "      <td>9e4d1098a3b0f5da39b0bc48f9876645</td>\n",
              "      <td>2018-04-17</td>\n",
              "      <td>books</td>\n",
              "      <td>online_big</td>\n",
              "      <td>cat</td>\n",
              "      <td>NaN</td>\n",
              "      <td>NaN</td>\n",
              "      <td>NaN</td>\n",
              "      <td>reseller</td>\n",
              "      <td>NaN</td>\n",
              "      <td>0.0</td>\n",
              "      <td>2018-04-01</td>\n",
              "      <td>0.0</td>\n",
              "      <td>2018-04-01</td>\n",
              "    </tr>\n",
              "    <tr>\n",
              "      <th>4</th>\n",
              "      <td>07c33a9470d0df2a30cc8a8ebd0288d1</td>\n",
              "      <td>ba143b05f0110f0dc71ad71b4466ce92</td>\n",
              "      <td>8ac47b3ab13c68f49f10dde899674149</td>\n",
              "      <td>cfccca319397a5ea2bb11bd90b0d925d</td>\n",
              "      <td>2018-04-17</td>\n",
              "      <td>5dc848e7dd9418dffe183215b8ff0bc1</td>\n",
              "      <td>paid_search</td>\n",
              "      <td>370c9f455f93a9a96cbe9bea48e70033</td>\n",
              "      <td>9e4d1098a3b0f5da39b0bc48f9876645</td>\n",
              "      <td>2018-04-17</td>\n",
              "      <td>books</td>\n",
              "      <td>online_big</td>\n",
              "      <td>cat</td>\n",
              "      <td>NaN</td>\n",
              "      <td>NaN</td>\n",
              "      <td>NaN</td>\n",
              "      <td>reseller</td>\n",
              "      <td>NaN</td>\n",
              "      <td>0.0</td>\n",
              "      <td>2018-04-01</td>\n",
              "      <td>0.0</td>\n",
              "      <td>2018-04-01</td>\n",
              "    </tr>\n",
              "  </tbody>\n",
              "</table>\n",
              "</div>"
            ],
            "text/plain": [
              "                           order_id  ...  won_month\n",
              "0  0005f50442cb953dcd1d21e1fb923495  ... 2018-04-01\n",
              "1  01c1644529b18608f086d2ff0f3b8181  ... 2018-04-01\n",
              "2  034fe9142b806fe19c1cbc1c752ab08d  ... 2018-04-01\n",
              "3  03d6e874e44c091359a3ad62f2bec233  ... 2018-04-01\n",
              "4  07c33a9470d0df2a30cc8a8ebd0288d1  ... 2018-04-01\n",
              "\n",
              "[5 rows x 22 columns]"
            ]
          },
          "metadata": {
            "tags": []
          },
          "execution_count": 68
        }
      ]
    },
    {
      "cell_type": "code",
      "metadata": {
        "id": "ejKQkoGmsNBB",
        "colab_type": "code",
        "colab": {
          "base_uri": "https://localhost:8080/",
          "height": 206
        },
        "outputId": "fcf1e377-70ec-46cb-df00-fe175c46046b"
      },
      "source": [
        "## Aggregate the number of orders for each seller.\n",
        "## Group by won_month besides seller_id actually does not affect the result table size\n",
        "# as each seller is linked to its own won month which is unique.\n",
        "\n",
        "sellers_agg_2 = sellers_order.groupby([\"seller_id\", \"won_month\"]).agg({\"order_id\": \"nunique\"}).reset_index()\n",
        "\n",
        "sellers_agg_2.head()"
      ],
      "execution_count": null,
      "outputs": [
        {
          "output_type": "execute_result",
          "data": {
            "text/html": [
              "<div>\n",
              "<style scoped>\n",
              "    .dataframe tbody tr th:only-of-type {\n",
              "        vertical-align: middle;\n",
              "    }\n",
              "\n",
              "    .dataframe tbody tr th {\n",
              "        vertical-align: top;\n",
              "    }\n",
              "\n",
              "    .dataframe thead th {\n",
              "        text-align: right;\n",
              "    }\n",
              "</style>\n",
              "<table border=\"1\" class=\"dataframe\">\n",
              "  <thead>\n",
              "    <tr style=\"text-align: right;\">\n",
              "      <th></th>\n",
              "      <th>seller_id</th>\n",
              "      <th>won_month</th>\n",
              "      <th>order_id</th>\n",
              "    </tr>\n",
              "  </thead>\n",
              "  <tbody>\n",
              "    <tr>\n",
              "      <th>0</th>\n",
              "      <td>00065220becb8785e2cf78355eb9bf68</td>\n",
              "      <td>2018-07-01</td>\n",
              "      <td>0</td>\n",
              "    </tr>\n",
              "    <tr>\n",
              "      <th>1</th>\n",
              "      <td>01266d4c46afa519678d16a8b683d325</td>\n",
              "      <td>2018-05-01</td>\n",
              "      <td>3</td>\n",
              "    </tr>\n",
              "    <tr>\n",
              "      <th>2</th>\n",
              "      <td>013d100f608a64ec8275c038aedeb064</td>\n",
              "      <td>2018-04-01</td>\n",
              "      <td>0</td>\n",
              "    </tr>\n",
              "    <tr>\n",
              "      <th>3</th>\n",
              "      <td>01fd077212124329bac32490e8ef80d9</td>\n",
              "      <td>2018-03-01</td>\n",
              "      <td>31</td>\n",
              "    </tr>\n",
              "    <tr>\n",
              "      <th>4</th>\n",
              "      <td>0255dc67cb6bad298606136951ab1877</td>\n",
              "      <td>2018-03-01</td>\n",
              "      <td>0</td>\n",
              "    </tr>\n",
              "  </tbody>\n",
              "</table>\n",
              "</div>"
            ],
            "text/plain": [
              "                          seller_id  won_month  order_id\n",
              "0  00065220becb8785e2cf78355eb9bf68 2018-07-01         0\n",
              "1  01266d4c46afa519678d16a8b683d325 2018-05-01         3\n",
              "2  013d100f608a64ec8275c038aedeb064 2018-04-01         0\n",
              "3  01fd077212124329bac32490e8ef80d9 2018-03-01        31\n",
              "4  0255dc67cb6bad298606136951ab1877 2018-03-01         0"
            ]
          },
          "metadata": {
            "tags": []
          },
          "execution_count": 69
        }
      ]
    },
    {
      "cell_type": "code",
      "metadata": {
        "id": "48LBt7uNwsBS",
        "colab_type": "code",
        "colab": {
          "base_uri": "https://localhost:8080/",
          "height": 300
        },
        "outputId": "6b4db941-ed2d-48d0-c4a1-298bd3a771d8"
      },
      "source": [
        "# Write your code here\n",
        "# Calculate total onboarded sellers and selling sellers, then join them together.\n",
        "\n",
        "result_2 = pd.merge(sellers_agg_2.groupby(\"won_month\").agg({\"seller_id\":\"nunique\"}).reset_index().rename(columns={\"seller_id\":\"total_sellers\"}),\n",
        "                    sellers_agg_2[sellers_agg_2[\"order_id\"]>0].groupby(\"won_month\").agg({\"seller_id\":\"nunique\"}).reset_index().rename(columns={\"seller_id\":\"selling_sellers\"}),\n",
        "                    on=\"won_month\", how=\"left\")\n",
        "\n",
        "result_2[\"selling_ratio\"] = result_2[\"selling_sellers\"] * 100.0 / result_2[\"total_sellers\"]\n",
        "\n",
        "result_2.head(10)\n",
        "# result_2.columns = [\"won_month\", \"total_seller\"]"
      ],
      "execution_count": null,
      "outputs": [
        {
          "output_type": "execute_result",
          "data": {
            "text/html": [
              "<div>\n",
              "<style scoped>\n",
              "    .dataframe tbody tr th:only-of-type {\n",
              "        vertical-align: middle;\n",
              "    }\n",
              "\n",
              "    .dataframe tbody tr th {\n",
              "        vertical-align: top;\n",
              "    }\n",
              "\n",
              "    .dataframe thead th {\n",
              "        text-align: right;\n",
              "    }\n",
              "</style>\n",
              "<table border=\"1\" class=\"dataframe\">\n",
              "  <thead>\n",
              "    <tr style=\"text-align: right;\">\n",
              "      <th></th>\n",
              "      <th>won_month</th>\n",
              "      <th>total_sellers</th>\n",
              "      <th>selling_sellers</th>\n",
              "      <th>selling_ratio</th>\n",
              "    </tr>\n",
              "  </thead>\n",
              "  <tbody>\n",
              "    <tr>\n",
              "      <th>0</th>\n",
              "      <td>2018-01-01</td>\n",
              "      <td>73</td>\n",
              "      <td>41</td>\n",
              "      <td>56.164384</td>\n",
              "    </tr>\n",
              "    <tr>\n",
              "      <th>1</th>\n",
              "      <td>2018-02-01</td>\n",
              "      <td>113</td>\n",
              "      <td>61</td>\n",
              "      <td>53.982301</td>\n",
              "    </tr>\n",
              "    <tr>\n",
              "      <th>2</th>\n",
              "      <td>2018-03-01</td>\n",
              "      <td>147</td>\n",
              "      <td>74</td>\n",
              "      <td>50.340136</td>\n",
              "    </tr>\n",
              "    <tr>\n",
              "      <th>3</th>\n",
              "      <td>2018-04-01</td>\n",
              "      <td>207</td>\n",
              "      <td>104</td>\n",
              "      <td>50.241546</td>\n",
              "    </tr>\n",
              "    <tr>\n",
              "      <th>4</th>\n",
              "      <td>2018-05-01</td>\n",
              "      <td>122</td>\n",
              "      <td>64</td>\n",
              "      <td>52.459016</td>\n",
              "    </tr>\n",
              "    <tr>\n",
              "      <th>5</th>\n",
              "      <td>2018-06-01</td>\n",
              "      <td>57</td>\n",
              "      <td>23</td>\n",
              "      <td>40.350877</td>\n",
              "    </tr>\n",
              "    <tr>\n",
              "      <th>6</th>\n",
              "      <td>2018-07-01</td>\n",
              "      <td>37</td>\n",
              "      <td>10</td>\n",
              "      <td>27.027027</td>\n",
              "    </tr>\n",
              "    <tr>\n",
              "      <th>7</th>\n",
              "      <td>2018-08-01</td>\n",
              "      <td>33</td>\n",
              "      <td>2</td>\n",
              "      <td>6.060606</td>\n",
              "    </tr>\n",
              "  </tbody>\n",
              "</table>\n",
              "</div>"
            ],
            "text/plain": [
              "   won_month  total_sellers  selling_sellers  selling_ratio\n",
              "0 2018-01-01             73               41      56.164384\n",
              "1 2018-02-01            113               61      53.982301\n",
              "2 2018-03-01            147               74      50.340136\n",
              "3 2018-04-01            207              104      50.241546\n",
              "4 2018-05-01            122               64      52.459016\n",
              "5 2018-06-01             57               23      40.350877\n",
              "6 2018-07-01             37               10      27.027027\n",
              "7 2018-08-01             33                2       6.060606"
            ]
          },
          "metadata": {
            "tags": []
          },
          "execution_count": 85
        }
      ]
    },
    {
      "cell_type": "code",
      "metadata": {
        "id": "xjJjYxsJ0cw9",
        "colab_type": "code",
        "colab": {}
      },
      "source": [
        "result_2[\"Month\"] = [x.strftime(\"%Y-%m\") for x in result_2[\"won_month\"]]"
      ],
      "execution_count": null,
      "outputs": []
    },
    {
      "cell_type": "code",
      "metadata": {
        "id": "4dLhV1uRyx33",
        "colab_type": "code",
        "colab": {
          "base_uri": "https://localhost:8080/",
          "height": 445
        },
        "outputId": "2a95f3ac-fdb4-47b0-bc7e-2ee28603c36b"
      },
      "source": [
        "# Combine bar chart and line chart together\n",
        "fig, ax1 = plt.subplots(figsize=(10,6))\n",
        "ax1 = sns.barplot(data=result_2, x=\"Month\", y=\"total_sellers\", palette=None, ci=None)\n",
        "ax1.set_title(\"Onboarded vs. Selling sellers\")\n",
        "ax1.set_xlabel(\"Won Month\")\n",
        "ax1.set_ylabel(\"Onboarded Seller Count\")\n",
        "\n",
        "# Adjust the labels on x-axis\n",
        "plt.xticks(rotation=90)\n",
        "\n",
        "ax2 = ax1.twinx()\n",
        "ax2 = sns.lineplot(data=result_2, x=\"Month\", y=\"selling_ratio\", palette=None, ci=None)\n",
        "ax2.set_ylabel(\"Selling ratio\")\n",
        "\n",
        "plt.show()"
      ],
      "execution_count": null,
      "outputs": [
        {
          "output_type": "display_data",
          "data": {
            "image/png": "[encoded data removed]",
            "text/plain": [
              "<Figure size 720x432 with 2 Axes>"
            ]
          },
          "metadata": {
            "tags": [],
            "needs_background": "light"
          }
        }
      ]
    },
    {
      "cell_type": "markdown",
      "metadata": {
        "id": "LMBOtTbWwxvA",
        "colab_type": "text"
      },
      "source": [
        "### Question 3: How many among onboarded sellers have at least 1 order before 2018-08-31, grouped by month of their onboarding (win month) and their main category?\n",
        "\n",
        "Visualize the results."
      ]
    },
    {
      "cell_type": "code",
      "metadata": {
        "id": "giDkh66z-YfV",
        "colab_type": "code",
        "colab": {}
      },
      "source": [
        "# We will use business segment information to group by, \n",
        "# therefore we need to make sure there is no missing values for this variable.\n",
        "\n",
        "sellers_order[\"business_segment\"].fillna(\"Unknown\", inplace=True)"
      ],
      "execution_count": null,
      "outputs": []
    },
    {
      "cell_type": "code",
      "metadata": {
        "id": "5vGjUvSp2jBn",
        "colab_type": "code",
        "colab": {
          "base_uri": "https://localhost:8080/",
          "height": 206
        },
        "outputId": "42b9ba38-eeac-4b8b-ef28-83131cb82eb3"
      },
      "source": [
        "sellers_agg_3 = sellers_order.groupby([\"seller_id\", \"won_month\", \"business_segment\"]).agg({\"order_id\": \"nunique\"}).reset_index()\n",
        "\n",
        "sellers_agg_3.head()"
      ],
      "execution_count": null,
      "outputs": [
        {
          "output_type": "execute_result",
          "data": {
            "text/html": [
              "<div>\n",
              "<style scoped>\n",
              "    .dataframe tbody tr th:only-of-type {\n",
              "        vertical-align: middle;\n",
              "    }\n",
              "\n",
              "    .dataframe tbody tr th {\n",
              "        vertical-align: top;\n",
              "    }\n",
              "\n",
              "    .dataframe thead th {\n",
              "        text-align: right;\n",
              "    }\n",
              "</style>\n",
              "<table border=\"1\" class=\"dataframe\">\n",
              "  <thead>\n",
              "    <tr style=\"text-align: right;\">\n",
              "      <th></th>\n",
              "      <th>seller_id</th>\n",
              "      <th>won_month</th>\n",
              "      <th>business_segment</th>\n",
              "      <th>order_id</th>\n",
              "    </tr>\n",
              "  </thead>\n",
              "  <tbody>\n",
              "    <tr>\n",
              "      <th>0</th>\n",
              "      <td>00065220becb8785e2cf78355eb9bf68</td>\n",
              "      <td>2018-07-01</td>\n",
              "      <td>handcrafted</td>\n",
              "      <td>0</td>\n",
              "    </tr>\n",
              "    <tr>\n",
              "      <th>1</th>\n",
              "      <td>01266d4c46afa519678d16a8b683d325</td>\n",
              "      <td>2018-05-01</td>\n",
              "      <td>construction_tools_house_garden</td>\n",
              "      <td>3</td>\n",
              "    </tr>\n",
              "    <tr>\n",
              "      <th>2</th>\n",
              "      <td>013d100f608a64ec8275c038aedeb064</td>\n",
              "      <td>2018-04-01</td>\n",
              "      <td>food_supplement</td>\n",
              "      <td>0</td>\n",
              "    </tr>\n",
              "    <tr>\n",
              "      <th>3</th>\n",
              "      <td>01fd077212124329bac32490e8ef80d9</td>\n",
              "      <td>2018-03-01</td>\n",
              "      <td>household_utilities</td>\n",
              "      <td>31</td>\n",
              "    </tr>\n",
              "    <tr>\n",
              "      <th>4</th>\n",
              "      <td>0255dc67cb6bad298606136951ab1877</td>\n",
              "      <td>2018-03-01</td>\n",
              "      <td>computers</td>\n",
              "      <td>0</td>\n",
              "    </tr>\n",
              "  </tbody>\n",
              "</table>\n",
              "</div>"
            ],
            "text/plain": [
              "                          seller_id  ... order_id\n",
              "0  00065220becb8785e2cf78355eb9bf68  ...        0\n",
              "1  01266d4c46afa519678d16a8b683d325  ...        3\n",
              "2  013d100f608a64ec8275c038aedeb064  ...        0\n",
              "3  01fd077212124329bac32490e8ef80d9  ...       31\n",
              "4  0255dc67cb6bad298606136951ab1877  ...        0\n",
              "\n",
              "[5 rows x 4 columns]"
            ]
          },
          "metadata": {
            "tags": []
          },
          "execution_count": 161
        }
      ]
    },
    {
      "cell_type": "code",
      "metadata": {
        "id": "goxn33JI9kFo",
        "colab_type": "code",
        "colab": {
          "base_uri": "https://localhost:8080/",
          "height": 191
        },
        "outputId": "9812dac7-7c6a-426d-a4c7-40a25d050dfb"
      },
      "source": [
        "sellers_agg_3[\"business_segment\"].unique()"
      ],
      "execution_count": null,
      "outputs": [
        {
          "output_type": "execute_result",
          "data": {
            "text/plain": [
              "array(['handcrafted', 'construction_tools_house_garden',\n",
              "       'food_supplement', 'household_utilities', 'computers',\n",
              "       'phone_mobile', 'sports_leisure', 'food_drink', 'home_decor',\n",
              "       'pet', 'audio_video_electronics', 'health_beauty',\n",
              "       'fashion_accessories', 'stationery', 'bed_bath_table',\n",
              "       'car_accessories', 'party', 'bags_backpacks', 'books',\n",
              "       'home_appliances', 'toys', 'games_consoles', 'music_instruments',\n",
              "       'watches', 'air_conditioning', 'small_appliances', 'baby',\n",
              "       'home_office_furniture', 'jewerly', 'perfume', 'gifts', 'Unknown',\n",
              "       'religious'], dtype=object)"
            ]
          },
          "metadata": {
            "tags": []
          },
          "execution_count": 164
        }
      ]
    },
    {
      "cell_type": "code",
      "metadata": {
        "id": "tQdC3yjT2u_v",
        "colab_type": "code",
        "colab": {}
      },
      "source": [
        "result_3 = pd.merge(sellers_agg_3.groupby([\"won_month\",\"business_segment\"]).agg({\"seller_id\":\"nunique\"}).reset_index().rename(columns={\"seller_id\":\"total_sellers\"}),\n",
        "                    sellers_agg_3.loc[sellers_agg_3[\"order_id\"] > 0].groupby([\"won_month\",\"business_segment\"]).agg({\"seller_id\":\"nunique\"}).reset_index().rename(columns={\"seller_id\":\"selling_sellers\"}),\n",
        "                    on=[\"won_month\",\"business_segment\"],\n",
        "                    how=\"left\")\n",
        "\n",
        "result_3[\"selling_ratio\"] = result_3[\"selling_sellers\"] * 100.0 / result_3[\"total_sellers\"]\n",
        "\n",
        "result_3[\"Month\"] = [x.strftime(\"%Y-%m\") for x in result_3[\"won_month\"]]"
      ],
      "execution_count": null,
      "outputs": []
    },
    {
      "cell_type": "code",
      "metadata": {
        "id": "X446VzuD58f6",
        "colab_type": "code",
        "colab": {
          "base_uri": "https://localhost:8080/",
          "height": 363
        },
        "outputId": "9da109f5-ccf9-4889-fc17-3119cc95a278"
      },
      "source": [
        "# Sort from largest to smallest by number of selling sellers\n",
        "result_3.sort_values(\"total_sellers\", ascending=False).head(10)"
      ],
      "execution_count": null,
      "outputs": [
        {
          "output_type": "execute_result",
          "data": {
            "text/html": [
              "<div>\n",
              "<style scoped>\n",
              "    .dataframe tbody tr th:only-of-type {\n",
              "        vertical-align: middle;\n",
              "    }\n",
              "\n",
              "    .dataframe tbody tr th {\n",
              "        vertical-align: top;\n",
              "    }\n",
              "\n",
              "    .dataframe thead th {\n",
              "        text-align: right;\n",
              "    }\n",
              "</style>\n",
              "<table border=\"1\" class=\"dataframe\">\n",
              "  <thead>\n",
              "    <tr style=\"text-align: right;\">\n",
              "      <th></th>\n",
              "      <th>won_month</th>\n",
              "      <th>business_segment</th>\n",
              "      <th>total_sellers</th>\n",
              "      <th>selling_sellers</th>\n",
              "      <th>selling_ratio</th>\n",
              "      <th>Month</th>\n",
              "    </tr>\n",
              "  </thead>\n",
              "  <tbody>\n",
              "    <tr>\n",
              "      <th>92</th>\n",
              "      <td>2018-04-01</td>\n",
              "      <td>home_decor</td>\n",
              "      <td>29</td>\n",
              "      <td>13.0</td>\n",
              "      <td>44.827586</td>\n",
              "      <td>2018-04</td>\n",
              "    </tr>\n",
              "    <tr>\n",
              "      <th>82</th>\n",
              "      <td>2018-04-01</td>\n",
              "      <td>car_accessories</td>\n",
              "      <td>25</td>\n",
              "      <td>9.0</td>\n",
              "      <td>36.000000</td>\n",
              "      <td>2018-04</td>\n",
              "    </tr>\n",
              "    <tr>\n",
              "      <th>117</th>\n",
              "      <td>2018-05-01</td>\n",
              "      <td>health_beauty</td>\n",
              "      <td>20</td>\n",
              "      <td>10.0</td>\n",
              "      <td>50.000000</td>\n",
              "      <td>2018-05</td>\n",
              "    </tr>\n",
              "    <tr>\n",
              "      <th>90</th>\n",
              "      <td>2018-04-01</td>\n",
              "      <td>health_beauty</td>\n",
              "      <td>19</td>\n",
              "      <td>12.0</td>\n",
              "      <td>63.157895</td>\n",
              "      <td>2018-04</td>\n",
              "    </tr>\n",
              "    <tr>\n",
              "      <th>65</th>\n",
              "      <td>2018-03-01</td>\n",
              "      <td>home_decor</td>\n",
              "      <td>18</td>\n",
              "      <td>8.0</td>\n",
              "      <td>44.444444</td>\n",
              "      <td>2018-03</td>\n",
              "    </tr>\n",
              "    <tr>\n",
              "      <th>94</th>\n",
              "      <td>2018-04-01</td>\n",
              "      <td>household_utilities</td>\n",
              "      <td>18</td>\n",
              "      <td>10.0</td>\n",
              "      <td>55.555556</td>\n",
              "      <td>2018-04</td>\n",
              "    </tr>\n",
              "    <tr>\n",
              "      <th>77</th>\n",
              "      <td>2018-04-01</td>\n",
              "      <td>audio_video_electronics</td>\n",
              "      <td>18</td>\n",
              "      <td>10.0</td>\n",
              "      <td>55.555556</td>\n",
              "      <td>2018-04</td>\n",
              "    </tr>\n",
              "    <tr>\n",
              "      <th>64</th>\n",
              "      <td>2018-03-01</td>\n",
              "      <td>health_beauty</td>\n",
              "      <td>16</td>\n",
              "      <td>9.0</td>\n",
              "      <td>56.250000</td>\n",
              "      <td>2018-03</td>\n",
              "    </tr>\n",
              "    <tr>\n",
              "      <th>58</th>\n",
              "      <td>2018-03-01</td>\n",
              "      <td>construction_tools_house_garden</td>\n",
              "      <td>16</td>\n",
              "      <td>8.0</td>\n",
              "      <td>50.000000</td>\n",
              "      <td>2018-03</td>\n",
              "    </tr>\n",
              "    <tr>\n",
              "      <th>110</th>\n",
              "      <td>2018-05-01</td>\n",
              "      <td>car_accessories</td>\n",
              "      <td>16</td>\n",
              "      <td>8.0</td>\n",
              "      <td>50.000000</td>\n",
              "      <td>2018-05</td>\n",
              "    </tr>\n",
              "  </tbody>\n",
              "</table>\n",
              "</div>"
            ],
            "text/plain": [
              "     won_month                 business_segment  ...  selling_ratio    Month\n",
              "92  2018-04-01                       home_decor  ...      44.827586  2018-04\n",
              "82  2018-04-01                  car_accessories  ...      36.000000  2018-04\n",
              "117 2018-05-01                    health_beauty  ...      50.000000  2018-05\n",
              "90  2018-04-01                    health_beauty  ...      63.157895  2018-04\n",
              "65  2018-03-01                       home_decor  ...      44.444444  2018-03\n",
              "94  2018-04-01              household_utilities  ...      55.555556  2018-04\n",
              "77  2018-04-01          audio_video_electronics  ...      55.555556  2018-04\n",
              "64  2018-03-01                    health_beauty  ...      56.250000  2018-03\n",
              "58  2018-03-01  construction_tools_house_garden  ...      50.000000  2018-03\n",
              "110 2018-05-01                  car_accessories  ...      50.000000  2018-05\n",
              "\n",
              "[10 rows x 6 columns]"
            ]
          },
          "metadata": {
            "tags": []
          },
          "execution_count": 168
        }
      ]
    },
    {
      "cell_type": "code",
      "metadata": {
        "id": "smcM1qrd6NFh",
        "colab_type": "code",
        "colab": {
          "base_uri": "https://localhost:8080/",
          "height": 681
        },
        "outputId": "64896de6-3aee-4c58-b657-57b9cf8ab1b1"
      },
      "source": [
        "fig, ax1 = plt.subplots(figsize=(20,12))\n",
        "ax1 = sns.barplot(data=result_3, x=\"Month\", y=\"total_sellers\", hue=\"business_segment\")\n",
        "ax1.set_title(\"Onboarded sellers\")\n",
        "ax1.set_xlabel(\"Won Month\")\n",
        "ax1.set_ylabel(\"Onboarded Seller Count\")\n",
        "\n",
        "# Adjust the labels on x-axis\n",
        "plt.xticks(rotation=90)\n",
        "plt.legend(loc=\"upper right\")\n",
        "\n",
        "plt.show()"
      ],
      "execution_count": null,
      "outputs": [
        {
          "output_type": "display_data",
          "data": {
            "image/png": "[encoded data removed]",
            "text/plain": [
              "<Figure size 1440x864 with 1 Axes>"
            ]
          },
          "metadata": {
            "tags": [],
            "needs_background": "light"
          }
        }
      ]
    },
    {
      "cell_type": "markdown",
      "metadata": {
        "id": "WXogkZIOwAy-",
        "colab_type": "text"
      },
      "source": [
        "### Question 4: How many among onboarded sellers could have at least 1 orders within their first 30 days with Olist, grouped by month of their onboarding (win month)?"
      ]
    },
    {
      "cell_type": "code",
      "metadata": {
        "id": "h5YnHolhwMRg",
        "colab_type": "code",
        "colab": {}
      },
      "source": [
        "# Write your code here\n",
        "\n",
        "\n",
        "\n"
      ],
      "execution_count": null,
      "outputs": []
    },
    {
      "cell_type": "markdown",
      "metadata": {
        "id": "ymVsP-cbwOWJ",
        "colab_type": "text"
      },
      "source": [
        "### Question 5: Assume that Olist collect 2.5% on the sales values of all sellers. What is the revenue that Olist has collected from these new sellers (onboarded in from 2018-01-01 to 2018-08-31), grouped by sales month and their main category?"
      ]
    },
    {
      "cell_type": "code",
      "metadata": {
        "id": "ouTXYmKlzYS1",
        "colab_type": "code",
        "colab": {
          "base_uri": "https://localhost:8080/",
          "height": 241
        },
        "outputId": "8853b8b1-4ed6-432d-83fa-7449f9d4faf3"
      },
      "source": [
        "onboard_sellers.head()"
      ],
      "execution_count": null,
      "outputs": [
        {
          "output_type": "execute_result",
          "data": {
            "text/html": [
              "<div>\n",
              "<style scoped>\n",
              "    .dataframe tbody tr th:only-of-type {\n",
              "        vertical-align: middle;\n",
              "    }\n",
              "\n",
              "    .dataframe tbody tr th {\n",
              "        vertical-align: top;\n",
              "    }\n",
              "\n",
              "    .dataframe thead th {\n",
              "        text-align: right;\n",
              "    }\n",
              "</style>\n",
              "<table border=\"1\" class=\"dataframe\">\n",
              "  <thead>\n",
              "    <tr style=\"text-align: right;\">\n",
              "      <th></th>\n",
              "      <th>mql_id</th>\n",
              "      <th>first_contact_date</th>\n",
              "      <th>landing_page_id</th>\n",
              "      <th>origin</th>\n",
              "      <th>seller_id</th>\n",
              "      <th>sdr_id</th>\n",
              "      <th>sr_id</th>\n",
              "      <th>won_date</th>\n",
              "      <th>business_segment</th>\n",
              "      <th>lead_type</th>\n",
              "      <th>lead_behaviour_profile</th>\n",
              "      <th>has_company</th>\n",
              "      <th>has_gtin</th>\n",
              "      <th>average_stock</th>\n",
              "      <th>business_type</th>\n",
              "      <th>declared_product_catalog_size</th>\n",
              "      <th>declared_monthly_revenue</th>\n",
              "      <th>first_contact_month</th>\n",
              "      <th>convert_time</th>\n",
              "      <th>converted</th>\n",
              "    </tr>\n",
              "  </thead>\n",
              "  <tbody>\n",
              "    <tr>\n",
              "      <th>0</th>\n",
              "      <td>dac32acd4db4c29c230538b72f8dd87d</td>\n",
              "      <td>2018-02-01</td>\n",
              "      <td>88740e65d5d6b056e0cda098e1ea6313</td>\n",
              "      <td>social</td>\n",
              "      <td>NaN</td>\n",
              "      <td>NaN</td>\n",
              "      <td>NaN</td>\n",
              "      <td>NaT</td>\n",
              "      <td>NaN</td>\n",
              "      <td>NaN</td>\n",
              "      <td>NaN</td>\n",
              "      <td>NaN</td>\n",
              "      <td>NaN</td>\n",
              "      <td>NaN</td>\n",
              "      <td>NaN</td>\n",
              "      <td>NaN</td>\n",
              "      <td>NaN</td>\n",
              "      <td>2018-02-01</td>\n",
              "      <td>NaN</td>\n",
              "      <td>0.0</td>\n",
              "    </tr>\n",
              "    <tr>\n",
              "      <th>1</th>\n",
              "      <td>8c18d1de7f67e60dbd64e3c07d7e9d5d</td>\n",
              "      <td>2017-10-20</td>\n",
              "      <td>007f9098284a86ee80ddeb25d53e0af8</td>\n",
              "      <td>paid_search</td>\n",
              "      <td>NaN</td>\n",
              "      <td>NaN</td>\n",
              "      <td>NaN</td>\n",
              "      <td>NaT</td>\n",
              "      <td>NaN</td>\n",
              "      <td>NaN</td>\n",
              "      <td>NaN</td>\n",
              "      <td>NaN</td>\n",
              "      <td>NaN</td>\n",
              "      <td>NaN</td>\n",
              "      <td>NaN</td>\n",
              "      <td>NaN</td>\n",
              "      <td>NaN</td>\n",
              "      <td>2017-10-01</td>\n",
              "      <td>NaN</td>\n",
              "      <td>0.0</td>\n",
              "    </tr>\n",
              "    <tr>\n",
              "      <th>2</th>\n",
              "      <td>b4bc852d233dfefc5131f593b538befa</td>\n",
              "      <td>2018-03-22</td>\n",
              "      <td>a7982125ff7aa3b2054c6e44f9d28522</td>\n",
              "      <td>organic_search</td>\n",
              "      <td>NaN</td>\n",
              "      <td>NaN</td>\n",
              "      <td>NaN</td>\n",
              "      <td>NaT</td>\n",
              "      <td>NaN</td>\n",
              "      <td>NaN</td>\n",
              "      <td>NaN</td>\n",
              "      <td>NaN</td>\n",
              "      <td>NaN</td>\n",
              "      <td>NaN</td>\n",
              "      <td>NaN</td>\n",
              "      <td>NaN</td>\n",
              "      <td>NaN</td>\n",
              "      <td>2018-03-01</td>\n",
              "      <td>NaN</td>\n",
              "      <td>0.0</td>\n",
              "    </tr>\n",
              "    <tr>\n",
              "      <th>3</th>\n",
              "      <td>6be030b81c75970747525b843c1ef4f8</td>\n",
              "      <td>2018-01-22</td>\n",
              "      <td>d45d558f0daeecf3cccdffe3c59684aa</td>\n",
              "      <td>email</td>\n",
              "      <td>NaN</td>\n",
              "      <td>NaN</td>\n",
              "      <td>NaN</td>\n",
              "      <td>NaT</td>\n",
              "      <td>NaN</td>\n",
              "      <td>NaN</td>\n",
              "      <td>NaN</td>\n",
              "      <td>NaN</td>\n",
              "      <td>NaN</td>\n",
              "      <td>NaN</td>\n",
              "      <td>NaN</td>\n",
              "      <td>NaN</td>\n",
              "      <td>NaN</td>\n",
              "      <td>2018-01-01</td>\n",
              "      <td>NaN</td>\n",
              "      <td>0.0</td>\n",
              "    </tr>\n",
              "    <tr>\n",
              "      <th>4</th>\n",
              "      <td>5420aad7fec3549a85876ba1c529bd84</td>\n",
              "      <td>2018-02-21</td>\n",
              "      <td>b48ec5f3b04e9068441002a19df93c6c</td>\n",
              "      <td>organic_search</td>\n",
              "      <td>2c43fb513632d29b3b58df74816f1b06</td>\n",
              "      <td>a8387c01a09e99ce014107505b92388c</td>\n",
              "      <td>4ef15afb4b2723d8f3d81e51ec7afefe</td>\n",
              "      <td>2018-02-26</td>\n",
              "      <td>pet</td>\n",
              "      <td>online_medium</td>\n",
              "      <td>cat</td>\n",
              "      <td>NaN</td>\n",
              "      <td>NaN</td>\n",
              "      <td>NaN</td>\n",
              "      <td>reseller</td>\n",
              "      <td>NaN</td>\n",
              "      <td>0.0</td>\n",
              "      <td>2018-02-01</td>\n",
              "      <td>5.0</td>\n",
              "      <td>1.0</td>\n",
              "    </tr>\n",
              "  </tbody>\n",
              "</table>\n",
              "</div>"
            ],
            "text/plain": [
              "                             mql_id first_contact_date  ... convert_time converted\n",
              "0  dac32acd4db4c29c230538b72f8dd87d         2018-02-01  ...          NaN       0.0\n",
              "1  8c18d1de7f67e60dbd64e3c07d7e9d5d         2017-10-20  ...          NaN       0.0\n",
              "2  b4bc852d233dfefc5131f593b538befa         2018-03-22  ...          NaN       0.0\n",
              "3  6be030b81c75970747525b843c1ef4f8         2018-01-22  ...          NaN       0.0\n",
              "4  5420aad7fec3549a85876ba1c529bd84         2018-02-21  ...          5.0       1.0\n",
              "\n",
              "[5 rows x 20 columns]"
            ]
          },
          "metadata": {
            "tags": []
          },
          "execution_count": 79
        }
      ]
    },
    {
      "cell_type": "code",
      "metadata": {
        "id": "bohOa3jgzdgW",
        "colab_type": "code",
        "colab": {
          "base_uri": "https://localhost:8080/",
          "height": 309
        },
        "outputId": "77f11b05-bd39-4c30-d8af-88bcdd075535"
      },
      "source": [
        "onboard_sellers['won_date'] = pd.to_datetime(onboard_sellers['won_date'])\n",
        "\n",
        "onboard_sellers_filter = onboard_sellers[(onboard_sellers['won_date']>= pd.Timestamp(2018,1,1)) &  \n",
        "                                          (onboard_sellers['won_date']<= pd.Timestamp(2018,1,31))]\n",
        "onboard_sellers_filter.head()                                          "
      ],
      "execution_count": null,
      "outputs": [
        {
          "output_type": "execute_result",
          "data": {
            "text/html": [
              "<div>\n",
              "<style scoped>\n",
              "    .dataframe tbody tr th:only-of-type {\n",
              "        vertical-align: middle;\n",
              "    }\n",
              "\n",
              "    .dataframe tbody tr th {\n",
              "        vertical-align: top;\n",
              "    }\n",
              "\n",
              "    .dataframe thead th {\n",
              "        text-align: right;\n",
              "    }\n",
              "</style>\n",
              "<table border=\"1\" class=\"dataframe\">\n",
              "  <thead>\n",
              "    <tr style=\"text-align: right;\">\n",
              "      <th></th>\n",
              "      <th>mql_id</th>\n",
              "      <th>first_contact_date</th>\n",
              "      <th>landing_page_id</th>\n",
              "      <th>origin</th>\n",
              "      <th>seller_id</th>\n",
              "      <th>sdr_id</th>\n",
              "      <th>sr_id</th>\n",
              "      <th>won_date</th>\n",
              "      <th>business_segment</th>\n",
              "      <th>lead_type</th>\n",
              "      <th>lead_behaviour_profile</th>\n",
              "      <th>has_company</th>\n",
              "      <th>has_gtin</th>\n",
              "      <th>average_stock</th>\n",
              "      <th>business_type</th>\n",
              "      <th>declared_product_catalog_size</th>\n",
              "      <th>declared_monthly_revenue</th>\n",
              "      <th>first_contact_month</th>\n",
              "      <th>convert_time</th>\n",
              "      <th>converted</th>\n",
              "    </tr>\n",
              "  </thead>\n",
              "  <tbody>\n",
              "    <tr>\n",
              "      <th>39</th>\n",
              "      <td>f5fee8f7da74f4887f5bcae2bafb6dd6</td>\n",
              "      <td>2018-01-14</td>\n",
              "      <td>22c29808c4f815213303f8933030604c</td>\n",
              "      <td>paid_search</td>\n",
              "      <td>21e1781e36faf92725dde4730a88ca0f</td>\n",
              "      <td>56bf83c4bb35763a51c2baab501b4c67</td>\n",
              "      <td>d3d1e91a157ea7f90548eef82f1955e3</td>\n",
              "      <td>2018-01-17</td>\n",
              "      <td>food_drink</td>\n",
              "      <td>online_small</td>\n",
              "      <td>NaN</td>\n",
              "      <td>NaN</td>\n",
              "      <td>NaN</td>\n",
              "      <td>NaN</td>\n",
              "      <td>reseller</td>\n",
              "      <td>NaN</td>\n",
              "      <td>0.0</td>\n",
              "      <td>2018-01-01</td>\n",
              "      <td>3.0</td>\n",
              "      <td>1.0</td>\n",
              "    </tr>\n",
              "    <tr>\n",
              "      <th>225</th>\n",
              "      <td>9878253904482726e741460a99adba86</td>\n",
              "      <td>2018-01-22</td>\n",
              "      <td>22c29808c4f815213303f8933030604c</td>\n",
              "      <td>organic_search</td>\n",
              "      <td>92d46311e4fa7583d14c351fdc881af6</td>\n",
              "      <td>de63de0d10a6012430098db33c679b0b</td>\n",
              "      <td>4ef15afb4b2723d8f3d81e51ec7afefe</td>\n",
              "      <td>2018-01-26</td>\n",
              "      <td>food_supplement</td>\n",
              "      <td>industry</td>\n",
              "      <td>NaN</td>\n",
              "      <td>NaN</td>\n",
              "      <td>NaN</td>\n",
              "      <td>NaN</td>\n",
              "      <td>manufacturer</td>\n",
              "      <td>NaN</td>\n",
              "      <td>0.0</td>\n",
              "      <td>2018-01-01</td>\n",
              "      <td>4.0</td>\n",
              "      <td>1.0</td>\n",
              "    </tr>\n",
              "    <tr>\n",
              "      <th>720</th>\n",
              "      <td>77abef21c838da55e14ffc88016ce91f</td>\n",
              "      <td>2018-01-05</td>\n",
              "      <td>22c29808c4f815213303f8933030604c</td>\n",
              "      <td>organic_search</td>\n",
              "      <td>eba08391609dfda5c016fdd264f9383b</td>\n",
              "      <td>068066e24f0c643eb1d089c7dd20cd73</td>\n",
              "      <td>6565aa9ce3178a5caf6171827af3a9ba</td>\n",
              "      <td>2018-01-12</td>\n",
              "      <td>home_decor</td>\n",
              "      <td>online_medium</td>\n",
              "      <td>NaN</td>\n",
              "      <td>NaN</td>\n",
              "      <td>NaN</td>\n",
              "      <td>NaN</td>\n",
              "      <td>reseller</td>\n",
              "      <td>NaN</td>\n",
              "      <td>0.0</td>\n",
              "      <td>2018-01-01</td>\n",
              "      <td>7.0</td>\n",
              "      <td>1.0</td>\n",
              "    </tr>\n",
              "    <tr>\n",
              "      <th>768</th>\n",
              "      <td>5985e72b3752e4749926885db1b45be4</td>\n",
              "      <td>2018-01-23</td>\n",
              "      <td>b76ef37428e6799c421989521c0e5077</td>\n",
              "      <td>unknown</td>\n",
              "      <td>044668ccd5316b12a7cf0d54a156e3e9</td>\n",
              "      <td>56bf83c4bb35763a51c2baab501b4c67</td>\n",
              "      <td>4ef15afb4b2723d8f3d81e51ec7afefe</td>\n",
              "      <td>2018-01-31</td>\n",
              "      <td>food_drink</td>\n",
              "      <td>offline</td>\n",
              "      <td>NaN</td>\n",
              "      <td>NaN</td>\n",
              "      <td>NaN</td>\n",
              "      <td>NaN</td>\n",
              "      <td>reseller</td>\n",
              "      <td>NaN</td>\n",
              "      <td>0.0</td>\n",
              "      <td>2018-01-01</td>\n",
              "      <td>8.0</td>\n",
              "      <td>1.0</td>\n",
              "    </tr>\n",
              "    <tr>\n",
              "      <th>830</th>\n",
              "      <td>e5f15cc640c8a7408103dd190ced966c</td>\n",
              "      <td>2018-01-03</td>\n",
              "      <td>b76ef37428e6799c421989521c0e5077</td>\n",
              "      <td>unknown</td>\n",
              "      <td>30a81d8cf85fb2ada1b1b094c9583a95</td>\n",
              "      <td>068066e24f0c643eb1d089c7dd20cd73</td>\n",
              "      <td>4ef15afb4b2723d8f3d81e51ec7afefe</td>\n",
              "      <td>2018-01-19</td>\n",
              "      <td>pet</td>\n",
              "      <td>online_top</td>\n",
              "      <td>NaN</td>\n",
              "      <td>NaN</td>\n",
              "      <td>NaN</td>\n",
              "      <td>NaN</td>\n",
              "      <td>reseller</td>\n",
              "      <td>NaN</td>\n",
              "      <td>0.0</td>\n",
              "      <td>2018-01-01</td>\n",
              "      <td>16.0</td>\n",
              "      <td>1.0</td>\n",
              "    </tr>\n",
              "  </tbody>\n",
              "</table>\n",
              "</div>"
            ],
            "text/plain": [
              "                               mql_id  ... converted\n",
              "39   f5fee8f7da74f4887f5bcae2bafb6dd6  ...       1.0\n",
              "225  9878253904482726e741460a99adba86  ...       1.0\n",
              "720  77abef21c838da55e14ffc88016ce91f  ...       1.0\n",
              "768  5985e72b3752e4749926885db1b45be4  ...       1.0\n",
              "830  e5f15cc640c8a7408103dd190ced966c  ...       1.0\n",
              "\n",
              "[5 rows x 20 columns]"
            ]
          },
          "metadata": {
            "tags": []
          },
          "execution_count": 82
        }
      ]
    },
    {
      "cell_type": "code",
      "metadata": {
        "id": "5aiKTp74xhBE",
        "colab_type": "code",
        "colab": {
          "base_uri": "https://localhost:8080/",
          "height": 136
        },
        "outputId": "7223584a-f635-43ba-a601-512be296bc1e"
      },
      "source": [
        "# Write your code here\n",
        "sellers_order = pd.merge(order_items[['order_id', 'seller_id', 'product_id', 'freight_value']], \n",
        "                         orders[['order_id', 'order_approved_at']], \n",
        "                         on='order_id', how='inner')\n",
        "sellers_product = pd.merge(sellers_order, products[['product_id','product_category_name']])\n",
        "\n",
        "onboard_sellers_product = pd.merge(sellers_product, onboard_sellers_filter[['seller_id','won_date']],\n",
        "                                   on='seller_id', how='inner')\n",
        "onboard_sellers_product['olist_rev'] = onboard_sellers_product['freight_value']*0.025\n",
        "onboard_sellers_product.head()\n",
        "\n",
        "onboard_sellers_product['order_approved_at_YM'] = pd.to_datetime(sellers_product['order_approved_at']).dt.to_period('M')\n",
        "onboard_sellers_product.head()\n",
        "\n",
        "onboard_sellers_agg = onboard_sellers_product.groupby([\"order_approved_at_YM\", \"product_category_name\"]).agg({\"olist_rev\": \"sum\"})\n",
        "onboard_sellers_agg['olist_rev'].head()\n",
        "\n"
      ],
      "execution_count": null,
      "outputs": [
        {
          "output_type": "execute_result",
          "data": {
            "text/plain": [
              "order_approved_at_YM  product_category_name\n",
              "2017-02               cama_mesa_banho          0.35875\n",
              "                      utilidades_domesticas    0.53150\n",
              "2017-03               bebes                    0.54750\n",
              "                      beleza_saude             2.95575\n",
              "                      cama_mesa_banho          0.68725\n",
              "Name: olist_rev, dtype: float64"
            ]
          },
          "metadata": {
            "tags": []
          },
          "execution_count": 97
        }
      ]
    }
  ]
}