{
  "nbformat": 4,
  "nbformat_minor": 0,
  "metadata": {
    "colab": {
      "name": "[Students] Python basics.ipynb",
      "provenance": [],
      "collapsed_sections": [],
      "include_colab_link": true
    },
    "kernelspec": {
      "name": "python3",
      "display_name": "Python 3"
    }
  },
  "cells": [
    {
      "cell_type": "markdown",
      "metadata": {
        "id": "view-in-github",
        "colab_type": "text"
      },
      "source": [
        "<a href=\"https://colab.research.google.com/github/Mai-Binh-Nam/Hand-on_DataAnalysisVEF/blob/master/%5BStudents%5D_Python_basics.ipynb\" target=\"_parent\"><img src=\"https://colab.research.google.com/assets/colab-badge.svg\" alt=\"Open In Colab\"/></a>"
      ]
    },
    {
      "cell_type": "markdown",
      "metadata": {
        "id": "sMkHuqoo7mtx",
        "colab_type": "text"
      },
      "source": [
        "# Package `pandas` and dataframe structure"
      ]
    },
    {
      "cell_type": "markdown",
      "metadata": {
        "id": "LxI9VnsE7tzh",
        "colab_type": "text"
      },
      "source": [
        "In data analysis, pandas is one of the most important libraries we will need to know. As discussed in class, structured data in reality are stored in tabular format such as the order table from the case study. `Dataframe` structure from `pandas` library is very convenient for this purpose."
      ]
    },
    {
      "cell_type": "markdown",
      "metadata": {
        "id": "u3RTfd04BQju",
        "colab_type": "text"
      },
      "source": [
        "## 1. Dataframe information"
      ]
    },
    {
      "cell_type": "markdown",
      "metadata": {
        "id": "aL1pmJih5jWP",
        "colab_type": "text"
      },
      "source": [
        "To start using pandas, import it to our notebook"
      ]
    },
    {
      "cell_type": "code",
      "metadata": {
        "id": "Z_vpjYW85edM",
        "colab_type": "code",
        "colab": {}
      },
      "source": [
        "import pandas as pd"
      ],
      "execution_count": null,
      "outputs": []
    },
    {
      "cell_type": "markdown",
      "metadata": {
        "id": "ll3ahP-R8mze",
        "colab_type": "text"
      },
      "source": [
        "We can create a dataframe by inputing the data directly in python command. But often, we read tables from external sources such as csv files and store them in a dataframe. Let's read the order table as done before."
      ]
    },
    {
      "cell_type": "code",
      "metadata": {
        "id": "VaiGlXhM5iTo",
        "colab_type": "code",
        "colab": {}
      },
      "source": [
        "# Orders\n",
        "orders = pd.read_csv('https://raw.githubusercontent.com/thuynh386/olist_ecommerce_dataset/master/olist_orders_dataset.csv')"
      ],
      "execution_count": null,
      "outputs": []
    },
    {
      "cell_type": "markdown",
      "metadata": {
        "id": "AMG56ZeC9Dqz",
        "colab_type": "text"
      },
      "source": [
        "Now we have a dataframe `orders` containing information about every order made on Olist during the time period in consideration.\n",
        "\n",
        "`head()` is a function to explore a dataframe by printing several (default 5) first rows. `tail()` prints several (default 5) last rows of a dataframe."
      ]
    },
    {
      "cell_type": "code",
      "metadata": {
        "id": "0sHYYyRU9CdL",
        "colab_type": "code",
        "colab": {
          "base_uri": "https://localhost:8080/",
          "height": 226
        },
        "outputId": "b4e6dc3e-0b86-4a0d-abe9-59ef30f7229b"
      },
      "source": [
        "orders.head()"
      ],
      "execution_count": null,
      "outputs": [
        {
          "output_type": "execute_result",
          "data": {
            "text/html": [
              "<div>\n",
              "<style scoped>\n",
              "    .dataframe tbody tr th:only-of-type {\n",
              "        vertical-align: middle;\n",
              "    }\n",
              "\n",
              "    .dataframe tbody tr th {\n",
              "        vertical-align: top;\n",
              "    }\n",
              "\n",
              "    .dataframe thead th {\n",
              "        text-align: right;\n",
              "    }\n",
              "</style>\n",
              "<table border=\"1\" class=\"dataframe\">\n",
              "  <thead>\n",
              "    <tr style=\"text-align: right;\">\n",
              "      <th></th>\n",
              "      <th>order_id</th>\n",
              "      <th>customer_id</th>\n",
              "      <th>order_status</th>\n",
              "      <th>order_purchase_timestamp</th>\n",
              "      <th>order_approved_at</th>\n",
              "      <th>order_delivered_carrier_date</th>\n",
              "      <th>order_delivered_customer_date</th>\n",
              "      <th>order_estimated_delivery_date</th>\n",
              "    </tr>\n",
              "  </thead>\n",
              "  <tbody>\n",
              "    <tr>\n",
              "      <th>0</th>\n",
              "      <td>e481f51cbdc54678b7cc49136f2d6af7</td>\n",
              "      <td>9ef432eb6251297304e76186b10a928d</td>\n",
              "      <td>delivered</td>\n",
              "      <td>2017-10-02 10:56:33</td>\n",
              "      <td>2017-10-02 11:07:15</td>\n",
              "      <td>2017-10-04 19:55:00</td>\n",
              "      <td>2017-10-10 21:25:13</td>\n",
              "      <td>2017-10-18 00:00:00</td>\n",
              "    </tr>\n",
              "    <tr>\n",
              "      <th>1</th>\n",
              "      <td>53cdb2fc8bc7dce0b6741e2150273451</td>\n",
              "      <td>b0830fb4747a6c6d20dea0b8c802d7ef</td>\n",
              "      <td>delivered</td>\n",
              "      <td>2018-07-24 20:41:37</td>\n",
              "      <td>2018-07-26 03:24:27</td>\n",
              "      <td>2018-07-26 14:31:00</td>\n",
              "      <td>2018-08-07 15:27:45</td>\n",
              "      <td>2018-08-13 00:00:00</td>\n",
              "    </tr>\n",
              "    <tr>\n",
              "      <th>2</th>\n",
              "      <td>47770eb9100c2d0c44946d9cf07ec65d</td>\n",
              "      <td>41ce2a54c0b03bf3443c3d931a367089</td>\n",
              "      <td>delivered</td>\n",
              "      <td>2018-08-08 08:38:49</td>\n",
              "      <td>2018-08-08 08:55:23</td>\n",
              "      <td>2018-08-08 13:50:00</td>\n",
              "      <td>2018-08-17 18:06:29</td>\n",
              "      <td>2018-09-04 00:00:00</td>\n",
              "    </tr>\n",
              "    <tr>\n",
              "      <th>3</th>\n",
              "      <td>949d5b44dbf5de918fe9c16f97b45f8a</td>\n",
              "      <td>f88197465ea7920adcdbec7375364d82</td>\n",
              "      <td>delivered</td>\n",
              "      <td>2017-11-18 19:28:06</td>\n",
              "      <td>2017-11-18 19:45:59</td>\n",
              "      <td>2017-11-22 13:39:59</td>\n",
              "      <td>2017-12-02 00:28:42</td>\n",
              "      <td>2017-12-15 00:00:00</td>\n",
              "    </tr>\n",
              "    <tr>\n",
              "      <th>4</th>\n",
              "      <td>ad21c59c0840e6cb83a9ceb5573f8159</td>\n",
              "      <td>8ab97904e6daea8866dbdbc4fb7aad2c</td>\n",
              "      <td>delivered</td>\n",
              "      <td>2018-02-13 21:18:39</td>\n",
              "      <td>2018-02-13 22:20:29</td>\n",
              "      <td>2018-02-14 19:46:34</td>\n",
              "      <td>2018-02-16 18:17:02</td>\n",
              "      <td>2018-02-26 00:00:00</td>\n",
              "    </tr>\n",
              "  </tbody>\n",
              "</table>\n",
              "</div>"
            ],
            "text/plain": [
              "                           order_id  ... order_estimated_delivery_date\n",
              "0  e481f51cbdc54678b7cc49136f2d6af7  ...           2017-10-18 00:00:00\n",
              "1  53cdb2fc8bc7dce0b6741e2150273451  ...           2018-08-13 00:00:00\n",
              "2  47770eb9100c2d0c44946d9cf07ec65d  ...           2018-09-04 00:00:00\n",
              "3  949d5b44dbf5de918fe9c16f97b45f8a  ...           2017-12-15 00:00:00\n",
              "4  ad21c59c0840e6cb83a9ceb5573f8159  ...           2018-02-26 00:00:00\n",
              "\n",
              "[5 rows x 8 columns]"
            ]
          },
          "metadata": {
            "tags": []
          },
          "execution_count": 3
        }
      ]
    },
    {
      "cell_type": "markdown",
      "metadata": {
        "id": "hfsEFeK09f_D",
        "colab_type": "text"
      },
      "source": [
        "Dataframe is always indexed. If we don't specify an index, it will be automatically indexed by integers as seen above. In Python, index starts at 0 (zero-indexing). An index refers to the position of an element in the data structure.\n",
        "\n",
        "We can see some information about a dataframe by using `shape` and `columns` attributes."
      ]
    },
    {
      "cell_type": "code",
      "metadata": {
        "id": "GKeDUoCJ9cSb",
        "colab_type": "code",
        "colab": {
          "base_uri": "https://localhost:8080/",
          "height": 34
        },
        "outputId": "e6111282-a946-406c-d41c-73c376738a5b"
      },
      "source": [
        "# 99,441 rows, 8 columns\n",
        "orders.shape"
      ],
      "execution_count": null,
      "outputs": [
        {
          "output_type": "execute_result",
          "data": {
            "text/plain": [
              "(99441, 8)"
            ]
          },
          "metadata": {
            "tags": []
          },
          "execution_count": 5
        }
      ]
    },
    {
      "cell_type": "code",
      "metadata": {
        "id": "6fBfeTyZ-jcl",
        "colab_type": "code",
        "colab": {
          "base_uri": "https://localhost:8080/",
          "height": 86
        },
        "outputId": "d3ca57d5-77b4-4089-e95f-79d002e9f10b"
      },
      "source": [
        "# List of table columns\n",
        "orders.columns"
      ],
      "execution_count": null,
      "outputs": [
        {
          "output_type": "execute_result",
          "data": {
            "text/plain": [
              "Index(['order_id', 'customer_id', 'order_status', 'order_purchase_timestamp',\n",
              "       'order_approved_at', 'order_delivered_carrier_date',\n",
              "       'order_delivered_customer_date', 'order_estimated_delivery_date'],\n",
              "      dtype='object')"
            ]
          },
          "metadata": {
            "tags": []
          },
          "execution_count": 6
        }
      ]
    },
    {
      "cell_type": "markdown",
      "metadata": {
        "id": "_vie2fgf_y2S",
        "colab_type": "text"
      },
      "source": [
        "`info()` provides some other information about the dataframe. Here, we can see the column names, the number of non-null rows for each column and the data type of each column."
      ]
    },
    {
      "cell_type": "code",
      "metadata": {
        "id": "fGQvPlVV-oZo",
        "colab_type": "code",
        "colab": {
          "base_uri": "https://localhost:8080/",
          "height": 278
        },
        "outputId": "fd5bad17-a80f-47b1-cb5f-bd7aa85d6fa5"
      },
      "source": [
        "orders.info()"
      ],
      "execution_count": null,
      "outputs": [
        {
          "output_type": "stream",
          "text": [
            "<class 'pandas.core.frame.DataFrame'>\n",
            "RangeIndex: 99441 entries, 0 to 99440\n",
            "Data columns (total 8 columns):\n",
            " #   Column                         Non-Null Count  Dtype \n",
            "---  ------                         --------------  ----- \n",
            " 0   order_id                       99441 non-null  object\n",
            " 1   customer_id                    99441 non-null  object\n",
            " 2   order_status                   99441 non-null  object\n",
            " 3   order_purchase_timestamp       99441 non-null  object\n",
            " 4   order_approved_at              99281 non-null  object\n",
            " 5   order_delivered_carrier_date   97658 non-null  object\n",
            " 6   order_delivered_customer_date  96476 non-null  object\n",
            " 7   order_estimated_delivery_date  99441 non-null  object\n",
            "dtypes: object(8)\n",
            "memory usage: 6.1+ MB\n"
          ],
          "name": "stdout"
        }
      ]
    },
    {
      "cell_type": "markdown",
      "metadata": {
        "id": "zYqiYw0QAIaN",
        "colab_type": "text"
      },
      "source": [
        "## 2. Slicing & Subsetting\n",
        "Very often, we only want to work a part of a dataframe such as the orders of category \"bebes\". Dataframe support operations to achieve this goal by:\n",
        "1. Slicing\n",
        "1. Subsetting"
      ]
    },
    {
      "cell_type": "markdown",
      "metadata": {
        "id": "1jLbAd_QBjSJ",
        "colab_type": "text"
      },
      "source": [
        "### 2.1. Slicing\n",
        "If we want to select rows in a given range, we can do that by the slicing operation. The syntax is `data[row range]`."
      ]
    },
    {
      "cell_type": "code",
      "metadata": {
        "id": "1wmKWWJ7_20C",
        "colab_type": "code",
        "colab": {
          "base_uri": "https://localhost:8080/",
          "height": 414
        },
        "outputId": "58db15ca-c622-4e01-8e8e-8e6c025acc44"
      },
      "source": [
        "# Select rows from 5 to 15 from orders\n",
        "orders[5:16]"
      ],
      "execution_count": null,
      "outputs": [
        {
          "output_type": "execute_result",
          "data": {
            "text/html": [
              "<div>\n",
              "<style scoped>\n",
              "    .dataframe tbody tr th:only-of-type {\n",
              "        vertical-align: middle;\n",
              "    }\n",
              "\n",
              "    .dataframe tbody tr th {\n",
              "        vertical-align: top;\n",
              "    }\n",
              "\n",
              "    .dataframe thead th {\n",
              "        text-align: right;\n",
              "    }\n",
              "</style>\n",
              "<table border=\"1\" class=\"dataframe\">\n",
              "  <thead>\n",
              "    <tr style=\"text-align: right;\">\n",
              "      <th></th>\n",
              "      <th>order_id</th>\n",
              "      <th>customer_id</th>\n",
              "      <th>order_status</th>\n",
              "      <th>order_purchase_timestamp</th>\n",
              "      <th>order_approved_at</th>\n",
              "      <th>order_delivered_carrier_date</th>\n",
              "      <th>order_delivered_customer_date</th>\n",
              "      <th>order_estimated_delivery_date</th>\n",
              "    </tr>\n",
              "  </thead>\n",
              "  <tbody>\n",
              "    <tr>\n",
              "      <th>5</th>\n",
              "      <td>a4591c265e18cb1dcee52889e2d8acc3</td>\n",
              "      <td>503740e9ca751ccdda7ba28e9ab8f608</td>\n",
              "      <td>delivered</td>\n",
              "      <td>2017-07-09 21:57:05</td>\n",
              "      <td>2017-07-09 22:10:13</td>\n",
              "      <td>2017-07-11 14:58:04</td>\n",
              "      <td>2017-07-26 10:57:55</td>\n",
              "      <td>2017-08-01 00:00:00</td>\n",
              "    </tr>\n",
              "    <tr>\n",
              "      <th>6</th>\n",
              "      <td>136cce7faa42fdb2cefd53fdc79a6098</td>\n",
              "      <td>ed0271e0b7da060a393796590e7b737a</td>\n",
              "      <td>invoiced</td>\n",
              "      <td>2017-04-11 12:22:08</td>\n",
              "      <td>2017-04-13 13:25:17</td>\n",
              "      <td>NaN</td>\n",
              "      <td>NaN</td>\n",
              "      <td>2017-05-09 00:00:00</td>\n",
              "    </tr>\n",
              "    <tr>\n",
              "      <th>7</th>\n",
              "      <td>6514b8ad8028c9f2cc2374ded245783f</td>\n",
              "      <td>9bdf08b4b3b52b5526ff42d37d47f222</td>\n",
              "      <td>delivered</td>\n",
              "      <td>2017-05-16 13:10:30</td>\n",
              "      <td>2017-05-16 13:22:11</td>\n",
              "      <td>2017-05-22 10:07:46</td>\n",
              "      <td>2017-05-26 12:55:51</td>\n",
              "      <td>2017-06-07 00:00:00</td>\n",
              "    </tr>\n",
              "    <tr>\n",
              "      <th>8</th>\n",
              "      <td>76c6e866289321a7c93b82b54852dc33</td>\n",
              "      <td>f54a9f0e6b351c431402b8461ea51999</td>\n",
              "      <td>delivered</td>\n",
              "      <td>2017-01-23 18:29:09</td>\n",
              "      <td>2017-01-25 02:50:47</td>\n",
              "      <td>2017-01-26 14:16:31</td>\n",
              "      <td>2017-02-02 14:08:10</td>\n",
              "      <td>2017-03-06 00:00:00</td>\n",
              "    </tr>\n",
              "    <tr>\n",
              "      <th>9</th>\n",
              "      <td>e69bfb5eb88e0ed6a785585b27e16dbf</td>\n",
              "      <td>31ad1d1b63eb9962463f764d4e6e0c9d</td>\n",
              "      <td>delivered</td>\n",
              "      <td>2017-07-29 11:55:02</td>\n",
              "      <td>2017-07-29 12:05:32</td>\n",
              "      <td>2017-08-10 19:45:24</td>\n",
              "      <td>2017-08-16 17:14:30</td>\n",
              "      <td>2017-08-23 00:00:00</td>\n",
              "    </tr>\n",
              "    <tr>\n",
              "      <th>10</th>\n",
              "      <td>e6ce16cb79ec1d90b1da9085a6118aeb</td>\n",
              "      <td>494dded5b201313c64ed7f100595b95c</td>\n",
              "      <td>delivered</td>\n",
              "      <td>2017-05-16 19:41:10</td>\n",
              "      <td>2017-05-16 19:50:18</td>\n",
              "      <td>2017-05-18 11:40:40</td>\n",
              "      <td>2017-05-29 11:18:31</td>\n",
              "      <td>2017-06-07 00:00:00</td>\n",
              "    </tr>\n",
              "    <tr>\n",
              "      <th>11</th>\n",
              "      <td>34513ce0c4fab462a55830c0989c7edb</td>\n",
              "      <td>7711cf624183d843aafe81855097bc37</td>\n",
              "      <td>delivered</td>\n",
              "      <td>2017-07-13 19:58:11</td>\n",
              "      <td>2017-07-13 20:10:08</td>\n",
              "      <td>2017-07-14 18:43:29</td>\n",
              "      <td>2017-07-19 14:04:48</td>\n",
              "      <td>2017-08-08 00:00:00</td>\n",
              "    </tr>\n",
              "    <tr>\n",
              "      <th>12</th>\n",
              "      <td>82566a660a982b15fb86e904c8d32918</td>\n",
              "      <td>d3e3b74c766bc6214e0c830b17ee2341</td>\n",
              "      <td>delivered</td>\n",
              "      <td>2018-06-07 10:06:19</td>\n",
              "      <td>2018-06-09 03:13:12</td>\n",
              "      <td>2018-06-11 13:29:00</td>\n",
              "      <td>2018-06-19 12:05:52</td>\n",
              "      <td>2018-07-18 00:00:00</td>\n",
              "    </tr>\n",
              "    <tr>\n",
              "      <th>13</th>\n",
              "      <td>5ff96c15d0b717ac6ad1f3d77225a350</td>\n",
              "      <td>19402a48fe860416adf93348aba37740</td>\n",
              "      <td>delivered</td>\n",
              "      <td>2018-07-25 17:44:10</td>\n",
              "      <td>2018-07-25 17:55:14</td>\n",
              "      <td>2018-07-26 13:16:00</td>\n",
              "      <td>2018-07-30 15:52:25</td>\n",
              "      <td>2018-08-08 00:00:00</td>\n",
              "    </tr>\n",
              "    <tr>\n",
              "      <th>14</th>\n",
              "      <td>432aaf21d85167c2c86ec9448c4e42cc</td>\n",
              "      <td>3df704f53d3f1d4818840b34ec672a9f</td>\n",
              "      <td>delivered</td>\n",
              "      <td>2018-03-01 14:14:28</td>\n",
              "      <td>2018-03-01 15:10:47</td>\n",
              "      <td>2018-03-02 21:09:20</td>\n",
              "      <td>2018-03-12 23:36:26</td>\n",
              "      <td>2018-03-21 00:00:00</td>\n",
              "    </tr>\n",
              "    <tr>\n",
              "      <th>15</th>\n",
              "      <td>dcb36b511fcac050b97cd5c05de84dc3</td>\n",
              "      <td>3b6828a50ffe546942b7a473d70ac0fc</td>\n",
              "      <td>delivered</td>\n",
              "      <td>2018-06-07 19:03:12</td>\n",
              "      <td>2018-06-12 23:31:02</td>\n",
              "      <td>2018-06-11 14:54:00</td>\n",
              "      <td>2018-06-21 15:34:32</td>\n",
              "      <td>2018-07-04 00:00:00</td>\n",
              "    </tr>\n",
              "  </tbody>\n",
              "</table>\n",
              "</div>"
            ],
            "text/plain": [
              "                            order_id  ... order_estimated_delivery_date\n",
              "5   a4591c265e18cb1dcee52889e2d8acc3  ...           2017-08-01 00:00:00\n",
              "6   136cce7faa42fdb2cefd53fdc79a6098  ...           2017-05-09 00:00:00\n",
              "7   6514b8ad8028c9f2cc2374ded245783f  ...           2017-06-07 00:00:00\n",
              "8   76c6e866289321a7c93b82b54852dc33  ...           2017-03-06 00:00:00\n",
              "9   e69bfb5eb88e0ed6a785585b27e16dbf  ...           2017-08-23 00:00:00\n",
              "10  e6ce16cb79ec1d90b1da9085a6118aeb  ...           2017-06-07 00:00:00\n",
              "11  34513ce0c4fab462a55830c0989c7edb  ...           2017-08-08 00:00:00\n",
              "12  82566a660a982b15fb86e904c8d32918  ...           2018-07-18 00:00:00\n",
              "13  5ff96c15d0b717ac6ad1f3d77225a350  ...           2018-08-08 00:00:00\n",
              "14  432aaf21d85167c2c86ec9448c4e42cc  ...           2018-03-21 00:00:00\n",
              "15  dcb36b511fcac050b97cd5c05de84dc3  ...           2018-07-04 00:00:00\n",
              "\n",
              "[11 rows x 8 columns]"
            ]
          },
          "metadata": {
            "tags": []
          },
          "execution_count": 9
        }
      ]
    },
    {
      "cell_type": "markdown",
      "metadata": {
        "id": "eZ7zRG8GB7lq",
        "colab_type": "text"
      },
      "source": [
        "**Question: Why is the index here from 5 to 16?**\n"
      ]
    },
    {
      "cell_type": "code",
      "metadata": {
        "id": "iNUaXYYpBzTn",
        "colab_type": "code",
        "colab": {
          "base_uri": "https://localhost:8080/",
          "height": 728
        },
        "outputId": "028527f2-c15c-4bbc-e118-f37ed0d7f5ce"
      },
      "source": [
        "# Or rows from 0 to 20. If rows we want start from 0, we can omit 0 in the range.\n",
        "orders[:21]"
      ],
      "execution_count": null,
      "outputs": [
        {
          "output_type": "execute_result",
          "data": {
            "text/html": [
              "<div>\n",
              "<style scoped>\n",
              "    .dataframe tbody tr th:only-of-type {\n",
              "        vertical-align: middle;\n",
              "    }\n",
              "\n",
              "    .dataframe tbody tr th {\n",
              "        vertical-align: top;\n",
              "    }\n",
              "\n",
              "    .dataframe thead th {\n",
              "        text-align: right;\n",
              "    }\n",
              "</style>\n",
              "<table border=\"1\" class=\"dataframe\">\n",
              "  <thead>\n",
              "    <tr style=\"text-align: right;\">\n",
              "      <th></th>\n",
              "      <th>order_id</th>\n",
              "      <th>customer_id</th>\n",
              "      <th>order_status</th>\n",
              "      <th>order_purchase_timestamp</th>\n",
              "      <th>order_approved_at</th>\n",
              "      <th>order_delivered_carrier_date</th>\n",
              "      <th>order_delivered_customer_date</th>\n",
              "      <th>order_estimated_delivery_date</th>\n",
              "    </tr>\n",
              "  </thead>\n",
              "  <tbody>\n",
              "    <tr>\n",
              "      <th>0</th>\n",
              "      <td>e481f51cbdc54678b7cc49136f2d6af7</td>\n",
              "      <td>9ef432eb6251297304e76186b10a928d</td>\n",
              "      <td>delivered</td>\n",
              "      <td>2017-10-02 10:56:33</td>\n",
              "      <td>2017-10-02 11:07:15</td>\n",
              "      <td>2017-10-04 19:55:00</td>\n",
              "      <td>2017-10-10 21:25:13</td>\n",
              "      <td>2017-10-18 00:00:00</td>\n",
              "    </tr>\n",
              "    <tr>\n",
              "      <th>1</th>\n",
              "      <td>53cdb2fc8bc7dce0b6741e2150273451</td>\n",
              "      <td>b0830fb4747a6c6d20dea0b8c802d7ef</td>\n",
              "      <td>delivered</td>\n",
              "      <td>2018-07-24 20:41:37</td>\n",
              "      <td>2018-07-26 03:24:27</td>\n",
              "      <td>2018-07-26 14:31:00</td>\n",
              "      <td>2018-08-07 15:27:45</td>\n",
              "      <td>2018-08-13 00:00:00</td>\n",
              "    </tr>\n",
              "    <tr>\n",
              "      <th>2</th>\n",
              "      <td>47770eb9100c2d0c44946d9cf07ec65d</td>\n",
              "      <td>41ce2a54c0b03bf3443c3d931a367089</td>\n",
              "      <td>delivered</td>\n",
              "      <td>2018-08-08 08:38:49</td>\n",
              "      <td>2018-08-08 08:55:23</td>\n",
              "      <td>2018-08-08 13:50:00</td>\n",
              "      <td>2018-08-17 18:06:29</td>\n",
              "      <td>2018-09-04 00:00:00</td>\n",
              "    </tr>\n",
              "    <tr>\n",
              "      <th>3</th>\n",
              "      <td>949d5b44dbf5de918fe9c16f97b45f8a</td>\n",
              "      <td>f88197465ea7920adcdbec7375364d82</td>\n",
              "      <td>delivered</td>\n",
              "      <td>2017-11-18 19:28:06</td>\n",
              "      <td>2017-11-18 19:45:59</td>\n",
              "      <td>2017-11-22 13:39:59</td>\n",
              "      <td>2017-12-02 00:28:42</td>\n",
              "      <td>2017-12-15 00:00:00</td>\n",
              "    </tr>\n",
              "    <tr>\n",
              "      <th>4</th>\n",
              "      <td>ad21c59c0840e6cb83a9ceb5573f8159</td>\n",
              "      <td>8ab97904e6daea8866dbdbc4fb7aad2c</td>\n",
              "      <td>delivered</td>\n",
              "      <td>2018-02-13 21:18:39</td>\n",
              "      <td>2018-02-13 22:20:29</td>\n",
              "      <td>2018-02-14 19:46:34</td>\n",
              "      <td>2018-02-16 18:17:02</td>\n",
              "      <td>2018-02-26 00:00:00</td>\n",
              "    </tr>\n",
              "    <tr>\n",
              "      <th>5</th>\n",
              "      <td>a4591c265e18cb1dcee52889e2d8acc3</td>\n",
              "      <td>503740e9ca751ccdda7ba28e9ab8f608</td>\n",
              "      <td>delivered</td>\n",
              "      <td>2017-07-09 21:57:05</td>\n",
              "      <td>2017-07-09 22:10:13</td>\n",
              "      <td>2017-07-11 14:58:04</td>\n",
              "      <td>2017-07-26 10:57:55</td>\n",
              "      <td>2017-08-01 00:00:00</td>\n",
              "    </tr>\n",
              "    <tr>\n",
              "      <th>6</th>\n",
              "      <td>136cce7faa42fdb2cefd53fdc79a6098</td>\n",
              "      <td>ed0271e0b7da060a393796590e7b737a</td>\n",
              "      <td>invoiced</td>\n",
              "      <td>2017-04-11 12:22:08</td>\n",
              "      <td>2017-04-13 13:25:17</td>\n",
              "      <td>NaN</td>\n",
              "      <td>NaN</td>\n",
              "      <td>2017-05-09 00:00:00</td>\n",
              "    </tr>\n",
              "    <tr>\n",
              "      <th>7</th>\n",
              "      <td>6514b8ad8028c9f2cc2374ded245783f</td>\n",
              "      <td>9bdf08b4b3b52b5526ff42d37d47f222</td>\n",
              "      <td>delivered</td>\n",
              "      <td>2017-05-16 13:10:30</td>\n",
              "      <td>2017-05-16 13:22:11</td>\n",
              "      <td>2017-05-22 10:07:46</td>\n",
              "      <td>2017-05-26 12:55:51</td>\n",
              "      <td>2017-06-07 00:00:00</td>\n",
              "    </tr>\n",
              "    <tr>\n",
              "      <th>8</th>\n",
              "      <td>76c6e866289321a7c93b82b54852dc33</td>\n",
              "      <td>f54a9f0e6b351c431402b8461ea51999</td>\n",
              "      <td>delivered</td>\n",
              "      <td>2017-01-23 18:29:09</td>\n",
              "      <td>2017-01-25 02:50:47</td>\n",
              "      <td>2017-01-26 14:16:31</td>\n",
              "      <td>2017-02-02 14:08:10</td>\n",
              "      <td>2017-03-06 00:00:00</td>\n",
              "    </tr>\n",
              "    <tr>\n",
              "      <th>9</th>\n",
              "      <td>e69bfb5eb88e0ed6a785585b27e16dbf</td>\n",
              "      <td>31ad1d1b63eb9962463f764d4e6e0c9d</td>\n",
              "      <td>delivered</td>\n",
              "      <td>2017-07-29 11:55:02</td>\n",
              "      <td>2017-07-29 12:05:32</td>\n",
              "      <td>2017-08-10 19:45:24</td>\n",
              "      <td>2017-08-16 17:14:30</td>\n",
              "      <td>2017-08-23 00:00:00</td>\n",
              "    </tr>\n",
              "    <tr>\n",
              "      <th>10</th>\n",
              "      <td>e6ce16cb79ec1d90b1da9085a6118aeb</td>\n",
              "      <td>494dded5b201313c64ed7f100595b95c</td>\n",
              "      <td>delivered</td>\n",
              "      <td>2017-05-16 19:41:10</td>\n",
              "      <td>2017-05-16 19:50:18</td>\n",
              "      <td>2017-05-18 11:40:40</td>\n",
              "      <td>2017-05-29 11:18:31</td>\n",
              "      <td>2017-06-07 00:00:00</td>\n",
              "    </tr>\n",
              "    <tr>\n",
              "      <th>11</th>\n",
              "      <td>34513ce0c4fab462a55830c0989c7edb</td>\n",
              "      <td>7711cf624183d843aafe81855097bc37</td>\n",
              "      <td>delivered</td>\n",
              "      <td>2017-07-13 19:58:11</td>\n",
              "      <td>2017-07-13 20:10:08</td>\n",
              "      <td>2017-07-14 18:43:29</td>\n",
              "      <td>2017-07-19 14:04:48</td>\n",
              "      <td>2017-08-08 00:00:00</td>\n",
              "    </tr>\n",
              "    <tr>\n",
              "      <th>12</th>\n",
              "      <td>82566a660a982b15fb86e904c8d32918</td>\n",
              "      <td>d3e3b74c766bc6214e0c830b17ee2341</td>\n",
              "      <td>delivered</td>\n",
              "      <td>2018-06-07 10:06:19</td>\n",
              "      <td>2018-06-09 03:13:12</td>\n",
              "      <td>2018-06-11 13:29:00</td>\n",
              "      <td>2018-06-19 12:05:52</td>\n",
              "      <td>2018-07-18 00:00:00</td>\n",
              "    </tr>\n",
              "    <tr>\n",
              "      <th>13</th>\n",
              "      <td>5ff96c15d0b717ac6ad1f3d77225a350</td>\n",
              "      <td>19402a48fe860416adf93348aba37740</td>\n",
              "      <td>delivered</td>\n",
              "      <td>2018-07-25 17:44:10</td>\n",
              "      <td>2018-07-25 17:55:14</td>\n",
              "      <td>2018-07-26 13:16:00</td>\n",
              "      <td>2018-07-30 15:52:25</td>\n",
              "      <td>2018-08-08 00:00:00</td>\n",
              "    </tr>\n",
              "    <tr>\n",
              "      <th>14</th>\n",
              "      <td>432aaf21d85167c2c86ec9448c4e42cc</td>\n",
              "      <td>3df704f53d3f1d4818840b34ec672a9f</td>\n",
              "      <td>delivered</td>\n",
              "      <td>2018-03-01 14:14:28</td>\n",
              "      <td>2018-03-01 15:10:47</td>\n",
              "      <td>2018-03-02 21:09:20</td>\n",
              "      <td>2018-03-12 23:36:26</td>\n",
              "      <td>2018-03-21 00:00:00</td>\n",
              "    </tr>\n",
              "    <tr>\n",
              "      <th>15</th>\n",
              "      <td>dcb36b511fcac050b97cd5c05de84dc3</td>\n",
              "      <td>3b6828a50ffe546942b7a473d70ac0fc</td>\n",
              "      <td>delivered</td>\n",
              "      <td>2018-06-07 19:03:12</td>\n",
              "      <td>2018-06-12 23:31:02</td>\n",
              "      <td>2018-06-11 14:54:00</td>\n",
              "      <td>2018-06-21 15:34:32</td>\n",
              "      <td>2018-07-04 00:00:00</td>\n",
              "    </tr>\n",
              "    <tr>\n",
              "      <th>16</th>\n",
              "      <td>403b97836b0c04a622354cf531062e5f</td>\n",
              "      <td>738b086814c6fcc74b8cc583f8516ee3</td>\n",
              "      <td>delivered</td>\n",
              "      <td>2018-01-02 19:00:43</td>\n",
              "      <td>2018-01-02 19:09:04</td>\n",
              "      <td>2018-01-03 18:19:09</td>\n",
              "      <td>2018-01-20 01:38:59</td>\n",
              "      <td>2018-02-06 00:00:00</td>\n",
              "    </tr>\n",
              "    <tr>\n",
              "      <th>17</th>\n",
              "      <td>116f0b09343b49556bbad5f35bee0cdf</td>\n",
              "      <td>3187789bec990987628d7a9beb4dd6ac</td>\n",
              "      <td>delivered</td>\n",
              "      <td>2017-12-26 23:41:31</td>\n",
              "      <td>2017-12-26 23:50:22</td>\n",
              "      <td>2017-12-28 18:33:05</td>\n",
              "      <td>2018-01-08 22:36:36</td>\n",
              "      <td>2018-01-29 00:00:00</td>\n",
              "    </tr>\n",
              "    <tr>\n",
              "      <th>18</th>\n",
              "      <td>85ce859fd6dc634de8d2f1e290444043</td>\n",
              "      <td>059f7fc5719c7da6cbafe370971a8d70</td>\n",
              "      <td>delivered</td>\n",
              "      <td>2017-11-21 00:03:41</td>\n",
              "      <td>2017-11-21 00:14:22</td>\n",
              "      <td>2017-11-23 21:32:26</td>\n",
              "      <td>2017-11-27 18:28:00</td>\n",
              "      <td>2017-12-11 00:00:00</td>\n",
              "    </tr>\n",
              "    <tr>\n",
              "      <th>19</th>\n",
              "      <td>83018ec114eee8641c97e08f7b4e926f</td>\n",
              "      <td>7f8c8b9c2ae27bf3300f670c3d478be8</td>\n",
              "      <td>delivered</td>\n",
              "      <td>2017-10-26 15:54:26</td>\n",
              "      <td>2017-10-26 16:08:14</td>\n",
              "      <td>2017-10-26 21:46:53</td>\n",
              "      <td>2017-11-08 22:22:00</td>\n",
              "      <td>2017-11-23 00:00:00</td>\n",
              "    </tr>\n",
              "    <tr>\n",
              "      <th>20</th>\n",
              "      <td>203096f03d82e0dffbc41ebc2e2bcfb7</td>\n",
              "      <td>d2b091571da224a1b36412c18bc3bbfe</td>\n",
              "      <td>delivered</td>\n",
              "      <td>2017-09-18 14:31:30</td>\n",
              "      <td>2017-09-19 04:04:09</td>\n",
              "      <td>2017-10-06 17:50:03</td>\n",
              "      <td>2017-10-09 22:23:46</td>\n",
              "      <td>2017-09-28 00:00:00</td>\n",
              "    </tr>\n",
              "  </tbody>\n",
              "</table>\n",
              "</div>"
            ],
            "text/plain": [
              "                            order_id  ... order_estimated_delivery_date\n",
              "0   e481f51cbdc54678b7cc49136f2d6af7  ...           2017-10-18 00:00:00\n",
              "1   53cdb2fc8bc7dce0b6741e2150273451  ...           2018-08-13 00:00:00\n",
              "2   47770eb9100c2d0c44946d9cf07ec65d  ...           2018-09-04 00:00:00\n",
              "3   949d5b44dbf5de918fe9c16f97b45f8a  ...           2017-12-15 00:00:00\n",
              "4   ad21c59c0840e6cb83a9ceb5573f8159  ...           2018-02-26 00:00:00\n",
              "5   a4591c265e18cb1dcee52889e2d8acc3  ...           2017-08-01 00:00:00\n",
              "6   136cce7faa42fdb2cefd53fdc79a6098  ...           2017-05-09 00:00:00\n",
              "7   6514b8ad8028c9f2cc2374ded245783f  ...           2017-06-07 00:00:00\n",
              "8   76c6e866289321a7c93b82b54852dc33  ...           2017-03-06 00:00:00\n",
              "9   e69bfb5eb88e0ed6a785585b27e16dbf  ...           2017-08-23 00:00:00\n",
              "10  e6ce16cb79ec1d90b1da9085a6118aeb  ...           2017-06-07 00:00:00\n",
              "11  34513ce0c4fab462a55830c0989c7edb  ...           2017-08-08 00:00:00\n",
              "12  82566a660a982b15fb86e904c8d32918  ...           2018-07-18 00:00:00\n",
              "13  5ff96c15d0b717ac6ad1f3d77225a350  ...           2018-08-08 00:00:00\n",
              "14  432aaf21d85167c2c86ec9448c4e42cc  ...           2018-03-21 00:00:00\n",
              "15  dcb36b511fcac050b97cd5c05de84dc3  ...           2018-07-04 00:00:00\n",
              "16  403b97836b0c04a622354cf531062e5f  ...           2018-02-06 00:00:00\n",
              "17  116f0b09343b49556bbad5f35bee0cdf  ...           2018-01-29 00:00:00\n",
              "18  85ce859fd6dc634de8d2f1e290444043  ...           2017-12-11 00:00:00\n",
              "19  83018ec114eee8641c97e08f7b4e926f  ...           2017-11-23 00:00:00\n",
              "20  203096f03d82e0dffbc41ebc2e2bcfb7  ...           2017-09-28 00:00:00\n",
              "\n",
              "[21 rows x 8 columns]"
            ]
          },
          "metadata": {
            "tags": []
          },
          "execution_count": 12
        }
      ]
    },
    {
      "cell_type": "markdown",
      "metadata": {
        "id": "Kr8y-p6pCvib",
        "colab_type": "text"
      },
      "source": [
        "To select certain columns only, provide the column names as below."
      ]
    },
    {
      "cell_type": "code",
      "metadata": {
        "id": "rVr1vhJtCbhG",
        "colab_type": "code",
        "colab": {
          "base_uri": "https://localhost:8080/",
          "height": 424
        },
        "outputId": "0492ad1a-9853-4880-b8d2-5bce314c17cc"
      },
      "source": [
        "# Choose column order_status only\n",
        "orders[[\"order_status\"]] # With column name printed out"
      ],
      "execution_count": null,
      "outputs": [
        {
          "output_type": "execute_result",
          "data": {
            "text/html": [
              "<div>\n",
              "<style scoped>\n",
              "    .dataframe tbody tr th:only-of-type {\n",
              "        vertical-align: middle;\n",
              "    }\n",
              "\n",
              "    .dataframe tbody tr th {\n",
              "        vertical-align: top;\n",
              "    }\n",
              "\n",
              "    .dataframe thead th {\n",
              "        text-align: right;\n",
              "    }\n",
              "</style>\n",
              "<table border=\"1\" class=\"dataframe\">\n",
              "  <thead>\n",
              "    <tr style=\"text-align: right;\">\n",
              "      <th></th>\n",
              "      <th>order_status</th>\n",
              "    </tr>\n",
              "  </thead>\n",
              "  <tbody>\n",
              "    <tr>\n",
              "      <th>0</th>\n",
              "      <td>delivered</td>\n",
              "    </tr>\n",
              "    <tr>\n",
              "      <th>1</th>\n",
              "      <td>delivered</td>\n",
              "    </tr>\n",
              "    <tr>\n",
              "      <th>2</th>\n",
              "      <td>delivered</td>\n",
              "    </tr>\n",
              "    <tr>\n",
              "      <th>3</th>\n",
              "      <td>delivered</td>\n",
              "    </tr>\n",
              "    <tr>\n",
              "      <th>4</th>\n",
              "      <td>delivered</td>\n",
              "    </tr>\n",
              "    <tr>\n",
              "      <th>...</th>\n",
              "      <td>...</td>\n",
              "    </tr>\n",
              "    <tr>\n",
              "      <th>99436</th>\n",
              "      <td>delivered</td>\n",
              "    </tr>\n",
              "    <tr>\n",
              "      <th>99437</th>\n",
              "      <td>delivered</td>\n",
              "    </tr>\n",
              "    <tr>\n",
              "      <th>99438</th>\n",
              "      <td>delivered</td>\n",
              "    </tr>\n",
              "    <tr>\n",
              "      <th>99439</th>\n",
              "      <td>delivered</td>\n",
              "    </tr>\n",
              "    <tr>\n",
              "      <th>99440</th>\n",
              "      <td>delivered</td>\n",
              "    </tr>\n",
              "  </tbody>\n",
              "</table>\n",
              "<p>99441 rows × 1 columns</p>\n",
              "</div>"
            ],
            "text/plain": [
              "      order_status\n",
              "0        delivered\n",
              "1        delivered\n",
              "2        delivered\n",
              "3        delivered\n",
              "4        delivered\n",
              "...            ...\n",
              "99436    delivered\n",
              "99437    delivered\n",
              "99438    delivered\n",
              "99439    delivered\n",
              "99440    delivered\n",
              "\n",
              "[99441 rows x 1 columns]"
            ]
          },
          "metadata": {
            "tags": []
          },
          "execution_count": 14
        }
      ]
    },
    {
      "cell_type": "code",
      "metadata": {
        "id": "P6Wm4eIWC39p",
        "colab_type": "code",
        "colab": {
          "base_uri": "https://localhost:8080/",
          "height": 225
        },
        "outputId": "c975aaa7-7b74-4179-f9a6-b3d9feaa8844"
      },
      "source": [
        "orders[\"order_status\"] # Without column name printed out"
      ],
      "execution_count": null,
      "outputs": [
        {
          "output_type": "execute_result",
          "data": {
            "text/plain": [
              "0        delivered\n",
              "1        delivered\n",
              "2        delivered\n",
              "3        delivered\n",
              "4        delivered\n",
              "           ...    \n",
              "99436    delivered\n",
              "99437    delivered\n",
              "99438    delivered\n",
              "99439    delivered\n",
              "99440    delivered\n",
              "Name: order_status, Length: 99441, dtype: object"
            ]
          },
          "metadata": {
            "tags": []
          },
          "execution_count": 15
        }
      ]
    },
    {
      "cell_type": "code",
      "metadata": {
        "id": "fsRq7NarDFKb",
        "colab_type": "code",
        "colab": {
          "base_uri": "https://localhost:8080/",
          "height": 424
        },
        "outputId": "bca93ce9-4d2d-4d09-e2ef-3b20789ee63e"
      },
      "source": [
        "# Select several columns at once\n",
        "orders[[\"order_status\", \"order_purchase_timestamp\"]]"
      ],
      "execution_count": null,
      "outputs": [
        {
          "output_type": "execute_result",
          "data": {
            "text/html": [
              "<div>\n",
              "<style scoped>\n",
              "    .dataframe tbody tr th:only-of-type {\n",
              "        vertical-align: middle;\n",
              "    }\n",
              "\n",
              "    .dataframe tbody tr th {\n",
              "        vertical-align: top;\n",
              "    }\n",
              "\n",
              "    .dataframe thead th {\n",
              "        text-align: right;\n",
              "    }\n",
              "</style>\n",
              "<table border=\"1\" class=\"dataframe\">\n",
              "  <thead>\n",
              "    <tr style=\"text-align: right;\">\n",
              "      <th></th>\n",
              "      <th>order_status</th>\n",
              "      <th>order_purchase_timestamp</th>\n",
              "    </tr>\n",
              "  </thead>\n",
              "  <tbody>\n",
              "    <tr>\n",
              "      <th>0</th>\n",
              "      <td>delivered</td>\n",
              "      <td>2017-10-02 10:56:33</td>\n",
              "    </tr>\n",
              "    <tr>\n",
              "      <th>1</th>\n",
              "      <td>delivered</td>\n",
              "      <td>2018-07-24 20:41:37</td>\n",
              "    </tr>\n",
              "    <tr>\n",
              "      <th>2</th>\n",
              "      <td>delivered</td>\n",
              "      <td>2018-08-08 08:38:49</td>\n",
              "    </tr>\n",
              "    <tr>\n",
              "      <th>3</th>\n",
              "      <td>delivered</td>\n",
              "      <td>2017-11-18 19:28:06</td>\n",
              "    </tr>\n",
              "    <tr>\n",
              "      <th>4</th>\n",
              "      <td>delivered</td>\n",
              "      <td>2018-02-13 21:18:39</td>\n",
              "    </tr>\n",
              "    <tr>\n",
              "      <th>...</th>\n",
              "      <td>...</td>\n",
              "      <td>...</td>\n",
              "    </tr>\n",
              "    <tr>\n",
              "      <th>99436</th>\n",
              "      <td>delivered</td>\n",
              "      <td>2017-03-09 09:54:05</td>\n",
              "    </tr>\n",
              "    <tr>\n",
              "      <th>99437</th>\n",
              "      <td>delivered</td>\n",
              "      <td>2018-02-06 12:58:58</td>\n",
              "    </tr>\n",
              "    <tr>\n",
              "      <th>99438</th>\n",
              "      <td>delivered</td>\n",
              "      <td>2017-08-27 14:46:43</td>\n",
              "    </tr>\n",
              "    <tr>\n",
              "      <th>99439</th>\n",
              "      <td>delivered</td>\n",
              "      <td>2018-01-08 21:28:27</td>\n",
              "    </tr>\n",
              "    <tr>\n",
              "      <th>99440</th>\n",
              "      <td>delivered</td>\n",
              "      <td>2018-03-08 20:57:30</td>\n",
              "    </tr>\n",
              "  </tbody>\n",
              "</table>\n",
              "<p>99441 rows × 2 columns</p>\n",
              "</div>"
            ],
            "text/plain": [
              "      order_status order_purchase_timestamp\n",
              "0        delivered      2017-10-02 10:56:33\n",
              "1        delivered      2018-07-24 20:41:37\n",
              "2        delivered      2018-08-08 08:38:49\n",
              "3        delivered      2017-11-18 19:28:06\n",
              "4        delivered      2018-02-13 21:18:39\n",
              "...            ...                      ...\n",
              "99436    delivered      2017-03-09 09:54:05\n",
              "99437    delivered      2018-02-06 12:58:58\n",
              "99438    delivered      2017-08-27 14:46:43\n",
              "99439    delivered      2018-01-08 21:28:27\n",
              "99440    delivered      2018-03-08 20:57:30\n",
              "\n",
              "[99441 rows x 2 columns]"
            ]
          },
          "metadata": {
            "tags": []
          },
          "execution_count": 17
        }
      ]
    },
    {
      "cell_type": "markdown",
      "metadata": {
        "id": "0jeti-zZDRjr",
        "colab_type": "text"
      },
      "source": [
        "### 2.2. Subsetting by location and labels\n",
        "\n",
        "If we want to select given rows and columns at the same time, we have to use subsetting with either:\n",
        "1. `iloc`: specify rows and columns by integer locations.\n",
        "1. `loc`: specify rows and columns by *label*."
      ]
    },
    {
      "cell_type": "markdown",
      "metadata": {
        "id": "AhBM7DSpEron",
        "colab_type": "text"
      },
      "source": [
        "`iloc`: Select rows from 0 to 20 (21 rows) and columns from 2 to 5 (4 columns)."
      ]
    },
    {
      "cell_type": "code",
      "metadata": {
        "id": "s9_uTAGkDMvJ",
        "colab_type": "code",
        "colab": {
          "base_uri": "https://localhost:8080/",
          "height": 708
        },
        "outputId": "b37e401f-5631-419e-bf57-ddaafebc9e23"
      },
      "source": [
        "orders.iloc[0:21, 2:5]"
      ],
      "execution_count": null,
      "outputs": [
        {
          "output_type": "execute_result",
          "data": {
            "text/html": [
              "<div>\n",
              "<style scoped>\n",
              "    .dataframe tbody tr th:only-of-type {\n",
              "        vertical-align: middle;\n",
              "    }\n",
              "\n",
              "    .dataframe tbody tr th {\n",
              "        vertical-align: top;\n",
              "    }\n",
              "\n",
              "    .dataframe thead th {\n",
              "        text-align: right;\n",
              "    }\n",
              "</style>\n",
              "<table border=\"1\" class=\"dataframe\">\n",
              "  <thead>\n",
              "    <tr style=\"text-align: right;\">\n",
              "      <th></th>\n",
              "      <th>order_status</th>\n",
              "      <th>order_purchase_timestamp</th>\n",
              "      <th>order_approved_at</th>\n",
              "    </tr>\n",
              "  </thead>\n",
              "  <tbody>\n",
              "    <tr>\n",
              "      <th>0</th>\n",
              "      <td>delivered</td>\n",
              "      <td>2017-10-02 10:56:33</td>\n",
              "      <td>2017-10-02 11:07:15</td>\n",
              "    </tr>\n",
              "    <tr>\n",
              "      <th>1</th>\n",
              "      <td>delivered</td>\n",
              "      <td>2018-07-24 20:41:37</td>\n",
              "      <td>2018-07-26 03:24:27</td>\n",
              "    </tr>\n",
              "    <tr>\n",
              "      <th>2</th>\n",
              "      <td>delivered</td>\n",
              "      <td>2018-08-08 08:38:49</td>\n",
              "      <td>2018-08-08 08:55:23</td>\n",
              "    </tr>\n",
              "    <tr>\n",
              "      <th>3</th>\n",
              "      <td>delivered</td>\n",
              "      <td>2017-11-18 19:28:06</td>\n",
              "      <td>2017-11-18 19:45:59</td>\n",
              "    </tr>\n",
              "    <tr>\n",
              "      <th>4</th>\n",
              "      <td>delivered</td>\n",
              "      <td>2018-02-13 21:18:39</td>\n",
              "      <td>2018-02-13 22:20:29</td>\n",
              "    </tr>\n",
              "    <tr>\n",
              "      <th>5</th>\n",
              "      <td>delivered</td>\n",
              "      <td>2017-07-09 21:57:05</td>\n",
              "      <td>2017-07-09 22:10:13</td>\n",
              "    </tr>\n",
              "    <tr>\n",
              "      <th>6</th>\n",
              "      <td>invoiced</td>\n",
              "      <td>2017-04-11 12:22:08</td>\n",
              "      <td>2017-04-13 13:25:17</td>\n",
              "    </tr>\n",
              "    <tr>\n",
              "      <th>7</th>\n",
              "      <td>delivered</td>\n",
              "      <td>2017-05-16 13:10:30</td>\n",
              "      <td>2017-05-16 13:22:11</td>\n",
              "    </tr>\n",
              "    <tr>\n",
              "      <th>8</th>\n",
              "      <td>delivered</td>\n",
              "      <td>2017-01-23 18:29:09</td>\n",
              "      <td>2017-01-25 02:50:47</td>\n",
              "    </tr>\n",
              "    <tr>\n",
              "      <th>9</th>\n",
              "      <td>delivered</td>\n",
              "      <td>2017-07-29 11:55:02</td>\n",
              "      <td>2017-07-29 12:05:32</td>\n",
              "    </tr>\n",
              "    <tr>\n",
              "      <th>10</th>\n",
              "      <td>delivered</td>\n",
              "      <td>2017-05-16 19:41:10</td>\n",
              "      <td>2017-05-16 19:50:18</td>\n",
              "    </tr>\n",
              "    <tr>\n",
              "      <th>11</th>\n",
              "      <td>delivered</td>\n",
              "      <td>2017-07-13 19:58:11</td>\n",
              "      <td>2017-07-13 20:10:08</td>\n",
              "    </tr>\n",
              "    <tr>\n",
              "      <th>12</th>\n",
              "      <td>delivered</td>\n",
              "      <td>2018-06-07 10:06:19</td>\n",
              "      <td>2018-06-09 03:13:12</td>\n",
              "    </tr>\n",
              "    <tr>\n",
              "      <th>13</th>\n",
              "      <td>delivered</td>\n",
              "      <td>2018-07-25 17:44:10</td>\n",
              "      <td>2018-07-25 17:55:14</td>\n",
              "    </tr>\n",
              "    <tr>\n",
              "      <th>14</th>\n",
              "      <td>delivered</td>\n",
              "      <td>2018-03-01 14:14:28</td>\n",
              "      <td>2018-03-01 15:10:47</td>\n",
              "    </tr>\n",
              "    <tr>\n",
              "      <th>15</th>\n",
              "      <td>delivered</td>\n",
              "      <td>2018-06-07 19:03:12</td>\n",
              "      <td>2018-06-12 23:31:02</td>\n",
              "    </tr>\n",
              "    <tr>\n",
              "      <th>16</th>\n",
              "      <td>delivered</td>\n",
              "      <td>2018-01-02 19:00:43</td>\n",
              "      <td>2018-01-02 19:09:04</td>\n",
              "    </tr>\n",
              "    <tr>\n",
              "      <th>17</th>\n",
              "      <td>delivered</td>\n",
              "      <td>2017-12-26 23:41:31</td>\n",
              "      <td>2017-12-26 23:50:22</td>\n",
              "    </tr>\n",
              "    <tr>\n",
              "      <th>18</th>\n",
              "      <td>delivered</td>\n",
              "      <td>2017-11-21 00:03:41</td>\n",
              "      <td>2017-11-21 00:14:22</td>\n",
              "    </tr>\n",
              "    <tr>\n",
              "      <th>19</th>\n",
              "      <td>delivered</td>\n",
              "      <td>2017-10-26 15:54:26</td>\n",
              "      <td>2017-10-26 16:08:14</td>\n",
              "    </tr>\n",
              "    <tr>\n",
              "      <th>20</th>\n",
              "      <td>delivered</td>\n",
              "      <td>2017-09-18 14:31:30</td>\n",
              "      <td>2017-09-19 04:04:09</td>\n",
              "    </tr>\n",
              "  </tbody>\n",
              "</table>\n",
              "</div>"
            ],
            "text/plain": [
              "   order_status order_purchase_timestamp    order_approved_at\n",
              "0     delivered      2017-10-02 10:56:33  2017-10-02 11:07:15\n",
              "1     delivered      2018-07-24 20:41:37  2018-07-26 03:24:27\n",
              "2     delivered      2018-08-08 08:38:49  2018-08-08 08:55:23\n",
              "3     delivered      2017-11-18 19:28:06  2017-11-18 19:45:59\n",
              "4     delivered      2018-02-13 21:18:39  2018-02-13 22:20:29\n",
              "5     delivered      2017-07-09 21:57:05  2017-07-09 22:10:13\n",
              "6      invoiced      2017-04-11 12:22:08  2017-04-13 13:25:17\n",
              "7     delivered      2017-05-16 13:10:30  2017-05-16 13:22:11\n",
              "8     delivered      2017-01-23 18:29:09  2017-01-25 02:50:47\n",
              "9     delivered      2017-07-29 11:55:02  2017-07-29 12:05:32\n",
              "10    delivered      2017-05-16 19:41:10  2017-05-16 19:50:18\n",
              "11    delivered      2017-07-13 19:58:11  2017-07-13 20:10:08\n",
              "12    delivered      2018-06-07 10:06:19  2018-06-09 03:13:12\n",
              "13    delivered      2018-07-25 17:44:10  2018-07-25 17:55:14\n",
              "14    delivered      2018-03-01 14:14:28  2018-03-01 15:10:47\n",
              "15    delivered      2018-06-07 19:03:12  2018-06-12 23:31:02\n",
              "16    delivered      2018-01-02 19:00:43  2018-01-02 19:09:04\n",
              "17    delivered      2017-12-26 23:41:31  2017-12-26 23:50:22\n",
              "18    delivered      2017-11-21 00:03:41  2017-11-21 00:14:22\n",
              "19    delivered      2017-10-26 15:54:26  2017-10-26 16:08:14\n",
              "20    delivered      2017-09-18 14:31:30  2017-09-19 04:04:09"
            ]
          },
          "metadata": {
            "tags": []
          },
          "execution_count": 28
        }
      ]
    },
    {
      "cell_type": "code",
      "metadata": {
        "id": "kmHBioczDbKU",
        "colab_type": "code",
        "colab": {
          "base_uri": "https://localhost:8080/",
          "height": 36
        },
        "outputId": "e293ec6b-ae2a-4d9f-b3b8-48932ff5a3c0"
      },
      "source": [
        "# Select 1 element from the dataframe: Row number 3, first column\n",
        "orders.iloc[3, 0]"
      ],
      "execution_count": null,
      "outputs": [
        {
          "output_type": "execute_result",
          "data": {
            "application/vnd.google.colaboratory.intrinsic+json": {
              "type": "string"
            },
            "text/plain": [
              "'949d5b44dbf5de918fe9c16f97b45f8a'"
            ]
          },
          "metadata": {
            "tags": []
          },
          "execution_count": 30
        }
      ]
    },
    {
      "cell_type": "markdown",
      "metadata": {
        "id": "2S_kL7eNFn2A",
        "colab_type": "text"
      },
      "source": [
        "`loc`: Rows here are labeled by integers and columns are labeled by column names."
      ]
    },
    {
      "cell_type": "code",
      "metadata": {
        "id": "JifER5WcD_b8",
        "colab_type": "code",
        "colab": {
          "base_uri": "https://localhost:8080/",
          "height": 394
        },
        "outputId": "6c0cd00a-5617-4ee4-de13-bfb73ded8304"
      },
      "source": [
        "orders.loc[0:10, [\"order_id\",\"order_status\",\"order_purchase_timestamp\"]]"
      ],
      "execution_count": null,
      "outputs": [
        {
          "output_type": "execute_result",
          "data": {
            "text/html": [
              "<div>\n",
              "<style scoped>\n",
              "    .dataframe tbody tr th:only-of-type {\n",
              "        vertical-align: middle;\n",
              "    }\n",
              "\n",
              "    .dataframe tbody tr th {\n",
              "        vertical-align: top;\n",
              "    }\n",
              "\n",
              "    .dataframe thead th {\n",
              "        text-align: right;\n",
              "    }\n",
              "</style>\n",
              "<table border=\"1\" class=\"dataframe\">\n",
              "  <thead>\n",
              "    <tr style=\"text-align: right;\">\n",
              "      <th></th>\n",
              "      <th>order_id</th>\n",
              "      <th>order_status</th>\n",
              "      <th>order_purchase_timestamp</th>\n",
              "    </tr>\n",
              "  </thead>\n",
              "  <tbody>\n",
              "    <tr>\n",
              "      <th>0</th>\n",
              "      <td>e481f51cbdc54678b7cc49136f2d6af7</td>\n",
              "      <td>delivered</td>\n",
              "      <td>2017-10-02 10:56:33</td>\n",
              "    </tr>\n",
              "    <tr>\n",
              "      <th>1</th>\n",
              "      <td>53cdb2fc8bc7dce0b6741e2150273451</td>\n",
              "      <td>delivered</td>\n",
              "      <td>2018-07-24 20:41:37</td>\n",
              "    </tr>\n",
              "    <tr>\n",
              "      <th>2</th>\n",
              "      <td>47770eb9100c2d0c44946d9cf07ec65d</td>\n",
              "      <td>delivered</td>\n",
              "      <td>2018-08-08 08:38:49</td>\n",
              "    </tr>\n",
              "    <tr>\n",
              "      <th>3</th>\n",
              "      <td>949d5b44dbf5de918fe9c16f97b45f8a</td>\n",
              "      <td>delivered</td>\n",
              "      <td>2017-11-18 19:28:06</td>\n",
              "    </tr>\n",
              "    <tr>\n",
              "      <th>4</th>\n",
              "      <td>ad21c59c0840e6cb83a9ceb5573f8159</td>\n",
              "      <td>delivered</td>\n",
              "      <td>2018-02-13 21:18:39</td>\n",
              "    </tr>\n",
              "    <tr>\n",
              "      <th>5</th>\n",
              "      <td>a4591c265e18cb1dcee52889e2d8acc3</td>\n",
              "      <td>delivered</td>\n",
              "      <td>2017-07-09 21:57:05</td>\n",
              "    </tr>\n",
              "    <tr>\n",
              "      <th>6</th>\n",
              "      <td>136cce7faa42fdb2cefd53fdc79a6098</td>\n",
              "      <td>invoiced</td>\n",
              "      <td>2017-04-11 12:22:08</td>\n",
              "    </tr>\n",
              "    <tr>\n",
              "      <th>7</th>\n",
              "      <td>6514b8ad8028c9f2cc2374ded245783f</td>\n",
              "      <td>delivered</td>\n",
              "      <td>2017-05-16 13:10:30</td>\n",
              "    </tr>\n",
              "    <tr>\n",
              "      <th>8</th>\n",
              "      <td>76c6e866289321a7c93b82b54852dc33</td>\n",
              "      <td>delivered</td>\n",
              "      <td>2017-01-23 18:29:09</td>\n",
              "    </tr>\n",
              "    <tr>\n",
              "      <th>9</th>\n",
              "      <td>e69bfb5eb88e0ed6a785585b27e16dbf</td>\n",
              "      <td>delivered</td>\n",
              "      <td>2017-07-29 11:55:02</td>\n",
              "    </tr>\n",
              "    <tr>\n",
              "      <th>10</th>\n",
              "      <td>e6ce16cb79ec1d90b1da9085a6118aeb</td>\n",
              "      <td>delivered</td>\n",
              "      <td>2017-05-16 19:41:10</td>\n",
              "    </tr>\n",
              "  </tbody>\n",
              "</table>\n",
              "</div>"
            ],
            "text/plain": [
              "                            order_id order_status order_purchase_timestamp\n",
              "0   e481f51cbdc54678b7cc49136f2d6af7    delivered      2017-10-02 10:56:33\n",
              "1   53cdb2fc8bc7dce0b6741e2150273451    delivered      2018-07-24 20:41:37\n",
              "2   47770eb9100c2d0c44946d9cf07ec65d    delivered      2018-08-08 08:38:49\n",
              "3   949d5b44dbf5de918fe9c16f97b45f8a    delivered      2017-11-18 19:28:06\n",
              "4   ad21c59c0840e6cb83a9ceb5573f8159    delivered      2018-02-13 21:18:39\n",
              "5   a4591c265e18cb1dcee52889e2d8acc3    delivered      2017-07-09 21:57:05\n",
              "6   136cce7faa42fdb2cefd53fdc79a6098     invoiced      2017-04-11 12:22:08\n",
              "7   6514b8ad8028c9f2cc2374ded245783f    delivered      2017-05-16 13:10:30\n",
              "8   76c6e866289321a7c93b82b54852dc33    delivered      2017-01-23 18:29:09\n",
              "9   e69bfb5eb88e0ed6a785585b27e16dbf    delivered      2017-07-29 11:55:02\n",
              "10  e6ce16cb79ec1d90b1da9085a6118aeb    delivered      2017-05-16 19:41:10"
            ]
          },
          "metadata": {
            "tags": []
          },
          "execution_count": 32
        }
      ]
    },
    {
      "cell_type": "markdown",
      "metadata": {
        "id": "y6b3D-dIGSRl",
        "colab_type": "text"
      },
      "source": [
        "If the label does not exist, we get an error."
      ]
    },
    {
      "cell_type": "code",
      "metadata": {
        "id": "ExqED3P4ENU4",
        "colab_type": "code",
        "colab": {
          "base_uri": "https://localhost:8080/",
          "height": 310
        },
        "outputId": "e302318a-4a48-4c66-8196-6f40c4f0e296"
      },
      "source": [
        "orders.loc[0:10, [0,4,5]]"
      ],
      "execution_count": null,
      "outputs": [
        {
          "output_type": "error",
          "ename": "KeyError",
          "evalue": "ignored",
          "traceback": [
            "\u001b[0;31m---------------------------------------------------------------------------\u001b[0m",
            "\u001b[0;31mKeyError\u001b[0m                                  Traceback (most recent call last)",
            "\u001b[0;32m<ipython-input-33-63d2618d9d88>\u001b[0m in \u001b[0;36m<module>\u001b[0;34m()\u001b[0m\n\u001b[0;32m----> 1\u001b[0;31m \u001b[0morders\u001b[0m\u001b[0;34m.\u001b[0m\u001b[0mloc\u001b[0m\u001b[0;34m[\u001b[0m\u001b[0;36m0\u001b[0m\u001b[0;34m:\u001b[0m\u001b[0;36m10\u001b[0m\u001b[0;34m,\u001b[0m \u001b[0;34m[\u001b[0m\u001b[0;36m0\u001b[0m\u001b[0;34m,\u001b[0m\u001b[0;36m4\u001b[0m\u001b[0;34m,\u001b[0m\u001b[0;36m5\u001b[0m\u001b[0;34m]\u001b[0m\u001b[0;34m]\u001b[0m\u001b[0;34m\u001b[0m\u001b[0;34m\u001b[0m\u001b[0m\n\u001b[0m",
            "\u001b[0;32m/usr/local/lib/python3.6/dist-packages/pandas/core/indexing.py\u001b[0m in \u001b[0;36m__getitem__\u001b[0;34m(self, key)\u001b[0m\n\u001b[1;32m   1760\u001b[0m                 \u001b[0;32mexcept\u001b[0m \u001b[0;34m(\u001b[0m\u001b[0mKeyError\u001b[0m\u001b[0;34m,\u001b[0m \u001b[0mIndexError\u001b[0m\u001b[0;34m,\u001b[0m \u001b[0mAttributeError\u001b[0m\u001b[0;34m)\u001b[0m\u001b[0;34m:\u001b[0m\u001b[0;34m\u001b[0m\u001b[0;34m\u001b[0m\u001b[0m\n\u001b[1;32m   1761\u001b[0m                     \u001b[0;32mpass\u001b[0m\u001b[0;34m\u001b[0m\u001b[0;34m\u001b[0m\u001b[0m\n\u001b[0;32m-> 1762\u001b[0;31m             \u001b[0;32mreturn\u001b[0m \u001b[0mself\u001b[0m\u001b[0;34m.\u001b[0m\u001b[0m_getitem_tuple\u001b[0m\u001b[0;34m(\u001b[0m\u001b[0mkey\u001b[0m\u001b[0;34m)\u001b[0m\u001b[0;34m\u001b[0m\u001b[0;34m\u001b[0m\u001b[0m\n\u001b[0m\u001b[1;32m   1763\u001b[0m         \u001b[0;32melse\u001b[0m\u001b[0;34m:\u001b[0m\u001b[0;34m\u001b[0m\u001b[0;34m\u001b[0m\u001b[0m\n\u001b[1;32m   1764\u001b[0m             \u001b[0;31m# we by definition only have the 0th axis\u001b[0m\u001b[0;34m\u001b[0m\u001b[0;34m\u001b[0m\u001b[0;34m\u001b[0m\u001b[0m\n",
            "\u001b[0;32m/usr/local/lib/python3.6/dist-packages/pandas/core/indexing.py\u001b[0m in \u001b[0;36m_getitem_tuple\u001b[0;34m(self, tup)\u001b[0m\n\u001b[1;32m   1287\u001b[0m                 \u001b[0;32mcontinue\u001b[0m\u001b[0;34m\u001b[0m\u001b[0;34m\u001b[0m\u001b[0m\n\u001b[1;32m   1288\u001b[0m \u001b[0;34m\u001b[0m\u001b[0m\n\u001b[0;32m-> 1289\u001b[0;31m             \u001b[0mretval\u001b[0m \u001b[0;34m=\u001b[0m \u001b[0mgetattr\u001b[0m\u001b[0;34m(\u001b[0m\u001b[0mretval\u001b[0m\u001b[0;34m,\u001b[0m \u001b[0mself\u001b[0m\u001b[0;34m.\u001b[0m\u001b[0mname\u001b[0m\u001b[0;34m)\u001b[0m\u001b[0;34m.\u001b[0m\u001b[0m_getitem_axis\u001b[0m\u001b[0;34m(\u001b[0m\u001b[0mkey\u001b[0m\u001b[0;34m,\u001b[0m \u001b[0maxis\u001b[0m\u001b[0;34m=\u001b[0m\u001b[0mi\u001b[0m\u001b[0;34m)\u001b[0m\u001b[0;34m\u001b[0m\u001b[0;34m\u001b[0m\u001b[0m\n\u001b[0m\u001b[1;32m   1290\u001b[0m \u001b[0;34m\u001b[0m\u001b[0m\n\u001b[1;32m   1291\u001b[0m         \u001b[0;32mreturn\u001b[0m \u001b[0mretval\u001b[0m\u001b[0;34m\u001b[0m\u001b[0;34m\u001b[0m\u001b[0m\n",
            "\u001b[0;32m/usr/local/lib/python3.6/dist-packages/pandas/core/indexing.py\u001b[0m in \u001b[0;36m_getitem_axis\u001b[0;34m(self, key, axis)\u001b[0m\n\u001b[1;32m   1952\u001b[0m                     \u001b[0;32mraise\u001b[0m \u001b[0mValueError\u001b[0m\u001b[0;34m(\u001b[0m\u001b[0;34m\"Cannot index with multidimensional key\"\u001b[0m\u001b[0;34m)\u001b[0m\u001b[0;34m\u001b[0m\u001b[0;34m\u001b[0m\u001b[0m\n\u001b[1;32m   1953\u001b[0m \u001b[0;34m\u001b[0m\u001b[0m\n\u001b[0;32m-> 1954\u001b[0;31m                 \u001b[0;32mreturn\u001b[0m \u001b[0mself\u001b[0m\u001b[0;34m.\u001b[0m\u001b[0m_getitem_iterable\u001b[0m\u001b[0;34m(\u001b[0m\u001b[0mkey\u001b[0m\u001b[0;34m,\u001b[0m \u001b[0maxis\u001b[0m\u001b[0;34m=\u001b[0m\u001b[0maxis\u001b[0m\u001b[0;34m)\u001b[0m\u001b[0;34m\u001b[0m\u001b[0;34m\u001b[0m\u001b[0m\n\u001b[0m\u001b[1;32m   1955\u001b[0m \u001b[0;34m\u001b[0m\u001b[0m\n\u001b[1;32m   1956\u001b[0m             \u001b[0;31m# nested tuple slicing\u001b[0m\u001b[0;34m\u001b[0m\u001b[0;34m\u001b[0m\u001b[0;34m\u001b[0m\u001b[0m\n",
            "\u001b[0;32m/usr/local/lib/python3.6/dist-packages/pandas/core/indexing.py\u001b[0m in \u001b[0;36m_getitem_iterable\u001b[0;34m(self, key, axis)\u001b[0m\n\u001b[1;32m   1593\u001b[0m         \u001b[0;32melse\u001b[0m\u001b[0;34m:\u001b[0m\u001b[0;34m\u001b[0m\u001b[0;34m\u001b[0m\u001b[0m\n\u001b[1;32m   1594\u001b[0m             \u001b[0;31m# A collection of keys\u001b[0m\u001b[0;34m\u001b[0m\u001b[0;34m\u001b[0m\u001b[0;34m\u001b[0m\u001b[0m\n\u001b[0;32m-> 1595\u001b[0;31m             \u001b[0mkeyarr\u001b[0m\u001b[0;34m,\u001b[0m \u001b[0mindexer\u001b[0m \u001b[0;34m=\u001b[0m \u001b[0mself\u001b[0m\u001b[0;34m.\u001b[0m\u001b[0m_get_listlike_indexer\u001b[0m\u001b[0;34m(\u001b[0m\u001b[0mkey\u001b[0m\u001b[0;34m,\u001b[0m \u001b[0maxis\u001b[0m\u001b[0;34m,\u001b[0m \u001b[0mraise_missing\u001b[0m\u001b[0;34m=\u001b[0m\u001b[0;32mFalse\u001b[0m\u001b[0;34m)\u001b[0m\u001b[0;34m\u001b[0m\u001b[0;34m\u001b[0m\u001b[0m\n\u001b[0m\u001b[1;32m   1596\u001b[0m             return self.obj._reindex_with_indexers(\n\u001b[1;32m   1597\u001b[0m                 \u001b[0;34m{\u001b[0m\u001b[0maxis\u001b[0m\u001b[0;34m:\u001b[0m \u001b[0;34m[\u001b[0m\u001b[0mkeyarr\u001b[0m\u001b[0;34m,\u001b[0m \u001b[0mindexer\u001b[0m\u001b[0;34m]\u001b[0m\u001b[0;34m}\u001b[0m\u001b[0;34m,\u001b[0m \u001b[0mcopy\u001b[0m\u001b[0;34m=\u001b[0m\u001b[0;32mTrue\u001b[0m\u001b[0;34m,\u001b[0m \u001b[0mallow_dups\u001b[0m\u001b[0;34m=\u001b[0m\u001b[0;32mTrue\u001b[0m\u001b[0;34m\u001b[0m\u001b[0;34m\u001b[0m\u001b[0m\n",
            "\u001b[0;32m/usr/local/lib/python3.6/dist-packages/pandas/core/indexing.py\u001b[0m in \u001b[0;36m_get_listlike_indexer\u001b[0;34m(self, key, axis, raise_missing)\u001b[0m\n\u001b[1;32m   1551\u001b[0m \u001b[0;34m\u001b[0m\u001b[0m\n\u001b[1;32m   1552\u001b[0m         self._validate_read_indexer(\n\u001b[0;32m-> 1553\u001b[0;31m             \u001b[0mkeyarr\u001b[0m\u001b[0;34m,\u001b[0m \u001b[0mindexer\u001b[0m\u001b[0;34m,\u001b[0m \u001b[0mo\u001b[0m\u001b[0;34m.\u001b[0m\u001b[0m_get_axis_number\u001b[0m\u001b[0;34m(\u001b[0m\u001b[0maxis\u001b[0m\u001b[0;34m)\u001b[0m\u001b[0;34m,\u001b[0m \u001b[0mraise_missing\u001b[0m\u001b[0;34m=\u001b[0m\u001b[0mraise_missing\u001b[0m\u001b[0;34m\u001b[0m\u001b[0;34m\u001b[0m\u001b[0m\n\u001b[0m\u001b[1;32m   1554\u001b[0m         )\n\u001b[1;32m   1555\u001b[0m         \u001b[0;32mreturn\u001b[0m \u001b[0mkeyarr\u001b[0m\u001b[0;34m,\u001b[0m \u001b[0mindexer\u001b[0m\u001b[0;34m\u001b[0m\u001b[0;34m\u001b[0m\u001b[0m\n",
            "\u001b[0;32m/usr/local/lib/python3.6/dist-packages/pandas/core/indexing.py\u001b[0m in \u001b[0;36m_validate_read_indexer\u001b[0;34m(self, key, indexer, axis, raise_missing)\u001b[0m\n\u001b[1;32m   1638\u001b[0m             \u001b[0;32mif\u001b[0m \u001b[0mmissing\u001b[0m \u001b[0;34m==\u001b[0m \u001b[0mlen\u001b[0m\u001b[0;34m(\u001b[0m\u001b[0mindexer\u001b[0m\u001b[0;34m)\u001b[0m\u001b[0;34m:\u001b[0m\u001b[0;34m\u001b[0m\u001b[0;34m\u001b[0m\u001b[0m\n\u001b[1;32m   1639\u001b[0m                 \u001b[0maxis_name\u001b[0m \u001b[0;34m=\u001b[0m \u001b[0mself\u001b[0m\u001b[0;34m.\u001b[0m\u001b[0mobj\u001b[0m\u001b[0;34m.\u001b[0m\u001b[0m_get_axis_name\u001b[0m\u001b[0;34m(\u001b[0m\u001b[0maxis\u001b[0m\u001b[0;34m)\u001b[0m\u001b[0;34m\u001b[0m\u001b[0;34m\u001b[0m\u001b[0m\n\u001b[0;32m-> 1640\u001b[0;31m                 \u001b[0;32mraise\u001b[0m \u001b[0mKeyError\u001b[0m\u001b[0;34m(\u001b[0m\u001b[0;34mf\"None of [{key}] are in the [{axis_name}]\"\u001b[0m\u001b[0;34m)\u001b[0m\u001b[0;34m\u001b[0m\u001b[0;34m\u001b[0m\u001b[0m\n\u001b[0m\u001b[1;32m   1641\u001b[0m \u001b[0;34m\u001b[0m\u001b[0m\n\u001b[1;32m   1642\u001b[0m             \u001b[0;31m# We (temporarily) allow for some missing keys with .loc, except in\u001b[0m\u001b[0;34m\u001b[0m\u001b[0;34m\u001b[0m\u001b[0;34m\u001b[0m\u001b[0m\n",
            "\u001b[0;31mKeyError\u001b[0m: \"None of [Int64Index([0, 4, 5], dtype='int64')] are in the [columns]\""
          ]
        }
      ]
    },
    {
      "cell_type": "markdown",
      "metadata": {
        "id": "OaOQggeWGijs",
        "colab_type": "text"
      },
      "source": [
        "Also, compare the results of the two operations below. What is the difference that needs to be remembered?"
      ]
    },
    {
      "cell_type": "code",
      "metadata": {
        "id": "4xkACOa1GgHS",
        "colab_type": "code",
        "colab": {
          "base_uri": "https://localhost:8080/",
          "height": 363
        },
        "outputId": "79f0cd0a-b03a-4639-f52c-18750a9ed33d"
      },
      "source": [
        "# Using iloc to subset\n",
        "orders.iloc[:10, 0:3]"
      ],
      "execution_count": null,
      "outputs": [
        {
          "output_type": "execute_result",
          "data": {
            "text/html": [
              "<div>\n",
              "<style scoped>\n",
              "    .dataframe tbody tr th:only-of-type {\n",
              "        vertical-align: middle;\n",
              "    }\n",
              "\n",
              "    .dataframe tbody tr th {\n",
              "        vertical-align: top;\n",
              "    }\n",
              "\n",
              "    .dataframe thead th {\n",
              "        text-align: right;\n",
              "    }\n",
              "</style>\n",
              "<table border=\"1\" class=\"dataframe\">\n",
              "  <thead>\n",
              "    <tr style=\"text-align: right;\">\n",
              "      <th></th>\n",
              "      <th>order_id</th>\n",
              "      <th>customer_id</th>\n",
              "      <th>order_status</th>\n",
              "    </tr>\n",
              "  </thead>\n",
              "  <tbody>\n",
              "    <tr>\n",
              "      <th>0</th>\n",
              "      <td>e481f51cbdc54678b7cc49136f2d6af7</td>\n",
              "      <td>9ef432eb6251297304e76186b10a928d</td>\n",
              "      <td>delivered</td>\n",
              "    </tr>\n",
              "    <tr>\n",
              "      <th>1</th>\n",
              "      <td>53cdb2fc8bc7dce0b6741e2150273451</td>\n",
              "      <td>b0830fb4747a6c6d20dea0b8c802d7ef</td>\n",
              "      <td>delivered</td>\n",
              "    </tr>\n",
              "    <tr>\n",
              "      <th>2</th>\n",
              "      <td>47770eb9100c2d0c44946d9cf07ec65d</td>\n",
              "      <td>41ce2a54c0b03bf3443c3d931a367089</td>\n",
              "      <td>delivered</td>\n",
              "    </tr>\n",
              "    <tr>\n",
              "      <th>3</th>\n",
              "      <td>949d5b44dbf5de918fe9c16f97b45f8a</td>\n",
              "      <td>f88197465ea7920adcdbec7375364d82</td>\n",
              "      <td>delivered</td>\n",
              "    </tr>\n",
              "    <tr>\n",
              "      <th>4</th>\n",
              "      <td>ad21c59c0840e6cb83a9ceb5573f8159</td>\n",
              "      <td>8ab97904e6daea8866dbdbc4fb7aad2c</td>\n",
              "      <td>delivered</td>\n",
              "    </tr>\n",
              "    <tr>\n",
              "      <th>5</th>\n",
              "      <td>a4591c265e18cb1dcee52889e2d8acc3</td>\n",
              "      <td>503740e9ca751ccdda7ba28e9ab8f608</td>\n",
              "      <td>delivered</td>\n",
              "    </tr>\n",
              "    <tr>\n",
              "      <th>6</th>\n",
              "      <td>136cce7faa42fdb2cefd53fdc79a6098</td>\n",
              "      <td>ed0271e0b7da060a393796590e7b737a</td>\n",
              "      <td>invoiced</td>\n",
              "    </tr>\n",
              "    <tr>\n",
              "      <th>7</th>\n",
              "      <td>6514b8ad8028c9f2cc2374ded245783f</td>\n",
              "      <td>9bdf08b4b3b52b5526ff42d37d47f222</td>\n",
              "      <td>delivered</td>\n",
              "    </tr>\n",
              "    <tr>\n",
              "      <th>8</th>\n",
              "      <td>76c6e866289321a7c93b82b54852dc33</td>\n",
              "      <td>f54a9f0e6b351c431402b8461ea51999</td>\n",
              "      <td>delivered</td>\n",
              "    </tr>\n",
              "    <tr>\n",
              "      <th>9</th>\n",
              "      <td>e69bfb5eb88e0ed6a785585b27e16dbf</td>\n",
              "      <td>31ad1d1b63eb9962463f764d4e6e0c9d</td>\n",
              "      <td>delivered</td>\n",
              "    </tr>\n",
              "  </tbody>\n",
              "</table>\n",
              "</div>"
            ],
            "text/plain": [
              "                           order_id  ... order_status\n",
              "0  e481f51cbdc54678b7cc49136f2d6af7  ...    delivered\n",
              "1  53cdb2fc8bc7dce0b6741e2150273451  ...    delivered\n",
              "2  47770eb9100c2d0c44946d9cf07ec65d  ...    delivered\n",
              "3  949d5b44dbf5de918fe9c16f97b45f8a  ...    delivered\n",
              "4  ad21c59c0840e6cb83a9ceb5573f8159  ...    delivered\n",
              "5  a4591c265e18cb1dcee52889e2d8acc3  ...    delivered\n",
              "6  136cce7faa42fdb2cefd53fdc79a6098  ...     invoiced\n",
              "7  6514b8ad8028c9f2cc2374ded245783f  ...    delivered\n",
              "8  76c6e866289321a7c93b82b54852dc33  ...    delivered\n",
              "9  e69bfb5eb88e0ed6a785585b27e16dbf  ...    delivered\n",
              "\n",
              "[10 rows x 3 columns]"
            ]
          },
          "metadata": {
            "tags": []
          },
          "execution_count": 37
        }
      ]
    },
    {
      "cell_type": "code",
      "metadata": {
        "id": "fZzrR6PUGukJ",
        "colab_type": "code",
        "colab": {
          "base_uri": "https://localhost:8080/",
          "height": 394
        },
        "outputId": "b7c46a17-67b2-4bba-fc26-663512246f3f"
      },
      "source": [
        "# Using loc to subset\n",
        "orders.loc[:10, [\"order_id\", \"customer_id\",\"order_status\"]]"
      ],
      "execution_count": null,
      "outputs": [
        {
          "output_type": "execute_result",
          "data": {
            "text/html": [
              "<div>\n",
              "<style scoped>\n",
              "    .dataframe tbody tr th:only-of-type {\n",
              "        vertical-align: middle;\n",
              "    }\n",
              "\n",
              "    .dataframe tbody tr th {\n",
              "        vertical-align: top;\n",
              "    }\n",
              "\n",
              "    .dataframe thead th {\n",
              "        text-align: right;\n",
              "    }\n",
              "</style>\n",
              "<table border=\"1\" class=\"dataframe\">\n",
              "  <thead>\n",
              "    <tr style=\"text-align: right;\">\n",
              "      <th></th>\n",
              "      <th>order_id</th>\n",
              "      <th>customer_id</th>\n",
              "      <th>order_status</th>\n",
              "    </tr>\n",
              "  </thead>\n",
              "  <tbody>\n",
              "    <tr>\n",
              "      <th>0</th>\n",
              "      <td>e481f51cbdc54678b7cc49136f2d6af7</td>\n",
              "      <td>9ef432eb6251297304e76186b10a928d</td>\n",
              "      <td>delivered</td>\n",
              "    </tr>\n",
              "    <tr>\n",
              "      <th>1</th>\n",
              "      <td>53cdb2fc8bc7dce0b6741e2150273451</td>\n",
              "      <td>b0830fb4747a6c6d20dea0b8c802d7ef</td>\n",
              "      <td>delivered</td>\n",
              "    </tr>\n",
              "    <tr>\n",
              "      <th>2</th>\n",
              "      <td>47770eb9100c2d0c44946d9cf07ec65d</td>\n",
              "      <td>41ce2a54c0b03bf3443c3d931a367089</td>\n",
              "      <td>delivered</td>\n",
              "    </tr>\n",
              "    <tr>\n",
              "      <th>3</th>\n",
              "      <td>949d5b44dbf5de918fe9c16f97b45f8a</td>\n",
              "      <td>f88197465ea7920adcdbec7375364d82</td>\n",
              "      <td>delivered</td>\n",
              "    </tr>\n",
              "    <tr>\n",
              "      <th>4</th>\n",
              "      <td>ad21c59c0840e6cb83a9ceb5573f8159</td>\n",
              "      <td>8ab97904e6daea8866dbdbc4fb7aad2c</td>\n",
              "      <td>delivered</td>\n",
              "    </tr>\n",
              "    <tr>\n",
              "      <th>5</th>\n",
              "      <td>a4591c265e18cb1dcee52889e2d8acc3</td>\n",
              "      <td>503740e9ca751ccdda7ba28e9ab8f608</td>\n",
              "      <td>delivered</td>\n",
              "    </tr>\n",
              "    <tr>\n",
              "      <th>6</th>\n",
              "      <td>136cce7faa42fdb2cefd53fdc79a6098</td>\n",
              "      <td>ed0271e0b7da060a393796590e7b737a</td>\n",
              "      <td>invoiced</td>\n",
              "    </tr>\n",
              "    <tr>\n",
              "      <th>7</th>\n",
              "      <td>6514b8ad8028c9f2cc2374ded245783f</td>\n",
              "      <td>9bdf08b4b3b52b5526ff42d37d47f222</td>\n",
              "      <td>delivered</td>\n",
              "    </tr>\n",
              "    <tr>\n",
              "      <th>8</th>\n",
              "      <td>76c6e866289321a7c93b82b54852dc33</td>\n",
              "      <td>f54a9f0e6b351c431402b8461ea51999</td>\n",
              "      <td>delivered</td>\n",
              "    </tr>\n",
              "    <tr>\n",
              "      <th>9</th>\n",
              "      <td>e69bfb5eb88e0ed6a785585b27e16dbf</td>\n",
              "      <td>31ad1d1b63eb9962463f764d4e6e0c9d</td>\n",
              "      <td>delivered</td>\n",
              "    </tr>\n",
              "    <tr>\n",
              "      <th>10</th>\n",
              "      <td>e6ce16cb79ec1d90b1da9085a6118aeb</td>\n",
              "      <td>494dded5b201313c64ed7f100595b95c</td>\n",
              "      <td>delivered</td>\n",
              "    </tr>\n",
              "  </tbody>\n",
              "</table>\n",
              "</div>"
            ],
            "text/plain": [
              "                            order_id  ... order_status\n",
              "0   e481f51cbdc54678b7cc49136f2d6af7  ...    delivered\n",
              "1   53cdb2fc8bc7dce0b6741e2150273451  ...    delivered\n",
              "2   47770eb9100c2d0c44946d9cf07ec65d  ...    delivered\n",
              "3   949d5b44dbf5de918fe9c16f97b45f8a  ...    delivered\n",
              "4   ad21c59c0840e6cb83a9ceb5573f8159  ...    delivered\n",
              "5   a4591c265e18cb1dcee52889e2d8acc3  ...    delivered\n",
              "6   136cce7faa42fdb2cefd53fdc79a6098  ...     invoiced\n",
              "7   6514b8ad8028c9f2cc2374ded245783f  ...    delivered\n",
              "8   76c6e866289321a7c93b82b54852dc33  ...    delivered\n",
              "9   e69bfb5eb88e0ed6a785585b27e16dbf  ...    delivered\n",
              "10  e6ce16cb79ec1d90b1da9085a6118aeb  ...    delivered\n",
              "\n",
              "[11 rows x 3 columns]"
            ]
          },
          "metadata": {
            "tags": []
          },
          "execution_count": 38
        }
      ]
    },
    {
      "cell_type": "markdown",
      "metadata": {
        "id": "woxv1ibSHFhY",
        "colab_type": "text"
      },
      "source": [
        "### 2.3. Subsetting by conditions\n",
        "We can also select rows of a dataframe by specifying conditions. The result contains only rows which satisfy our conditions.\n",
        "\n",
        "Conditions available:\n",
        "\n",
        "1. Equals: `==`\n",
        "1. Not equals: `!=`\n",
        "1. Greater than, less than: `>` or `<`\n",
        "1. Greater than or equal to `>=`\n",
        "1. Less than or equal to `<=`\n",
        "\n",
        "\n",
        "Syntax for 1 condition:\n",
        "\n"
      ]
    },
    {
      "cell_type": "code",
      "metadata": {
        "id": "uHgdwrkoG9UV",
        "colab_type": "code",
        "colab": {
          "base_uri": "https://localhost:8080/",
          "height": 444
        },
        "outputId": "176af24a-a2b1-478b-bed8-616acf5fd888"
      },
      "source": [
        "# Select only canceled orders\n",
        "orders[orders[\"order_status\"] == \"canceled\"]"
      ],
      "execution_count": null,
      "outputs": [
        {
          "output_type": "execute_result",
          "data": {
            "text/html": [
              "<div>\n",
              "<style scoped>\n",
              "    .dataframe tbody tr th:only-of-type {\n",
              "        vertical-align: middle;\n",
              "    }\n",
              "\n",
              "    .dataframe tbody tr th {\n",
              "        vertical-align: top;\n",
              "    }\n",
              "\n",
              "    .dataframe thead th {\n",
              "        text-align: right;\n",
              "    }\n",
              "</style>\n",
              "<table border=\"1\" class=\"dataframe\">\n",
              "  <thead>\n",
              "    <tr style=\"text-align: right;\">\n",
              "      <th></th>\n",
              "      <th>order_id</th>\n",
              "      <th>customer_id</th>\n",
              "      <th>order_status</th>\n",
              "      <th>order_purchase_timestamp</th>\n",
              "      <th>order_approved_at</th>\n",
              "      <th>order_delivered_carrier_date</th>\n",
              "      <th>order_delivered_customer_date</th>\n",
              "      <th>order_estimated_delivery_date</th>\n",
              "    </tr>\n",
              "  </thead>\n",
              "  <tbody>\n",
              "    <tr>\n",
              "      <th>397</th>\n",
              "      <td>1b9ecfe83cdc259250e1a8aca174f0ad</td>\n",
              "      <td>6d6b50b66d79f80827b6d96751528d30</td>\n",
              "      <td>canceled</td>\n",
              "      <td>2018-08-04 14:29:27</td>\n",
              "      <td>2018-08-07 04:10:26</td>\n",
              "      <td>NaN</td>\n",
              "      <td>NaN</td>\n",
              "      <td>2018-08-14 00:00:00</td>\n",
              "    </tr>\n",
              "    <tr>\n",
              "      <th>613</th>\n",
              "      <td>714fb133a6730ab81fa1d3c1b2007291</td>\n",
              "      <td>e3fe72696c4713d64d3c10afe71e75ed</td>\n",
              "      <td>canceled</td>\n",
              "      <td>2018-01-26 21:34:08</td>\n",
              "      <td>2018-01-26 21:58:39</td>\n",
              "      <td>2018-01-29 22:33:25</td>\n",
              "      <td>NaN</td>\n",
              "      <td>2018-02-22 00:00:00</td>\n",
              "    </tr>\n",
              "    <tr>\n",
              "      <th>1058</th>\n",
              "      <td>3a129877493c8189c59c60eb71d97c29</td>\n",
              "      <td>0913cdce793684e52bbfac69d87e91fd</td>\n",
              "      <td>canceled</td>\n",
              "      <td>2018-01-25 13:34:24</td>\n",
              "      <td>2018-01-25 13:50:20</td>\n",
              "      <td>2018-01-26 21:42:18</td>\n",
              "      <td>NaN</td>\n",
              "      <td>2018-02-23 00:00:00</td>\n",
              "    </tr>\n",
              "    <tr>\n",
              "      <th>1130</th>\n",
              "      <td>00b1cb0320190ca0daa2c88b35206009</td>\n",
              "      <td>3532ba38a3fd242259a514ac2b6ae6b6</td>\n",
              "      <td>canceled</td>\n",
              "      <td>2018-08-28 15:26:39</td>\n",
              "      <td>NaN</td>\n",
              "      <td>NaN</td>\n",
              "      <td>NaN</td>\n",
              "      <td>2018-09-12 00:00:00</td>\n",
              "    </tr>\n",
              "    <tr>\n",
              "      <th>1801</th>\n",
              "      <td>ed3efbd3a87bea76c2812c66a0b32219</td>\n",
              "      <td>191984a8ba4cbb2145acb4fe35b69664</td>\n",
              "      <td>canceled</td>\n",
              "      <td>2018-09-20 13:54:16</td>\n",
              "      <td>NaN</td>\n",
              "      <td>NaN</td>\n",
              "      <td>NaN</td>\n",
              "      <td>2018-10-17 00:00:00</td>\n",
              "    </tr>\n",
              "    <tr>\n",
              "      <th>...</th>\n",
              "      <td>...</td>\n",
              "      <td>...</td>\n",
              "      <td>...</td>\n",
              "      <td>...</td>\n",
              "      <td>...</td>\n",
              "      <td>...</td>\n",
              "      <td>...</td>\n",
              "      <td>...</td>\n",
              "    </tr>\n",
              "    <tr>\n",
              "      <th>98791</th>\n",
              "      <td>b159d0ce7cd881052da94fa165617b05</td>\n",
              "      <td>e0c3bc5ce0836b975d6b2a8ce7bb0e3e</td>\n",
              "      <td>canceled</td>\n",
              "      <td>2017-03-11 19:51:36</td>\n",
              "      <td>2017-03-11 19:51:36</td>\n",
              "      <td>NaN</td>\n",
              "      <td>NaN</td>\n",
              "      <td>2017-03-30 00:00:00</td>\n",
              "    </tr>\n",
              "    <tr>\n",
              "      <th>98909</th>\n",
              "      <td>e49e7ce1471b4693482d40c2bd3ad196</td>\n",
              "      <td>e4e7ab3f449aeb401f0216f86c2104db</td>\n",
              "      <td>canceled</td>\n",
              "      <td>2018-08-07 11:16:28</td>\n",
              "      <td>NaN</td>\n",
              "      <td>NaN</td>\n",
              "      <td>NaN</td>\n",
              "      <td>2018-08-10 00:00:00</td>\n",
              "    </tr>\n",
              "    <tr>\n",
              "      <th>99143</th>\n",
              "      <td>6560fb10610771449cb0463c5ba12199</td>\n",
              "      <td>0d07d0a588caf93cc66b7a8aff86d2fe</td>\n",
              "      <td>canceled</td>\n",
              "      <td>2017-10-01 22:26:25</td>\n",
              "      <td>2017-10-01 22:35:22</td>\n",
              "      <td>NaN</td>\n",
              "      <td>NaN</td>\n",
              "      <td>2017-10-27 00:00:00</td>\n",
              "    </tr>\n",
              "    <tr>\n",
              "      <th>99283</th>\n",
              "      <td>3a3cddda5a7c27851bd96c3313412840</td>\n",
              "      <td>0b0d6095c5555fe083844281f6b093bb</td>\n",
              "      <td>canceled</td>\n",
              "      <td>2018-08-31 16:13:44</td>\n",
              "      <td>NaN</td>\n",
              "      <td>NaN</td>\n",
              "      <td>NaN</td>\n",
              "      <td>2018-10-01 00:00:00</td>\n",
              "    </tr>\n",
              "    <tr>\n",
              "      <th>99347</th>\n",
              "      <td>a89abace0dcc01eeb267a9660b5ac126</td>\n",
              "      <td>2f0524a7b1b3845a1a57fcf3910c4333</td>\n",
              "      <td>canceled</td>\n",
              "      <td>2018-09-06 18:45:47</td>\n",
              "      <td>NaN</td>\n",
              "      <td>NaN</td>\n",
              "      <td>NaN</td>\n",
              "      <td>2018-09-27 00:00:00</td>\n",
              "    </tr>\n",
              "  </tbody>\n",
              "</table>\n",
              "<p>625 rows × 8 columns</p>\n",
              "</div>"
            ],
            "text/plain": [
              "                               order_id  ... order_estimated_delivery_date\n",
              "397    1b9ecfe83cdc259250e1a8aca174f0ad  ...           2018-08-14 00:00:00\n",
              "613    714fb133a6730ab81fa1d3c1b2007291  ...           2018-02-22 00:00:00\n",
              "1058   3a129877493c8189c59c60eb71d97c29  ...           2018-02-23 00:00:00\n",
              "1130   00b1cb0320190ca0daa2c88b35206009  ...           2018-09-12 00:00:00\n",
              "1801   ed3efbd3a87bea76c2812c66a0b32219  ...           2018-10-17 00:00:00\n",
              "...                                 ...  ...                           ...\n",
              "98791  b159d0ce7cd881052da94fa165617b05  ...           2017-03-30 00:00:00\n",
              "98909  e49e7ce1471b4693482d40c2bd3ad196  ...           2018-08-10 00:00:00\n",
              "99143  6560fb10610771449cb0463c5ba12199  ...           2017-10-27 00:00:00\n",
              "99283  3a3cddda5a7c27851bd96c3313412840  ...           2018-10-01 00:00:00\n",
              "99347  a89abace0dcc01eeb267a9660b5ac126  ...           2018-09-27 00:00:00\n",
              "\n",
              "[625 rows x 8 columns]"
            ]
          },
          "metadata": {
            "tags": []
          },
          "execution_count": 39
        }
      ]
    },
    {
      "cell_type": "markdown",
      "metadata": {
        "id": "BXK5SqYkHhrO",
        "colab_type": "text"
      },
      "source": [
        "Syntax for multiple conditions. With more than 1 condition, we can use logical operations such as `AND (&)`, `OR (|)` to combine conditions. "
      ]
    },
    {
      "cell_type": "code",
      "metadata": {
        "id": "P_7LAVd1Hd8N",
        "colab_type": "code",
        "colab": {
          "base_uri": "https://localhost:8080/",
          "height": 101
        },
        "outputId": "2ad9275d-43c7-475a-8e59-9474ef1274e8"
      },
      "source": [
        "# Select only canceled orders by customer `e4e7ab3f449aeb401f0216f86c2104db`\n",
        "orders[(orders[\"order_status\"] == \"canceled\") & (orders[\"customer_id\"]==\"e4e7ab3f449aeb401f0216f86c2104db\")]"
      ],
      "execution_count": null,
      "outputs": [
        {
          "output_type": "execute_result",
          "data": {
            "text/html": [
              "<div>\n",
              "<style scoped>\n",
              "    .dataframe tbody tr th:only-of-type {\n",
              "        vertical-align: middle;\n",
              "    }\n",
              "\n",
              "    .dataframe tbody tr th {\n",
              "        vertical-align: top;\n",
              "    }\n",
              "\n",
              "    .dataframe thead th {\n",
              "        text-align: right;\n",
              "    }\n",
              "</style>\n",
              "<table border=\"1\" class=\"dataframe\">\n",
              "  <thead>\n",
              "    <tr style=\"text-align: right;\">\n",
              "      <th></th>\n",
              "      <th>order_id</th>\n",
              "      <th>customer_id</th>\n",
              "      <th>order_status</th>\n",
              "      <th>order_purchase_timestamp</th>\n",
              "      <th>order_approved_at</th>\n",
              "      <th>order_delivered_carrier_date</th>\n",
              "      <th>order_delivered_customer_date</th>\n",
              "      <th>order_estimated_delivery_date</th>\n",
              "    </tr>\n",
              "  </thead>\n",
              "  <tbody>\n",
              "    <tr>\n",
              "      <th>98909</th>\n",
              "      <td>e49e7ce1471b4693482d40c2bd3ad196</td>\n",
              "      <td>e4e7ab3f449aeb401f0216f86c2104db</td>\n",
              "      <td>canceled</td>\n",
              "      <td>2018-08-07 11:16:28</td>\n",
              "      <td>NaN</td>\n",
              "      <td>NaN</td>\n",
              "      <td>NaN</td>\n",
              "      <td>2018-08-10 00:00:00</td>\n",
              "    </tr>\n",
              "  </tbody>\n",
              "</table>\n",
              "</div>"
            ],
            "text/plain": [
              "                               order_id  ... order_estimated_delivery_date\n",
              "98909  e49e7ce1471b4693482d40c2bd3ad196  ...           2018-08-10 00:00:00\n",
              "\n",
              "[1 rows x 8 columns]"
            ]
          },
          "metadata": {
            "tags": []
          },
          "execution_count": 40
        }
      ]
    },
    {
      "cell_type": "code",
      "metadata": {
        "id": "88-s8Yw_H3LS",
        "colab_type": "code",
        "colab": {
          "base_uri": "https://localhost:8080/",
          "height": 444
        },
        "outputId": "b082ffca-7367-4ae0-d8e9-e81952e67401"
      },
      "source": [
        "# Select canceled and shipped orders\n",
        "orders[(orders[\"order_status\"] == \"canceled\") | (orders[\"order_status\"] == \"shipped\")]"
      ],
      "execution_count": null,
      "outputs": [
        {
          "output_type": "execute_result",
          "data": {
            "text/html": [
              "<div>\n",
              "<style scoped>\n",
              "    .dataframe tbody tr th:only-of-type {\n",
              "        vertical-align: middle;\n",
              "    }\n",
              "\n",
              "    .dataframe tbody tr th {\n",
              "        vertical-align: top;\n",
              "    }\n",
              "\n",
              "    .dataframe thead th {\n",
              "        text-align: right;\n",
              "    }\n",
              "</style>\n",
              "<table border=\"1\" class=\"dataframe\">\n",
              "  <thead>\n",
              "    <tr style=\"text-align: right;\">\n",
              "      <th></th>\n",
              "      <th>order_id</th>\n",
              "      <th>customer_id</th>\n",
              "      <th>order_status</th>\n",
              "      <th>order_purchase_timestamp</th>\n",
              "      <th>order_approved_at</th>\n",
              "      <th>order_delivered_carrier_date</th>\n",
              "      <th>order_delivered_customer_date</th>\n",
              "      <th>order_estimated_delivery_date</th>\n",
              "    </tr>\n",
              "  </thead>\n",
              "  <tbody>\n",
              "    <tr>\n",
              "      <th>44</th>\n",
              "      <td>ee64d42b8cf066f35eac1cf57de1aa85</td>\n",
              "      <td>caded193e8e47b8362864762a83db3c5</td>\n",
              "      <td>shipped</td>\n",
              "      <td>2018-06-04 16:44:48</td>\n",
              "      <td>2018-06-05 04:31:18</td>\n",
              "      <td>2018-06-05 14:32:00</td>\n",
              "      <td>NaN</td>\n",
              "      <td>2018-06-28 00:00:00</td>\n",
              "    </tr>\n",
              "    <tr>\n",
              "      <th>154</th>\n",
              "      <td>6942b8da583c2f9957e990d028607019</td>\n",
              "      <td>52006a9383bf149a4fb24226b173106f</td>\n",
              "      <td>shipped</td>\n",
              "      <td>2018-01-10 11:33:07</td>\n",
              "      <td>2018-01-11 02:32:30</td>\n",
              "      <td>2018-01-11 19:39:23</td>\n",
              "      <td>NaN</td>\n",
              "      <td>2018-02-07 00:00:00</td>\n",
              "    </tr>\n",
              "    <tr>\n",
              "      <th>162</th>\n",
              "      <td>36530871a5e80138db53bcfd8a104d90</td>\n",
              "      <td>4dafe3c841d2d6cc8a8b6d25b35704b9</td>\n",
              "      <td>shipped</td>\n",
              "      <td>2017-05-09 11:48:37</td>\n",
              "      <td>2017-05-11 11:45:14</td>\n",
              "      <td>2017-05-11 13:21:47</td>\n",
              "      <td>NaN</td>\n",
              "      <td>2017-06-08 00:00:00</td>\n",
              "    </tr>\n",
              "    <tr>\n",
              "      <th>231</th>\n",
              "      <td>4d630f57194f5aba1a3d12ce23e71cd9</td>\n",
              "      <td>6d491c9fe2f04f6e2af6ec033cd8907c</td>\n",
              "      <td>shipped</td>\n",
              "      <td>2017-11-17 19:53:21</td>\n",
              "      <td>2017-11-18 19:50:31</td>\n",
              "      <td>2017-11-22 17:28:34</td>\n",
              "      <td>NaN</td>\n",
              "      <td>2017-12-13 00:00:00</td>\n",
              "    </tr>\n",
              "    <tr>\n",
              "      <th>299</th>\n",
              "      <td>3b4ad687e7e5190db827e1ae5a8989dd</td>\n",
              "      <td>1a87b8517b7d31373b50396eb15cb445</td>\n",
              "      <td>shipped</td>\n",
              "      <td>2018-06-28 12:52:15</td>\n",
              "      <td>2018-06-28 13:11:09</td>\n",
              "      <td>2018-07-04 15:20:00</td>\n",
              "      <td>NaN</td>\n",
              "      <td>2018-08-03 00:00:00</td>\n",
              "    </tr>\n",
              "    <tr>\n",
              "      <th>...</th>\n",
              "      <td>...</td>\n",
              "      <td>...</td>\n",
              "      <td>...</td>\n",
              "      <td>...</td>\n",
              "      <td>...</td>\n",
              "      <td>...</td>\n",
              "      <td>...</td>\n",
              "      <td>...</td>\n",
              "    </tr>\n",
              "    <tr>\n",
              "      <th>99113</th>\n",
              "      <td>274a7f7e4f1c17b7434a830e9b8759b1</td>\n",
              "      <td>670af30ca5b8c20878fecdafa5ee01b9</td>\n",
              "      <td>shipped</td>\n",
              "      <td>2018-06-23 13:25:15</td>\n",
              "      <td>2018-06-23 13:40:11</td>\n",
              "      <td>2018-07-04 13:51:00</td>\n",
              "      <td>NaN</td>\n",
              "      <td>2018-07-24 00:00:00</td>\n",
              "    </tr>\n",
              "    <tr>\n",
              "      <th>99143</th>\n",
              "      <td>6560fb10610771449cb0463c5ba12199</td>\n",
              "      <td>0d07d0a588caf93cc66b7a8aff86d2fe</td>\n",
              "      <td>canceled</td>\n",
              "      <td>2017-10-01 22:26:25</td>\n",
              "      <td>2017-10-01 22:35:22</td>\n",
              "      <td>NaN</td>\n",
              "      <td>NaN</td>\n",
              "      <td>2017-10-27 00:00:00</td>\n",
              "    </tr>\n",
              "    <tr>\n",
              "      <th>99181</th>\n",
              "      <td>636cdd02667dc8d76d9296bf20a6890a</td>\n",
              "      <td>c162256b133c76f79181ce61d66545db</td>\n",
              "      <td>shipped</td>\n",
              "      <td>2018-02-17 14:31:22</td>\n",
              "      <td>2018-02-20 07:11:31</td>\n",
              "      <td>2018-02-20 19:18:58</td>\n",
              "      <td>NaN</td>\n",
              "      <td>2018-03-14 00:00:00</td>\n",
              "    </tr>\n",
              "    <tr>\n",
              "      <th>99283</th>\n",
              "      <td>3a3cddda5a7c27851bd96c3313412840</td>\n",
              "      <td>0b0d6095c5555fe083844281f6b093bb</td>\n",
              "      <td>canceled</td>\n",
              "      <td>2018-08-31 16:13:44</td>\n",
              "      <td>NaN</td>\n",
              "      <td>NaN</td>\n",
              "      <td>NaN</td>\n",
              "      <td>2018-10-01 00:00:00</td>\n",
              "    </tr>\n",
              "    <tr>\n",
              "      <th>99347</th>\n",
              "      <td>a89abace0dcc01eeb267a9660b5ac126</td>\n",
              "      <td>2f0524a7b1b3845a1a57fcf3910c4333</td>\n",
              "      <td>canceled</td>\n",
              "      <td>2018-09-06 18:45:47</td>\n",
              "      <td>NaN</td>\n",
              "      <td>NaN</td>\n",
              "      <td>NaN</td>\n",
              "      <td>2018-09-27 00:00:00</td>\n",
              "    </tr>\n",
              "  </tbody>\n",
              "</table>\n",
              "<p>1732 rows × 8 columns</p>\n",
              "</div>"
            ],
            "text/plain": [
              "                               order_id  ... order_estimated_delivery_date\n",
              "44     ee64d42b8cf066f35eac1cf57de1aa85  ...           2018-06-28 00:00:00\n",
              "154    6942b8da583c2f9957e990d028607019  ...           2018-02-07 00:00:00\n",
              "162    36530871a5e80138db53bcfd8a104d90  ...           2017-06-08 00:00:00\n",
              "231    4d630f57194f5aba1a3d12ce23e71cd9  ...           2017-12-13 00:00:00\n",
              "299    3b4ad687e7e5190db827e1ae5a8989dd  ...           2018-08-03 00:00:00\n",
              "...                                 ...  ...                           ...\n",
              "99113  274a7f7e4f1c17b7434a830e9b8759b1  ...           2018-07-24 00:00:00\n",
              "99143  6560fb10610771449cb0463c5ba12199  ...           2017-10-27 00:00:00\n",
              "99181  636cdd02667dc8d76d9296bf20a6890a  ...           2018-03-14 00:00:00\n",
              "99283  3a3cddda5a7c27851bd96c3313412840  ...           2018-10-01 00:00:00\n",
              "99347  a89abace0dcc01eeb267a9660b5ac126  ...           2018-09-27 00:00:00\n",
              "\n",
              "[1732 rows x 8 columns]"
            ]
          },
          "metadata": {
            "tags": []
          },
          "execution_count": 41
        }
      ]
    },
    {
      "cell_type": "markdown",
      "metadata": {
        "id": "UGaKd9I-IZiL",
        "colab_type": "text"
      },
      "source": [
        "With conditions, we can still specify certain columns only after applying the conditions to select rows we want."
      ]
    },
    {
      "cell_type": "code",
      "metadata": {
        "id": "RAS2yIH8ISoA",
        "colab_type": "code",
        "colab": {
          "base_uri": "https://localhost:8080/",
          "height": 424
        },
        "outputId": "370cd9d5-f928-41c6-83ac-d6d3a9dc0ea1"
      },
      "source": [
        "orders[(orders[\"order_status\"] == \"canceled\") | (orders[\"order_status\"] == \"shipped\")][[\"order_id\",\"order_status\",\"order_purchase_timestamp\"]]"
      ],
      "execution_count": null,
      "outputs": [
        {
          "output_type": "execute_result",
          "data": {
            "text/html": [
              "<div>\n",
              "<style scoped>\n",
              "    .dataframe tbody tr th:only-of-type {\n",
              "        vertical-align: middle;\n",
              "    }\n",
              "\n",
              "    .dataframe tbody tr th {\n",
              "        vertical-align: top;\n",
              "    }\n",
              "\n",
              "    .dataframe thead th {\n",
              "        text-align: right;\n",
              "    }\n",
              "</style>\n",
              "<table border=\"1\" class=\"dataframe\">\n",
              "  <thead>\n",
              "    <tr style=\"text-align: right;\">\n",
              "      <th></th>\n",
              "      <th>order_id</th>\n",
              "      <th>order_status</th>\n",
              "      <th>order_purchase_timestamp</th>\n",
              "    </tr>\n",
              "  </thead>\n",
              "  <tbody>\n",
              "    <tr>\n",
              "      <th>44</th>\n",
              "      <td>ee64d42b8cf066f35eac1cf57de1aa85</td>\n",
              "      <td>shipped</td>\n",
              "      <td>2018-06-04 16:44:48</td>\n",
              "    </tr>\n",
              "    <tr>\n",
              "      <th>154</th>\n",
              "      <td>6942b8da583c2f9957e990d028607019</td>\n",
              "      <td>shipped</td>\n",
              "      <td>2018-01-10 11:33:07</td>\n",
              "    </tr>\n",
              "    <tr>\n",
              "      <th>162</th>\n",
              "      <td>36530871a5e80138db53bcfd8a104d90</td>\n",
              "      <td>shipped</td>\n",
              "      <td>2017-05-09 11:48:37</td>\n",
              "    </tr>\n",
              "    <tr>\n",
              "      <th>231</th>\n",
              "      <td>4d630f57194f5aba1a3d12ce23e71cd9</td>\n",
              "      <td>shipped</td>\n",
              "      <td>2017-11-17 19:53:21</td>\n",
              "    </tr>\n",
              "    <tr>\n",
              "      <th>299</th>\n",
              "      <td>3b4ad687e7e5190db827e1ae5a8989dd</td>\n",
              "      <td>shipped</td>\n",
              "      <td>2018-06-28 12:52:15</td>\n",
              "    </tr>\n",
              "    <tr>\n",
              "      <th>...</th>\n",
              "      <td>...</td>\n",
              "      <td>...</td>\n",
              "      <td>...</td>\n",
              "    </tr>\n",
              "    <tr>\n",
              "      <th>99113</th>\n",
              "      <td>274a7f7e4f1c17b7434a830e9b8759b1</td>\n",
              "      <td>shipped</td>\n",
              "      <td>2018-06-23 13:25:15</td>\n",
              "    </tr>\n",
              "    <tr>\n",
              "      <th>99143</th>\n",
              "      <td>6560fb10610771449cb0463c5ba12199</td>\n",
              "      <td>canceled</td>\n",
              "      <td>2017-10-01 22:26:25</td>\n",
              "    </tr>\n",
              "    <tr>\n",
              "      <th>99181</th>\n",
              "      <td>636cdd02667dc8d76d9296bf20a6890a</td>\n",
              "      <td>shipped</td>\n",
              "      <td>2018-02-17 14:31:22</td>\n",
              "    </tr>\n",
              "    <tr>\n",
              "      <th>99283</th>\n",
              "      <td>3a3cddda5a7c27851bd96c3313412840</td>\n",
              "      <td>canceled</td>\n",
              "      <td>2018-08-31 16:13:44</td>\n",
              "    </tr>\n",
              "    <tr>\n",
              "      <th>99347</th>\n",
              "      <td>a89abace0dcc01eeb267a9660b5ac126</td>\n",
              "      <td>canceled</td>\n",
              "      <td>2018-09-06 18:45:47</td>\n",
              "    </tr>\n",
              "  </tbody>\n",
              "</table>\n",
              "<p>1732 rows × 3 columns</p>\n",
              "</div>"
            ],
            "text/plain": [
              "                               order_id order_status order_purchase_timestamp\n",
              "44     ee64d42b8cf066f35eac1cf57de1aa85      shipped      2018-06-04 16:44:48\n",
              "154    6942b8da583c2f9957e990d028607019      shipped      2018-01-10 11:33:07\n",
              "162    36530871a5e80138db53bcfd8a104d90      shipped      2017-05-09 11:48:37\n",
              "231    4d630f57194f5aba1a3d12ce23e71cd9      shipped      2017-11-17 19:53:21\n",
              "299    3b4ad687e7e5190db827e1ae5a8989dd      shipped      2018-06-28 12:52:15\n",
              "...                                 ...          ...                      ...\n",
              "99113  274a7f7e4f1c17b7434a830e9b8759b1      shipped      2018-06-23 13:25:15\n",
              "99143  6560fb10610771449cb0463c5ba12199     canceled      2017-10-01 22:26:25\n",
              "99181  636cdd02667dc8d76d9296bf20a6890a      shipped      2018-02-17 14:31:22\n",
              "99283  3a3cddda5a7c27851bd96c3313412840     canceled      2018-08-31 16:13:44\n",
              "99347  a89abace0dcc01eeb267a9660b5ac126     canceled      2018-09-06 18:45:47\n",
              "\n",
              "[1732 rows x 3 columns]"
            ]
          },
          "metadata": {
            "tags": []
          },
          "execution_count": 43
        }
      ]
    },
    {
      "cell_type": "markdown",
      "metadata": {
        "id": "dIdF-flAJWSk",
        "colab_type": "text"
      },
      "source": [
        "## 3. Summary statistics\n",
        "\n",
        "With a pandas dataframe, there is a very convenient function which returns summary statistics for all columns: `describe()`.\n",
        "\n",
        "Let's explore the `order_items` table as it has more numerical columns."
      ]
    },
    {
      "cell_type": "code",
      "metadata": {
        "id": "Br6lv8htJxvl",
        "colab_type": "code",
        "colab": {}
      },
      "source": [
        "# Order items\n",
        "order_items = pd.read_csv('https://raw.githubusercontent.com/thuynh386/olist_ecommerce_dataset/master/olist_order_items_dataset.csv')"
      ],
      "execution_count": null,
      "outputs": []
    },
    {
      "cell_type": "code",
      "metadata": {
        "id": "OQNmISOqJ5Wz",
        "colab_type": "code",
        "colab": {
          "base_uri": "https://localhost:8080/",
          "height": 363
        },
        "outputId": "5b195c71-97a0-453c-c37d-220f60708d45"
      },
      "source": [
        "order_items.head(10)"
      ],
      "execution_count": null,
      "outputs": [
        {
          "output_type": "execute_result",
          "data": {
            "text/html": [
              "<div>\n",
              "<style scoped>\n",
              "    .dataframe tbody tr th:only-of-type {\n",
              "        vertical-align: middle;\n",
              "    }\n",
              "\n",
              "    .dataframe tbody tr th {\n",
              "        vertical-align: top;\n",
              "    }\n",
              "\n",
              "    .dataframe thead th {\n",
              "        text-align: right;\n",
              "    }\n",
              "</style>\n",
              "<table border=\"1\" class=\"dataframe\">\n",
              "  <thead>\n",
              "    <tr style=\"text-align: right;\">\n",
              "      <th></th>\n",
              "      <th>order_id</th>\n",
              "      <th>order_item_id</th>\n",
              "      <th>product_id</th>\n",
              "      <th>seller_id</th>\n",
              "      <th>shipping_limit_date</th>\n",
              "      <th>price</th>\n",
              "      <th>freight_value</th>\n",
              "    </tr>\n",
              "  </thead>\n",
              "  <tbody>\n",
              "    <tr>\n",
              "      <th>0</th>\n",
              "      <td>00010242fe8c5a6d1ba2dd792cb16214</td>\n",
              "      <td>1</td>\n",
              "      <td>4244733e06e7ecb4970a6e2683c13e61</td>\n",
              "      <td>48436dade18ac8b2bce089ec2a041202</td>\n",
              "      <td>2017-09-19 09:45:35</td>\n",
              "      <td>58.90</td>\n",
              "      <td>13.29</td>\n",
              "    </tr>\n",
              "    <tr>\n",
              "      <th>1</th>\n",
              "      <td>00018f77f2f0320c557190d7a144bdd3</td>\n",
              "      <td>1</td>\n",
              "      <td>e5f2d52b802189ee658865ca93d83a8f</td>\n",
              "      <td>dd7ddc04e1b6c2c614352b383efe2d36</td>\n",
              "      <td>2017-05-03 11:05:13</td>\n",
              "      <td>239.90</td>\n",
              "      <td>19.93</td>\n",
              "    </tr>\n",
              "    <tr>\n",
              "      <th>2</th>\n",
              "      <td>000229ec398224ef6ca0657da4fc703e</td>\n",
              "      <td>1</td>\n",
              "      <td>c777355d18b72b67abbeef9df44fd0fd</td>\n",
              "      <td>5b51032eddd242adc84c38acab88f23d</td>\n",
              "      <td>2018-01-18 14:48:30</td>\n",
              "      <td>199.00</td>\n",
              "      <td>17.87</td>\n",
              "    </tr>\n",
              "    <tr>\n",
              "      <th>3</th>\n",
              "      <td>00024acbcdf0a6daa1e931b038114c75</td>\n",
              "      <td>1</td>\n",
              "      <td>7634da152a4610f1595efa32f14722fc</td>\n",
              "      <td>9d7a1d34a5052409006425275ba1c2b4</td>\n",
              "      <td>2018-08-15 10:10:18</td>\n",
              "      <td>12.99</td>\n",
              "      <td>12.79</td>\n",
              "    </tr>\n",
              "    <tr>\n",
              "      <th>4</th>\n",
              "      <td>00042b26cf59d7ce69dfabb4e55b4fd9</td>\n",
              "      <td>1</td>\n",
              "      <td>ac6c3623068f30de03045865e4e10089</td>\n",
              "      <td>df560393f3a51e74553ab94004ba5c87</td>\n",
              "      <td>2017-02-13 13:57:51</td>\n",
              "      <td>199.90</td>\n",
              "      <td>18.14</td>\n",
              "    </tr>\n",
              "    <tr>\n",
              "      <th>5</th>\n",
              "      <td>00048cc3ae777c65dbb7d2a0634bc1ea</td>\n",
              "      <td>1</td>\n",
              "      <td>ef92defde845ab8450f9d70c526ef70f</td>\n",
              "      <td>6426d21aca402a131fc0a5d0960a3c90</td>\n",
              "      <td>2017-05-23 03:55:27</td>\n",
              "      <td>21.90</td>\n",
              "      <td>12.69</td>\n",
              "    </tr>\n",
              "    <tr>\n",
              "      <th>6</th>\n",
              "      <td>00054e8431b9d7675808bcb819fb4a32</td>\n",
              "      <td>1</td>\n",
              "      <td>8d4f2bb7e93e6710a28f34fa83ee7d28</td>\n",
              "      <td>7040e82f899a04d1b434b795a43b4617</td>\n",
              "      <td>2017-12-14 12:10:31</td>\n",
              "      <td>19.90</td>\n",
              "      <td>11.85</td>\n",
              "    </tr>\n",
              "    <tr>\n",
              "      <th>7</th>\n",
              "      <td>000576fe39319847cbb9d288c5617fa6</td>\n",
              "      <td>1</td>\n",
              "      <td>557d850972a7d6f792fd18ae1400d9b6</td>\n",
              "      <td>5996cddab893a4652a15592fb58ab8db</td>\n",
              "      <td>2018-07-10 12:30:45</td>\n",
              "      <td>810.00</td>\n",
              "      <td>70.75</td>\n",
              "    </tr>\n",
              "    <tr>\n",
              "      <th>8</th>\n",
              "      <td>0005a1a1728c9d785b8e2b08b904576c</td>\n",
              "      <td>1</td>\n",
              "      <td>310ae3c140ff94b03219ad0adc3c778f</td>\n",
              "      <td>a416b6a846a11724393025641d4edd5e</td>\n",
              "      <td>2018-03-26 18:31:29</td>\n",
              "      <td>145.95</td>\n",
              "      <td>11.65</td>\n",
              "    </tr>\n",
              "    <tr>\n",
              "      <th>9</th>\n",
              "      <td>0005f50442cb953dcd1d21e1fb923495</td>\n",
              "      <td>1</td>\n",
              "      <td>4535b0e1091c278dfd193e5a1d63b39f</td>\n",
              "      <td>ba143b05f0110f0dc71ad71b4466ce92</td>\n",
              "      <td>2018-07-06 14:10:56</td>\n",
              "      <td>53.99</td>\n",
              "      <td>11.40</td>\n",
              "    </tr>\n",
              "  </tbody>\n",
              "</table>\n",
              "</div>"
            ],
            "text/plain": [
              "                           order_id  order_item_id  ...   price freight_value\n",
              "0  00010242fe8c5a6d1ba2dd792cb16214              1  ...   58.90         13.29\n",
              "1  00018f77f2f0320c557190d7a144bdd3              1  ...  239.90         19.93\n",
              "2  000229ec398224ef6ca0657da4fc703e              1  ...  199.00         17.87\n",
              "3  00024acbcdf0a6daa1e931b038114c75              1  ...   12.99         12.79\n",
              "4  00042b26cf59d7ce69dfabb4e55b4fd9              1  ...  199.90         18.14\n",
              "5  00048cc3ae777c65dbb7d2a0634bc1ea              1  ...   21.90         12.69\n",
              "6  00054e8431b9d7675808bcb819fb4a32              1  ...   19.90         11.85\n",
              "7  000576fe39319847cbb9d288c5617fa6              1  ...  810.00         70.75\n",
              "8  0005a1a1728c9d785b8e2b08b904576c              1  ...  145.95         11.65\n",
              "9  0005f50442cb953dcd1d21e1fb923495              1  ...   53.99         11.40\n",
              "\n",
              "[10 rows x 7 columns]"
            ]
          },
          "metadata": {
            "tags": []
          },
          "execution_count": 47
        }
      ]
    },
    {
      "cell_type": "code",
      "metadata": {
        "id": "YI6W-RHaIlIE",
        "colab_type": "code",
        "colab": {
          "base_uri": "https://localhost:8080/",
          "height": 300
        },
        "outputId": "1f161ccd-aa25-44bb-90b4-2ef1c6363a2e"
      },
      "source": [
        "order_items.describe()"
      ],
      "execution_count": null,
      "outputs": [
        {
          "output_type": "execute_result",
          "data": {
            "text/html": [
              "<div>\n",
              "<style scoped>\n",
              "    .dataframe tbody tr th:only-of-type {\n",
              "        vertical-align: middle;\n",
              "    }\n",
              "\n",
              "    .dataframe tbody tr th {\n",
              "        vertical-align: top;\n",
              "    }\n",
              "\n",
              "    .dataframe thead th {\n",
              "        text-align: right;\n",
              "    }\n",
              "</style>\n",
              "<table border=\"1\" class=\"dataframe\">\n",
              "  <thead>\n",
              "    <tr style=\"text-align: right;\">\n",
              "      <th></th>\n",
              "      <th>order_item_id</th>\n",
              "      <th>price</th>\n",
              "      <th>freight_value</th>\n",
              "    </tr>\n",
              "  </thead>\n",
              "  <tbody>\n",
              "    <tr>\n",
              "      <th>count</th>\n",
              "      <td>112650.000000</td>\n",
              "      <td>112650.000000</td>\n",
              "      <td>112650.000000</td>\n",
              "    </tr>\n",
              "    <tr>\n",
              "      <th>mean</th>\n",
              "      <td>1.197834</td>\n",
              "      <td>120.653739</td>\n",
              "      <td>19.990320</td>\n",
              "    </tr>\n",
              "    <tr>\n",
              "      <th>std</th>\n",
              "      <td>0.705124</td>\n",
              "      <td>183.633928</td>\n",
              "      <td>15.806405</td>\n",
              "    </tr>\n",
              "    <tr>\n",
              "      <th>min</th>\n",
              "      <td>1.000000</td>\n",
              "      <td>0.850000</td>\n",
              "      <td>0.000000</td>\n",
              "    </tr>\n",
              "    <tr>\n",
              "      <th>25%</th>\n",
              "      <td>1.000000</td>\n",
              "      <td>39.900000</td>\n",
              "      <td>13.080000</td>\n",
              "    </tr>\n",
              "    <tr>\n",
              "      <th>50%</th>\n",
              "      <td>1.000000</td>\n",
              "      <td>74.990000</td>\n",
              "      <td>16.260000</td>\n",
              "    </tr>\n",
              "    <tr>\n",
              "      <th>75%</th>\n",
              "      <td>1.000000</td>\n",
              "      <td>134.900000</td>\n",
              "      <td>21.150000</td>\n",
              "    </tr>\n",
              "    <tr>\n",
              "      <th>max</th>\n",
              "      <td>21.000000</td>\n",
              "      <td>6735.000000</td>\n",
              "      <td>409.680000</td>\n",
              "    </tr>\n",
              "  </tbody>\n",
              "</table>\n",
              "</div>"
            ],
            "text/plain": [
              "       order_item_id          price  freight_value\n",
              "count  112650.000000  112650.000000  112650.000000\n",
              "mean        1.197834     120.653739      19.990320\n",
              "std         0.705124     183.633928      15.806405\n",
              "min         1.000000       0.850000       0.000000\n",
              "25%         1.000000      39.900000      13.080000\n",
              "50%         1.000000      74.990000      16.260000\n",
              "75%         1.000000     134.900000      21.150000\n",
              "max        21.000000    6735.000000     409.680000"
            ]
          },
          "metadata": {
            "tags": []
          },
          "execution_count": 46
        }
      ]
    },
    {
      "cell_type": "markdown",
      "metadata": {
        "id": "QSrpAuT3J_Pi",
        "colab_type": "text"
      },
      "source": [
        "If we want, we can also calculate a certain summary statistics ourselves. For instance, we are interested in mean value for `freight_value`. Let's subset it from the dataframe and apply the `mean` function to it."
      ]
    },
    {
      "cell_type": "code",
      "metadata": {
        "id": "PWlaLW0WJkxG",
        "colab_type": "code",
        "colab": {
          "base_uri": "https://localhost:8080/",
          "height": 34
        },
        "outputId": "03bea1ec-5e83-4ae2-bc2e-1b5a7a8194ae"
      },
      "source": [
        "order_items[\"freight_value\"].mean()"
      ],
      "execution_count": null,
      "outputs": [
        {
          "output_type": "execute_result",
          "data": {
            "text/plain": [
              "19.99031992898562"
            ]
          },
          "metadata": {
            "tags": []
          },
          "execution_count": 48
        }
      ]
    },
    {
      "cell_type": "code",
      "metadata": {
        "id": "3LfJULDMKUR7",
        "colab_type": "code",
        "colab": {
          "base_uri": "https://localhost:8080/",
          "height": 34
        },
        "outputId": "b6b4df0d-bdde-45e4-99f0-95111cc5fd0d"
      },
      "source": [
        "# Or median\n",
        "order_items[\"freight_value\"].median()"
      ],
      "execution_count": null,
      "outputs": [
        {
          "output_type": "execute_result",
          "data": {
            "text/plain": [
              "16.26"
            ]
          },
          "metadata": {
            "tags": []
          },
          "execution_count": 49
        }
      ]
    },
    {
      "cell_type": "code",
      "metadata": {
        "id": "DDKsPhdbKahl",
        "colab_type": "code",
        "colab": {
          "base_uri": "https://localhost:8080/",
          "height": 34
        },
        "outputId": "a7aba449-562b-4202-deb8-4152c3e865de"
      },
      "source": [
        "# Or count the number of non-null rows for price\n",
        "order_items[\"price\"].count()"
      ],
      "execution_count": null,
      "outputs": [
        {
          "output_type": "execute_result",
          "data": {
            "text/plain": [
              "112650"
            ]
          },
          "metadata": {
            "tags": []
          },
          "execution_count": 50
        }
      ]
    },
    {
      "cell_type": "code",
      "metadata": {
        "id": "3AVsokqAKnMQ",
        "colab_type": "code",
        "colab": {
          "base_uri": "https://localhost:8080/",
          "height": 34
        },
        "outputId": "b242addb-d769-40d1-acc7-c28c69e27b6d"
      },
      "source": [
        "# Or how many unique values for price in this dataset? As seen below, many items have the same price so the number of unique price is much smaller.\n",
        "order_items[\"price\"].nunique()"
      ],
      "execution_count": null,
      "outputs": [
        {
          "output_type": "execute_result",
          "data": {
            "text/plain": [
              "5968"
            ]
          },
          "metadata": {
            "tags": []
          },
          "execution_count": 59
        }
      ]
    },
    {
      "cell_type": "markdown",
      "metadata": {
        "id": "8bxD0Lo7LPjU",
        "colab_type": "text"
      },
      "source": [
        "## 4. Pratice with `order_payment` table\n",
        "\n",
        "Note: one order can be paid for by several payment methods. For more information about each column, refer to the Kaggle website."
      ]
    },
    {
      "cell_type": "code",
      "metadata": {
        "id": "_1JXpqYuLaNO",
        "colab_type": "code",
        "colab": {}
      },
      "source": [
        "# Order payment\n",
        "order_payments = pd.read_csv('https://raw.githubusercontent.com/thuynh386/olist_ecommerce_dataset/master/olist_order_payments_dataset.csv')"
      ],
      "execution_count": null,
      "outputs": []
    },
    {
      "cell_type": "code",
      "metadata": {
        "id": "g5aZ_cZ2MSwu",
        "colab_type": "code",
        "colab": {
          "base_uri": "https://localhost:8080/",
          "height": 206
        },
        "outputId": "95c02ddc-1c68-4ea1-b82d-65c22e397c9b"
      },
      "source": [
        "order_payments.head()"
      ],
      "execution_count": null,
      "outputs": [
        {
          "output_type": "execute_result",
          "data": {
            "text/html": [
              "<div>\n",
              "<style scoped>\n",
              "    .dataframe tbody tr th:only-of-type {\n",
              "        vertical-align: middle;\n",
              "    }\n",
              "\n",
              "    .dataframe tbody tr th {\n",
              "        vertical-align: top;\n",
              "    }\n",
              "\n",
              "    .dataframe thead th {\n",
              "        text-align: right;\n",
              "    }\n",
              "</style>\n",
              "<table border=\"1\" class=\"dataframe\">\n",
              "  <thead>\n",
              "    <tr style=\"text-align: right;\">\n",
              "      <th></th>\n",
              "      <th>order_id</th>\n",
              "      <th>payment_sequential</th>\n",
              "      <th>payment_type</th>\n",
              "      <th>payment_installments</th>\n",
              "      <th>payment_value</th>\n",
              "    </tr>\n",
              "  </thead>\n",
              "  <tbody>\n",
              "    <tr>\n",
              "      <th>0</th>\n",
              "      <td>b81ef226f3fe1789b1e8b2acac839d17</td>\n",
              "      <td>1</td>\n",
              "      <td>credit_card</td>\n",
              "      <td>8</td>\n",
              "      <td>99.33</td>\n",
              "    </tr>\n",
              "    <tr>\n",
              "      <th>1</th>\n",
              "      <td>a9810da82917af2d9aefd1278f1dcfa0</td>\n",
              "      <td>1</td>\n",
              "      <td>credit_card</td>\n",
              "      <td>1</td>\n",
              "      <td>24.39</td>\n",
              "    </tr>\n",
              "    <tr>\n",
              "      <th>2</th>\n",
              "      <td>25e8ea4e93396b6fa0d3dd708e76c1bd</td>\n",
              "      <td>1</td>\n",
              "      <td>credit_card</td>\n",
              "      <td>1</td>\n",
              "      <td>65.71</td>\n",
              "    </tr>\n",
              "    <tr>\n",
              "      <th>3</th>\n",
              "      <td>ba78997921bbcdc1373bb41e913ab953</td>\n",
              "      <td>1</td>\n",
              "      <td>credit_card</td>\n",
              "      <td>8</td>\n",
              "      <td>107.78</td>\n",
              "    </tr>\n",
              "    <tr>\n",
              "      <th>4</th>\n",
              "      <td>42fdf880ba16b47b59251dd489d4441a</td>\n",
              "      <td>1</td>\n",
              "      <td>credit_card</td>\n",
              "      <td>2</td>\n",
              "      <td>128.45</td>\n",
              "    </tr>\n",
              "  </tbody>\n",
              "</table>\n",
              "</div>"
            ],
            "text/plain": [
              "                           order_id  ...  payment_value\n",
              "0  b81ef226f3fe1789b1e8b2acac839d17  ...          99.33\n",
              "1  a9810da82917af2d9aefd1278f1dcfa0  ...          24.39\n",
              "2  25e8ea4e93396b6fa0d3dd708e76c1bd  ...          65.71\n",
              "3  ba78997921bbcdc1373bb41e913ab953  ...         107.78\n",
              "4  42fdf880ba16b47b59251dd489d4441a  ...         128.45\n",
              "\n",
              "[5 rows x 5 columns]"
            ]
          },
          "metadata": {
            "tags": []
          },
          "execution_count": 57
        }
      ]
    },
    {
      "cell_type": "code",
      "metadata": {
        "id": "Vekh3bvlMExL",
        "colab_type": "code",
        "colab": {
          "base_uri": "https://localhost:8080/",
          "height": 52
        },
        "outputId": "95bda560-5def-4665-f13f-93e9a9d9deaf"
      },
      "source": [
        "# How many payment methods are there?\n",
        "order_payments[\"payment_type\"].unique()"
      ],
      "execution_count": null,
      "outputs": [
        {
          "output_type": "execute_result",
          "data": {
            "text/plain": [
              "array(['credit_card', 'boleto', 'voucher', 'debit_card', 'not_defined'],\n",
              "      dtype=object)"
            ]
          },
          "metadata": {
            "tags": []
          },
          "execution_count": 56
        }
      ]
    },
    {
      "cell_type": "markdown",
      "metadata": {
        "id": "DWuOxY4jLWKb",
        "colab_type": "text"
      },
      "source": [
        "Question 1: Select only orders paid by credit card."
      ]
    },
    {
      "cell_type": "code",
      "metadata": {
        "id": "zvlHIC_SKr0t",
        "colab_type": "code",
        "colab": {}
      },
      "source": [
        "# Write your code here. \n",
        "\n"
      ],
      "execution_count": null,
      "outputs": []
    },
    {
      "cell_type": "markdown",
      "metadata": {
        "id": "mv7R9ouVMrRv",
        "colab_type": "text"
      },
      "source": [
        "Question 2: What is the average of all values in `payment_value` column?"
      ]
    },
    {
      "cell_type": "code",
      "metadata": {
        "id": "RxIx70VlM1A6",
        "colab_type": "code",
        "colab": {}
      },
      "source": [
        "# Write your code here. \n",
        "\n"
      ],
      "execution_count": null,
      "outputs": []
    },
    {
      "cell_type": "markdown",
      "metadata": {
        "id": "W5LVEcpOM2sP",
        "colab_type": "text"
      },
      "source": [
        "Question 3: Select rows from 1000 to 2000 and exclude column `payment_sequential`."
      ]
    },
    {
      "cell_type": "code",
      "metadata": {
        "id": "JthS1Ns1NOL_",
        "colab_type": "code",
        "colab": {}
      },
      "source": [
        "# Write your code here. \n",
        "\n"
      ],
      "execution_count": null,
      "outputs": []
    },
    {
      "cell_type": "markdown",
      "metadata": {
        "id": "5sQFc68FNTBV",
        "colab_type": "text"
      },
      "source": [
        "Question 4: How many choices of payment installments do customers have?"
      ]
    },
    {
      "cell_type": "code",
      "metadata": {
        "id": "WmXgegWHNPvk",
        "colab_type": "code",
        "colab": {}
      },
      "source": [
        "# Write your code here. \n",
        "\n"
      ],
      "execution_count": null,
      "outputs": []
    },
    {
      "cell_type": "markdown",
      "metadata": {
        "id": "jkr1VV1NNcjv",
        "colab_type": "text"
      },
      "source": [
        "Question 5: Select only orders which have been paid either by credit card or boleto and having the payment value greater or equal to 100."
      ]
    },
    {
      "cell_type": "code",
      "metadata": {
        "id": "EXzNfQv6NRGp",
        "colab_type": "code",
        "colab": {}
      },
      "source": [
        "# Write your code here. \n",
        "\n"
      ],
      "execution_count": null,
      "outputs": []
    },
    {
      "cell_type": "markdown",
      "metadata": {
        "id": "oFSnglsANzke",
        "colab_type": "text"
      },
      "source": [
        "Question 6: For dataframe, there is the `quantile` function to calculate percentile values ([Link here](https://pandas.pydata.org/pandas-docs/stable/reference/api/pandas.DataFrame.quantile.html)). See if you can calculate the percentile 30, 60, 90 and 95 for `payment_value` column."
      ]
    },
    {
      "cell_type": "code",
      "metadata": {
        "id": "Se4IAqjMPi4P",
        "colab_type": "code",
        "colab": {}
      },
      "source": [
        "# Write your code here. \n",
        "\n"
      ],
      "execution_count": null,
      "outputs": []
    }
  ]
}