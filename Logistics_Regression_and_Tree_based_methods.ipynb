{
  "nbformat": 4,
  "nbformat_minor": 0,
  "metadata": {
    "colab": {
      "name": "Logistics_Regression_and_Tree-based_methods.ipynb",
      "provenance": [],
      "collapsed_sections": [
        "Rf3-zIwprXl_",
        "Gm07X3yP0Txz",
        "2nhSfNBm7_Y2"
      ],
      "toc_visible": true,
      "include_colab_link": true
    },
    "kernelspec": {
      "name": "python3",
      "display_name": "Python 3"
    }
  },
  "cells": [
    {
      "cell_type": "markdown",
      "metadata": {
        "id": "view-in-github",
        "colab_type": "text"
      },
      "source": [
        "<a href=\"https://colab.research.google.com/github/Mai-Binh-Nam/Hand-on_DataAnalysisVEF/blob/master/Logistics_Regression_and_Tree_based_methods.ipynb\" target=\"_parent\"><img src=\"https://colab.research.google.com/assets/colab-badge.svg\" alt=\"Open In Colab\"/></a>"
      ]
    },
    {
      "cell_type": "markdown",
      "metadata": {
        "id": "Rf3-zIwprXl_"
      },
      "source": [
        "# Logistic Regression\n"
      ]
    },
    {
      "cell_type": "markdown",
      "metadata": {
        "id": "VTzmMrXxFUvP"
      },
      "source": [
        "Demo of Logistic Regression on Breast cancer dataset\n",
        "\n",
        "**Data Set Characteristics:**\n",
        "\n",
        "    :Number of Instances: 569\n",
        "\n",
        "    :Number of Attributes: 30 numeric, predictive attributes and the class\n",
        "\n",
        "    :Attribute Information:\n",
        "        - radius (mean of distances from center to points on the perimeter)\n",
        "        - texture (standard deviation of gray-scale values)\n",
        "        - perimeter\n",
        "        - area\n",
        "        - smoothness (local variation in radius lengths)\n",
        "        - compactness (perimeter^2 / area - 1.0)\n",
        "        - concavity (severity of concave portions of the contour)\n",
        "        - concave points (number of concave portions of the contour)\n",
        "        - symmetry \n",
        "        - fractal dimension (\"coastline approximation\" - 1)\n",
        "\n",
        "        The mean, standard error, and \"worst\" or largest (mean of the three\n",
        "        largest values) of these features were computed for each image,\n",
        "        resulting in 30 features.  For instance, field 3 is Mean Radius, field\n",
        "        13 is Radius SE, field 23 is Worst Radius.\n",
        "\n",
        "        - class:\n",
        "                - WDBC-Malignant\n",
        "                - WDBC-Benign"
      ]
    },
    {
      "cell_type": "code",
      "metadata": {
        "id": "nKNwVePW-fhs"
      },
      "source": [
        "import pandas as pd\n",
        "import numpy as np\n",
        "import matplotlib.pyplot as plt\n",
        "import seaborn as sns\n",
        "\n",
        "from sklearn.preprocessing import MinMaxScaler, StandardScaler\n",
        "from sklearn.model_selection import train_test_split, GridSearchCV\n",
        "from sklearn.metrics import accuracy_score, classification_report, \\\n",
        "                            roc_auc_score, plot_roc_curve"
      ],
      "execution_count": null,
      "outputs": []
    },
    {
      "cell_type": "markdown",
      "metadata": {
        "id": "GdOseIvTKhY4"
      },
      "source": [
        "## 1. Data Loading & PreProcessing"
      ]
    },
    {
      "cell_type": "code",
      "metadata": {
        "id": "pqHEuNkYu73T"
      },
      "source": [
        "# Load data\n",
        "from sklearn.datasets import load_breast_cancer\n",
        "data = load_breast_cancer()"
      ],
      "execution_count": null,
      "outputs": []
    },
    {
      "cell_type": "code",
      "metadata": {
        "id": "kGGYDhk-wQRE"
      },
      "source": [
        "# Scaling the features using Min-Max scaler\n",
        "X = data['data']\n",
        "scl = MinMaxScaler()\n",
        "scl.fit(X)\n",
        "X_scaled = scl.transform(X)"
      ],
      "execution_count": null,
      "outputs": []
    },
    {
      "cell_type": "code",
      "metadata": {
        "id": "XXMHhKu5ycyG"
      },
      "source": [
        "y = data['target']"
      ],
      "execution_count": null,
      "outputs": []
    },
    {
      "cell_type": "code",
      "metadata": {
        "id": "p0652ZwMwrlT"
      },
      "source": [
        "# Split data into train-test with ratio 60:40\n",
        "X_train, X_test, y_train, y_test = train_test_split(X_scaled, y, test_size=0.4, random_state=0)"
      ],
      "execution_count": null,
      "outputs": []
    },
    {
      "cell_type": "code",
      "metadata": {
        "id": "RO35TLv_w_D7",
        "outputId": "9b7511cc-d041-40ae-cd01-c40c27bcbeb8",
        "colab": {
          "base_uri": "https://localhost:8080/"
        }
      },
      "source": [
        "X_train.shape"
      ],
      "execution_count": null,
      "outputs": [
        {
          "output_type": "execute_result",
          "data": {
            "text/plain": [
              "(341, 30)"
            ]
          },
          "metadata": {
            "tags": []
          },
          "execution_count": 6
        }
      ]
    },
    {
      "cell_type": "code",
      "metadata": {
        "id": "lyVx1BNPxCQG",
        "outputId": "c6d9fa36-b423-43c3-a7d0-2a496cf626f4",
        "colab": {
          "base_uri": "https://localhost:8080/"
        }
      },
      "source": [
        "X_test.shape"
      ],
      "execution_count": null,
      "outputs": [
        {
          "output_type": "execute_result",
          "data": {
            "text/plain": [
              "(228, 30)"
            ]
          },
          "metadata": {
            "tags": []
          },
          "execution_count": 7
        }
      ]
    },
    {
      "cell_type": "markdown",
      "metadata": {
        "id": "qUZDsDjcLY1k"
      },
      "source": [
        "## 2. Model training"
      ]
    },
    {
      "cell_type": "code",
      "metadata": {
        "id": "jwF_IXbWxEFz"
      },
      "source": [
        "# Initiate the Logistic regression model and fit the data\n",
        "from sklearn.linear_model import LogisticRegression\n",
        "logreg = LogisticRegression()\n",
        "logreg.fit(X_train, y_train)\n",
        "y_pred = logreg.predict(X_test)"
      ],
      "execution_count": null,
      "outputs": []
    },
    {
      "cell_type": "markdown",
      "metadata": {
        "id": "1Pg1E1rzLcUE"
      },
      "source": [
        "## 3. Results"
      ]
    },
    {
      "cell_type": "code",
      "metadata": {
        "id": "6VE1bqh3zMcY",
        "outputId": "144148a2-ef26-4b59-8657-7d4acf0eba05",
        "colab": {
          "base_uri": "https://localhost:8080/"
        }
      },
      "source": [
        "# Print the metrics of classifier\n",
        "print(classification_report(y_test, y_pred))"
      ],
      "execution_count": null,
      "outputs": [
        {
          "output_type": "stream",
          "text": [
            "              precision    recall  f1-score   support\n",
            "\n",
            "           0       0.99      0.87      0.92        83\n",
            "           1       0.93      0.99      0.96       145\n",
            "\n",
            "    accuracy                           0.95       228\n",
            "   macro avg       0.96      0.93      0.94       228\n",
            "weighted avg       0.95      0.95      0.95       228\n",
            "\n"
          ],
          "name": "stdout"
        }
      ]
    },
    {
      "cell_type": "code",
      "metadata": {
        "id": "X2tn6OPWzirt",
        "outputId": "d1284228-8bc5-4940-e131-e9451a4ea8b2",
        "colab": {
          "base_uri": "https://localhost:8080/"
        }
      },
      "source": [
        "# Print the AUC score\n",
        "y_score = logreg.decision_function(X_test)\n",
        "auc_score = roc_auc_score(y_test, y_score)\n",
        "print(f\"AUC = {auc_score}\")"
      ],
      "execution_count": null,
      "outputs": [
        {
          "output_type": "stream",
          "text": [
            "AUC = 0.9902783547985043\n"
          ],
          "name": "stdout"
        }
      ]
    },
    {
      "cell_type": "code",
      "metadata": {
        "id": "q-NbLoo4zYOc",
        "outputId": "80e7e520-a851-4e76-f6ed-f1128b5056a0",
        "colab": {
          "base_uri": "https://localhost:8080/"
        }
      },
      "source": [
        "# Plot the ROC\n",
        "plot_roc_curve(logreg, X_test, y_test)"
      ],
      "execution_count": null,
      "outputs": [
        {
          "output_type": "execute_result",
          "data": {
            "text/plain": [
              "<sklearn.metrics._plot.roc_curve.RocCurveDisplay at 0x7ffb2c3d82e8>"
            ]
          },
          "metadata": {
            "tags": []
          },
          "execution_count": 11
        },
        {
          "output_type": "display_data",
          "data": {
            "image/png": "[encoded data removed]",
            "text/plain": [
              "<Figure size 432x288 with 1 Axes>"
            ]
          },
          "metadata": {
            "tags": [],
            "needs_background": "light"
          }
        }
      ]
    },
    {
      "cell_type": "markdown",
      "metadata": {
        "id": "Gm07X3yP0Txz"
      },
      "source": [
        "# Predicting Bankruptcy using Logistic Regression\n"
      ]
    },
    {
      "cell_type": "markdown",
      "metadata": {
        "id": "wiMBMI7rECER"
      },
      "source": [
        "## 1. Data loading\n",
        "The data consist of 64 financial ratio & 1 label (0 - no bankruptcy & 1 - bankruptcy after 5 years)\n",
        "\n",
        "The NA values in data set were marked as \"?\" which will be imputed by 0 later.\n",
        "\n",
        "List of attributes:\n",
        "\n",
        "* X1 net profit / total assets\n",
        "* X2 total liabilities / total assets\n",
        "* X3 working capital / total assets\n",
        "* X4 current assets / short-term liabilities\n",
        "* X5 [(cash + short-term securities + receivables - short-term liabilities) / (operating expenses - depreciation)] * 365\n",
        "* ...\n",
        "\n",
        "More info: https://archive.ics.uci.edu/ml/datasets/Polish+companies+bankruptcy+data"
      ]
    },
    {
      "cell_type": "code",
      "metadata": {
        "id": "gecGdshX0aQ4"
      },
      "source": [
        "# Data loading\n",
        "data_link = 'https://github.com/pnhuy/datasets/raw/master/polish_bankruptcy/1st_year.csv'\n",
        "df_bankruptcy = pd.read_csv(data_link, na_values=['?'])"
      ],
      "execution_count": null,
      "outputs": []
    },
    {
      "cell_type": "code",
      "metadata": {
        "id": "Jnp8lrK-1O-N",
        "outputId": "01ff1713-f97f-4566-da80-bd69e0455db9",
        "colab": {
          "base_uri": "https://localhost:8080/"
        }
      },
      "source": [
        "df_bankruptcy.head()"
      ],
      "execution_count": null,
      "outputs": [
        {
          "output_type": "execute_result",
          "data": {
            "text/html": [
              "<div>\n",
              "<style scoped>\n",
              "    .dataframe tbody tr th:only-of-type {\n",
              "        vertical-align: middle;\n",
              "    }\n",
              "\n",
              "    .dataframe tbody tr th {\n",
              "        vertical-align: top;\n",
              "    }\n",
              "\n",
              "    .dataframe thead th {\n",
              "        text-align: right;\n",
              "    }\n",
              "</style>\n",
              "<table border=\"1\" class=\"dataframe\">\n",
              "  <thead>\n",
              "    <tr style=\"text-align: right;\">\n",
              "      <th></th>\n",
              "      <th>Attr1</th>\n",
              "      <th>Attr2</th>\n",
              "      <th>Attr3</th>\n",
              "      <th>Attr4</th>\n",
              "      <th>Attr5</th>\n",
              "      <th>Attr6</th>\n",
              "      <th>Attr7</th>\n",
              "      <th>Attr8</th>\n",
              "      <th>Attr9</th>\n",
              "      <th>Attr10</th>\n",
              "      <th>Attr11</th>\n",
              "      <th>Attr12</th>\n",
              "      <th>Attr13</th>\n",
              "      <th>Attr14</th>\n",
              "      <th>Attr15</th>\n",
              "      <th>Attr16</th>\n",
              "      <th>Attr17</th>\n",
              "      <th>Attr18</th>\n",
              "      <th>Attr19</th>\n",
              "      <th>Attr20</th>\n",
              "      <th>Attr21</th>\n",
              "      <th>Attr22</th>\n",
              "      <th>Attr23</th>\n",
              "      <th>Attr24</th>\n",
              "      <th>Attr25</th>\n",
              "      <th>Attr26</th>\n",
              "      <th>Attr27</th>\n",
              "      <th>Attr28</th>\n",
              "      <th>Attr29</th>\n",
              "      <th>Attr30</th>\n",
              "      <th>Attr31</th>\n",
              "      <th>Attr32</th>\n",
              "      <th>Attr33</th>\n",
              "      <th>Attr34</th>\n",
              "      <th>Attr35</th>\n",
              "      <th>Attr36</th>\n",
              "      <th>Attr37</th>\n",
              "      <th>Attr38</th>\n",
              "      <th>Attr39</th>\n",
              "      <th>Attr40</th>\n",
              "      <th>Attr41</th>\n",
              "      <th>Attr42</th>\n",
              "      <th>Attr43</th>\n",
              "      <th>Attr44</th>\n",
              "      <th>Attr45</th>\n",
              "      <th>Attr46</th>\n",
              "      <th>Attr47</th>\n",
              "      <th>Attr48</th>\n",
              "      <th>Attr49</th>\n",
              "      <th>Attr50</th>\n",
              "      <th>Attr51</th>\n",
              "      <th>Attr52</th>\n",
              "      <th>Attr53</th>\n",
              "      <th>Attr54</th>\n",
              "      <th>Attr55</th>\n",
              "      <th>Attr56</th>\n",
              "      <th>Attr57</th>\n",
              "      <th>Attr58</th>\n",
              "      <th>Attr59</th>\n",
              "      <th>Attr60</th>\n",
              "      <th>Attr61</th>\n",
              "      <th>Attr62</th>\n",
              "      <th>Attr63</th>\n",
              "      <th>Attr64</th>\n",
              "      <th>class</th>\n",
              "    </tr>\n",
              "  </thead>\n",
              "  <tbody>\n",
              "    <tr>\n",
              "      <th>0</th>\n",
              "      <td>0.200550</td>\n",
              "      <td>0.37951</td>\n",
              "      <td>0.39641</td>\n",
              "      <td>2.0472</td>\n",
              "      <td>32.3510</td>\n",
              "      <td>0.38825</td>\n",
              "      <td>0.249760</td>\n",
              "      <td>1.33050</td>\n",
              "      <td>1.1389</td>\n",
              "      <td>0.50494</td>\n",
              "      <td>0.249760</td>\n",
              "      <td>0.65980</td>\n",
              "      <td>0.166600</td>\n",
              "      <td>0.249760</td>\n",
              "      <td>497.42</td>\n",
              "      <td>0.73378</td>\n",
              "      <td>2.6349</td>\n",
              "      <td>0.249760</td>\n",
              "      <td>0.149420</td>\n",
              "      <td>43.370</td>\n",
              "      <td>1.2479</td>\n",
              "      <td>0.21402</td>\n",
              "      <td>0.119980</td>\n",
              "      <td>0.47706</td>\n",
              "      <td>0.50494</td>\n",
              "      <td>0.60411</td>\n",
              "      <td>1.45820</td>\n",
              "      <td>1.7615</td>\n",
              "      <td>5.9443</td>\n",
              "      <td>0.11788</td>\n",
              "      <td>0.149420</td>\n",
              "      <td>94.14</td>\n",
              "      <td>3.8772</td>\n",
              "      <td>0.56393</td>\n",
              "      <td>0.21402</td>\n",
              "      <td>1.7410</td>\n",
              "      <td>593.2700</td>\n",
              "      <td>0.50591</td>\n",
              "      <td>0.128040</td>\n",
              "      <td>0.662950</td>\n",
              "      <td>0.051402</td>\n",
              "      <td>0.128040</td>\n",
              "      <td>114.42</td>\n",
              "      <td>71.050</td>\n",
              "      <td>1.00970</td>\n",
              "      <td>1.52250</td>\n",
              "      <td>49.394</td>\n",
              "      <td>0.185300</td>\n",
              "      <td>0.110850</td>\n",
              "      <td>2.0420</td>\n",
              "      <td>0.37854</td>\n",
              "      <td>0.25792</td>\n",
              "      <td>2.2437</td>\n",
              "      <td>2.2480</td>\n",
              "      <td>348690.0</td>\n",
              "      <td>0.121960</td>\n",
              "      <td>0.39718</td>\n",
              "      <td>0.87804</td>\n",
              "      <td>0.001924</td>\n",
              "      <td>8.4160</td>\n",
              "      <td>5.1372</td>\n",
              "      <td>82.658</td>\n",
              "      <td>4.4158</td>\n",
              "      <td>7.4277</td>\n",
              "      <td>0</td>\n",
              "    </tr>\n",
              "    <tr>\n",
              "      <th>1</th>\n",
              "      <td>0.209120</td>\n",
              "      <td>0.49988</td>\n",
              "      <td>0.47225</td>\n",
              "      <td>1.9447</td>\n",
              "      <td>14.7860</td>\n",
              "      <td>0.00000</td>\n",
              "      <td>0.258340</td>\n",
              "      <td>0.99601</td>\n",
              "      <td>1.6996</td>\n",
              "      <td>0.49788</td>\n",
              "      <td>0.261140</td>\n",
              "      <td>0.51680</td>\n",
              "      <td>0.158350</td>\n",
              "      <td>0.258340</td>\n",
              "      <td>677.96</td>\n",
              "      <td>0.53838</td>\n",
              "      <td>2.0005</td>\n",
              "      <td>0.258340</td>\n",
              "      <td>0.152000</td>\n",
              "      <td>87.981</td>\n",
              "      <td>1.4293</td>\n",
              "      <td>0.24806</td>\n",
              "      <td>0.123040</td>\n",
              "      <td>NaN</td>\n",
              "      <td>0.39542</td>\n",
              "      <td>0.43992</td>\n",
              "      <td>88.44400</td>\n",
              "      <td>16.9460</td>\n",
              "      <td>3.6884</td>\n",
              "      <td>0.26969</td>\n",
              "      <td>0.152000</td>\n",
              "      <td>122.17</td>\n",
              "      <td>2.9876</td>\n",
              "      <td>2.98760</td>\n",
              "      <td>0.20616</td>\n",
              "      <td>1.6996</td>\n",
              "      <td>NaN</td>\n",
              "      <td>0.49788</td>\n",
              "      <td>0.121300</td>\n",
              "      <td>0.086422</td>\n",
              "      <td>0.064371</td>\n",
              "      <td>0.145950</td>\n",
              "      <td>199.49</td>\n",
              "      <td>111.510</td>\n",
              "      <td>0.51045</td>\n",
              "      <td>1.12520</td>\n",
              "      <td>100.130</td>\n",
              "      <td>0.237270</td>\n",
              "      <td>0.139610</td>\n",
              "      <td>1.9447</td>\n",
              "      <td>0.49988</td>\n",
              "      <td>0.33472</td>\n",
              "      <td>17.8660</td>\n",
              "      <td>17.8660</td>\n",
              "      <td>2304.6</td>\n",
              "      <td>0.121300</td>\n",
              "      <td>0.42002</td>\n",
              "      <td>0.85300</td>\n",
              "      <td>0.000000</td>\n",
              "      <td>4.1486</td>\n",
              "      <td>3.2732</td>\n",
              "      <td>107.350</td>\n",
              "      <td>3.4000</td>\n",
              "      <td>60.9870</td>\n",
              "      <td>0</td>\n",
              "    </tr>\n",
              "    <tr>\n",
              "      <th>2</th>\n",
              "      <td>0.248660</td>\n",
              "      <td>0.69592</td>\n",
              "      <td>0.26713</td>\n",
              "      <td>1.5548</td>\n",
              "      <td>-1.1523</td>\n",
              "      <td>0.00000</td>\n",
              "      <td>0.309060</td>\n",
              "      <td>0.43695</td>\n",
              "      <td>1.3090</td>\n",
              "      <td>0.30408</td>\n",
              "      <td>0.312580</td>\n",
              "      <td>0.64184</td>\n",
              "      <td>0.244350</td>\n",
              "      <td>0.309060</td>\n",
              "      <td>794.16</td>\n",
              "      <td>0.45961</td>\n",
              "      <td>1.4369</td>\n",
              "      <td>0.309060</td>\n",
              "      <td>0.236100</td>\n",
              "      <td>73.133</td>\n",
              "      <td>1.4283</td>\n",
              "      <td>0.30260</td>\n",
              "      <td>0.189960</td>\n",
              "      <td>NaN</td>\n",
              "      <td>0.28932</td>\n",
              "      <td>0.37282</td>\n",
              "      <td>86.01100</td>\n",
              "      <td>1.0627</td>\n",
              "      <td>4.3749</td>\n",
              "      <td>0.41929</td>\n",
              "      <td>0.238150</td>\n",
              "      <td>176.93</td>\n",
              "      <td>2.0630</td>\n",
              "      <td>1.42740</td>\n",
              "      <td>0.31565</td>\n",
              "      <td>1.3090</td>\n",
              "      <td>2.3019</td>\n",
              "      <td>0.51537</td>\n",
              "      <td>0.241140</td>\n",
              "      <td>0.322020</td>\n",
              "      <td>0.074020</td>\n",
              "      <td>0.231170</td>\n",
              "      <td>165.51</td>\n",
              "      <td>92.381</td>\n",
              "      <td>0.94807</td>\n",
              "      <td>1.01010</td>\n",
              "      <td>96.372</td>\n",
              "      <td>0.291810</td>\n",
              "      <td>0.222930</td>\n",
              "      <td>1.0758</td>\n",
              "      <td>0.48152</td>\n",
              "      <td>0.48474</td>\n",
              "      <td>1.2098</td>\n",
              "      <td>2.0504</td>\n",
              "      <td>6332.7</td>\n",
              "      <td>0.241140</td>\n",
              "      <td>0.81774</td>\n",
              "      <td>0.76599</td>\n",
              "      <td>0.694840</td>\n",
              "      <td>4.9909</td>\n",
              "      <td>3.9510</td>\n",
              "      <td>134.270</td>\n",
              "      <td>2.7185</td>\n",
              "      <td>5.2078</td>\n",
              "      <td>0</td>\n",
              "    </tr>\n",
              "    <tr>\n",
              "      <th>3</th>\n",
              "      <td>0.081483</td>\n",
              "      <td>0.30734</td>\n",
              "      <td>0.45879</td>\n",
              "      <td>2.4928</td>\n",
              "      <td>51.9520</td>\n",
              "      <td>0.14988</td>\n",
              "      <td>0.092704</td>\n",
              "      <td>1.86610</td>\n",
              "      <td>1.0571</td>\n",
              "      <td>0.57353</td>\n",
              "      <td>0.092704</td>\n",
              "      <td>0.30163</td>\n",
              "      <td>0.094257</td>\n",
              "      <td>0.092704</td>\n",
              "      <td>917.01</td>\n",
              "      <td>0.39803</td>\n",
              "      <td>3.2537</td>\n",
              "      <td>0.092704</td>\n",
              "      <td>0.071428</td>\n",
              "      <td>79.788</td>\n",
              "      <td>1.5069</td>\n",
              "      <td>0.11550</td>\n",
              "      <td>0.062782</td>\n",
              "      <td>0.17193</td>\n",
              "      <td>0.57353</td>\n",
              "      <td>0.36152</td>\n",
              "      <td>0.94076</td>\n",
              "      <td>1.9618</td>\n",
              "      <td>4.6511</td>\n",
              "      <td>0.14343</td>\n",
              "      <td>0.071428</td>\n",
              "      <td>91.37</td>\n",
              "      <td>3.9948</td>\n",
              "      <td>0.37581</td>\n",
              "      <td>0.11550</td>\n",
              "      <td>1.3562</td>\n",
              "      <td>NaN</td>\n",
              "      <td>0.57353</td>\n",
              "      <td>0.088995</td>\n",
              "      <td>0.401390</td>\n",
              "      <td>0.069622</td>\n",
              "      <td>0.088995</td>\n",
              "      <td>180.77</td>\n",
              "      <td>100.980</td>\n",
              "      <td>0.28720</td>\n",
              "      <td>1.56960</td>\n",
              "      <td>84.344</td>\n",
              "      <td>0.085874</td>\n",
              "      <td>0.066165</td>\n",
              "      <td>2.4928</td>\n",
              "      <td>0.30734</td>\n",
              "      <td>0.25033</td>\n",
              "      <td>2.4524</td>\n",
              "      <td>2.4524</td>\n",
              "      <td>20545.0</td>\n",
              "      <td>0.054015</td>\n",
              "      <td>0.14207</td>\n",
              "      <td>0.94598</td>\n",
              "      <td>0.000000</td>\n",
              "      <td>4.5746</td>\n",
              "      <td>3.6147</td>\n",
              "      <td>86.435</td>\n",
              "      <td>4.2228</td>\n",
              "      <td>5.5497</td>\n",
              "      <td>0</td>\n",
              "    </tr>\n",
              "    <tr>\n",
              "      <th>4</th>\n",
              "      <td>0.187320</td>\n",
              "      <td>0.61323</td>\n",
              "      <td>0.22960</td>\n",
              "      <td>1.4063</td>\n",
              "      <td>-7.3128</td>\n",
              "      <td>0.18732</td>\n",
              "      <td>0.187320</td>\n",
              "      <td>0.63070</td>\n",
              "      <td>1.1559</td>\n",
              "      <td>0.38677</td>\n",
              "      <td>0.187320</td>\n",
              "      <td>0.33147</td>\n",
              "      <td>0.121820</td>\n",
              "      <td>0.187320</td>\n",
              "      <td>1133.20</td>\n",
              "      <td>0.32211</td>\n",
              "      <td>1.6307</td>\n",
              "      <td>0.187320</td>\n",
              "      <td>0.115530</td>\n",
              "      <td>57.045</td>\n",
              "      <td>NaN</td>\n",
              "      <td>0.19832</td>\n",
              "      <td>0.115530</td>\n",
              "      <td>0.18732</td>\n",
              "      <td>0.38677</td>\n",
              "      <td>0.32211</td>\n",
              "      <td>1.41380</td>\n",
              "      <td>1.1184</td>\n",
              "      <td>4.1424</td>\n",
              "      <td>0.27884</td>\n",
              "      <td>0.115530</td>\n",
              "      <td>147.04</td>\n",
              "      <td>2.4823</td>\n",
              "      <td>0.32340</td>\n",
              "      <td>0.19832</td>\n",
              "      <td>1.6278</td>\n",
              "      <td>11.2470</td>\n",
              "      <td>0.43489</td>\n",
              "      <td>0.122310</td>\n",
              "      <td>0.293040</td>\n",
              "      <td>0.096680</td>\n",
              "      <td>0.122310</td>\n",
              "      <td>141.62</td>\n",
              "      <td>84.574</td>\n",
              "      <td>0.73919</td>\n",
              "      <td>0.95787</td>\n",
              "      <td>65.936</td>\n",
              "      <td>0.188110</td>\n",
              "      <td>0.116010</td>\n",
              "      <td>1.2959</td>\n",
              "      <td>0.56511</td>\n",
              "      <td>0.40285</td>\n",
              "      <td>1.8839</td>\n",
              "      <td>2.1184</td>\n",
              "      <td>3186.6</td>\n",
              "      <td>0.134850</td>\n",
              "      <td>0.48431</td>\n",
              "      <td>0.86515</td>\n",
              "      <td>0.124440</td>\n",
              "      <td>6.3985</td>\n",
              "      <td>4.3158</td>\n",
              "      <td>127.210</td>\n",
              "      <td>2.8692</td>\n",
              "      <td>7.8980</td>\n",
              "      <td>0</td>\n",
              "    </tr>\n",
              "  </tbody>\n",
              "</table>\n",
              "</div>"
            ],
            "text/plain": [
              "      Attr1    Attr2    Attr3   Attr4  ...   Attr62  Attr63   Attr64  class\n",
              "0  0.200550  0.37951  0.39641  2.0472  ...   82.658  4.4158   7.4277      0\n",
              "1  0.209120  0.49988  0.47225  1.9447  ...  107.350  3.4000  60.9870      0\n",
              "2  0.248660  0.69592  0.26713  1.5548  ...  134.270  2.7185   5.2078      0\n",
              "3  0.081483  0.30734  0.45879  2.4928  ...   86.435  4.2228   5.5497      0\n",
              "4  0.187320  0.61323  0.22960  1.4063  ...  127.210  2.8692   7.8980      0\n",
              "\n",
              "[5 rows x 65 columns]"
            ]
          },
          "metadata": {
            "tags": []
          },
          "execution_count": 13
        }
      ]
    },
    {
      "cell_type": "code",
      "metadata": {
        "id": "zDeyTfW52rIo",
        "outputId": "48b08be9-528e-42d9-f2d2-9a4f44b5c26c",
        "colab": {
          "base_uri": "https://localhost:8080/"
        }
      },
      "source": [
        "df_bankruptcy['class'].value_counts()"
      ],
      "execution_count": null,
      "outputs": [
        {
          "output_type": "execute_result",
          "data": {
            "text/plain": [
              "0    6756\n",
              "1     271\n",
              "Name: class, dtype: int64"
            ]
          },
          "metadata": {
            "tags": []
          },
          "execution_count": 14
        }
      ]
    },
    {
      "cell_type": "code",
      "metadata": {
        "id": "l5INAXbk2JRb",
        "outputId": "ed13a05c-f33b-4acd-f9c3-e66d0c09c142",
        "colab": {
          "base_uri": "https://localhost:8080/"
        }
      },
      "source": [
        "sns.countplot(x=\"class\", data=df_bankruptcy)"
      ],
      "execution_count": null,
      "outputs": [
        {
          "output_type": "execute_result",
          "data": {
            "text/plain": [
              "<matplotlib.axes._subplots.AxesSubplot at 0x7ffb1b2812b0>"
            ]
          },
          "metadata": {
            "tags": []
          },
          "execution_count": 15
        },
        {
          "output_type": "display_data",
          "data": {
            "image/png": "[encoded data removed]",
            "text/plain": [
              "<Figure size 432x288 with 1 Axes>"
            ]
          },
          "metadata": {
            "tags": [],
            "needs_background": "light"
          }
        }
      ]
    },
    {
      "cell_type": "markdown",
      "metadata": {
        "id": "n3hiXU7NEspr"
      },
      "source": [
        "The distribution of label was extremely imbalanced"
      ]
    },
    {
      "cell_type": "markdown",
      "metadata": {
        "id": "YKB90B41FskT"
      },
      "source": [
        "## 2. Data preprocessing\n",
        "\n",
        "* NA filling by 0\n",
        "* Standard scaling\n",
        "* Train-test splitting\n"
      ]
    },
    {
      "cell_type": "code",
      "metadata": {
        "id": "Zdje6Oyk1QhZ"
      },
      "source": [
        "# The NA in X dataframe was imputed by Zero\n",
        "X = df_bankruptcy.drop(columns=['class']).fillna(0)\n",
        "y = df_bankruptcy['class']"
      ],
      "execution_count": null,
      "outputs": []
    },
    {
      "cell_type": "code",
      "metadata": {
        "id": "TFxer7Tm3cBv"
      },
      "source": [
        "# Scaling the features matrix by Standard scaling\n",
        "scl = StandardScaler()\n",
        "scl.fit(X)\n",
        "X_scaled = scl.transform(X) "
      ],
      "execution_count": null,
      "outputs": []
    },
    {
      "cell_type": "code",
      "metadata": {
        "id": "pG-pv9z11nee"
      },
      "source": [
        "# Split the data into train and test dataset with the ratio 60:40\n",
        "X_train, X_test, y_train, y_test = train_test_split(X_scaled, y , test_size=0.4)"
      ],
      "execution_count": null,
      "outputs": []
    },
    {
      "cell_type": "markdown",
      "metadata": {
        "id": "BRabSrujJ44t"
      },
      "source": [
        "## 3. Hyperparameter Optimization using Grid Search"
      ]
    },
    {
      "cell_type": "code",
      "metadata": {
        "id": "AMV6IvIX5jPe"
      },
      "source": [
        "# Initiate the Logistic Regression model\n",
        "logreg = LogisticRegression()"
      ],
      "execution_count": null,
      "outputs": []
    },
    {
      "cell_type": "code",
      "metadata": {
        "id": "UptbK7l026_Y"
      },
      "source": [
        "\"\"\"\n",
        "Define the hyperparameter space\n",
        ":params: penalty: Regularization method\n",
        ":params: C: Regularization term, detail here: \n",
        "            https://scikit-learn.org/stable/modules/linear_model.html#logistic-regression\n",
        ":params: solver: optimization algorithms\n",
        ":params: class_weight: The “balanced” mode uses the values of y to automatically \n",
        "                       adjust weights inversely proportional to class frequencies \n",
        "                       in the input data as n_samples / (n_classes * np.bincount(y)).\n",
        "\"\"\"\n",
        "param_grid = {\n",
        "    'penalty': ['l1', 'l2'], \n",
        "    'C': [-4, -2, -1, -0.5, 0.5, 1, 2, 4],\n",
        "    'solver': ['lbfgs', 'liblinear'],\n",
        "    'class_weight': ['balanced']\n",
        "}"
      ],
      "execution_count": null,
      "outputs": []
    },
    {
      "cell_type": "code",
      "metadata": {
        "id": "oK_E_7B_5Xnf"
      },
      "source": [
        "# Initiate the Gridsearch with Cross-validation\n",
        "grid = GridSearchCV(logreg, param_grid, cv=5, scoring='roc_auc', verbose=True, n_jobs=-1)"
      ],
      "execution_count": null,
      "outputs": []
    },
    {
      "cell_type": "code",
      "metadata": {
        "id": "WW2RAOxH5720",
        "outputId": "39bc74b3-e88b-4859-df2d-7a85cfecd045",
        "colab": {
          "base_uri": "https://localhost:8080/"
        }
      },
      "source": [
        "# Fit the data and hyperparameter space to the model \n",
        "# and benchmark to find out the best classifier\n",
        "# ~ 5 min in Colab\n",
        "best_clf = grid.fit(X_train, y_train)"
      ],
      "execution_count": null,
      "outputs": [
        {
          "output_type": "stream",
          "text": [
            "Fitting 5 folds for each of 32 candidates, totalling 160 fits\n"
          ],
          "name": "stdout"
        },
        {
          "output_type": "stream",
          "text": [
            "[Parallel(n_jobs=-1)]: Using backend LokyBackend with 2 concurrent workers.\n",
            "[Parallel(n_jobs=-1)]: Done 150 tasks      | elapsed:  5.1min\n",
            "[Parallel(n_jobs=-1)]: Done 160 out of 160 | elapsed:  5.3min finished\n",
            "/usr/local/lib/python3.6/dist-packages/sklearn/svm/_base.py:947: ConvergenceWarning: Liblinear failed to converge, increase the number of iterations.\n",
            "  \"the number of iterations.\", ConvergenceWarning)\n"
          ],
          "name": "stderr"
        }
      ]
    },
    {
      "cell_type": "code",
      "metadata": {
        "id": "XSXupprb6A_u",
        "outputId": "15b90968-ea40-4cb3-9117-c7b9f6665298",
        "colab": {
          "base_uri": "https://localhost:8080/"
        }
      },
      "source": [
        "# Showing the best params set\n",
        "best_clf.best_params_"
      ],
      "execution_count": null,
      "outputs": [
        {
          "output_type": "execute_result",
          "data": {
            "text/plain": [
              "{'C': 2, 'class_weight': 'balanced', 'penalty': 'l1', 'solver': 'liblinear'}"
            ]
          },
          "metadata": {
            "tags": []
          },
          "execution_count": 23
        }
      ]
    },
    {
      "cell_type": "markdown",
      "metadata": {
        "id": "dFQU_kP5KHxG"
      },
      "source": [
        "## 4. Results"
      ]
    },
    {
      "cell_type": "code",
      "metadata": {
        "id": "YLG_LoFS_x13",
        "outputId": "8083e71c-5aa9-4f52-f28e-2a1f70eca975",
        "colab": {
          "base_uri": "https://localhost:8080/"
        }
      },
      "source": [
        "clf = best_clf.best_estimator_\n",
        "clf.fit(X_train, y_train)"
      ],
      "execution_count": null,
      "outputs": [
        {
          "output_type": "stream",
          "text": [
            "/usr/local/lib/python3.6/dist-packages/sklearn/svm/_base.py:947: ConvergenceWarning: Liblinear failed to converge, increase the number of iterations.\n",
            "  \"the number of iterations.\", ConvergenceWarning)\n"
          ],
          "name": "stderr"
        },
        {
          "output_type": "execute_result",
          "data": {
            "text/plain": [
              "LogisticRegression(C=2, class_weight='balanced', dual=False, fit_intercept=True,\n",
              "                   intercept_scaling=1, l1_ratio=None, max_iter=100,\n",
              "                   multi_class='auto', n_jobs=None, penalty='l1',\n",
              "                   random_state=None, solver='liblinear', tol=0.0001, verbose=0,\n",
              "                   warm_start=False)"
            ]
          },
          "metadata": {
            "tags": []
          },
          "execution_count": 24
        }
      ]
    },
    {
      "cell_type": "code",
      "metadata": {
        "id": "Qi66wkXg8K6L"
      },
      "source": [
        "# Calculate the prediction in test set\n",
        "y_pred = clf.predict(X_test)"
      ],
      "execution_count": null,
      "outputs": []
    },
    {
      "cell_type": "code",
      "metadata": {
        "id": "PkTq-JQq_4JH",
        "outputId": "43cf4fcd-6e99-4efc-8336-3b3a893fda62",
        "colab": {
          "base_uri": "https://localhost:8080/"
        }
      },
      "source": [
        "# Print the metrics on test set\n",
        "print(accuracy_score(y_test, y_pred))"
      ],
      "execution_count": null,
      "outputs": [
        {
          "output_type": "stream",
          "text": [
            "0.6627534685165422\n"
          ],
          "name": "stdout"
        }
      ]
    },
    {
      "cell_type": "code",
      "metadata": {
        "id": "-EyFkw3dABfE",
        "outputId": "e1e4b10f-24c6-42a2-e450-94bc8ec86848",
        "colab": {
          "base_uri": "https://localhost:8080/"
        }
      },
      "source": [
        "# Print the AUC score\n",
        "y_score = clf.decision_function(X_test)\n",
        "auc_score = roc_auc_score(y_test, y_score)\n",
        "print(f\"AUC = {auc_score}\")"
      ],
      "execution_count": null,
      "outputs": [
        {
          "output_type": "stream",
          "text": [
            "AUC = 0.7265490895627881\n"
          ],
          "name": "stdout"
        }
      ]
    },
    {
      "cell_type": "code",
      "metadata": {
        "id": "RUGfP-myAMyv",
        "outputId": "2b4e0c7a-027e-4263-9973-0a9a9237d51a",
        "colab": {
          "base_uri": "https://localhost:8080/"
        }
      },
      "source": [
        "# Plot the ROC \n",
        "plot_roc_curve(best_clf, X_test, y_test)"
      ],
      "execution_count": null,
      "outputs": [
        {
          "output_type": "execute_result",
          "data": {
            "text/plain": [
              "<sklearn.metrics._plot.roc_curve.RocCurveDisplay at 0x7ffb1bb9f7b8>"
            ]
          },
          "metadata": {
            "tags": []
          },
          "execution_count": 28
        },
        {
          "output_type": "display_data",
          "data": {
            "image/png": "[encoded data removed]",
            "text/plain": [
              "<Figure size 432x288 with 1 Axes>"
            ]
          },
          "metadata": {
            "tags": [],
            "needs_background": "light"
          }
        }
      ]
    },
    {
      "cell_type": "markdown",
      "metadata": {
        "id": "2nhSfNBm7_Y2"
      },
      "source": [
        "# Decision Tree"
      ]
    },
    {
      "cell_type": "code",
      "metadata": {
        "id": "Ok7BNmhrCynl"
      },
      "source": [
        "X = data['data']\n",
        "y = data['target']\n",
        "feature_names = data['feature_names']\n",
        "target_names = data['target_names']"
      ],
      "execution_count": null,
      "outputs": []
    },
    {
      "cell_type": "code",
      "metadata": {
        "id": "gEK8PYPyC58v"
      },
      "source": [
        "X_train, X_test, y_train, y_test = train_test_split(X, y, random_state=0)"
      ],
      "execution_count": null,
      "outputs": []
    },
    {
      "cell_type": "code",
      "metadata": {
        "id": "ZVb9PFLwItcJ",
        "outputId": "124a4a75-8dd3-4e2b-8033-5f1266d71ccb",
        "colab": {
          "base_uri": "https://localhost:8080/"
        }
      },
      "source": [
        "from sklearn.tree import DecisionTreeClassifier, plot_tree\n",
        "\n",
        "dtc = DecisionTreeClassifier(max_depth=3)\n",
        "dtc.fit(X_train, y_train)"
      ],
      "execution_count": null,
      "outputs": [
        {
          "output_type": "execute_result",
          "data": {
            "text/plain": [
              "DecisionTreeClassifier(ccp_alpha=0.0, class_weight=None, criterion='gini',\n",
              "                       max_depth=3, max_features=None, max_leaf_nodes=None,\n",
              "                       min_impurity_decrease=0.0, min_impurity_split=None,\n",
              "                       min_samples_leaf=1, min_samples_split=2,\n",
              "                       min_weight_fraction_leaf=0.0, presort='deprecated',\n",
              "                       random_state=None, splitter='best')"
            ]
          },
          "metadata": {
            "tags": []
          },
          "execution_count": 31
        }
      ]
    },
    {
      "cell_type": "code",
      "metadata": {
        "id": "NxB-eC08BDjE"
      },
      "source": [
        "y_pred = dtc.predict(X_test)"
      ],
      "execution_count": null,
      "outputs": []
    },
    {
      "cell_type": "code",
      "metadata": {
        "id": "j0wm5sKrBI1i",
        "outputId": "b761fd71-2748-4c49-9252-f7bc3b0dd85f",
        "colab": {
          "base_uri": "https://localhost:8080/"
        }
      },
      "source": [
        "print(accuracy_score(y_test, y_pred))"
      ],
      "execution_count": null,
      "outputs": [
        {
          "output_type": "stream",
          "text": [
            "0.9230769230769231\n"
          ],
          "name": "stdout"
        }
      ]
    },
    {
      "cell_type": "code",
      "metadata": {
        "id": "thmmftPCBK6c",
        "outputId": "b52a87cc-b168-4afe-810e-5b23e058c0cc",
        "colab": {
          "base_uri": "https://localhost:8080/"
        }
      },
      "source": [
        "# Print the AUC score\n",
        "y_score = dtc.predict_proba(X_test)\n",
        "auc_score = roc_auc_score(y_test, y_score[:,1])\n",
        "print(f\"AUC = {auc_score}\")"
      ],
      "execution_count": null,
      "outputs": [
        {
          "output_type": "stream",
          "text": [
            "AUC = 0.9513626834381552\n"
          ],
          "name": "stdout"
        }
      ]
    },
    {
      "cell_type": "code",
      "metadata": {
        "id": "AvnIhb0KBZzS",
        "outputId": "c978b0ae-8df7-4ab5-f5c4-8a63bc07d14f",
        "colab": {
          "base_uri": "https://localhost:8080/"
        }
      },
      "source": [
        "fig, axes = plt.subplots(dpi=300)\n",
        "plot_tree(dtc, feature_names=feature_names, class_names=target_names, filled = True)\n",
        "fig.show()"
      ],
      "execution_count": null,
      "outputs": [
        {
          "output_type": "display_data",
          "data": {
            "image/png": "[encoded data removed]",
            "text/plain": [
              "<Figure size 1800x1200 with 1 Axes>"
            ]
          },
          "metadata": {
            "tags": [],
            "needs_background": "light"
          }
        }
      ]
    },
    {
      "cell_type": "markdown",
      "metadata": {
        "id": "LL_hqoqBELkI"
      },
      "source": [
        "# Random forest"
      ]
    },
    {
      "cell_type": "code",
      "metadata": {
        "id": "FAL6CNzNEK5g"
      },
      "source": [
        "from sklearn.ensemble import RandomForestClassifier"
      ],
      "execution_count": null,
      "outputs": []
    },
    {
      "cell_type": "code",
      "metadata": {
        "id": "P5BLnJu1CoWJ"
      },
      "source": [
        "rf = RandomForestClassifier()\n",
        "rf.fit(X_train, y_train)\n",
        "y_pred = rf.predict(X_test)"
      ],
      "execution_count": null,
      "outputs": []
    },
    {
      "cell_type": "code",
      "metadata": {
        "id": "RlYAedJlEav6",
        "outputId": "abf81c78-80cd-41b1-b2a0-d090096a9109",
        "colab": {
          "base_uri": "https://localhost:8080/",
          "height": 34
        }
      },
      "source": [
        "print(accuracy_score(y_test, y_pred))"
      ],
      "execution_count": null,
      "outputs": [
        {
          "output_type": "stream",
          "text": [
            "0.9790209790209791\n"
          ],
          "name": "stdout"
        }
      ]
    },
    {
      "cell_type": "code",
      "metadata": {
        "id": "f1q2BD4wEc_B",
        "outputId": "acee9bbf-7557-4053-a898-1f7e61fc0cd1",
        "colab": {
          "base_uri": "https://localhost:8080/",
          "height": 34
        }
      },
      "source": [
        "# Print the AUC score\n",
        "y_score = rf.predict_proba(X_test)\n",
        "auc_score = roc_auc_score(y_test, y_score[:,1])\n",
        "print(f\"AUC = {auc_score}\")"
      ],
      "execution_count": null,
      "outputs": [
        {
          "output_type": "stream",
          "text": [
            "AUC = 0.9966457023060796\n"
          ],
          "name": "stdout"
        }
      ]
    }
  ]
}