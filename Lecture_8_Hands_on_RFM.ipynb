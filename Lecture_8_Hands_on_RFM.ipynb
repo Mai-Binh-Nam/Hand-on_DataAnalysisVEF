{
  "nbformat": 4,
  "nbformat_minor": 0,
  "metadata": {
    "colab": {
      "name": "Lecture 8 Hands on - RFM.ipynb",
      "provenance": [],
      "collapsed_sections": [
        "HzJReyRtlaU6"
      ],
      "toc_visible": true,
      "include_colab_link": true
    },
    "kernelspec": {
      "name": "python3",
      "display_name": "Python 3"
    }
  },
  "cells": [
    {
      "cell_type": "markdown",
      "metadata": {
        "id": "view-in-github",
        "colab_type": "text"
      },
      "source": [
        "<a href=\"https://colab.research.google.com/github/Mai-Binh-Nam/Hand-on_DataAnalysisVEF/blob/master/Lecture_8_Hands_on_RFM.ipynb\" target=\"_parent\"><img src=\"https://colab.research.google.com/assets/colab-badge.svg\" alt=\"Open In Colab\"/></a>"
      ]
    },
    {
      "cell_type": "markdown",
      "metadata": {
        "id": "Yq3sQao7GZ4o"
      },
      "source": [
        "# Import libraries"
      ]
    },
    {
      "cell_type": "code",
      "metadata": {
        "id": "n9htT6d7o2GQ"
      },
      "source": [
        "import numpy as np\n",
        "import pandas as pd\n",
        "import datetime as dt\n",
        "\n",
        "import matplotlib.pyplot as plt\n",
        "import seaborn as sns\n",
        "# Option to specify the default size of plots by seaborn. A4 size\n",
        "sns.set(rc={'figure.figsize':(11.7,8.27)})"
      ],
      "execution_count": null,
      "outputs": []
    },
    {
      "cell_type": "markdown",
      "metadata": {
        "id": "431SgqR3CVXq"
      },
      "source": [
        "# k-means with generated dataset"
      ]
    },
    {
      "cell_type": "markdown",
      "metadata": {
        "id": "DnDJUWZeCdZd"
      },
      "source": [
        "## Purposely generate data around 3 centroids"
      ]
    },
    {
      "cell_type": "code",
      "metadata": {
        "id": "YbHBA1UPCZqi"
      },
      "source": [
        "# Set three centers\n",
        "center_1 = np.array([1,1])\n",
        "center_2 = np.array([5,4])\n",
        "center_3 = np.array([9,1])\n",
        "\n",
        "\n",
        "# Generate random data and center it to the three centers\n",
        "data_1 = np.random.randn(200,2) + center_1\n",
        "data_2 = np.random.randn(200,2) + center_2\n",
        "data_3 = np.random.randn(200,2) + center_3\n",
        "\n",
        "data = np.concatenate((data_1, data_2, data_3), axis = 0)\n",
        "\n",
        "\n",
        "# data = pd.DataFrame(data)\n",
        "# data.columns = [\"feature_1\",\"feature_2\"]\n",
        "\n",
        "# means = [[2, 2], [8, 3], [3, 6]]\n",
        "# cov = [[1, 0], [0, 1]]\n",
        "# N = 500\n",
        "# data_1 = np.random.multivariate_normal(means[0], cov, N)\n",
        "# data_2 = np.random.multivariate_normal(means[1], cov, N)\n",
        "# data_3 = np.random.multivariate_normal(means[2], cov, N)\n",
        "\n",
        "# data = np.concatenate((data_1, data_2, data_3), axis = 0)"
      ],
      "execution_count": null,
      "outputs": []
    },
    {
      "cell_type": "code",
      "metadata": {
        "id": "F3hdR7DeGlME",
        "outputId": "ef1d09b3-9c5f-4156-89c0-742da2eb90fa",
        "colab": {
          "base_uri": "https://localhost:8080/"
        }
      },
      "source": [
        "data"
      ],
      "execution_count": null,
      "outputs": [
        {
          "output_type": "execute_result",
          "data": {
            "text/plain": [
              "array([[ 7.25373473e-01,  8.11275783e-01],\n",
              "       [ 1.55208347e+00,  6.09409094e-01],\n",
              "       [ 1.03837773e+00,  1.04725241e-01],\n",
              "       ...,\n",
              "       [ 1.03038833e+01, -7.71602694e-03],\n",
              "       [ 8.33517601e+00,  1.68770697e+00],\n",
              "       [ 9.83620009e+00,  7.02828377e-01]])"
            ]
          },
          "metadata": {
            "tags": []
          },
          "execution_count": 3
        }
      ]
    },
    {
      "cell_type": "code",
      "metadata": {
        "id": "nzZhvb9GGhr2",
        "outputId": "aefd0ef4-9169-4187-e3db-01419a2c7cca",
        "colab": {
          "base_uri": "https://localhost:8080/",
          "height": 268
        }
      },
      "source": [
        "plt.plot(data_1[:, 0], data_1[:, 1], 'b^', markersize = 4, alpha = .8)\n",
        "plt.plot(data_2[:, 0], data_2[:, 1], 'go', markersize = 4, alpha = .8)\n",
        "plt.plot(data_3[:, 0], data_3[:, 1], 'rs', markersize = 4, alpha = .8)\n",
        "\n",
        "plt.axis('equal')\n",
        "plt.plot()\n",
        "plt.show()"
      ],
      "execution_count": null,
      "outputs": [
        {
          "output_type": "display_data",
          "data": {
            "image/png": "[encoded data removed]",
            "text/plain": [
              "<Figure size 432x288 with 1 Axes>"
            ]
          },
          "metadata": {
            "tags": [],
            "needs_background": "light"
          }
        }
      ]
    },
    {
      "cell_type": "markdown",
      "metadata": {
        "id": "R5b5Q4qWDCvo"
      },
      "source": [
        "## One iteration of assigning centroids and calculating distances"
      ]
    },
    {
      "cell_type": "code",
      "metadata": {
        "id": "2TgEFWaIv4y8",
        "outputId": "380cebff-8c10-4d54-ef9f-4408d1bf7685",
        "colab": {
          "base_uri": "https://localhost:8080/",
          "height": 285
        }
      },
      "source": [
        "# Number of clusters - supposing started with 3 clusters\n",
        "k = 3\n",
        "\n",
        "# Number of training data, or the number of rows\n",
        "n = data.shape[0]\n",
        "\n",
        "# Number of features in the data\n",
        "c = data.shape[1]\n",
        "\n",
        "# Pick K random centers\n",
        "mean = np.mean(data, axis = 0)\n",
        "std = np.std(data, axis = 0)\n",
        "center_points = np.random.randn(k,c)*std + mean\n",
        "\n",
        "# Plot the data and the centers generated as random\n",
        "# plt.scatter(data[:,0], data[:,1], s=7)\n",
        "\n",
        "plt.plot(data_1[:, 0], data_1[:, 1], 'b^', markersize = 4, alpha = .8)\n",
        "plt.plot(data_2[:, 0], data_2[:, 1], 'go', markersize = 4, alpha = .8)\n",
        "plt.plot(data_3[:, 0], data_3[:, 1], 'rs', markersize = 4, alpha = .8)\n",
        "\n",
        "plt.scatter(center_points[:,0], center_points[:,1], marker='*', c='black', s=150)"
      ],
      "execution_count": null,
      "outputs": [
        {
          "output_type": "execute_result",
          "data": {
            "text/plain": [
              "<matplotlib.collections.PathCollection at 0x7f874510f198>"
            ]
          },
          "metadata": {
            "tags": []
          },
          "execution_count": 5
        },
        {
          "output_type": "display_data",
          "data": {
            "image/png": "[encoded data removed]",
            "text/plain": [
              "<Figure size 432x288 with 1 Axes>"
            ]
          },
          "metadata": {
            "tags": [],
            "needs_background": "light"
          }
        }
      ]
    },
    {
      "cell_type": "code",
      "metadata": {
        "id": "MKHDZiGrIhJO",
        "outputId": "27df690e-d24c-4159-b667-81b05ffe5089",
        "colab": {
          "base_uri": "https://localhost:8080/"
        }
      },
      "source": [
        "center_points"
      ],
      "execution_count": null,
      "outputs": [
        {
          "output_type": "execute_result",
          "data": {
            "text/plain": [
              "array([[ 7.88710351,  0.90979902],\n",
              "       [10.31338579,  1.26686181],\n",
              "       [ 7.64654251,  3.45537102]])"
            ]
          },
          "metadata": {
            "tags": []
          },
          "execution_count": 6
        }
      ]
    },
    {
      "cell_type": "markdown",
      "metadata": {
        "id": "v8uSZU5Ur_MC"
      },
      "source": [
        "Step 2 - Assign each $x_i$ data point to nearest cluster - calculating its distance to each centroid"
      ]
    },
    {
      "cell_type": "code",
      "metadata": {
        "id": "XI0pZjn7w6h4"
      },
      "source": [
        "# center_points = np.random.randn(k,c)*std + mean\n",
        "\n",
        "# Store old centers - to store value of centroids when it updates\n",
        "centers_old = np.zeros(center_points.shape)\n",
        "\n",
        "# Store new centers\n",
        "centers_new = center_points.copy()\n",
        "\n",
        "data.shape\n",
        "clusters = np.zeros(n)\n",
        "distances = np.zeros((n,k))"
      ],
      "execution_count": null,
      "outputs": []
    },
    {
      "cell_type": "code",
      "metadata": {
        "id": "N7YFyw1PIvAn",
        "outputId": "c7f91f12-1dab-46b8-9e72-9477e09cf406",
        "colab": {
          "base_uri": "https://localhost:8080/"
        }
      },
      "source": [
        "# Using Euclidean Distance between new and old centroids\n",
        "error = np.linalg.norm(centers_new - centers_old)\n",
        "\n",
        "print(\"Old centers: \\n\", centers_old)\n",
        "\n",
        "# Step 4: Repeat Step 2 and 3 until error is zero\n",
        "while error != 0:\n",
        "    # Step 2: Measure the distance between data points to every center\n",
        "    for i in range(k):\n",
        "        distances[:,i] = np.linalg.norm(data - center_points[i], axis=1)\n",
        "        \n",
        "    # Assign each training data to its closest center\n",
        "    clusters = np.argmin(distances, axis = 1)\n",
        "    \n",
        "    centers_old = centers_new.copy()\n",
        "    \n",
        "    # Step 3: Finding new centers by calculating mean for every cluster\n",
        "    for i in range(k):\n",
        "        centers_new[i] = np.mean(data[clusters == i], axis=0)\n",
        "    error = np.linalg.norm(centers_new - centers_old)\n",
        "\n",
        "print(\"New centers: \\n\", centers_new)"
      ],
      "execution_count": null,
      "outputs": [
        {
          "output_type": "stream",
          "text": [
            "Old centers: \n",
            " [[0. 0.]\n",
            " [0. 0.]\n",
            " [0. 0.]]\n",
            "New centers: \n",
            " [[3.78667522 0.64054749]\n",
            " [9.98304103 0.85583411]\n",
            " [4.5725581  3.55857725]]\n"
          ],
          "name": "stdout"
        }
      ]
    },
    {
      "cell_type": "code",
      "metadata": {
        "id": "TKrh4y4pxwhQ",
        "outputId": "f9e6613a-6638-4ceb-925d-f490fc164369",
        "colab": {
          "base_uri": "https://localhost:8080/",
          "height": 285
        }
      },
      "source": [
        "# Plot the new centers\n",
        "colors = ['r', 'g', 'b', 'y', 'c', 'm', 'violet','navy','aqua','pink']\n",
        "\n",
        "fig, ax = plt.subplots()\n",
        "\n",
        "for i in range(k):\n",
        "  points = np.array([data[j] for j in range(len(data)) if clusters[j] == i])\n",
        "  ax.scatter(points[:, 0], points[:, 1], c=colors[i])\n",
        "ax.scatter(centers_new[:, 0], centers_new[:, 1], marker='*', s=200, c='#050505')\n",
        "\n",
        "\n",
        "# plt.plot(data[clusters == 0][:, 0], data[clusters == 0][:, 1], 'b^', markersize = 4, alpha = .8)\n",
        "# plt.plot(data[clusters == 1][:, 0], data[clusters == 1][:, 1], 'go', markersize = 4, alpha = .8)\n",
        "# plt.plot(data[clusters == 2][:, 0], data[clusters == 2][:, 1], 'rs', markersize = 4, alpha = .8)\n",
        "\n",
        "# plt.scatter(centers_new[:,0], center_points[:,1], marker='*', c='black', s=250)"
      ],
      "execution_count": null,
      "outputs": [
        {
          "output_type": "execute_result",
          "data": {
            "text/plain": [
              "<matplotlib.collections.PathCollection at 0x7f874505cd30>"
            ]
          },
          "metadata": {
            "tags": []
          },
          "execution_count": 9
        },
        {
          "output_type": "display_data",
          "data": {
            "image/png": "[encoded data removed]",
            "text/plain": [
              "<Figure size 432x288 with 1 Axes>"
            ]
          },
          "metadata": {
            "tags": [],
            "needs_background": "light"
          }
        }
      ]
    },
    {
      "cell_type": "markdown",
      "metadata": {
        "id": "E7MYQqWU_C3Q"
      },
      "source": [
        "## Elbow Method to choose number of clusters"
      ]
    },
    {
      "cell_type": "code",
      "metadata": {
        "id": "VqbzcgSQDsZd"
      },
      "source": [
        "from sklearn.cluster import KMeans\n",
        "from sklearn import metrics\n",
        "from scipy.spatial.distance import cdist"
      ],
      "execution_count": null,
      "outputs": []
    },
    {
      "cell_type": "code",
      "metadata": {
        "id": "4XrfbkY-9xOO",
        "outputId": "619068f5-5b5e-4613-e4be-e2646d3f8411",
        "colab": {
          "base_uri": "https://localhost:8080/",
          "height": 268
        }
      },
      "source": [
        "plt.plot(data_1[:, 0], data_1[:, 1], 'b^', markersize = 4, alpha = .8)\n",
        "plt.plot(data_2[:, 0], data_2[:, 1], 'go', markersize = 4, alpha = .8)\n",
        "plt.plot(data_3[:, 0], data_3[:, 1], 'rs', markersize = 4, alpha = .8)\n",
        "\n",
        "plt.axis('equal')\n",
        "plt.plot()\n",
        "plt.show()"
      ],
      "execution_count": null,
      "outputs": [
        {
          "output_type": "display_data",
          "data": {
            "image/png": "[encoded data removed]",
            "text/plain": [
              "<Figure size 432x288 with 1 Axes>"
            ]
          },
          "metadata": {
            "tags": [],
            "needs_background": "light"
          }
        }
      ]
    },
    {
      "cell_type": "code",
      "metadata": {
        "id": "fHyeUoc-JjVu",
        "outputId": "68b88dea-cdc1-4f0b-905e-7904078b68f4",
        "colab": {
          "base_uri": "https://localhost:8080/",
          "height": 301
        }
      },
      "source": [
        "# k-means --> determine optimal k using elbow method\n",
        "distortions = []\n",
        "K = range(1,11)\n",
        "\n",
        "\n",
        "for k in K:\n",
        "    kmeanModel = KMeans(n_clusters=k).fit(data)\n",
        "    kmeanModel.fit(data)\n",
        "    distortions.append(sum(np.min(cdist(data, kmeanModel.cluster_centers_, 'euclidean'), axis=1)) / data.shape[0])\n",
        "\n",
        "\n",
        "# Plot the elbow\n",
        "plt.plot(K, distortions, 'bx-')\n",
        "plt.xlabel('k')\n",
        "plt.ylabel('Distortion')\n",
        "plt.title('The Elbow Method showing the optimal k')\n",
        "plt.show()"
      ],
      "execution_count": null,
      "outputs": [
        {
          "output_type": "display_data",
          "data": {
            "image/png": "[encoded data removed]",
            "text/plain": [
              "<Figure size 432x288 with 1 Axes>"
            ]
          },
          "metadata": {
            "tags": [],
            "needs_background": "light"
          }
        }
      ]
    },
    {
      "cell_type": "markdown",
      "metadata": {
        "id": "hAJRNbHjpVSZ"
      },
      "source": [
        "# Using k-means for RFM model"
      ]
    },
    {
      "cell_type": "markdown",
      "metadata": {
        "id": "SyEXiXXUBd7M"
      },
      "source": [
        "## Retail dataset: Read and Clean"
      ]
    },
    {
      "cell_type": "code",
      "metadata": {
        "id": "J7r_IFUMpUQ-"
      },
      "source": [
        "## Read-in the dataset\n",
        "\n",
        "retail = pd.read_excel(\"https://github.com/thuynh386/olist_ecommerce_dataset/blob/master/online_retail_II.xlsx?raw=true\")\n",
        "# retail.to_csv(\"sample_retail_data.csv\")"
      ],
      "execution_count": null,
      "outputs": []
    },
    {
      "cell_type": "code",
      "metadata": {
        "id": "UCMN-F3dib9l",
        "outputId": "0c7bdacd-1026-434e-bb32-4424d079bcea",
        "colab": {
          "base_uri": "https://localhost:8080/",
          "height": 302
        }
      },
      "source": [
        "retail.head()"
      ],
      "execution_count": null,
      "outputs": [
        {
          "output_type": "execute_result",
          "data": {
            "text/html": [
              "<div>\n",
              "<style scoped>\n",
              "    .dataframe tbody tr th:only-of-type {\n",
              "        vertical-align: middle;\n",
              "    }\n",
              "\n",
              "    .dataframe tbody tr th {\n",
              "        vertical-align: top;\n",
              "    }\n",
              "\n",
              "    .dataframe thead th {\n",
              "        text-align: right;\n",
              "    }\n",
              "</style>\n",
              "<table border=\"1\" class=\"dataframe\">\n",
              "  <thead>\n",
              "    <tr style=\"text-align: right;\">\n",
              "      <th></th>\n",
              "      <th>Invoice</th>\n",
              "      <th>StockCode</th>\n",
              "      <th>Description</th>\n",
              "      <th>Quantity</th>\n",
              "      <th>InvoiceDate</th>\n",
              "      <th>Price</th>\n",
              "      <th>Customer ID</th>\n",
              "      <th>Country</th>\n",
              "    </tr>\n",
              "  </thead>\n",
              "  <tbody>\n",
              "    <tr>\n",
              "      <th>0</th>\n",
              "      <td>489434</td>\n",
              "      <td>85048</td>\n",
              "      <td>15CM CHRISTMAS GLASS BALL 20 LIGHTS</td>\n",
              "      <td>12</td>\n",
              "      <td>2009-12-01 07:45:00</td>\n",
              "      <td>6.95</td>\n",
              "      <td>13085.0</td>\n",
              "      <td>United Kingdom</td>\n",
              "    </tr>\n",
              "    <tr>\n",
              "      <th>1</th>\n",
              "      <td>489434</td>\n",
              "      <td>79323P</td>\n",
              "      <td>PINK CHERRY LIGHTS</td>\n",
              "      <td>12</td>\n",
              "      <td>2009-12-01 07:45:00</td>\n",
              "      <td>6.75</td>\n",
              "      <td>13085.0</td>\n",
              "      <td>United Kingdom</td>\n",
              "    </tr>\n",
              "    <tr>\n",
              "      <th>2</th>\n",
              "      <td>489434</td>\n",
              "      <td>79323W</td>\n",
              "      <td>WHITE CHERRY LIGHTS</td>\n",
              "      <td>12</td>\n",
              "      <td>2009-12-01 07:45:00</td>\n",
              "      <td>6.75</td>\n",
              "      <td>13085.0</td>\n",
              "      <td>United Kingdom</td>\n",
              "    </tr>\n",
              "    <tr>\n",
              "      <th>3</th>\n",
              "      <td>489434</td>\n",
              "      <td>22041</td>\n",
              "      <td>RECORD FRAME 7\" SINGLE SIZE</td>\n",
              "      <td>48</td>\n",
              "      <td>2009-12-01 07:45:00</td>\n",
              "      <td>2.10</td>\n",
              "      <td>13085.0</td>\n",
              "      <td>United Kingdom</td>\n",
              "    </tr>\n",
              "    <tr>\n",
              "      <th>4</th>\n",
              "      <td>489434</td>\n",
              "      <td>21232</td>\n",
              "      <td>STRAWBERRY CERAMIC TRINKET BOX</td>\n",
              "      <td>24</td>\n",
              "      <td>2009-12-01 07:45:00</td>\n",
              "      <td>1.25</td>\n",
              "      <td>13085.0</td>\n",
              "      <td>United Kingdom</td>\n",
              "    </tr>\n",
              "  </tbody>\n",
              "</table>\n",
              "</div>"
            ],
            "text/plain": [
              "  Invoice StockCode  ... Customer ID         Country\n",
              "0  489434     85048  ...     13085.0  United Kingdom\n",
              "1  489434    79323P  ...     13085.0  United Kingdom\n",
              "2  489434    79323W  ...     13085.0  United Kingdom\n",
              "3  489434     22041  ...     13085.0  United Kingdom\n",
              "4  489434     21232  ...     13085.0  United Kingdom\n",
              "\n",
              "[5 rows x 8 columns]"
            ]
          },
          "metadata": {
            "tags": []
          },
          "execution_count": 14
        }
      ]
    },
    {
      "cell_type": "code",
      "metadata": {
        "id": "Zzu3pJhqIrzz"
      },
      "source": [
        "# Transform Invoice date to date format\n",
        "\n",
        "retail[\"InvoiceDate\"] = retail[\"InvoiceDate\"].astype(\"datetime64[D]\")"
      ],
      "execution_count": null,
      "outputs": []
    },
    {
      "cell_type": "code",
      "metadata": {
        "id": "PWZWUjmojZxs",
        "outputId": "0e410a0c-60a3-46c8-fe39-da05d1254530",
        "colab": {
          "base_uri": "https://localhost:8080/"
        }
      },
      "source": [
        "retail[\"InvoiceDate\"].agg([\"min\",\"max\"])\n",
        "\n",
        "## The max date is '2010-12-09', we will assume that we are at that date while doing this analysis."
      ],
      "execution_count": null,
      "outputs": [
        {
          "output_type": "execute_result",
          "data": {
            "text/plain": [
              "min   2009-12-01\n",
              "max   2010-12-09\n",
              "Name: InvoiceDate, dtype: datetime64[ns]"
            ]
          },
          "metadata": {
            "tags": []
          },
          "execution_count": 16
        }
      ]
    },
    {
      "cell_type": "code",
      "metadata": {
        "id": "OeBarNVAjQY-",
        "outputId": "a9f93ab6-c5d4-4af6-8a46-8a3377b8159d",
        "colab": {
          "base_uri": "https://localhost:8080/",
          "height": 288
        }
      },
      "source": [
        "# See the overview for numerical data\n",
        "retail.describe()"
      ],
      "execution_count": null,
      "outputs": [
        {
          "output_type": "execute_result",
          "data": {
            "text/html": [
              "<div>\n",
              "<style scoped>\n",
              "    .dataframe tbody tr th:only-of-type {\n",
              "        vertical-align: middle;\n",
              "    }\n",
              "\n",
              "    .dataframe tbody tr th {\n",
              "        vertical-align: top;\n",
              "    }\n",
              "\n",
              "    .dataframe thead th {\n",
              "        text-align: right;\n",
              "    }\n",
              "</style>\n",
              "<table border=\"1\" class=\"dataframe\">\n",
              "  <thead>\n",
              "    <tr style=\"text-align: right;\">\n",
              "      <th></th>\n",
              "      <th>Quantity</th>\n",
              "      <th>Price</th>\n",
              "      <th>Customer ID</th>\n",
              "    </tr>\n",
              "  </thead>\n",
              "  <tbody>\n",
              "    <tr>\n",
              "      <th>count</th>\n",
              "      <td>525461.000000</td>\n",
              "      <td>525461.000000</td>\n",
              "      <td>417534.000000</td>\n",
              "    </tr>\n",
              "    <tr>\n",
              "      <th>mean</th>\n",
              "      <td>10.337667</td>\n",
              "      <td>4.688834</td>\n",
              "      <td>15360.645478</td>\n",
              "    </tr>\n",
              "    <tr>\n",
              "      <th>std</th>\n",
              "      <td>107.424110</td>\n",
              "      <td>146.126914</td>\n",
              "      <td>1680.811316</td>\n",
              "    </tr>\n",
              "    <tr>\n",
              "      <th>min</th>\n",
              "      <td>-9600.000000</td>\n",
              "      <td>-53594.360000</td>\n",
              "      <td>12346.000000</td>\n",
              "    </tr>\n",
              "    <tr>\n",
              "      <th>25%</th>\n",
              "      <td>1.000000</td>\n",
              "      <td>1.250000</td>\n",
              "      <td>13983.000000</td>\n",
              "    </tr>\n",
              "    <tr>\n",
              "      <th>50%</th>\n",
              "      <td>3.000000</td>\n",
              "      <td>2.100000</td>\n",
              "      <td>15311.000000</td>\n",
              "    </tr>\n",
              "    <tr>\n",
              "      <th>75%</th>\n",
              "      <td>10.000000</td>\n",
              "      <td>4.210000</td>\n",
              "      <td>16799.000000</td>\n",
              "    </tr>\n",
              "    <tr>\n",
              "      <th>max</th>\n",
              "      <td>19152.000000</td>\n",
              "      <td>25111.090000</td>\n",
              "      <td>18287.000000</td>\n",
              "    </tr>\n",
              "  </tbody>\n",
              "</table>\n",
              "</div>"
            ],
            "text/plain": [
              "            Quantity          Price    Customer ID\n",
              "count  525461.000000  525461.000000  417534.000000\n",
              "mean       10.337667       4.688834   15360.645478\n",
              "std       107.424110     146.126914    1680.811316\n",
              "min     -9600.000000  -53594.360000   12346.000000\n",
              "25%         1.000000       1.250000   13983.000000\n",
              "50%         3.000000       2.100000   15311.000000\n",
              "75%        10.000000       4.210000   16799.000000\n",
              "max     19152.000000   25111.090000   18287.000000"
            ]
          },
          "metadata": {
            "tags": []
          },
          "execution_count": 17
        }
      ]
    },
    {
      "cell_type": "code",
      "metadata": {
        "id": "TPr3-s0xJb9X",
        "outputId": "e2558f09-351d-4d5c-d754-0144cad7f17b",
        "colab": {
          "base_uri": "https://localhost:8080/",
          "height": 85
        }
      },
      "source": [
        "# We see there are invoices with negative quantity, are they returned orders? --> No\n",
        "\n",
        "pd.merge(retail[retail[\"Quantity\"] >= 0],\n",
        "         retail[retail[\"Quantity\"] < 0],\n",
        "         on=\"Invoice\",\n",
        "         how=\"inner\")"
      ],
      "execution_count": null,
      "outputs": [
        {
          "output_type": "execute_result",
          "data": {
            "text/html": [
              "<div>\n",
              "<style scoped>\n",
              "    .dataframe tbody tr th:only-of-type {\n",
              "        vertical-align: middle;\n",
              "    }\n",
              "\n",
              "    .dataframe tbody tr th {\n",
              "        vertical-align: top;\n",
              "    }\n",
              "\n",
              "    .dataframe thead th {\n",
              "        text-align: right;\n",
              "    }\n",
              "</style>\n",
              "<table border=\"1\" class=\"dataframe\">\n",
              "  <thead>\n",
              "    <tr style=\"text-align: right;\">\n",
              "      <th></th>\n",
              "      <th>Invoice</th>\n",
              "      <th>StockCode_x</th>\n",
              "      <th>Description_x</th>\n",
              "      <th>Quantity_x</th>\n",
              "      <th>InvoiceDate_x</th>\n",
              "      <th>Price_x</th>\n",
              "      <th>Customer ID_x</th>\n",
              "      <th>Country_x</th>\n",
              "      <th>StockCode_y</th>\n",
              "      <th>Description_y</th>\n",
              "      <th>Quantity_y</th>\n",
              "      <th>InvoiceDate_y</th>\n",
              "      <th>Price_y</th>\n",
              "      <th>Customer ID_y</th>\n",
              "      <th>Country_y</th>\n",
              "    </tr>\n",
              "  </thead>\n",
              "  <tbody>\n",
              "  </tbody>\n",
              "</table>\n",
              "</div>"
            ],
            "text/plain": [
              "Empty DataFrame\n",
              "Columns: [Invoice, StockCode_x, Description_x, Quantity_x, InvoiceDate_x, Price_x, Customer ID_x, Country_x, StockCode_y, Description_y, Quantity_y, InvoiceDate_y, Price_y, Customer ID_y, Country_y]\n",
              "Index: []"
            ]
          },
          "metadata": {
            "tags": []
          },
          "execution_count": 18
        }
      ]
    },
    {
      "cell_type": "code",
      "metadata": {
        "id": "on563f4JKUsz",
        "outputId": "cbf1010b-c26e-4062-cc55-67e1278bbf99",
        "colab": {
          "base_uri": "https://localhost:8080/",
          "height": 85
        }
      },
      "source": [
        "# Do the same for price\n",
        "\n",
        "pd.merge(retail[retail[\"Price\"] >= 0],\n",
        "         retail[retail[\"Price\"] < 0],\n",
        "         on=\"Invoice\",\n",
        "         how=\"inner\")"
      ],
      "execution_count": null,
      "outputs": [
        {
          "output_type": "execute_result",
          "data": {
            "text/html": [
              "<div>\n",
              "<style scoped>\n",
              "    .dataframe tbody tr th:only-of-type {\n",
              "        vertical-align: middle;\n",
              "    }\n",
              "\n",
              "    .dataframe tbody tr th {\n",
              "        vertical-align: top;\n",
              "    }\n",
              "\n",
              "    .dataframe thead th {\n",
              "        text-align: right;\n",
              "    }\n",
              "</style>\n",
              "<table border=\"1\" class=\"dataframe\">\n",
              "  <thead>\n",
              "    <tr style=\"text-align: right;\">\n",
              "      <th></th>\n",
              "      <th>Invoice</th>\n",
              "      <th>StockCode_x</th>\n",
              "      <th>Description_x</th>\n",
              "      <th>Quantity_x</th>\n",
              "      <th>InvoiceDate_x</th>\n",
              "      <th>Price_x</th>\n",
              "      <th>Customer ID_x</th>\n",
              "      <th>Country_x</th>\n",
              "      <th>StockCode_y</th>\n",
              "      <th>Description_y</th>\n",
              "      <th>Quantity_y</th>\n",
              "      <th>InvoiceDate_y</th>\n",
              "      <th>Price_y</th>\n",
              "      <th>Customer ID_y</th>\n",
              "      <th>Country_y</th>\n",
              "    </tr>\n",
              "  </thead>\n",
              "  <tbody>\n",
              "  </tbody>\n",
              "</table>\n",
              "</div>"
            ],
            "text/plain": [
              "Empty DataFrame\n",
              "Columns: [Invoice, StockCode_x, Description_x, Quantity_x, InvoiceDate_x, Price_x, Customer ID_x, Country_x, StockCode_y, Description_y, Quantity_y, InvoiceDate_y, Price_y, Customer ID_y, Country_y]\n",
              "Index: []"
            ]
          },
          "metadata": {
            "tags": []
          },
          "execution_count": 19
        }
      ]
    },
    {
      "cell_type": "code",
      "metadata": {
        "id": "oIjayHjWKhQc",
        "outputId": "b7c9be46-af8d-4d32-de3f-8f865bdfca82",
        "colab": {
          "base_uri": "https://localhost:8080/"
        }
      },
      "source": [
        "retail.info()"
      ],
      "execution_count": null,
      "outputs": [
        {
          "output_type": "stream",
          "text": [
            "<class 'pandas.core.frame.DataFrame'>\n",
            "RangeIndex: 525461 entries, 0 to 525460\n",
            "Data columns (total 8 columns):\n",
            " #   Column       Non-Null Count   Dtype         \n",
            "---  ------       --------------   -----         \n",
            " 0   Invoice      525461 non-null  object        \n",
            " 1   StockCode    525461 non-null  object        \n",
            " 2   Description  522533 non-null  object        \n",
            " 3   Quantity     525461 non-null  int64         \n",
            " 4   InvoiceDate  525461 non-null  datetime64[ns]\n",
            " 5   Price        525461 non-null  float64       \n",
            " 6   Customer ID  417534 non-null  float64       \n",
            " 7   Country      525461 non-null  object        \n",
            "dtypes: datetime64[ns](1), float64(2), int64(1), object(4)\n",
            "memory usage: 32.1+ MB\n"
          ],
          "name": "stdout"
        }
      ]
    },
    {
      "cell_type": "markdown",
      "metadata": {
        "id": "3lPJvMv6Kpow"
      },
      "source": [
        "We see many missing values for the `Customer ID` columns and some null item description. Here, we will need to clean the missing `Customer ID` only as the missing item description is not a big issue for the final dataset.\n",
        "\n",
        "**Question: Can we use imputation to fill the missing customer ID?**"
      ]
    },
    {
      "cell_type": "code",
      "metadata": {
        "id": "0u9KentbLZkp"
      },
      "source": [
        "# backup = retail.copy()\n",
        "retail = backup.copy()"
      ],
      "execution_count": null,
      "outputs": []
    },
    {
      "cell_type": "code",
      "metadata": {
        "id": "tsHVWOffKnhe"
      },
      "source": [
        "retail = retail[(pd.isnull(retail[\"Customer ID\"])==False) & (retail[\"Quantity\"]>=0) & (retail[\"Price\"]>=0)]\n"
      ],
      "execution_count": null,
      "outputs": []
    },
    {
      "cell_type": "code",
      "metadata": {
        "id": "2a9Y2S6gL1wB",
        "outputId": "98ec444f-b22a-45f4-a519-84d9736410a5",
        "colab": {
          "base_uri": "https://localhost:8080/",
          "height": 288
        }
      },
      "source": [
        "retail.describe()"
      ],
      "execution_count": null,
      "outputs": [
        {
          "output_type": "execute_result",
          "data": {
            "text/html": [
              "<div>\n",
              "<style scoped>\n",
              "    .dataframe tbody tr th:only-of-type {\n",
              "        vertical-align: middle;\n",
              "    }\n",
              "\n",
              "    .dataframe tbody tr th {\n",
              "        vertical-align: top;\n",
              "    }\n",
              "\n",
              "    .dataframe thead th {\n",
              "        text-align: right;\n",
              "    }\n",
              "</style>\n",
              "<table border=\"1\" class=\"dataframe\">\n",
              "  <thead>\n",
              "    <tr style=\"text-align: right;\">\n",
              "      <th></th>\n",
              "      <th>Quantity</th>\n",
              "      <th>Price</th>\n",
              "      <th>Customer ID</th>\n",
              "    </tr>\n",
              "  </thead>\n",
              "  <tbody>\n",
              "    <tr>\n",
              "      <th>count</th>\n",
              "      <td>407695.000000</td>\n",
              "      <td>407695.000000</td>\n",
              "      <td>407695.000000</td>\n",
              "    </tr>\n",
              "    <tr>\n",
              "      <th>mean</th>\n",
              "      <td>13.586686</td>\n",
              "      <td>3.294188</td>\n",
              "      <td>15368.504107</td>\n",
              "    </tr>\n",
              "    <tr>\n",
              "      <th>std</th>\n",
              "      <td>96.842229</td>\n",
              "      <td>34.756655</td>\n",
              "      <td>1679.795700</td>\n",
              "    </tr>\n",
              "    <tr>\n",
              "      <th>min</th>\n",
              "      <td>1.000000</td>\n",
              "      <td>0.000000</td>\n",
              "      <td>12346.000000</td>\n",
              "    </tr>\n",
              "    <tr>\n",
              "      <th>25%</th>\n",
              "      <td>2.000000</td>\n",
              "      <td>1.250000</td>\n",
              "      <td>13997.000000</td>\n",
              "    </tr>\n",
              "    <tr>\n",
              "      <th>50%</th>\n",
              "      <td>5.000000</td>\n",
              "      <td>1.950000</td>\n",
              "      <td>15321.000000</td>\n",
              "    </tr>\n",
              "    <tr>\n",
              "      <th>75%</th>\n",
              "      <td>12.000000</td>\n",
              "      <td>3.750000</td>\n",
              "      <td>16812.000000</td>\n",
              "    </tr>\n",
              "    <tr>\n",
              "      <th>max</th>\n",
              "      <td>19152.000000</td>\n",
              "      <td>10953.500000</td>\n",
              "      <td>18287.000000</td>\n",
              "    </tr>\n",
              "  </tbody>\n",
              "</table>\n",
              "</div>"
            ],
            "text/plain": [
              "            Quantity          Price    Customer ID\n",
              "count  407695.000000  407695.000000  407695.000000\n",
              "mean       13.586686       3.294188   15368.504107\n",
              "std        96.842229      34.756655    1679.795700\n",
              "min         1.000000       0.000000   12346.000000\n",
              "25%         2.000000       1.250000   13997.000000\n",
              "50%         5.000000       1.950000   15321.000000\n",
              "75%        12.000000       3.750000   16812.000000\n",
              "max     19152.000000   10953.500000   18287.000000"
            ]
          },
          "metadata": {
            "tags": []
          },
          "execution_count": 22
        }
      ]
    },
    {
      "cell_type": "markdown",
      "metadata": {
        "id": "Z1JRy4pGMrju"
      },
      "source": [
        "### Summarize data to have RFM features"
      ]
    },
    {
      "cell_type": "code",
      "metadata": {
        "id": "Vzc64vNwMzZt",
        "outputId": "82b4d3c9-2424-4d57-d5d2-6ba450ad7172",
        "colab": {
          "base_uri": "https://localhost:8080/",
          "height": 302
        }
      },
      "source": [
        "retail.head()"
      ],
      "execution_count": null,
      "outputs": [
        {
          "output_type": "execute_result",
          "data": {
            "text/html": [
              "<div>\n",
              "<style scoped>\n",
              "    .dataframe tbody tr th:only-of-type {\n",
              "        vertical-align: middle;\n",
              "    }\n",
              "\n",
              "    .dataframe tbody tr th {\n",
              "        vertical-align: top;\n",
              "    }\n",
              "\n",
              "    .dataframe thead th {\n",
              "        text-align: right;\n",
              "    }\n",
              "</style>\n",
              "<table border=\"1\" class=\"dataframe\">\n",
              "  <thead>\n",
              "    <tr style=\"text-align: right;\">\n",
              "      <th></th>\n",
              "      <th>Invoice</th>\n",
              "      <th>StockCode</th>\n",
              "      <th>Description</th>\n",
              "      <th>Quantity</th>\n",
              "      <th>InvoiceDate</th>\n",
              "      <th>Price</th>\n",
              "      <th>Customer ID</th>\n",
              "      <th>Country</th>\n",
              "    </tr>\n",
              "  </thead>\n",
              "  <tbody>\n",
              "    <tr>\n",
              "      <th>0</th>\n",
              "      <td>489434</td>\n",
              "      <td>85048</td>\n",
              "      <td>15CM CHRISTMAS GLASS BALL 20 LIGHTS</td>\n",
              "      <td>12</td>\n",
              "      <td>2009-12-01</td>\n",
              "      <td>6.95</td>\n",
              "      <td>13085.0</td>\n",
              "      <td>United Kingdom</td>\n",
              "    </tr>\n",
              "    <tr>\n",
              "      <th>1</th>\n",
              "      <td>489434</td>\n",
              "      <td>79323P</td>\n",
              "      <td>PINK CHERRY LIGHTS</td>\n",
              "      <td>12</td>\n",
              "      <td>2009-12-01</td>\n",
              "      <td>6.75</td>\n",
              "      <td>13085.0</td>\n",
              "      <td>United Kingdom</td>\n",
              "    </tr>\n",
              "    <tr>\n",
              "      <th>2</th>\n",
              "      <td>489434</td>\n",
              "      <td>79323W</td>\n",
              "      <td>WHITE CHERRY LIGHTS</td>\n",
              "      <td>12</td>\n",
              "      <td>2009-12-01</td>\n",
              "      <td>6.75</td>\n",
              "      <td>13085.0</td>\n",
              "      <td>United Kingdom</td>\n",
              "    </tr>\n",
              "    <tr>\n",
              "      <th>3</th>\n",
              "      <td>489434</td>\n",
              "      <td>22041</td>\n",
              "      <td>RECORD FRAME 7\" SINGLE SIZE</td>\n",
              "      <td>48</td>\n",
              "      <td>2009-12-01</td>\n",
              "      <td>2.10</td>\n",
              "      <td>13085.0</td>\n",
              "      <td>United Kingdom</td>\n",
              "    </tr>\n",
              "    <tr>\n",
              "      <th>4</th>\n",
              "      <td>489434</td>\n",
              "      <td>21232</td>\n",
              "      <td>STRAWBERRY CERAMIC TRINKET BOX</td>\n",
              "      <td>24</td>\n",
              "      <td>2009-12-01</td>\n",
              "      <td>1.25</td>\n",
              "      <td>13085.0</td>\n",
              "      <td>United Kingdom</td>\n",
              "    </tr>\n",
              "  </tbody>\n",
              "</table>\n",
              "</div>"
            ],
            "text/plain": [
              "  Invoice StockCode  ... Customer ID         Country\n",
              "0  489434     85048  ...     13085.0  United Kingdom\n",
              "1  489434    79323P  ...     13085.0  United Kingdom\n",
              "2  489434    79323W  ...     13085.0  United Kingdom\n",
              "3  489434     22041  ...     13085.0  United Kingdom\n",
              "4  489434     21232  ...     13085.0  United Kingdom\n",
              "\n",
              "[5 rows x 8 columns]"
            ]
          },
          "metadata": {
            "tags": []
          },
          "execution_count": 23
        }
      ]
    },
    {
      "cell_type": "code",
      "metadata": {
        "id": "jB0m9I43NXOM"
      },
      "source": [
        "# Calculate the sub-total for each Stock in each order \n",
        "\n",
        "retail[\"StockValue\"] = retail[\"Quantity\"] * retail[\"Price\"]"
      ],
      "execution_count": null,
      "outputs": []
    },
    {
      "cell_type": "code",
      "metadata": {
        "id": "T-abo6chQsZy",
        "outputId": "b7253352-45dc-4485-e9ea-dc87df96ac7e",
        "colab": {
          "base_uri": "https://localhost:8080/",
          "height": 438
        }
      },
      "source": [
        "retail.groupby(\"Customer ID\").agg({\"Invoice\":\"nunique\",\n",
        "                                   \"InvoiceDate\":[\"min\",\"max\"],\n",
        "                                   \"StockValue\":\"sum\"}).reset_index()"
      ],
      "execution_count": null,
      "outputs": [
        {
          "output_type": "execute_result",
          "data": {
            "text/html": [
              "<div>\n",
              "<style scoped>\n",
              "    .dataframe tbody tr th:only-of-type {\n",
              "        vertical-align: middle;\n",
              "    }\n",
              "\n",
              "    .dataframe tbody tr th {\n",
              "        vertical-align: top;\n",
              "    }\n",
              "\n",
              "    .dataframe thead tr th {\n",
              "        text-align: left;\n",
              "    }\n",
              "</style>\n",
              "<table border=\"1\" class=\"dataframe\">\n",
              "  <thead>\n",
              "    <tr>\n",
              "      <th></th>\n",
              "      <th>Customer ID</th>\n",
              "      <th>Invoice</th>\n",
              "      <th colspan=\"2\" halign=\"left\">InvoiceDate</th>\n",
              "      <th>StockValue</th>\n",
              "    </tr>\n",
              "    <tr>\n",
              "      <th></th>\n",
              "      <th></th>\n",
              "      <th>nunique</th>\n",
              "      <th>min</th>\n",
              "      <th>max</th>\n",
              "      <th>sum</th>\n",
              "    </tr>\n",
              "  </thead>\n",
              "  <tbody>\n",
              "    <tr>\n",
              "      <th>0</th>\n",
              "      <td>12346.0</td>\n",
              "      <td>11</td>\n",
              "      <td>2009-12-14</td>\n",
              "      <td>2010-06-28</td>\n",
              "      <td>372.86</td>\n",
              "    </tr>\n",
              "    <tr>\n",
              "      <th>1</th>\n",
              "      <td>12347.0</td>\n",
              "      <td>2</td>\n",
              "      <td>2010-10-31</td>\n",
              "      <td>2010-12-07</td>\n",
              "      <td>1323.32</td>\n",
              "    </tr>\n",
              "    <tr>\n",
              "      <th>2</th>\n",
              "      <td>12348.0</td>\n",
              "      <td>1</td>\n",
              "      <td>2010-09-27</td>\n",
              "      <td>2010-09-27</td>\n",
              "      <td>222.16</td>\n",
              "    </tr>\n",
              "    <tr>\n",
              "      <th>3</th>\n",
              "      <td>12349.0</td>\n",
              "      <td>3</td>\n",
              "      <td>2010-04-29</td>\n",
              "      <td>2010-10-28</td>\n",
              "      <td>2671.14</td>\n",
              "    </tr>\n",
              "    <tr>\n",
              "      <th>4</th>\n",
              "      <td>12351.0</td>\n",
              "      <td>1</td>\n",
              "      <td>2010-11-29</td>\n",
              "      <td>2010-11-29</td>\n",
              "      <td>300.93</td>\n",
              "    </tr>\n",
              "    <tr>\n",
              "      <th>...</th>\n",
              "      <td>...</td>\n",
              "      <td>...</td>\n",
              "      <td>...</td>\n",
              "      <td>...</td>\n",
              "      <td>...</td>\n",
              "    </tr>\n",
              "    <tr>\n",
              "      <th>4309</th>\n",
              "      <td>18283.0</td>\n",
              "      <td>6</td>\n",
              "      <td>2010-02-19</td>\n",
              "      <td>2010-11-22</td>\n",
              "      <td>641.77</td>\n",
              "    </tr>\n",
              "    <tr>\n",
              "      <th>4310</th>\n",
              "      <td>18284.0</td>\n",
              "      <td>1</td>\n",
              "      <td>2010-10-04</td>\n",
              "      <td>2010-10-04</td>\n",
              "      <td>461.68</td>\n",
              "    </tr>\n",
              "    <tr>\n",
              "      <th>4311</th>\n",
              "      <td>18285.0</td>\n",
              "      <td>1</td>\n",
              "      <td>2010-02-17</td>\n",
              "      <td>2010-02-17</td>\n",
              "      <td>427.00</td>\n",
              "    </tr>\n",
              "    <tr>\n",
              "      <th>4312</th>\n",
              "      <td>18286.0</td>\n",
              "      <td>2</td>\n",
              "      <td>2009-12-16</td>\n",
              "      <td>2010-08-20</td>\n",
              "      <td>1296.43</td>\n",
              "    </tr>\n",
              "    <tr>\n",
              "      <th>4313</th>\n",
              "      <td>18287.0</td>\n",
              "      <td>4</td>\n",
              "      <td>2010-05-17</td>\n",
              "      <td>2010-11-22</td>\n",
              "      <td>2345.71</td>\n",
              "    </tr>\n",
              "  </tbody>\n",
              "</table>\n",
              "<p>4314 rows × 5 columns</p>\n",
              "</div>"
            ],
            "text/plain": [
              "     Customer ID Invoice InvoiceDate            StockValue\n",
              "                 nunique         min        max        sum\n",
              "0        12346.0      11  2009-12-14 2010-06-28     372.86\n",
              "1        12347.0       2  2010-10-31 2010-12-07    1323.32\n",
              "2        12348.0       1  2010-09-27 2010-09-27     222.16\n",
              "3        12349.0       3  2010-04-29 2010-10-28    2671.14\n",
              "4        12351.0       1  2010-11-29 2010-11-29     300.93\n",
              "...          ...     ...         ...        ...        ...\n",
              "4309     18283.0       6  2010-02-19 2010-11-22     641.77\n",
              "4310     18284.0       1  2010-10-04 2010-10-04     461.68\n",
              "4311     18285.0       1  2010-02-17 2010-02-17     427.00\n",
              "4312     18286.0       2  2009-12-16 2010-08-20    1296.43\n",
              "4313     18287.0       4  2010-05-17 2010-11-22    2345.71\n",
              "\n",
              "[4314 rows x 5 columns]"
            ]
          },
          "metadata": {
            "tags": []
          },
          "execution_count": 25
        }
      ]
    },
    {
      "cell_type": "code",
      "metadata": {
        "id": "Q2S7ytjjMrBh"
      },
      "source": [
        "## Calculate the number of distinct order, the number of days since last purchase, the total monetary value\n",
        "\n",
        "rfm = retail.groupby(\"Customer ID\").agg({\"Invoice\":\"nunique\",\n",
        "                                   \"InvoiceDate\":[\"min\",\"max\"],\n",
        "                                   \"StockValue\":\"sum\"}).reset_index()"
      ],
      "execution_count": null,
      "outputs": []
    },
    {
      "cell_type": "code",
      "metadata": {
        "id": "6kAP90z4Q73H"
      },
      "source": [
        "rfm.columns = [\"customer_id\",\"frequency\",\"first_order_date\",\"last_order_date\",\"monetary\"]"
      ],
      "execution_count": null,
      "outputs": []
    },
    {
      "cell_type": "code",
      "metadata": {
        "id": "1f-7G3SlQkSm",
        "outputId": "7b893f45-9c63-4b47-dbca-9cc630efbc96",
        "colab": {
          "base_uri": "https://localhost:8080/",
          "height": 198
        }
      },
      "source": [
        "rfm.head()"
      ],
      "execution_count": null,
      "outputs": [
        {
          "output_type": "execute_result",
          "data": {
            "text/html": [
              "<div>\n",
              "<style scoped>\n",
              "    .dataframe tbody tr th:only-of-type {\n",
              "        vertical-align: middle;\n",
              "    }\n",
              "\n",
              "    .dataframe tbody tr th {\n",
              "        vertical-align: top;\n",
              "    }\n",
              "\n",
              "    .dataframe thead th {\n",
              "        text-align: right;\n",
              "    }\n",
              "</style>\n",
              "<table border=\"1\" class=\"dataframe\">\n",
              "  <thead>\n",
              "    <tr style=\"text-align: right;\">\n",
              "      <th></th>\n",
              "      <th>customer_id</th>\n",
              "      <th>frequency</th>\n",
              "      <th>first_order_date</th>\n",
              "      <th>last_order_date</th>\n",
              "      <th>monetary</th>\n",
              "    </tr>\n",
              "  </thead>\n",
              "  <tbody>\n",
              "    <tr>\n",
              "      <th>0</th>\n",
              "      <td>12346.0</td>\n",
              "      <td>11</td>\n",
              "      <td>2009-12-14</td>\n",
              "      <td>2010-06-28</td>\n",
              "      <td>372.86</td>\n",
              "    </tr>\n",
              "    <tr>\n",
              "      <th>1</th>\n",
              "      <td>12347.0</td>\n",
              "      <td>2</td>\n",
              "      <td>2010-10-31</td>\n",
              "      <td>2010-12-07</td>\n",
              "      <td>1323.32</td>\n",
              "    </tr>\n",
              "    <tr>\n",
              "      <th>2</th>\n",
              "      <td>12348.0</td>\n",
              "      <td>1</td>\n",
              "      <td>2010-09-27</td>\n",
              "      <td>2010-09-27</td>\n",
              "      <td>222.16</td>\n",
              "    </tr>\n",
              "    <tr>\n",
              "      <th>3</th>\n",
              "      <td>12349.0</td>\n",
              "      <td>3</td>\n",
              "      <td>2010-04-29</td>\n",
              "      <td>2010-10-28</td>\n",
              "      <td>2671.14</td>\n",
              "    </tr>\n",
              "    <tr>\n",
              "      <th>4</th>\n",
              "      <td>12351.0</td>\n",
              "      <td>1</td>\n",
              "      <td>2010-11-29</td>\n",
              "      <td>2010-11-29</td>\n",
              "      <td>300.93</td>\n",
              "    </tr>\n",
              "  </tbody>\n",
              "</table>\n",
              "</div>"
            ],
            "text/plain": [
              "   customer_id  frequency first_order_date last_order_date  monetary\n",
              "0      12346.0         11       2009-12-14      2010-06-28    372.86\n",
              "1      12347.0          2       2010-10-31      2010-12-07   1323.32\n",
              "2      12348.0          1       2010-09-27      2010-09-27    222.16\n",
              "3      12349.0          3       2010-04-29      2010-10-28   2671.14\n",
              "4      12351.0          1       2010-11-29      2010-11-29    300.93"
            ]
          },
          "metadata": {
            "tags": []
          },
          "execution_count": 28
        }
      ]
    },
    {
      "cell_type": "code",
      "metadata": {
        "id": "mATMQts1TM-L"
      },
      "source": [
        "## Compute the recency\n",
        "from datetime import datetime\n",
        "\n",
        "# datetime(2010,12,9) \n",
        "\n",
        "rfm[\"recency\"] = [(datetime(2010,12,9) - x).days for x in rfm[\"last_order_date\"]]"
      ],
      "execution_count": null,
      "outputs": []
    },
    {
      "cell_type": "code",
      "metadata": {
        "id": "A9YKAxGORuzP",
        "outputId": "2efc2922-422d-456d-f0c7-c108df2f921f",
        "colab": {
          "base_uri": "https://localhost:8080/",
          "height": 139
        }
      },
      "source": [
        "rfm.dtypes"
      ],
      "execution_count": null,
      "outputs": [
        {
          "output_type": "execute_result",
          "data": {
            "text/plain": [
              "customer_id                float64\n",
              "frequency                    int64\n",
              "first_order_date    datetime64[ns]\n",
              "last_order_date     datetime64[ns]\n",
              "monetary                   float64\n",
              "recency                      int64\n",
              "dtype: object"
            ]
          },
          "metadata": {
            "tags": []
          },
          "execution_count": 105
        }
      ]
    },
    {
      "cell_type": "code",
      "metadata": {
        "id": "WNfBvwvORZk-",
        "outputId": "57efd9ef-cd53-4a15-9999-a6a448a7fea5",
        "colab": {
          "base_uri": "https://localhost:8080/",
          "height": 288
        }
      },
      "source": [
        "rfm.describe()"
      ],
      "execution_count": null,
      "outputs": [
        {
          "output_type": "execute_result",
          "data": {
            "text/html": [
              "<div>\n",
              "<style scoped>\n",
              "    .dataframe tbody tr th:only-of-type {\n",
              "        vertical-align: middle;\n",
              "    }\n",
              "\n",
              "    .dataframe tbody tr th {\n",
              "        vertical-align: top;\n",
              "    }\n",
              "\n",
              "    .dataframe thead th {\n",
              "        text-align: right;\n",
              "    }\n",
              "</style>\n",
              "<table border=\"1\" class=\"dataframe\">\n",
              "  <thead>\n",
              "    <tr style=\"text-align: right;\">\n",
              "      <th></th>\n",
              "      <th>customer_id</th>\n",
              "      <th>frequency</th>\n",
              "      <th>monetary</th>\n",
              "      <th>recency</th>\n",
              "    </tr>\n",
              "  </thead>\n",
              "  <tbody>\n",
              "    <tr>\n",
              "      <th>count</th>\n",
              "      <td>4314.000000</td>\n",
              "      <td>4314.000000</td>\n",
              "      <td>4314.000000</td>\n",
              "      <td>4314.000000</td>\n",
              "    </tr>\n",
              "    <tr>\n",
              "      <th>mean</th>\n",
              "      <td>15348.880389</td>\n",
              "      <td>4.454103</td>\n",
              "      <td>2047.288659</td>\n",
              "      <td>90.269819</td>\n",
              "    </tr>\n",
              "    <tr>\n",
              "      <th>std</th>\n",
              "      <td>1700.930104</td>\n",
              "      <td>8.168658</td>\n",
              "      <td>8912.523243</td>\n",
              "      <td>96.944304</td>\n",
              "    </tr>\n",
              "    <tr>\n",
              "      <th>min</th>\n",
              "      <td>12346.000000</td>\n",
              "      <td>1.000000</td>\n",
              "      <td>0.000000</td>\n",
              "      <td>0.000000</td>\n",
              "    </tr>\n",
              "    <tr>\n",
              "      <th>25%</th>\n",
              "      <td>13883.250000</td>\n",
              "      <td>1.000000</td>\n",
              "      <td>307.950000</td>\n",
              "      <td>17.000000</td>\n",
              "    </tr>\n",
              "    <tr>\n",
              "      <th>50%</th>\n",
              "      <td>15348.500000</td>\n",
              "      <td>2.000000</td>\n",
              "      <td>705.550000</td>\n",
              "      <td>52.000000</td>\n",
              "    </tr>\n",
              "    <tr>\n",
              "      <th>75%</th>\n",
              "      <td>16833.750000</td>\n",
              "      <td>5.000000</td>\n",
              "      <td>1722.802500</td>\n",
              "      <td>135.000000</td>\n",
              "    </tr>\n",
              "    <tr>\n",
              "      <th>max</th>\n",
              "      <td>18287.000000</td>\n",
              "      <td>205.000000</td>\n",
              "      <td>349164.350000</td>\n",
              "      <td>373.000000</td>\n",
              "    </tr>\n",
              "  </tbody>\n",
              "</table>\n",
              "</div>"
            ],
            "text/plain": [
              "        customer_id    frequency       monetary      recency\n",
              "count   4314.000000  4314.000000    4314.000000  4314.000000\n",
              "mean   15348.880389     4.454103    2047.288659    90.269819\n",
              "std     1700.930104     8.168658    8912.523243    96.944304\n",
              "min    12346.000000     1.000000       0.000000     0.000000\n",
              "25%    13883.250000     1.000000     307.950000    17.000000\n",
              "50%    15348.500000     2.000000     705.550000    52.000000\n",
              "75%    16833.750000     5.000000    1722.802500   135.000000\n",
              "max    18287.000000   205.000000  349164.350000   373.000000"
            ]
          },
          "metadata": {
            "tags": []
          },
          "execution_count": 30
        }
      ]
    },
    {
      "cell_type": "markdown",
      "metadata": {
        "id": "V8qAM_ExgZJr"
      },
      "source": [
        "### Remove outliers"
      ]
    },
    {
      "cell_type": "code",
      "metadata": {
        "id": "nZV9gQxihFTB",
        "outputId": "32e06f25-9a14-45c8-806a-5615e9cc611c",
        "colab": {
          "base_uri": "https://localhost:8080/",
          "height": 319
        }
      },
      "source": [
        "rfm[[\"frequency\",\"recency\",\"monetary\"]].quantile([0.01, 0.05, 0.1, 0.25, 0.50, 0.75, 0.9, 0.95, 0.99])"
      ],
      "execution_count": null,
      "outputs": [
        {
          "output_type": "execute_result",
          "data": {
            "text/html": [
              "<div>\n",
              "<style scoped>\n",
              "    .dataframe tbody tr th:only-of-type {\n",
              "        vertical-align: middle;\n",
              "    }\n",
              "\n",
              "    .dataframe tbody tr th {\n",
              "        vertical-align: top;\n",
              "    }\n",
              "\n",
              "    .dataframe thead th {\n",
              "        text-align: right;\n",
              "    }\n",
              "</style>\n",
              "<table border=\"1\" class=\"dataframe\">\n",
              "  <thead>\n",
              "    <tr style=\"text-align: right;\">\n",
              "      <th></th>\n",
              "      <th>frequency</th>\n",
              "      <th>recency</th>\n",
              "      <th>monetary</th>\n",
              "    </tr>\n",
              "  </thead>\n",
              "  <tbody>\n",
              "    <tr>\n",
              "      <th>0.01</th>\n",
              "      <td>1.0</td>\n",
              "      <td>0.0</td>\n",
              "      <td>39.9565</td>\n",
              "    </tr>\n",
              "    <tr>\n",
              "      <th>0.05</th>\n",
              "      <td>1.0</td>\n",
              "      <td>2.0</td>\n",
              "      <td>110.4365</td>\n",
              "    </tr>\n",
              "    <tr>\n",
              "      <th>0.10</th>\n",
              "      <td>1.0</td>\n",
              "      <td>7.0</td>\n",
              "      <td>155.4850</td>\n",
              "    </tr>\n",
              "    <tr>\n",
              "      <th>0.25</th>\n",
              "      <td>1.0</td>\n",
              "      <td>17.0</td>\n",
              "      <td>307.9500</td>\n",
              "    </tr>\n",
              "    <tr>\n",
              "      <th>0.50</th>\n",
              "      <td>2.0</td>\n",
              "      <td>52.0</td>\n",
              "      <td>705.5500</td>\n",
              "    </tr>\n",
              "    <tr>\n",
              "      <th>0.75</th>\n",
              "      <td>5.0</td>\n",
              "      <td>135.0</td>\n",
              "      <td>1722.8025</td>\n",
              "    </tr>\n",
              "    <tr>\n",
              "      <th>0.90</th>\n",
              "      <td>9.0</td>\n",
              "      <td>254.0</td>\n",
              "      <td>3796.5950</td>\n",
              "    </tr>\n",
              "    <tr>\n",
              "      <th>0.95</th>\n",
              "      <td>13.0</td>\n",
              "      <td>303.0</td>\n",
              "      <td>6235.1205</td>\n",
              "    </tr>\n",
              "    <tr>\n",
              "      <th>0.99</th>\n",
              "      <td>31.0</td>\n",
              "      <td>367.0</td>\n",
              "      <td>20136.7825</td>\n",
              "    </tr>\n",
              "  </tbody>\n",
              "</table>\n",
              "</div>"
            ],
            "text/plain": [
              "      frequency  recency    monetary\n",
              "0.01        1.0      0.0     39.9565\n",
              "0.05        1.0      2.0    110.4365\n",
              "0.10        1.0      7.0    155.4850\n",
              "0.25        1.0     17.0    307.9500\n",
              "0.50        2.0     52.0    705.5500\n",
              "0.75        5.0    135.0   1722.8025\n",
              "0.90        9.0    254.0   3796.5950\n",
              "0.95       13.0    303.0   6235.1205\n",
              "0.99       31.0    367.0  20136.7825"
            ]
          },
          "metadata": {
            "tags": []
          },
          "execution_count": 31
        }
      ]
    },
    {
      "cell_type": "code",
      "metadata": {
        "id": "EpMTxSLUgYeb"
      },
      "source": [
        "quantiles = rfm[[\"frequency\",\"recency\",\"monetary\"]].quantile([0.01, 0.05, 0.1, 0.25, 0.50, 0.75, 0.9, 0.95, 0.99])"
      ],
      "execution_count": null,
      "outputs": []
    },
    {
      "cell_type": "code",
      "metadata": {
        "id": "U2GW_6Segwpq"
      },
      "source": [
        "rfm = rfm[(rfm[\"monetary\"] < quantiles.loc[0.95, \"monetary\"]) & (rfm[\"recency\"] < quantiles.loc[0.95, \"recency\"]) & (rfm[\"frequency\"] < quantiles.loc[0.99, \"frequency\"])]"
      ],
      "execution_count": null,
      "outputs": []
    },
    {
      "cell_type": "markdown",
      "metadata": {
        "id": "zLi26jcvBiJJ"
      },
      "source": [
        "## Get familiar with k-means clustering"
      ]
    },
    {
      "cell_type": "code",
      "metadata": {
        "id": "RatKEiSiMbkk"
      },
      "source": [
        "from sklearn.cluster import KMeans\n",
        "from sklearn import metrics\n",
        "from scipy.spatial.distance import cdist"
      ],
      "execution_count": null,
      "outputs": []
    },
    {
      "cell_type": "code",
      "metadata": {
        "id": "eishhLiIMmQb"
      },
      "source": [
        "X = rfm[[\"recency\",\"frequency\",\"monetary\"]]"
      ],
      "execution_count": null,
      "outputs": []
    },
    {
      "cell_type": "code",
      "metadata": {
        "id": "DnKNYVhiVpxS",
        "outputId": "f11fbf54-929e-4453-d92a-f8c1ea239eb4",
        "colab": {
          "base_uri": "https://localhost:8080/",
          "height": 288
        }
      },
      "source": [
        "X.describe()"
      ],
      "execution_count": null,
      "outputs": [
        {
          "output_type": "execute_result",
          "data": {
            "text/html": [
              "<div>\n",
              "<style scoped>\n",
              "    .dataframe tbody tr th:only-of-type {\n",
              "        vertical-align: middle;\n",
              "    }\n",
              "\n",
              "    .dataframe tbody tr th {\n",
              "        vertical-align: top;\n",
              "    }\n",
              "\n",
              "    .dataframe thead th {\n",
              "        text-align: right;\n",
              "    }\n",
              "</style>\n",
              "<table border=\"1\" class=\"dataframe\">\n",
              "  <thead>\n",
              "    <tr style=\"text-align: right;\">\n",
              "      <th></th>\n",
              "      <th>recency</th>\n",
              "      <th>frequency</th>\n",
              "      <th>monetary</th>\n",
              "    </tr>\n",
              "  </thead>\n",
              "  <tbody>\n",
              "    <tr>\n",
              "      <th>count</th>\n",
              "      <td>3471.000000</td>\n",
              "      <td>3471.000000</td>\n",
              "      <td>3471.000000</td>\n",
              "    </tr>\n",
              "    <tr>\n",
              "      <th>mean</th>\n",
              "      <td>71.171997</td>\n",
              "      <td>3.196773</td>\n",
              "      <td>990.700993</td>\n",
              "    </tr>\n",
              "    <tr>\n",
              "      <th>std</th>\n",
              "      <td>67.474282</td>\n",
              "      <td>2.546660</td>\n",
              "      <td>880.693616</td>\n",
              "    </tr>\n",
              "    <tr>\n",
              "      <th>min</th>\n",
              "      <td>0.000000</td>\n",
              "      <td>1.000000</td>\n",
              "      <td>3.750000</td>\n",
              "    </tr>\n",
              "    <tr>\n",
              "      <th>25%</th>\n",
              "      <td>18.000000</td>\n",
              "      <td>1.000000</td>\n",
              "      <td>317.095000</td>\n",
              "    </tr>\n",
              "    <tr>\n",
              "      <th>50%</th>\n",
              "      <td>49.000000</td>\n",
              "      <td>2.000000</td>\n",
              "      <td>673.600000</td>\n",
              "    </tr>\n",
              "    <tr>\n",
              "      <th>75%</th>\n",
              "      <td>102.000000</td>\n",
              "      <td>4.000000</td>\n",
              "      <td>1406.720000</td>\n",
              "    </tr>\n",
              "    <tr>\n",
              "      <th>max</th>\n",
              "      <td>255.000000</td>\n",
              "      <td>16.000000</td>\n",
              "      <td>3943.600000</td>\n",
              "    </tr>\n",
              "  </tbody>\n",
              "</table>\n",
              "</div>"
            ],
            "text/plain": [
              "           recency    frequency     monetary\n",
              "count  3471.000000  3471.000000  3471.000000\n",
              "mean     71.171997     3.196773   990.700993\n",
              "std      67.474282     2.546660   880.693616\n",
              "min       0.000000     1.000000     3.750000\n",
              "25%      18.000000     1.000000   317.095000\n",
              "50%      49.000000     2.000000   673.600000\n",
              "75%     102.000000     4.000000  1406.720000\n",
              "max     255.000000    16.000000  3943.600000"
            ]
          },
          "metadata": {
            "tags": []
          },
          "execution_count": 44
        }
      ]
    },
    {
      "cell_type": "code",
      "metadata": {
        "id": "TqimuSNaUI78",
        "outputId": "04504dd8-070e-45be-caca-300174736626",
        "colab": {
          "base_uri": "https://localhost:8080/",
          "height": 198
        }
      },
      "source": [
        "X.head()"
      ],
      "execution_count": null,
      "outputs": [
        {
          "output_type": "execute_result",
          "data": {
            "text/html": [
              "<div>\n",
              "<style scoped>\n",
              "    .dataframe tbody tr th:only-of-type {\n",
              "        vertical-align: middle;\n",
              "    }\n",
              "\n",
              "    .dataframe tbody tr th {\n",
              "        vertical-align: top;\n",
              "    }\n",
              "\n",
              "    .dataframe thead th {\n",
              "        text-align: right;\n",
              "    }\n",
              "</style>\n",
              "<table border=\"1\" class=\"dataframe\">\n",
              "  <thead>\n",
              "    <tr style=\"text-align: right;\">\n",
              "      <th></th>\n",
              "      <th>recency</th>\n",
              "      <th>frequency</th>\n",
              "      <th>monetary</th>\n",
              "    </tr>\n",
              "  </thead>\n",
              "  <tbody>\n",
              "    <tr>\n",
              "      <th>0</th>\n",
              "      <td>164</td>\n",
              "      <td>11</td>\n",
              "      <td>372.86</td>\n",
              "    </tr>\n",
              "    <tr>\n",
              "      <th>1</th>\n",
              "      <td>2</td>\n",
              "      <td>2</td>\n",
              "      <td>1323.32</td>\n",
              "    </tr>\n",
              "    <tr>\n",
              "      <th>2</th>\n",
              "      <td>73</td>\n",
              "      <td>1</td>\n",
              "      <td>222.16</td>\n",
              "    </tr>\n",
              "    <tr>\n",
              "      <th>3</th>\n",
              "      <td>42</td>\n",
              "      <td>3</td>\n",
              "      <td>2671.14</td>\n",
              "    </tr>\n",
              "    <tr>\n",
              "      <th>4</th>\n",
              "      <td>10</td>\n",
              "      <td>1</td>\n",
              "      <td>300.93</td>\n",
              "    </tr>\n",
              "  </tbody>\n",
              "</table>\n",
              "</div>"
            ],
            "text/plain": [
              "   recency  frequency  monetary\n",
              "0      164         11    372.86\n",
              "1        2          2   1323.32\n",
              "2       73          1    222.16\n",
              "3       42          3   2671.14\n",
              "4       10          1    300.93"
            ]
          },
          "metadata": {
            "tags": []
          },
          "execution_count": 36
        }
      ]
    },
    {
      "cell_type": "code",
      "metadata": {
        "id": "D_xn241IBwdc",
        "outputId": "1264cad5-5339-408e-e620-6ab40ae54512",
        "colab": {
          "base_uri": "https://localhost:8080/",
          "height": 69
        }
      },
      "source": [
        "# Use scikit-learn to fit a k-means clustering\n",
        "kmeans = KMeans(n_clusters=3, random_state=0).fit(X)\n",
        "\n",
        "kmeans.cluster_centers_"
      ],
      "execution_count": null,
      "outputs": [
        {
          "output_type": "execute_result",
          "data": {
            "text/plain": [
              "array([[3.37580175e+01, 9.54810496e+00, 4.23065433e+03],\n",
              "       [9.64486381e+01, 2.03501946e+00, 4.75025316e+02],\n",
              "       [5.09070248e+01, 5.50826446e+00, 1.88822011e+03]])"
            ]
          },
          "metadata": {
            "tags": []
          },
          "execution_count": 190
        }
      ]
    },
    {
      "cell_type": "code",
      "metadata": {
        "id": "YmBsFpUPUSyc",
        "outputId": "376ae65f-9fcd-45ed-fd62-f8b40dc2e7d3",
        "colab": {
          "base_uri": "https://localhost:8080/",
          "height": 34
        }
      },
      "source": [
        "kmeans.labels_"
      ],
      "execution_count": null,
      "outputs": [
        {
          "output_type": "execute_result",
          "data": {
            "text/plain": [
              "array([1, 2, 1, ..., 1, 2, 2], dtype=int32)"
            ]
          },
          "metadata": {
            "tags": []
          },
          "execution_count": 191
        }
      ]
    },
    {
      "cell_type": "code",
      "metadata": {
        "id": "l4XfLB7lV6sG",
        "outputId": "ab8ae616-cd89-4bba-a310-a23afe334a89",
        "colab": {
          "base_uri": "https://localhost:8080/",
          "height": 206
        }
      },
      "source": [
        "X_w_labels = pd.concat([X, pd.Series(kmeans.labels_)], axis = 1)\n",
        "X_w_labels.columns = [\"recency\",\"frequency\",\"monetary\",\"cluster\"]\n",
        "X_w_labels.head()"
      ],
      "execution_count": null,
      "outputs": [
        {
          "output_type": "execute_result",
          "data": {
            "text/html": [
              "<div>\n",
              "<style scoped>\n",
              "    .dataframe tbody tr th:only-of-type {\n",
              "        vertical-align: middle;\n",
              "    }\n",
              "\n",
              "    .dataframe tbody tr th {\n",
              "        vertical-align: top;\n",
              "    }\n",
              "\n",
              "    .dataframe thead th {\n",
              "        text-align: right;\n",
              "    }\n",
              "</style>\n",
              "<table border=\"1\" class=\"dataframe\">\n",
              "  <thead>\n",
              "    <tr style=\"text-align: right;\">\n",
              "      <th></th>\n",
              "      <th>recency</th>\n",
              "      <th>frequency</th>\n",
              "      <th>monetary</th>\n",
              "      <th>cluster</th>\n",
              "    </tr>\n",
              "  </thead>\n",
              "  <tbody>\n",
              "    <tr>\n",
              "      <th>0</th>\n",
              "      <td>164.0</td>\n",
              "      <td>11.0</td>\n",
              "      <td>372.86</td>\n",
              "      <td>1.0</td>\n",
              "    </tr>\n",
              "    <tr>\n",
              "      <th>1</th>\n",
              "      <td>2.0</td>\n",
              "      <td>2.0</td>\n",
              "      <td>1323.32</td>\n",
              "      <td>2.0</td>\n",
              "    </tr>\n",
              "    <tr>\n",
              "      <th>2</th>\n",
              "      <td>73.0</td>\n",
              "      <td>1.0</td>\n",
              "      <td>222.16</td>\n",
              "      <td>1.0</td>\n",
              "    </tr>\n",
              "    <tr>\n",
              "      <th>3</th>\n",
              "      <td>42.0</td>\n",
              "      <td>3.0</td>\n",
              "      <td>2671.14</td>\n",
              "      <td>2.0</td>\n",
              "    </tr>\n",
              "    <tr>\n",
              "      <th>4</th>\n",
              "      <td>10.0</td>\n",
              "      <td>1.0</td>\n",
              "      <td>300.93</td>\n",
              "      <td>1.0</td>\n",
              "    </tr>\n",
              "  </tbody>\n",
              "</table>\n",
              "</div>"
            ],
            "text/plain": [
              "   recency  frequency  monetary  cluster\n",
              "0    164.0       11.0    372.86      1.0\n",
              "1      2.0        2.0   1323.32      2.0\n",
              "2     73.0        1.0    222.16      1.0\n",
              "3     42.0        3.0   2671.14      2.0\n",
              "4     10.0        1.0    300.93      1.0"
            ]
          },
          "metadata": {
            "tags": []
          },
          "execution_count": 157
        }
      ]
    },
    {
      "cell_type": "code",
      "metadata": {
        "id": "VD2_UU-HYWg7",
        "outputId": "7d8093f4-8801-4066-9c3d-1164f3d32549",
        "colab": {
          "base_uri": "https://localhost:8080/",
          "height": 175
        }
      },
      "source": [
        "X_w_labels.groupby(\"cluster\").agg({\"cluster\":\"count\",\n",
        "                                  \"recency\":\"mean\",\n",
        "                                   \"frequency\":\"mean\",\n",
        "                                   \"monetary\":\"mean\"})"
      ],
      "execution_count": null,
      "outputs": [
        {
          "output_type": "execute_result",
          "data": {
            "text/html": [
              "<div>\n",
              "<style scoped>\n",
              "    .dataframe tbody tr th:only-of-type {\n",
              "        vertical-align: middle;\n",
              "    }\n",
              "\n",
              "    .dataframe tbody tr th {\n",
              "        vertical-align: top;\n",
              "    }\n",
              "\n",
              "    .dataframe thead th {\n",
              "        text-align: right;\n",
              "    }\n",
              "</style>\n",
              "<table border=\"1\" class=\"dataframe\">\n",
              "  <thead>\n",
              "    <tr style=\"text-align: right;\">\n",
              "      <th></th>\n",
              "      <th>cluster</th>\n",
              "      <th>recency</th>\n",
              "      <th>frequency</th>\n",
              "      <th>monetary</th>\n",
              "    </tr>\n",
              "    <tr>\n",
              "      <th>cluster</th>\n",
              "      <th></th>\n",
              "      <th></th>\n",
              "      <th></th>\n",
              "      <th></th>\n",
              "    </tr>\n",
              "  </thead>\n",
              "  <tbody>\n",
              "    <tr>\n",
              "      <th>0.0</th>\n",
              "      <td>343</td>\n",
              "      <td>76.452145</td>\n",
              "      <td>3.689769</td>\n",
              "      <td>1311.090693</td>\n",
              "    </tr>\n",
              "    <tr>\n",
              "      <th>1.0</th>\n",
              "      <td>2570</td>\n",
              "      <td>78.803356</td>\n",
              "      <td>3.546472</td>\n",
              "      <td>1167.396070</td>\n",
              "    </tr>\n",
              "    <tr>\n",
              "      <th>2.0</th>\n",
              "      <td>968</td>\n",
              "      <td>81.135731</td>\n",
              "      <td>3.482599</td>\n",
              "      <td>1172.538729</td>\n",
              "    </tr>\n",
              "  </tbody>\n",
              "</table>\n",
              "</div>"
            ],
            "text/plain": [
              "         cluster    recency  frequency     monetary\n",
              "cluster                                            \n",
              "0.0          343  76.452145   3.689769  1311.090693\n",
              "1.0         2570  78.803356   3.546472  1167.396070\n",
              "2.0          968  81.135731   3.482599  1172.538729"
            ]
          },
          "metadata": {
            "tags": []
          },
          "execution_count": 158
        }
      ]
    },
    {
      "cell_type": "code",
      "metadata": {
        "id": "u1j-m0ZfX2Vt",
        "outputId": "6f6fd760-a073-47aa-d713-db4e4443ea60",
        "colab": {
          "base_uri": "https://localhost:8080/",
          "height": 206
        }
      },
      "source": [
        "X_w_labels.groupby(\"cluster\").agg({\"cluster\":\"count\",\n",
        "                                  \"recency\":[\"min\",np.median,\"mean\",\"max\"],\n",
        "                                   \"frequency\":[\"min\",np.median,\"mean\",\"max\"],\n",
        "                                   \"monetary\":[\"min\",np.median,\"mean\",\"max\"]})"
      ],
      "execution_count": null,
      "outputs": [
        {
          "output_type": "execute_result",
          "data": {
            "text/html": [
              "<div>\n",
              "<style scoped>\n",
              "    .dataframe tbody tr th:only-of-type {\n",
              "        vertical-align: middle;\n",
              "    }\n",
              "\n",
              "    .dataframe tbody tr th {\n",
              "        vertical-align: top;\n",
              "    }\n",
              "\n",
              "    .dataframe thead tr th {\n",
              "        text-align: left;\n",
              "    }\n",
              "\n",
              "    .dataframe thead tr:last-of-type th {\n",
              "        text-align: right;\n",
              "    }\n",
              "</style>\n",
              "<table border=\"1\" class=\"dataframe\">\n",
              "  <thead>\n",
              "    <tr>\n",
              "      <th></th>\n",
              "      <th>cluster</th>\n",
              "      <th colspan=\"4\" halign=\"left\">recency</th>\n",
              "      <th colspan=\"4\" halign=\"left\">frequency</th>\n",
              "      <th colspan=\"4\" halign=\"left\">monetary</th>\n",
              "    </tr>\n",
              "    <tr>\n",
              "      <th></th>\n",
              "      <th>count</th>\n",
              "      <th>min</th>\n",
              "      <th>median</th>\n",
              "      <th>mean</th>\n",
              "      <th>max</th>\n",
              "      <th>min</th>\n",
              "      <th>median</th>\n",
              "      <th>mean</th>\n",
              "      <th>max</th>\n",
              "      <th>min</th>\n",
              "      <th>median</th>\n",
              "      <th>mean</th>\n",
              "      <th>max</th>\n",
              "    </tr>\n",
              "    <tr>\n",
              "      <th>cluster</th>\n",
              "      <th></th>\n",
              "      <th></th>\n",
              "      <th></th>\n",
              "      <th></th>\n",
              "      <th></th>\n",
              "      <th></th>\n",
              "      <th></th>\n",
              "      <th></th>\n",
              "      <th></th>\n",
              "      <th></th>\n",
              "      <th></th>\n",
              "      <th></th>\n",
              "      <th></th>\n",
              "    </tr>\n",
              "  </thead>\n",
              "  <tbody>\n",
              "    <tr>\n",
              "      <th>0.0</th>\n",
              "      <td>343</td>\n",
              "      <td>0.0</td>\n",
              "      <td>50.0</td>\n",
              "      <td>76.452145</td>\n",
              "      <td>301.0</td>\n",
              "      <td>1.0</td>\n",
              "      <td>3.0</td>\n",
              "      <td>3.689769</td>\n",
              "      <td>17.0</td>\n",
              "      <td>7.49</td>\n",
              "      <td>800.670</td>\n",
              "      <td>1311.090693</td>\n",
              "      <td>6191.32</td>\n",
              "    </tr>\n",
              "    <tr>\n",
              "      <th>1.0</th>\n",
              "      <td>2570</td>\n",
              "      <td>0.0</td>\n",
              "      <td>50.0</td>\n",
              "      <td>78.803356</td>\n",
              "      <td>302.0</td>\n",
              "      <td>1.0</td>\n",
              "      <td>2.0</td>\n",
              "      <td>3.546472</td>\n",
              "      <td>41.0</td>\n",
              "      <td>0.00</td>\n",
              "      <td>717.070</td>\n",
              "      <td>1167.396070</td>\n",
              "      <td>6226.43</td>\n",
              "    </tr>\n",
              "    <tr>\n",
              "      <th>2.0</th>\n",
              "      <td>968</td>\n",
              "      <td>0.0</td>\n",
              "      <td>52.0</td>\n",
              "      <td>81.135731</td>\n",
              "      <td>302.0</td>\n",
              "      <td>1.0</td>\n",
              "      <td>2.0</td>\n",
              "      <td>3.482599</td>\n",
              "      <td>33.0</td>\n",
              "      <td>6.30</td>\n",
              "      <td>692.625</td>\n",
              "      <td>1172.538729</td>\n",
              "      <td>6174.47</td>\n",
              "    </tr>\n",
              "  </tbody>\n",
              "</table>\n",
              "</div>"
            ],
            "text/plain": [
              "        cluster recency         ... monetary                      \n",
              "          count     min median  ...   median         mean      max\n",
              "cluster                         ...                               \n",
              "0.0         343     0.0   50.0  ...  800.670  1311.090693  6191.32\n",
              "1.0        2570     0.0   50.0  ...  717.070  1167.396070  6226.43\n",
              "2.0         968     0.0   52.0  ...  692.625  1172.538729  6174.47\n",
              "\n",
              "[3 rows x 13 columns]"
            ]
          },
          "metadata": {
            "tags": []
          },
          "execution_count": 159
        }
      ]
    },
    {
      "cell_type": "markdown",
      "metadata": {
        "id": "HzJReyRtlaU6"
      },
      "source": [
        "### Plotting"
      ]
    },
    {
      "cell_type": "code",
      "metadata": {
        "id": "4YZwMMfnVc3o"
      },
      "source": [
        "cluster_centers = kmeans.cluster_centers_"
      ],
      "execution_count": null,
      "outputs": []
    },
    {
      "cell_type": "code",
      "metadata": {
        "id": "DZskwiyZXogX",
        "outputId": "8d14cc83-5bfc-4cd6-cfe6-82c4d0999dde",
        "colab": {
          "base_uri": "https://localhost:8080/",
          "height": 534
        }
      },
      "source": [
        "sns.scatterplot(x=\"recency\", y=\"frequency\", data=X_w_labels, hue=\"cluster\")\n",
        "\n",
        "plt.scatter(cluster_centers[:,0], cluster_centers[:,1], marker='*', c='red', s=150)"
      ],
      "execution_count": null,
      "outputs": [
        {
          "output_type": "execute_result",
          "data": {
            "text/plain": [
              "<matplotlib.collections.PathCollection at 0x7ff9e49b4f98>"
            ]
          },
          "metadata": {
            "tags": []
          },
          "execution_count": 163
        },
        {
          "output_type": "display_data",
          "data": {
            "image/png": "[encoded data removed]",
            "text/plain": [
              "<Figure size 842.4x595.44 with 1 Axes>"
            ]
          },
          "metadata": {
            "tags": []
          }
        }
      ]
    },
    {
      "cell_type": "code",
      "metadata": {
        "id": "KJduwiriWzSr",
        "outputId": "893878bf-5da5-424a-bb3f-de985380c1e6",
        "colab": {
          "base_uri": "https://localhost:8080/",
          "height": 534
        }
      },
      "source": [
        "sns.scatterplot(x=\"frequency\", y=\"monetary\", data=X_w_labels, hue=\"cluster\")\n",
        "\n",
        "plt.scatter(cluster_centers[:,1], cluster_centers[:,2], marker='*', c='red', s=150)"
      ],
      "execution_count": null,
      "outputs": [
        {
          "output_type": "execute_result",
          "data": {
            "text/plain": [
              "<matplotlib.collections.PathCollection at 0x7ff9ebc437f0>"
            ]
          },
          "metadata": {
            "tags": []
          },
          "execution_count": 164
        },
        {
          "output_type": "display_data",
          "data": {
            "image/png": "[encoded data removed]",
            "text/plain": [
              "<Figure size 842.4x595.44 with 1 Axes>"
            ]
          },
          "metadata": {
            "tags": []
          }
        }
      ]
    },
    {
      "cell_type": "code",
      "metadata": {
        "id": "OKG89Z-aiXva",
        "outputId": "fda273f8-e214-4174-9d55-ba997e7d7a9e",
        "colab": {
          "base_uri": "https://localhost:8080/",
          "height": 534
        }
      },
      "source": [
        "sns.scatterplot(x=\"monetary\", y=\"recency\", data=X_w_labels, hue=\"cluster\")\n",
        "\n",
        "plt.scatter(cluster_centers[:,2], cluster_centers[:,0], marker='*', c='red', s=150)"
      ],
      "execution_count": null,
      "outputs": [
        {
          "output_type": "execute_result",
          "data": {
            "text/plain": [
              "<matplotlib.collections.PathCollection at 0x7ff9e054ca90>"
            ]
          },
          "metadata": {
            "tags": []
          },
          "execution_count": 172
        },
        {
          "output_type": "display_data",
          "data": {
            "image/png": "[encoded data removed]",
            "text/plain": [
              "<Figure size 842.4x595.44 with 1 Axes>"
            ]
          },
          "metadata": {
            "tags": []
          }
        }
      ]
    },
    {
      "cell_type": "markdown",
      "metadata": {
        "id": "uCsbwNrWitNQ"
      },
      "source": [
        "### Rescale dataset"
      ]
    },
    {
      "cell_type": "code",
      "metadata": {
        "id": "k1zHnN3EXHQ8"
      },
      "source": [
        "from sklearn import preprocessing\n",
        "\n",
        "X_scaled = preprocessing.scale(X)"
      ],
      "execution_count": null,
      "outputs": []
    },
    {
      "cell_type": "code",
      "metadata": {
        "id": "9pi6Q-3UZXtM"
      },
      "source": [
        "X_scaled = pd.DataFrame(X_scaled)\n",
        "X_scaled.columns = [\"recency\",\"frequency\",\"monetary\"]"
      ],
      "execution_count": null,
      "outputs": []
    },
    {
      "cell_type": "code",
      "metadata": {
        "id": "Scem9HZaZoqU",
        "outputId": "16627b23-8356-4110-ae4f-92ed2483cfa1",
        "colab": {
          "base_uri": "https://localhost:8080/",
          "height": 206
        }
      },
      "source": [
        "X_scaled.head()"
      ],
      "execution_count": null,
      "outputs": [
        {
          "output_type": "execute_result",
          "data": {
            "text/html": [
              "<div>\n",
              "<style scoped>\n",
              "    .dataframe tbody tr th:only-of-type {\n",
              "        vertical-align: middle;\n",
              "    }\n",
              "\n",
              "    .dataframe tbody tr th {\n",
              "        vertical-align: top;\n",
              "    }\n",
              "\n",
              "    .dataframe thead th {\n",
              "        text-align: right;\n",
              "    }\n",
              "</style>\n",
              "<table border=\"1\" class=\"dataframe\">\n",
              "  <thead>\n",
              "    <tr style=\"text-align: right;\">\n",
              "      <th></th>\n",
              "      <th>recency</th>\n",
              "      <th>frequency</th>\n",
              "      <th>monetary</th>\n",
              "    </tr>\n",
              "  </thead>\n",
              "  <tbody>\n",
              "    <tr>\n",
              "      <th>0</th>\n",
              "      <td>1.056111</td>\n",
              "      <td>2.124252</td>\n",
              "      <td>-0.649278</td>\n",
              "    </tr>\n",
              "    <tr>\n",
              "      <th>1</th>\n",
              "      <td>-0.969799</td>\n",
              "      <td>-0.447246</td>\n",
              "      <td>0.135289</td>\n",
              "    </tr>\n",
              "    <tr>\n",
              "      <th>2</th>\n",
              "      <td>-0.081900</td>\n",
              "      <td>-0.732968</td>\n",
              "      <td>-0.773675</td>\n",
              "    </tr>\n",
              "    <tr>\n",
              "      <th>3</th>\n",
              "      <td>-0.469574</td>\n",
              "      <td>-0.161524</td>\n",
              "      <td>1.247861</td>\n",
              "    </tr>\n",
              "    <tr>\n",
              "      <th>4</th>\n",
              "      <td>-0.869754</td>\n",
              "      <td>-0.732968</td>\n",
              "      <td>-0.708653</td>\n",
              "    </tr>\n",
              "  </tbody>\n",
              "</table>\n",
              "</div>"
            ],
            "text/plain": [
              "    recency  frequency  monetary\n",
              "0  1.056111   2.124252 -0.649278\n",
              "1 -0.969799  -0.447246  0.135289\n",
              "2 -0.081900  -0.732968 -0.773675\n",
              "3 -0.469574  -0.161524  1.247861\n",
              "4 -0.869754  -0.732968 -0.708653"
            ]
          },
          "metadata": {
            "tags": []
          },
          "execution_count": 167
        }
      ]
    },
    {
      "cell_type": "markdown",
      "metadata": {
        "id": "FTsyMXy3BpJt"
      },
      "source": [
        "## Choosing the number of clusters"
      ]
    },
    {
      "cell_type": "markdown",
      "metadata": {
        "id": "cdawxlSEUiTc"
      },
      "source": [
        "### Using elbow method"
      ]
    },
    {
      "cell_type": "code",
      "metadata": {
        "id": "8pcQG1KRndZ6"
      },
      "source": [
        "X_scaled = X"
      ],
      "execution_count": null,
      "outputs": []
    },
    {
      "cell_type": "code",
      "metadata": {
        "id": "ZOfXuIafBwF6",
        "outputId": "a5aab252-b17a-4660-9a6f-4571081b816c",
        "colab": {
          "base_uri": "https://localhost:8080/",
          "height": 533
        }
      },
      "source": [
        "# k-means --> determine optimal k using elbow method\n",
        "distortions = []\n",
        "K = range(1,11)\n",
        "\n",
        "\n",
        "for k in K:\n",
        "    kmeanModel = KMeans(n_clusters=k).fit(X_scaled)\n",
        "    kmeanModel.fit(X_scaled)\n",
        "    distortions.append(sum(np.min(cdist(X_scaled, kmeanModel.cluster_centers_, 'euclidean'), axis=1)) / X_scaled.shape[0])\n",
        "\n",
        "\n",
        "# Plot the elbow\n",
        "plt.plot(K, distortions, 'bo-')\n",
        "plt.xlabel('k')\n",
        "plt.ylabel('Distortion')\n",
        "plt.title('The Elbow Method showing the optimal k')\n",
        "plt.show()"
      ],
      "execution_count": null,
      "outputs": [
        {
          "output_type": "display_data",
          "data": {
            "image/png": "[encoded data removed]",
            "text/plain": [
              "<Figure size 842.4x595.44 with 1 Axes>"
            ]
          },
          "metadata": {
            "tags": []
          }
        }
      ]
    },
    {
      "cell_type": "markdown",
      "metadata": {
        "id": "shQjxOh8Ukae"
      },
      "source": [
        "### Using silhouette method"
      ]
    },
    {
      "cell_type": "code",
      "metadata": {
        "id": "dxMTWbVgUkya"
      },
      "source": [
        "from sklearn.metrics import silhouette_samples, silhouette_score"
      ],
      "execution_count": null,
      "outputs": []
    },
    {
      "cell_type": "code",
      "metadata": {
        "id": "FdqQQoNbaOtf",
        "outputId": "8f063715-e5ef-40f4-84b9-91d5fc12274a",
        "colab": {
          "base_uri": "https://localhost:8080/",
          "height": 34
        }
      },
      "source": [
        "k = 3\n",
        "\n",
        "kmeanModel = KMeans(n_clusters=k).fit(X_scaled)\n",
        "# kmeanModel.fit(X_scaled)\n",
        "\n",
        "cluster_labels = kmeanModel.fit_predict(X_scaled)\n",
        "\n",
        "silhouette_score(X_scaled, cluster_labels)"
      ],
      "execution_count": null,
      "outputs": [
        {
          "output_type": "execute_result",
          "data": {
            "text/plain": [
              "0.6422049877313734"
            ]
          },
          "metadata": {
            "tags": []
          },
          "execution_count": 236
        }
      ]
    },
    {
      "cell_type": "code",
      "metadata": {
        "id": "daSs59G2a2c8",
        "outputId": "4ff04459-cb2b-4539-f0d6-57d3c33d0c1e",
        "colab": {
          "base_uri": "https://localhost:8080/",
          "height": 689
        }
      },
      "source": [
        "silhouettes = []\n",
        "K = range(2,11)\n",
        "\n",
        "\n",
        "for k in K:\n",
        "    kmeanModel = KMeans(n_clusters=k).fit(X_scaled)\n",
        "    # kmeanModel.fit(X_scaled)\n",
        "    cluster_labels = kmeanModel.fit_predict(X_scaled)\n",
        "    avg_silhouette = silhouette_score(X_scaled, cluster_labels)\n",
        "    silhouettes.append(avg_silhouette)\n",
        "    print(\"Number of clusters: {}, Silhouette score: {}\".format(k, avg_silhouette))\n",
        "\n",
        "\n",
        "# Plot the elbow\n",
        "plt.plot(K, silhouettes, 'bo-')\n",
        "plt.xlabel('k')\n",
        "plt.ylabel('Silhouette Score')\n",
        "plt.title('Using Silhouette Score to choose optimal k')\n",
        "plt.show()"
      ],
      "execution_count": null,
      "outputs": [
        {
          "output_type": "stream",
          "text": [
            "Number of clusters: 2, Silhouette score: 0.7053116329286306\n",
            "Number of clusters: 3, Silhouette score: 0.6422049877313734\n",
            "Number of clusters: 4, Silhouette score: 0.5973954046373525\n",
            "Number of clusters: 5, Silhouette score: 0.5811238106769315\n",
            "Number of clusters: 6, Silhouette score: 0.5319152012344601\n",
            "Number of clusters: 7, Silhouette score: 0.531040101217579\n",
            "Number of clusters: 8, Silhouette score: 0.4894079137513895\n",
            "Number of clusters: 9, Silhouette score: 0.47746380997995597\n",
            "Number of clusters: 10, Silhouette score: 0.4780162940584947\n"
          ],
          "name": "stdout"
        },
        {
          "output_type": "display_data",
          "data": {
            "image/png": "[encoded data removed]",
            "text/plain": [
              "<Figure size 842.4x595.44 with 1 Axes>"
            ]
          },
          "metadata": {
            "tags": []
          }
        }
      ]
    },
    {
      "cell_type": "markdown",
      "metadata": {
        "id": "e8Xps-GPBsb-"
      },
      "source": [
        "## Cluster EDA"
      ]
    },
    {
      "cell_type": "code",
      "metadata": {
        "id": "UUjSB62cltC4"
      },
      "source": [
        "X = rfm[[\"recency\",\"frequency\",\"monetary\"]]"
      ],
      "execution_count": null,
      "outputs": []
    },
    {
      "cell_type": "code",
      "metadata": {
        "id": "qCnN8dOgpQSu",
        "outputId": "ccdffa39-fb40-4232-ba01-b8e9ade08a67",
        "colab": {
          "base_uri": "https://localhost:8080/",
          "height": 112
        }
      },
      "source": [
        "X.agg([\"mean\",\"std\"], axis=0)"
      ],
      "execution_count": null,
      "outputs": [
        {
          "output_type": "execute_result",
          "data": {
            "text/html": [
              "<div>\n",
              "<style scoped>\n",
              "    .dataframe tbody tr th:only-of-type {\n",
              "        vertical-align: middle;\n",
              "    }\n",
              "\n",
              "    .dataframe tbody tr th {\n",
              "        vertical-align: top;\n",
              "    }\n",
              "\n",
              "    .dataframe thead th {\n",
              "        text-align: right;\n",
              "    }\n",
              "</style>\n",
              "<table border=\"1\" class=\"dataframe\">\n",
              "  <thead>\n",
              "    <tr style=\"text-align: right;\">\n",
              "      <th></th>\n",
              "      <th>recency</th>\n",
              "      <th>frequency</th>\n",
              "      <th>monetary</th>\n",
              "    </tr>\n",
              "  </thead>\n",
              "  <tbody>\n",
              "    <tr>\n",
              "      <th>mean</th>\n",
              "      <td>79.549085</td>\n",
              "      <td>3.565318</td>\n",
              "      <td>1159.424519</td>\n",
              "    </tr>\n",
              "    <tr>\n",
              "      <th>std</th>\n",
              "      <td>79.974372</td>\n",
              "      <td>3.500357</td>\n",
              "      <td>1211.601120</td>\n",
              "    </tr>\n",
              "  </tbody>\n",
              "</table>\n",
              "</div>"
            ],
            "text/plain": [
              "        recency  frequency     monetary\n",
              "mean  79.549085   3.565318  1159.424519\n",
              "std   79.974372   3.500357  1211.601120"
            ]
          },
          "metadata": {
            "tags": []
          },
          "execution_count": 227
        }
      ]
    },
    {
      "cell_type": "code",
      "metadata": {
        "id": "A4vL_Vv0liKx"
      },
      "source": [
        "from sklearn import preprocessing\n",
        "\n",
        "# X_scaled = preprocessing.StandardScaler().fit(X)\n",
        "# print(\"Transform means: \", X_scaled.mean_)\n",
        "# print(\"Transform standard deviations: \", X_scaled.scale_)\n",
        "\n",
        "X_scaled = preprocessing.scale(X)"
      ],
      "execution_count": null,
      "outputs": []
    },
    {
      "cell_type": "code",
      "metadata": {
        "id": "Mq_OLeyxlygx",
        "outputId": "35644d8e-9dcf-4c5d-a8ae-8213953027d4",
        "colab": {
          "base_uri": "https://localhost:8080/",
          "height": 206
        }
      },
      "source": [
        "rfm.head()"
      ],
      "execution_count": null,
      "outputs": [
        {
          "output_type": "execute_result",
          "data": {
            "text/html": [
              "<div>\n",
              "<style scoped>\n",
              "    .dataframe tbody tr th:only-of-type {\n",
              "        vertical-align: middle;\n",
              "    }\n",
              "\n",
              "    .dataframe tbody tr th {\n",
              "        vertical-align: top;\n",
              "    }\n",
              "\n",
              "    .dataframe thead th {\n",
              "        text-align: right;\n",
              "    }\n",
              "</style>\n",
              "<table border=\"1\" class=\"dataframe\">\n",
              "  <thead>\n",
              "    <tr style=\"text-align: right;\">\n",
              "      <th></th>\n",
              "      <th>customer_id</th>\n",
              "      <th>frequency</th>\n",
              "      <th>first_order_date</th>\n",
              "      <th>last_order_date</th>\n",
              "      <th>monetary</th>\n",
              "      <th>recency</th>\n",
              "    </tr>\n",
              "  </thead>\n",
              "  <tbody>\n",
              "    <tr>\n",
              "      <th>0</th>\n",
              "      <td>12346.0</td>\n",
              "      <td>11</td>\n",
              "      <td>2009-12-14</td>\n",
              "      <td>2010-06-28</td>\n",
              "      <td>372.86</td>\n",
              "      <td>164</td>\n",
              "    </tr>\n",
              "    <tr>\n",
              "      <th>1</th>\n",
              "      <td>12347.0</td>\n",
              "      <td>2</td>\n",
              "      <td>2010-10-31</td>\n",
              "      <td>2010-12-07</td>\n",
              "      <td>1323.32</td>\n",
              "      <td>2</td>\n",
              "    </tr>\n",
              "    <tr>\n",
              "      <th>2</th>\n",
              "      <td>12348.0</td>\n",
              "      <td>1</td>\n",
              "      <td>2010-09-27</td>\n",
              "      <td>2010-09-27</td>\n",
              "      <td>222.16</td>\n",
              "      <td>73</td>\n",
              "    </tr>\n",
              "    <tr>\n",
              "      <th>3</th>\n",
              "      <td>12349.0</td>\n",
              "      <td>3</td>\n",
              "      <td>2010-04-29</td>\n",
              "      <td>2010-10-28</td>\n",
              "      <td>2671.14</td>\n",
              "      <td>42</td>\n",
              "    </tr>\n",
              "    <tr>\n",
              "      <th>4</th>\n",
              "      <td>12351.0</td>\n",
              "      <td>1</td>\n",
              "      <td>2010-11-29</td>\n",
              "      <td>2010-11-29</td>\n",
              "      <td>300.93</td>\n",
              "      <td>10</td>\n",
              "    </tr>\n",
              "  </tbody>\n",
              "</table>\n",
              "</div>"
            ],
            "text/plain": [
              "   customer_id  frequency first_order_date last_order_date  monetary  recency\n",
              "0      12346.0         11       2009-12-14      2010-06-28    372.86      164\n",
              "1      12347.0          2       2010-10-31      2010-12-07   1323.32        2\n",
              "2      12348.0          1       2010-09-27      2010-09-27    222.16       73\n",
              "3      12349.0          3       2010-04-29      2010-10-28   2671.14       42\n",
              "4      12351.0          1       2010-11-29      2010-11-29    300.93       10"
            ]
          },
          "metadata": {
            "tags": []
          },
          "execution_count": 224
        }
      ]
    },
    {
      "cell_type": "code",
      "metadata": {
        "id": "s0-cSQgAp6sQ",
        "outputId": "b26baa21-f7fc-4807-eedb-5cc9ed2cd8c8",
        "colab": {
          "base_uri": "https://localhost:8080/",
          "height": 206
        }
      },
      "source": [
        "X_scaled.head()"
      ],
      "execution_count": null,
      "outputs": [
        {
          "output_type": "execute_result",
          "data": {
            "text/html": [
              "<div>\n",
              "<style scoped>\n",
              "    .dataframe tbody tr th:only-of-type {\n",
              "        vertical-align: middle;\n",
              "    }\n",
              "\n",
              "    .dataframe tbody tr th {\n",
              "        vertical-align: top;\n",
              "    }\n",
              "\n",
              "    .dataframe thead th {\n",
              "        text-align: right;\n",
              "    }\n",
              "</style>\n",
              "<table border=\"1\" class=\"dataframe\">\n",
              "  <thead>\n",
              "    <tr style=\"text-align: right;\">\n",
              "      <th></th>\n",
              "      <th>recency</th>\n",
              "      <th>frequency</th>\n",
              "      <th>monetary</th>\n",
              "    </tr>\n",
              "  </thead>\n",
              "  <tbody>\n",
              "    <tr>\n",
              "      <th>0</th>\n",
              "      <td>164</td>\n",
              "      <td>11</td>\n",
              "      <td>372.86</td>\n",
              "    </tr>\n",
              "    <tr>\n",
              "      <th>1</th>\n",
              "      <td>2</td>\n",
              "      <td>2</td>\n",
              "      <td>1323.32</td>\n",
              "    </tr>\n",
              "    <tr>\n",
              "      <th>2</th>\n",
              "      <td>73</td>\n",
              "      <td>1</td>\n",
              "      <td>222.16</td>\n",
              "    </tr>\n",
              "    <tr>\n",
              "      <th>3</th>\n",
              "      <td>42</td>\n",
              "      <td>3</td>\n",
              "      <td>2671.14</td>\n",
              "    </tr>\n",
              "    <tr>\n",
              "      <th>4</th>\n",
              "      <td>10</td>\n",
              "      <td>1</td>\n",
              "      <td>300.93</td>\n",
              "    </tr>\n",
              "  </tbody>\n",
              "</table>\n",
              "</div>"
            ],
            "text/plain": [
              "   recency  frequency  monetary\n",
              "0      164         11    372.86\n",
              "1        2          2   1323.32\n",
              "2       73          1    222.16\n",
              "3       42          3   2671.14\n",
              "4       10          1    300.93"
            ]
          },
          "metadata": {
            "tags": []
          },
          "execution_count": 238
        }
      ]
    },
    {
      "cell_type": "code",
      "metadata": {
        "id": "EKRXDgdoBvsr",
        "outputId": "3f26f6b7-a2e3-4f35-c635-4abbda27b48b",
        "colab": {
          "base_uri": "https://localhost:8080/"
        }
      },
      "source": [
        "# Set the number of clusters\n",
        "n_clusters = 5\n",
        "\n",
        "kmeans = KMeans(n_clusters=n_clusters).fit(X_scaled)\n",
        "# kmeans = KMeans(n_clusters=n_clusters, random_state=0).fit(X_scaled)\n",
        "\n",
        "\n",
        "print(\"Cluster centers (scaled data): \\n \", kmeans.cluster_centers_)"
      ],
      "execution_count": null,
      "outputs": [
        {
          "output_type": "stream",
          "text": [
            "Cluster centers (scaled data): \n",
            "  [[6.87433628e+01 2.85176991e+00 7.69026539e+02]\n",
            " [4.14285714e+01 6.19312169e+00 2.26569387e+03]\n",
            " [9.20078403e+01 1.50106914e+00 2.72802488e+02]\n",
            " [4.03009709e+01 7.20388350e+00 3.27559379e+03]\n",
            " [5.49051724e+01 4.46034483e+00 1.43030459e+03]]\n"
          ],
          "name": "stdout"
        }
      ]
    },
    {
      "cell_type": "code",
      "metadata": {
        "id": "EVDc2Jcbk_Rk"
      },
      "source": [
        "X_w_labels = pd.concat([rfm, pd.Series(kmeans.labels_)], axis = 1)"
      ],
      "execution_count": null,
      "outputs": []
    },
    {
      "cell_type": "code",
      "metadata": {
        "id": "BASFeG3xtzqU",
        "outputId": "09a2b65e-78b4-47e9-c639-a3e9a683792d",
        "colab": {
          "base_uri": "https://localhost:8080/",
          "height": 198
        }
      },
      "source": [
        "X_w_labels.head()"
      ],
      "execution_count": null,
      "outputs": [
        {
          "output_type": "execute_result",
          "data": {
            "text/html": [
              "<div>\n",
              "<style scoped>\n",
              "    .dataframe tbody tr th:only-of-type {\n",
              "        vertical-align: middle;\n",
              "    }\n",
              "\n",
              "    .dataframe tbody tr th {\n",
              "        vertical-align: top;\n",
              "    }\n",
              "\n",
              "    .dataframe thead th {\n",
              "        text-align: right;\n",
              "    }\n",
              "</style>\n",
              "<table border=\"1\" class=\"dataframe\">\n",
              "  <thead>\n",
              "    <tr style=\"text-align: right;\">\n",
              "      <th></th>\n",
              "      <th>customer_id</th>\n",
              "      <th>frequency</th>\n",
              "      <th>first_order_date</th>\n",
              "      <th>last_order_date</th>\n",
              "      <th>monetary</th>\n",
              "      <th>recency</th>\n",
              "      <th>0</th>\n",
              "    </tr>\n",
              "  </thead>\n",
              "  <tbody>\n",
              "    <tr>\n",
              "      <th>0</th>\n",
              "      <td>12346.0</td>\n",
              "      <td>11.0</td>\n",
              "      <td>2009-12-14</td>\n",
              "      <td>2010-06-28</td>\n",
              "      <td>372.86</td>\n",
              "      <td>164.0</td>\n",
              "      <td>2.0</td>\n",
              "    </tr>\n",
              "    <tr>\n",
              "      <th>1</th>\n",
              "      <td>12347.0</td>\n",
              "      <td>2.0</td>\n",
              "      <td>2010-10-31</td>\n",
              "      <td>2010-12-07</td>\n",
              "      <td>1323.32</td>\n",
              "      <td>2.0</td>\n",
              "      <td>4.0</td>\n",
              "    </tr>\n",
              "    <tr>\n",
              "      <th>2</th>\n",
              "      <td>12348.0</td>\n",
              "      <td>1.0</td>\n",
              "      <td>2010-09-27</td>\n",
              "      <td>2010-09-27</td>\n",
              "      <td>222.16</td>\n",
              "      <td>73.0</td>\n",
              "      <td>2.0</td>\n",
              "    </tr>\n",
              "    <tr>\n",
              "      <th>3</th>\n",
              "      <td>12349.0</td>\n",
              "      <td>3.0</td>\n",
              "      <td>2010-04-29</td>\n",
              "      <td>2010-10-28</td>\n",
              "      <td>2671.14</td>\n",
              "      <td>42.0</td>\n",
              "      <td>1.0</td>\n",
              "    </tr>\n",
              "    <tr>\n",
              "      <th>4</th>\n",
              "      <td>12351.0</td>\n",
              "      <td>1.0</td>\n",
              "      <td>2010-11-29</td>\n",
              "      <td>2010-11-29</td>\n",
              "      <td>300.93</td>\n",
              "      <td>10.0</td>\n",
              "      <td>2.0</td>\n",
              "    </tr>\n",
              "  </tbody>\n",
              "</table>\n",
              "</div>"
            ],
            "text/plain": [
              "   customer_id  frequency first_order_date  ... monetary  recency    0\n",
              "0      12346.0       11.0       2009-12-14  ...   372.86    164.0  2.0\n",
              "1      12347.0        2.0       2010-10-31  ...  1323.32      2.0  4.0\n",
              "2      12348.0        1.0       2010-09-27  ...   222.16     73.0  2.0\n",
              "3      12349.0        3.0       2010-04-29  ...  2671.14     42.0  1.0\n",
              "4      12351.0        1.0       2010-11-29  ...   300.93     10.0  2.0\n",
              "\n",
              "[5 rows x 7 columns]"
            ]
          },
          "metadata": {
            "tags": []
          },
          "execution_count": 49
        }
      ]
    },
    {
      "cell_type": "code",
      "metadata": {
        "id": "_ZZZvAe8tyUw",
        "outputId": "e685e2f2-2d3f-4ce3-effb-dbf6f09f9d2c",
        "colab": {
          "base_uri": "https://localhost:8080/",
          "height": 198
        }
      },
      "source": [
        "X_w_labels.columns = [\"customer_id\",\"frequency\",\"first_order_date\",\"last_order_date\",\"monetary\",\"recency\",\"cluster\"]\n",
        "\n",
        "X_w_labels.head()"
      ],
      "execution_count": null,
      "outputs": [
        {
          "output_type": "execute_result",
          "data": {
            "text/html": [
              "<div>\n",
              "<style scoped>\n",
              "    .dataframe tbody tr th:only-of-type {\n",
              "        vertical-align: middle;\n",
              "    }\n",
              "\n",
              "    .dataframe tbody tr th {\n",
              "        vertical-align: top;\n",
              "    }\n",
              "\n",
              "    .dataframe thead th {\n",
              "        text-align: right;\n",
              "    }\n",
              "</style>\n",
              "<table border=\"1\" class=\"dataframe\">\n",
              "  <thead>\n",
              "    <tr style=\"text-align: right;\">\n",
              "      <th></th>\n",
              "      <th>customer_id</th>\n",
              "      <th>frequency</th>\n",
              "      <th>first_order_date</th>\n",
              "      <th>last_order_date</th>\n",
              "      <th>monetary</th>\n",
              "      <th>recency</th>\n",
              "      <th>cluster</th>\n",
              "    </tr>\n",
              "  </thead>\n",
              "  <tbody>\n",
              "    <tr>\n",
              "      <th>0</th>\n",
              "      <td>12346.0</td>\n",
              "      <td>11.0</td>\n",
              "      <td>2009-12-14</td>\n",
              "      <td>2010-06-28</td>\n",
              "      <td>372.86</td>\n",
              "      <td>164.0</td>\n",
              "      <td>2.0</td>\n",
              "    </tr>\n",
              "    <tr>\n",
              "      <th>1</th>\n",
              "      <td>12347.0</td>\n",
              "      <td>2.0</td>\n",
              "      <td>2010-10-31</td>\n",
              "      <td>2010-12-07</td>\n",
              "      <td>1323.32</td>\n",
              "      <td>2.0</td>\n",
              "      <td>4.0</td>\n",
              "    </tr>\n",
              "    <tr>\n",
              "      <th>2</th>\n",
              "      <td>12348.0</td>\n",
              "      <td>1.0</td>\n",
              "      <td>2010-09-27</td>\n",
              "      <td>2010-09-27</td>\n",
              "      <td>222.16</td>\n",
              "      <td>73.0</td>\n",
              "      <td>2.0</td>\n",
              "    </tr>\n",
              "    <tr>\n",
              "      <th>3</th>\n",
              "      <td>12349.0</td>\n",
              "      <td>3.0</td>\n",
              "      <td>2010-04-29</td>\n",
              "      <td>2010-10-28</td>\n",
              "      <td>2671.14</td>\n",
              "      <td>42.0</td>\n",
              "      <td>1.0</td>\n",
              "    </tr>\n",
              "    <tr>\n",
              "      <th>4</th>\n",
              "      <td>12351.0</td>\n",
              "      <td>1.0</td>\n",
              "      <td>2010-11-29</td>\n",
              "      <td>2010-11-29</td>\n",
              "      <td>300.93</td>\n",
              "      <td>10.0</td>\n",
              "      <td>2.0</td>\n",
              "    </tr>\n",
              "  </tbody>\n",
              "</table>\n",
              "</div>"
            ],
            "text/plain": [
              "   customer_id  frequency first_order_date  ... monetary  recency  cluster\n",
              "0      12346.0       11.0       2009-12-14  ...   372.86    164.0      2.0\n",
              "1      12347.0        2.0       2010-10-31  ...  1323.32      2.0      4.0\n",
              "2      12348.0        1.0       2010-09-27  ...   222.16     73.0      2.0\n",
              "3      12349.0        3.0       2010-04-29  ...  2671.14     42.0      1.0\n",
              "4      12351.0        1.0       2010-11-29  ...   300.93     10.0      2.0\n",
              "\n",
              "[5 rows x 7 columns]"
            ]
          },
          "metadata": {
            "tags": []
          },
          "execution_count": 50
        }
      ]
    },
    {
      "cell_type": "code",
      "metadata": {
        "id": "2oVcBLk0lJ2_",
        "outputId": "94a31dfc-2a4d-46f3-8c4b-22683ea94bfb",
        "colab": {
          "base_uri": "https://localhost:8080/",
          "height": 198
        }
      },
      "source": [
        "X_w_labels.groupby(\"cluster\").agg({\"customer_id\":\"nunique\",\n",
        "                                  \"recency\":\"mean\",\n",
        "                                   \"frequency\":\"mean\",\n",
        "                                   \"monetary\":\"mean\"}).reset_index()"
      ],
      "execution_count": null,
      "outputs": [
        {
          "output_type": "execute_result",
          "data": {
            "text/html": [
              "<div>\n",
              "<style scoped>\n",
              "    .dataframe tbody tr th:only-of-type {\n",
              "        vertical-align: middle;\n",
              "    }\n",
              "\n",
              "    .dataframe tbody tr th {\n",
              "        vertical-align: top;\n",
              "    }\n",
              "\n",
              "    .dataframe thead th {\n",
              "        text-align: right;\n",
              "    }\n",
              "</style>\n",
              "<table border=\"1\" class=\"dataframe\">\n",
              "  <thead>\n",
              "    <tr style=\"text-align: right;\">\n",
              "      <th></th>\n",
              "      <th>cluster</th>\n",
              "      <th>customer_id</th>\n",
              "      <th>recency</th>\n",
              "      <th>frequency</th>\n",
              "      <th>monetary</th>\n",
              "    </tr>\n",
              "  </thead>\n",
              "  <tbody>\n",
              "    <tr>\n",
              "      <th>0</th>\n",
              "      <td>0.0</td>\n",
              "      <td>725</td>\n",
              "      <td>72.997241</td>\n",
              "      <td>3.228966</td>\n",
              "      <td>1015.377286</td>\n",
              "    </tr>\n",
              "    <tr>\n",
              "      <th>1</th>\n",
              "      <td>1.0</td>\n",
              "      <td>296</td>\n",
              "      <td>70.277027</td>\n",
              "      <td>3.212838</td>\n",
              "      <td>1029.050709</td>\n",
              "    </tr>\n",
              "    <tr>\n",
              "      <th>2</th>\n",
              "      <td>2.0</td>\n",
              "      <td>1134</td>\n",
              "      <td>71.918871</td>\n",
              "      <td>3.150794</td>\n",
              "      <td>987.178166</td>\n",
              "    </tr>\n",
              "    <tr>\n",
              "      <th>3</th>\n",
              "      <td>3.0</td>\n",
              "      <td>162</td>\n",
              "      <td>59.277778</td>\n",
              "      <td>3.246914</td>\n",
              "      <td>1141.163895</td>\n",
              "    </tr>\n",
              "    <tr>\n",
              "      <th>4</th>\n",
              "      <td>4.0</td>\n",
              "      <td>469</td>\n",
              "      <td>72.230277</td>\n",
              "      <td>3.189765</td>\n",
              "      <td>1045.438787</td>\n",
              "    </tr>\n",
              "  </tbody>\n",
              "</table>\n",
              "</div>"
            ],
            "text/plain": [
              "   cluster  customer_id    recency  frequency     monetary\n",
              "0      0.0          725  72.997241   3.228966  1015.377286\n",
              "1      1.0          296  70.277027   3.212838  1029.050709\n",
              "2      2.0         1134  71.918871   3.150794   987.178166\n",
              "3      3.0          162  59.277778   3.246914  1141.163895\n",
              "4      4.0          469  72.230277   3.189765  1045.438787"
            ]
          },
          "metadata": {
            "tags": []
          },
          "execution_count": 51
        }
      ]
    },
    {
      "cell_type": "code",
      "metadata": {
        "id": "KYxXm1IClIMg",
        "outputId": "de230734-da22-4bdc-fe91-7bc33bcd847e",
        "colab": {
          "base_uri": "https://localhost:8080/",
          "height": 248
        }
      },
      "source": [
        "X_w_labels.groupby(\"cluster\").agg({\"customer_id\":\"count\",\n",
        "                                  \"recency\":[\"min\",np.median,\"mean\",\"max\"],\n",
        "                                   \"frequency\":[\"min\",np.median,\"mean\",\"max\"],\n",
        "                                   \"monetary\":[\"min\",np.median,\"mean\",\"max\"]}).reset_index()"
      ],
      "execution_count": null,
      "outputs": [
        {
          "output_type": "execute_result",
          "data": {
            "text/html": [
              "<div>\n",
              "<style scoped>\n",
              "    .dataframe tbody tr th:only-of-type {\n",
              "        vertical-align: middle;\n",
              "    }\n",
              "\n",
              "    .dataframe tbody tr th {\n",
              "        vertical-align: top;\n",
              "    }\n",
              "\n",
              "    .dataframe thead tr th {\n",
              "        text-align: left;\n",
              "    }\n",
              "</style>\n",
              "<table border=\"1\" class=\"dataframe\">\n",
              "  <thead>\n",
              "    <tr>\n",
              "      <th></th>\n",
              "      <th>cluster</th>\n",
              "      <th>customer_id</th>\n",
              "      <th colspan=\"4\" halign=\"left\">recency</th>\n",
              "      <th colspan=\"4\" halign=\"left\">frequency</th>\n",
              "      <th colspan=\"4\" halign=\"left\">monetary</th>\n",
              "    </tr>\n",
              "    <tr>\n",
              "      <th></th>\n",
              "      <th></th>\n",
              "      <th>count</th>\n",
              "      <th>min</th>\n",
              "      <th>median</th>\n",
              "      <th>mean</th>\n",
              "      <th>max</th>\n",
              "      <th>min</th>\n",
              "      <th>median</th>\n",
              "      <th>mean</th>\n",
              "      <th>max</th>\n",
              "      <th>min</th>\n",
              "      <th>median</th>\n",
              "      <th>mean</th>\n",
              "      <th>max</th>\n",
              "    </tr>\n",
              "  </thead>\n",
              "  <tbody>\n",
              "    <tr>\n",
              "      <th>0</th>\n",
              "      <td>0.0</td>\n",
              "      <td>725</td>\n",
              "      <td>0.0</td>\n",
              "      <td>52.0</td>\n",
              "      <td>72.997241</td>\n",
              "      <td>255.0</td>\n",
              "      <td>1.0</td>\n",
              "      <td>2.0</td>\n",
              "      <td>3.228966</td>\n",
              "      <td>15.0</td>\n",
              "      <td>3.75</td>\n",
              "      <td>695.54</td>\n",
              "      <td>1015.377286</td>\n",
              "      <td>3881.89</td>\n",
              "    </tr>\n",
              "    <tr>\n",
              "      <th>1</th>\n",
              "      <td>1.0</td>\n",
              "      <td>296</td>\n",
              "      <td>0.0</td>\n",
              "      <td>54.0</td>\n",
              "      <td>70.277027</td>\n",
              "      <td>253.0</td>\n",
              "      <td>1.0</td>\n",
              "      <td>2.0</td>\n",
              "      <td>3.212838</td>\n",
              "      <td>13.0</td>\n",
              "      <td>30.15</td>\n",
              "      <td>746.40</td>\n",
              "      <td>1029.050709</td>\n",
              "      <td>3813.08</td>\n",
              "    </tr>\n",
              "    <tr>\n",
              "      <th>2</th>\n",
              "      <td>2.0</td>\n",
              "      <td>1134</td>\n",
              "      <td>0.0</td>\n",
              "      <td>50.0</td>\n",
              "      <td>71.918871</td>\n",
              "      <td>255.0</td>\n",
              "      <td>1.0</td>\n",
              "      <td>2.0</td>\n",
              "      <td>3.150794</td>\n",
              "      <td>14.0</td>\n",
              "      <td>7.49</td>\n",
              "      <td>679.42</td>\n",
              "      <td>987.178166</td>\n",
              "      <td>3934.25</td>\n",
              "    </tr>\n",
              "    <tr>\n",
              "      <th>3</th>\n",
              "      <td>3.0</td>\n",
              "      <td>162</td>\n",
              "      <td>0.0</td>\n",
              "      <td>42.0</td>\n",
              "      <td>59.277778</td>\n",
              "      <td>238.0</td>\n",
              "      <td>1.0</td>\n",
              "      <td>3.0</td>\n",
              "      <td>3.246914</td>\n",
              "      <td>16.0</td>\n",
              "      <td>81.36</td>\n",
              "      <td>724.22</td>\n",
              "      <td>1141.163895</td>\n",
              "      <td>3876.47</td>\n",
              "    </tr>\n",
              "    <tr>\n",
              "      <th>4</th>\n",
              "      <td>4.0</td>\n",
              "      <td>469</td>\n",
              "      <td>0.0</td>\n",
              "      <td>48.0</td>\n",
              "      <td>72.230277</td>\n",
              "      <td>254.0</td>\n",
              "      <td>1.0</td>\n",
              "      <td>2.0</td>\n",
              "      <td>3.189765</td>\n",
              "      <td>16.0</td>\n",
              "      <td>24.35</td>\n",
              "      <td>797.96</td>\n",
              "      <td>1045.438787</td>\n",
              "      <td>3908.44</td>\n",
              "    </tr>\n",
              "  </tbody>\n",
              "</table>\n",
              "</div>"
            ],
            "text/plain": [
              "  cluster customer_id recency         ... monetary                              \n",
              "                count     min median  ...      min  median         mean      max\n",
              "0     0.0         725     0.0   52.0  ...     3.75  695.54  1015.377286  3881.89\n",
              "1     1.0         296     0.0   54.0  ...    30.15  746.40  1029.050709  3813.08\n",
              "2     2.0        1134     0.0   50.0  ...     7.49  679.42   987.178166  3934.25\n",
              "3     3.0         162     0.0   42.0  ...    81.36  724.22  1141.163895  3876.47\n",
              "4     4.0         469     0.0   48.0  ...    24.35  797.96  1045.438787  3908.44\n",
              "\n",
              "[5 rows x 14 columns]"
            ]
          },
          "metadata": {
            "tags": []
          },
          "execution_count": 52
        }
      ]
    },
    {
      "cell_type": "markdown",
      "metadata": {
        "id": "Gjiwst29sg2j"
      },
      "source": [
        "# Contribution of each cluster"
      ]
    },
    {
      "cell_type": "code",
      "metadata": {
        "id": "s4Ba62d1seH1"
      },
      "source": [
        "clusters = X_w_labels.groupby(\"cluster\").agg({\"customer_id\":\"count\",\n",
        "                                              \"frequency\":\"sum\",\n",
        "                                              \"monetary\":\"sum\"}).reset_index()\n",
        "\n",
        "clusters.columns = [\"cluster\", \"customer_count\", \"total_orders\",\"total_monetary\"]"
      ],
      "execution_count": null,
      "outputs": []
    },
    {
      "cell_type": "code",
      "metadata": {
        "id": "79Jgus5btOs8",
        "outputId": "121134a7-badc-41d5-de04-3528da210bbe",
        "colab": {
          "base_uri": "https://localhost:8080/",
          "height": 206
        }
      },
      "source": [
        "clusters.head()"
      ],
      "execution_count": null,
      "outputs": [
        {
          "output_type": "execute_result",
          "data": {
            "text/html": [
              "<div>\n",
              "<style scoped>\n",
              "    .dataframe tbody tr th:only-of-type {\n",
              "        vertical-align: middle;\n",
              "    }\n",
              "\n",
              "    .dataframe tbody tr th {\n",
              "        vertical-align: top;\n",
              "    }\n",
              "\n",
              "    .dataframe thead th {\n",
              "        text-align: right;\n",
              "    }\n",
              "</style>\n",
              "<table border=\"1\" class=\"dataframe\">\n",
              "  <thead>\n",
              "    <tr style=\"text-align: right;\">\n",
              "      <th></th>\n",
              "      <th>cluster</th>\n",
              "      <th>customer_count</th>\n",
              "      <th>total_orders</th>\n",
              "      <th>total_monetary</th>\n",
              "      <th>order_per_customer</th>\n",
              "      <th>order_value_per_customer</th>\n",
              "    </tr>\n",
              "  </thead>\n",
              "  <tbody>\n",
              "    <tr>\n",
              "      <th>0</th>\n",
              "      <td>0.0</td>\n",
              "      <td>446</td>\n",
              "      <td>1622.0</td>\n",
              "      <td>537314.143</td>\n",
              "      <td>3.636771</td>\n",
              "      <td>1204.740231</td>\n",
              "    </tr>\n",
              "    <tr>\n",
              "      <th>1</th>\n",
              "      <td>1.0</td>\n",
              "      <td>1866</td>\n",
              "      <td>6658.0</td>\n",
              "      <td>2208921.256</td>\n",
              "      <td>3.568060</td>\n",
              "      <td>1183.773449</td>\n",
              "    </tr>\n",
              "    <tr>\n",
              "      <th>2</th>\n",
              "      <td>2.0</td>\n",
              "      <td>217</td>\n",
              "      <td>796.0</td>\n",
              "      <td>279889.550</td>\n",
              "      <td>3.668203</td>\n",
              "      <td>1289.813594</td>\n",
              "    </tr>\n",
              "    <tr>\n",
              "      <th>3</th>\n",
              "      <td>3.0</td>\n",
              "      <td>849</td>\n",
              "      <td>2876.0</td>\n",
              "      <td>946949.711</td>\n",
              "      <td>3.387515</td>\n",
              "      <td>1115.370684</td>\n",
              "    </tr>\n",
              "    <tr>\n",
              "      <th>4</th>\n",
              "      <td>4.0</td>\n",
              "      <td>111</td>\n",
              "      <td>410.0</td>\n",
              "      <td>147942.670</td>\n",
              "      <td>3.693694</td>\n",
              "      <td>1332.816847</td>\n",
              "    </tr>\n",
              "  </tbody>\n",
              "</table>\n",
              "</div>"
            ],
            "text/plain": [
              "   cluster  customer_count  ...  order_per_customer  order_value_per_customer\n",
              "0      0.0             446  ...            3.636771               1204.740231\n",
              "1      1.0            1866  ...            3.568060               1183.773449\n",
              "2      2.0             217  ...            3.668203               1289.813594\n",
              "3      3.0             849  ...            3.387515               1115.370684\n",
              "4      4.0             111  ...            3.693694               1332.816847\n",
              "\n",
              "[5 rows x 6 columns]"
            ]
          },
          "metadata": {
            "tags": []
          },
          "execution_count": 269
        }
      ]
    },
    {
      "cell_type": "code",
      "metadata": {
        "id": "4Ky9Oq3utk8n"
      },
      "source": [
        "clusters[\"order_per_customer\"] = clusters[\"total_orders\"] / clusters[\"customer_count\"]\n",
        "\n",
        "clusters[\"order_value_per_customer\"] = clusters[\"total_monetary\"] / clusters[\"customer_count\"]"
      ],
      "execution_count": null,
      "outputs": []
    },
    {
      "cell_type": "code",
      "metadata": {
        "id": "C_rnGkb_lf5u"
      },
      "source": [
        "cluster_centers = kmeans.cluster_centers_\n",
        "\n",
        "sns.scatterplot(x=\"recency\", y=\"frequency\", data=X_w_labels, hue=\"cluster\")\n",
        "\n",
        "plt.scatter(cluster_centers[:,0], cluster_centers[:,1], marker='*', c='red', s=150)"
      ],
      "execution_count": null,
      "outputs": []
    },
    {
      "cell_type": "markdown",
      "metadata": {
        "id": "cD9kKjayJDL9"
      },
      "source": [
        "# Olist dataset"
      ]
    },
    {
      "cell_type": "code",
      "metadata": {
        "id": "AdoahPXPB54F"
      },
      "source": [
        "# Orders\n",
        "orders = pd.read_csv('https://raw.githubusercontent.com/thuynh386/olist_ecommerce_dataset/master/olist_orders_dataset.csv')\n",
        "order_items = pd.read_csv('https://raw.githubusercontent.com/thuynh386/olist_ecommerce_dataset/master/olist_order_items_dataset.csv')\n",
        "order_reviews = pd.read_csv('https://raw.githubusercontent.com/thuynh386/olist_ecommerce_dataset/master/olist_order_reviews_dataset.csv')\n",
        "order_payments = pd.read_csv('https://raw.githubusercontent.com/thuynh386/olist_ecommerce_dataset/master/olist_order_payments_dataset.csv')\n",
        "\n",
        "# Customers and Sellers\n",
        "customers = pd.read_csv('https://raw.githubusercontent.com/thuynh386/olist_ecommerce_dataset/master/olist_customers_dataset.csv')\n",
        "sellers = pd.read_csv('https://raw.githubusercontent.com/thuynh386/olist_ecommerce_dataset/master/olist_sellers_dataset.csv')\n",
        "\n",
        "# Products and Categories\n",
        "products = pd.read_csv('https://raw.githubusercontent.com/thuynh386/olist_ecommerce_dataset/master/olist_products_dataset.csv')\n",
        "product_translation = pd.read_csv('https://raw.githubusercontent.com/thuynh386/olist_ecommerce_dataset/master/product_category_name_translation.csv')\n",
        "\n",
        "geolocation = pd.read_csv(\"https://github.com/pnhuy/datasets/blob/master/brazilian_ecommerce/data/olist_geolocation_dataset.csv.zip?raw=true\", compression=\"zip\")"
      ],
      "execution_count": null,
      "outputs": []
    },
    {
      "cell_type": "markdown",
      "metadata": {
        "id": "Z9PZBbVQo9ES"
      },
      "source": [
        "## References\n",
        "Clustering comparison: https://scikit-learn.org/stable/auto_examples/cluster/plot_cluster_comparison.html "
      ]
    },
    {
      "cell_type": "markdown",
      "metadata": {
        "id": "uRE9UDQrvMmc"
      },
      "source": [
        "## HAC"
      ]
    },
    {
      "cell_type": "code",
      "metadata": {
        "id": "2dUeH_OevfYy"
      },
      "source": [
        "from scipy.cluster.hierarchy import dendrogram\n",
        "from sklearn.cluster import AgglomerativeClustering"
      ],
      "execution_count": null,
      "outputs": []
    },
    {
      "cell_type": "code",
      "metadata": {
        "id": "YgvQUFWCwyMQ",
        "outputId": "beeef265-b489-4d45-bd86-db6a627d1505",
        "colab": {
          "base_uri": "https://localhost:8080/",
          "height": 34
        }
      },
      "source": [
        "X.shape"
      ],
      "execution_count": null,
      "outputs": [
        {
          "output_type": "execute_result",
          "data": {
            "text/plain": [
              "(3881, 3)"
            ]
          },
          "metadata": {
            "tags": []
          },
          "execution_count": 282
        }
      ]
    },
    {
      "cell_type": "code",
      "metadata": {
        "id": "HtufX3GmsVR-"
      },
      "source": [
        "model = AgglomerativeClustering(distance_threshold=0, n_clusters=None)\n",
        "\n",
        "model = model.fit(X)"
      ],
      "execution_count": null,
      "outputs": []
    },
    {
      "cell_type": "code",
      "metadata": {
        "id": "Imk3KMBHvahw"
      },
      "source": [
        "def plot_dendrogram(model, **kwargs):\n",
        "    # Create linkage matrix and then plot the dendrogram\n",
        "\n",
        "    # create the counts of samples under each node\n",
        "    counts = np.zeros(model.children_.shape[0])\n",
        "    n_samples = len(model.labels_)\n",
        "    for i, merge in enumerate(model.children_):\n",
        "        current_count = 0\n",
        "        for child_idx in merge:\n",
        "            if child_idx < n_samples:\n",
        "                current_count += 1  # leaf node\n",
        "            else:\n",
        "                current_count += counts[child_idx - n_samples]\n",
        "        counts[i] = current_count\n",
        "\n",
        "    linkage_matrix = np.column_stack([model.children_, model.distances_,\n",
        "                                      counts]).astype(float)\n",
        "    # Plot the corresponding dendrogram\n",
        "    dendrogram(linkage_matrix, **kwargs)\n"
      ],
      "execution_count": null,
      "outputs": []
    },
    {
      "cell_type": "code",
      "metadata": {
        "id": "j6CQ4dOvv8YY"
      },
      "source": [
        ""
      ],
      "execution_count": null,
      "outputs": []
    },
    {
      "cell_type": "code",
      "metadata": {
        "id": "kHfkxEopvl-k",
        "outputId": "df60267d-49ee-4882-c7af-6534196a453c",
        "colab": {
          "base_uri": "https://localhost:8080/",
          "height": 545
        }
      },
      "source": [
        "plt.title('Hierarchical Clustering Dendrogram')\n",
        "# plot the top three levels of the dendrogram\n",
        "plot_dendrogram(model, truncate_mode='level', p=4)\n",
        "plt.xlabel(\"Number of points in node.\")\n",
        "plt.show()"
      ],
      "execution_count": null,
      "outputs": [
        {
          "output_type": "display_data",
          "data": {
            "image/png": "[encoded data removed]",
            "text/plain": [
              "<Figure size 842.4x595.44 with 1 Axes>"
            ]
          },
          "metadata": {
            "tags": []
          }
        }
      ]
    },
    {
      "cell_type": "code",
      "metadata": {
        "id": "wnPDoLtAvtxV"
      },
      "source": [
        ""
      ],
      "execution_count": null,
      "outputs": []
    }
  ]
}